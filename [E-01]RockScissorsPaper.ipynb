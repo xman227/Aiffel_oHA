{
 "cells": [
  {
   "cell_type": "markdown",
   "id": "715ecec1",
   "metadata": {},
   "source": [
    "# 가위바위보 분류기 만들기"
   ]
  },
  {
   "cell_type": "markdown",
   "id": "b65839a8",
   "metadata": {},
   "source": [
    "가위바위보 분류기를 만들어보도록 하겠습니다.  \n",
    " 순서는 다음과 같습니다.\n",
    " \n",
    "    0. 가위, 바위, 보 가 담긴 사진 Data set 을 만든다.  \n",
    "    1. 분류기가 작동할 수 있도록 Data 전처리 과정을 거친다.  \n",
    "    2. 분류기에게 Data set을 입력해 학습을 시킨다.  \n",
    "    3. 잘 학습되었는지 Data set2 를 이용해 시험한다.  "
   ]
  },
  {
   "cell_type": "markdown",
   "id": "c8277a5b",
   "metadata": {},
   "source": [
    "## 0. Data set 만들기"
   ]
  },
  {
   "cell_type": "markdown",
   "id": "da54ee82",
   "metadata": {},
   "source": [
    "가위바위보 무엇을 냈는지 보려면 당연히 가위바위보 사진이 필요하겠죠,\n",
    "분류기가 제대로 작동하려면 적어도 각각 100장 이상의 데이터 사진이 필요합니다."
   ]
  },
  {
   "cell_type": "markdown",
   "id": "203e5212",
   "metadata": {},
   "source": [
    "구글의 teachable machine 사이트\n",
    "데이터 제작 지원 사이트. 웹캠을 이용해 데이터를 만든다.  \n",
    "[데이터 제작 사이트](https://teachablemachine.withgoogle.com/)\n",
    "\n"
   ]
  },
  {
   "cell_type": "markdown",
   "id": "015d4a37",
   "metadata": {},
   "source": [
    "-인공지능\n",
    " > 프로그램이 상황에 맞게 판단  \n",
    " \n",
    "-그 중에서도 딥러닝\n",
    " > 많은 상황 속에서 좋은 판단 하는 것 - 머신러닝\n",
    " > 머신러닝 중에서도 특정한 기법을 사용하는 것 - 딥러닝\n",
    " \n",
    "그 특정한 기법이 인공신경망을 이용하는것\n",
    "신경망이 두꺼워져서 deep 인거임\n",
    "\n",
    "이 딥러닝 중에서도\n",
    " - 지도학습\n",
    " - 비지도학습\n",
    " - 강화학습\n",
    "\n",
    "으로 나뉘어 진다.\n",
    "\n",
    "가위바위보 인공지능은\n",
    "가위, 바위, 보 의 사진을 제시해주고 답을 알려주는\n",
    "지도학습의 분야에 속한다.\n",
    "\n",
    "\n",
    "\n",
    "relu 함수 : activation 행위(활성시키는 함수 활성함수)\n",
    "; rectified Linear Unit \n",
    "이게 있어야 비선형성이 생김\n",
    "on/off 가 결정되므로 \n",
    "\n",
    "Perceptron\n",
    "input > weights > weighted Sum > Activation > putput\n",
    "\n",
    "뉴런이 많을수록 정밀한 판단 가능\n",
    "그 뉴런의 결과들로 or , and 을 판별 가능\n",
    "\n",
    "back-propagation (역전파) 라는 알고리즘을 통해\n",
    "xor 까지 판별 가능\n",
    "\n",
    "그래서 역전파를 통한 신경망(newron)이 겹쳐지면 deep learning 이다\n",
    "\n",
    "이렇게 완전 연결돼있는게 FCN ; Fully Connected Network\n",
    "코드상으로는 dense 라고 한다.\n",
    "\n",
    "-CNN (Convolutional Neural Network) \n",
    "코드상으로는 Flatten 이라고 한다.\n",
    "\n",
    "-RNN (Recurrent NN)자연어처리에 사용\n",
    "\n",
    "(GAN은 비지도학습)\n",
    "-GAN (Generative Adversarial)이미지 합성에 사용\n"
   ]
  },
  {
   "cell_type": "markdown",
   "id": "c98bf0f2",
   "metadata": {},
   "source": []
  },
  {
   "cell_type": "markdown",
   "id": "6e3bacc8",
   "metadata": {},
   "source": []
  },
  {
   "cell_type": "markdown",
   "id": "9207e096",
   "metadata": {},
   "source": []
  },
  {
   "cell_type": "markdown",
   "id": "3f95ebd3",
   "metadata": {},
   "source": []
  },
  {
   "cell_type": "markdown",
   "id": "18824387",
   "metadata": {},
   "source": []
  },
  {
   "cell_type": "code",
   "execution_count": null,
   "id": "235f69bb",
   "metadata": {},
   "outputs": [],
   "source": []
  },
  {
   "cell_type": "code",
   "execution_count": null,
   "id": "a2932a9a",
   "metadata": {},
   "outputs": [],
   "source": []
  },
  {
   "cell_type": "code",
   "execution_count": null,
   "id": "ba029b44",
   "metadata": {},
   "outputs": [],
   "source": []
  },
  {
   "cell_type": "code",
   "execution_count": null,
   "id": "11f51505",
   "metadata": {},
   "outputs": [],
   "source": []
  },
  {
   "cell_type": "code",
   "execution_count": null,
   "id": "82dd800f",
   "metadata": {},
   "outputs": [],
   "source": []
  },
  {
   "cell_type": "code",
   "execution_count": null,
   "id": "88270741",
   "metadata": {},
   "outputs": [],
   "source": []
  },
  {
   "cell_type": "code",
   "execution_count": null,
   "id": "5b777d02",
   "metadata": {},
   "outputs": [],
   "source": []
  }
 ],
 "metadata": {
  "kernelspec": {
   "display_name": "Python 3 (ipykernel)",
   "language": "python",
   "name": "python3"
  },
  "language_info": {
   "codemirror_mode": {
    "name": "ipython",
    "version": 3
   },
   "file_extension": ".py",
   "mimetype": "text/x-python",
   "name": "python",
   "nbconvert_exporter": "python",
   "pygments_lexer": "ipython3",
   "version": "3.9.7"
  }
 },
 "nbformat": 4,
 "nbformat_minor": 5
}
