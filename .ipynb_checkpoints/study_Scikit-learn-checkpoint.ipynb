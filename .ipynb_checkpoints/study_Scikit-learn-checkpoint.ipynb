{
 "cells": [
  {
   "cell_type": "markdown",
   "id": "6d0e5099",
   "metadata": {},
   "source": [
    "# scikit-Learn"
   ]
  },
  {
   "cell_type": "markdown",
   "id": "3ea42918",
   "metadata": {},
   "source": [
    "머신러닝은\n",
    "- 지도학습 (Supervised)\n",
    "  * 라벨링 구성\n",
    "    - 분류 (범주형)\n",
    "    - 회귀 (연속형)\n",
    "    - 예측 (미래형)\n",
    "    \n",
    "    \n",
    "- 비지도학습 (unSupervised)\n",
    "  * 라벨링 없음\n",
    "    - 클러스터링 (군집화)\n",
    "    - 차원 축소 (변수제거)\n",
    "    \n",
    "    \n",
    "- 강화학습  (Reinforcement)\n",
    "  * 학습하는 시스템을 Agent 라고 하고, 스스로 보상받고 벌을 회피하도록 행동하게 함\n",
    "    - Monto Carlo Methods\n",
    "    - Q-learning\n",
    "    - Policy Gradient methods\n",
    "\n",
    "으로 나뉜다"
   ]
  },
  {
   "cell_type": "markdown",
   "id": "0f0d367b",
   "metadata": {},
   "source": [
    "- 데이터의 크기, 품질 특성\n",
    "- 가용 계산 시간\n",
    "- 작업의 긴급성\n",
    "- 목적\n",
    "\n",
    "에 따라 세 가지 머신러닝 종류 중 하나를 선택하여 \n",
    "고르면 된다"
   ]
  },
  {
   "cell_type": "markdown",
   "id": "6c21ac30",
   "metadata": {},
   "source": [
    "---\n",
    "그 중에서도 우리가 쓰려는 Scikit-learn 은 대체 뭘까?\n",
    "\n",
    "[싸이킷 런 공식 홈페이지](https://scikit-learn.org/stable/tutorial/machine_learning_map/index.html)"
   ]
  },
  {
   "cell_type": "code",
   "execution_count": 1,
   "id": "8af3a8dd",
   "metadata": {},
   "outputs": [
    {
     "name": "stdout",
     "output_type": "stream",
     "text": [
      "1.0\n"
     ]
    }
   ],
   "source": [
    "import sklearn\n",
    "print(sklearn.__version__)"
   ]
  },
  {
   "cell_type": "markdown",
   "id": "6741f330",
   "metadata": {},
   "source": [
    "아래의 데이터로 Sklearn 에 대해 알아보자"
   ]
  },
  {
   "cell_type": "code",
   "execution_count": 2,
   "id": "c7c67b84",
   "metadata": {},
   "outputs": [
    {
     "data": {
      "text/plain": [
       "<matplotlib.collections.PathCollection at 0x7ff1eeeab790>"
      ]
     },
     "execution_count": 2,
     "metadata": {},
     "output_type": "execute_result"
    },
    {
     "data": {
      "image/png": "[encoded data removed]",
      "text/plain": [
       "<Figure size 432x288 with 1 Axes>"
      ]
     },
     "metadata": {
      "needs_background": "light"
     },
     "output_type": "display_data"
    }
   ],
   "source": [
    "import numpy as np\n",
    "import matplotlib.pyplot as plt\n",
    "r = np.random.RandomState(10)\n",
    "x = 10 * r.rand(100)\n",
    "y = 2 * x - 3 * r.rand(100)\n",
    "plt.scatter(x,y)"
   ]
  },
  {
   "cell_type": "markdown",
   "id": "15bd5977",
   "metadata": {},
   "source": [
    "이 그림은 (x,y) 에 대한 그래프 자료이다. x는 0부터 10 사이의 랜덤한 100개의 수.  \n",
    "y는 x를 2배한 값에 0에서 1 사이의 수를 랜덤하게 뺐다."
   ]
  },
  {
   "cell_type": "markdown",
   "id": "8c15875d",
   "metadata": {},
   "source": [
    "scikit-learn 에서는 randomforest, classify, regression 등 다양한 머신러닝 분석 기법을 제시하고 있다.  \n",
    "우리는 LinearRegression 선형 회귀 를 써보도록 하자\n",
    "\n",
    "## 모델 생성"
   ]
  },
  {
   "cell_type": "code",
   "execution_count": 5,
   "id": "6e0f3381",
   "metadata": {
    "scrolled": true
   },
   "outputs": [
    {
     "data": {
      "text/plain": [
       "LinearRegression()"
      ]
     },
     "execution_count": 5,
     "metadata": {},
     "output_type": "execute_result"
    }
   ],
   "source": [
    "from sklearn.linear_model import LinearRegression\n",
    "model = LinearRegression()\n",
    "model"
   ]
  },
  {
   "cell_type": "markdown",
   "id": "4594bb8c",
   "metadata": {},
   "source": [
    "우선 sklearn 라이브러리 내부에 있는 lenear_model 클래스에서\n",
    "LinearRegression 함수를 꺼내오자\n",
    "\n",
    "이는 LinearRegression 분석모델을 생성하는 함수이다\n",
    "\n",
    "## 주의사항\n",
    "sklearn 에 넣어 학습시키기 위해선, 행렬의 형태로 넣어야 한다.  \n",
    "헌데 위 x의 값은 ndarray의 값으로서 배열의 형태이다. 그래서 np,reshape() 형태로 행렬로 변환하기로 했다."
   ]
  },
  {
   "cell_type": "code",
   "execution_count": 7,
   "id": "f06b529e",
   "metadata": {},
   "outputs": [],
   "source": [
    "X = x.reshape(100,1)"
   ]
  },
  {
   "cell_type": "code",
   "execution_count": 9,
   "id": "0008c85d",
   "metadata": {
    "scrolled": true
   },
   "outputs": [
    {
     "data": {
      "text/plain": [
       "array([[7.71320643],\n",
       "       [0.20751949],\n",
       "       [6.33648235],\n",
       "       [7.48803883],\n",
       "       [4.98507012],\n",
       "       [2.24796646],\n",
       "       [1.98062865],\n",
       "       [7.60530712],\n",
       "       [1.69110837],\n",
       "       [0.88339814],\n",
       "       [6.85359818],\n",
       "       [9.53393346],\n",
       "       [0.03948266],\n",
       "       [5.12192263],\n",
       "       [8.12620962],\n",
       "       [6.12526067],\n",
       "       [7.21755317],\n",
       "       [2.91876068],\n",
       "       [9.17774123],\n",
       "       [7.14575783],\n",
       "       [5.42544368],\n",
       "       [1.42170048],\n",
       "       [3.7334076 ],\n",
       "       [6.74133615],\n",
       "       [4.41833174],\n",
       "       [4.34013993],\n",
       "       [6.17766978],\n",
       "       [5.13138243],\n",
       "       [6.50397182],\n",
       "       [6.01038953],\n",
       "       [8.05223197],\n",
       "       [5.21647152],\n",
       "       [9.08648881],\n",
       "       [3.19236089],\n",
       "       [0.90459349],\n",
       "       [3.00700057],\n",
       "       [1.13984362],\n",
       "       [8.28681326],\n",
       "       [0.46896319],\n",
       "       [6.26287148],\n",
       "       [5.47586156],\n",
       "       [8.19286996],\n",
       "       [1.9894754 ],\n",
       "       [8.56850302],\n",
       "       [3.51652639],\n",
       "       [7.54647692],\n",
       "       [2.95961707],\n",
       "       [8.8393648 ],\n",
       "       [3.25511638],\n",
       "       [1.65015898],\n",
       "       [3.92529244],\n",
       "       [0.93460375],\n",
       "       [8.21105658],\n",
       "       [1.5115202 ],\n",
       "       [3.84114449],\n",
       "       [9.44260712],\n",
       "       [9.87625475],\n",
       "       [4.56304547],\n",
       "       [8.26122844],\n",
       "       [2.51374134],\n",
       "       [5.97371648],\n",
       "       [9.0283176 ],\n",
       "       [5.34557949],\n",
       "       [5.90201363],\n",
       "       [0.39281767],\n",
       "       [3.57181759],\n",
       "       [0.7961309 ],\n",
       "       [3.05459918],\n",
       "       [3.30719312],\n",
       "       [7.73830296],\n",
       "       [0.39959209],\n",
       "       [4.29492178],\n",
       "       [3.14926872],\n",
       "       [6.36491143],\n",
       "       [3.4634715 ],\n",
       "       [0.43097356],\n",
       "       [8.79915175],\n",
       "       [7.63240587],\n",
       "       [8.78096643],\n",
       "       [4.17509144],\n",
       "       [6.05577564],\n",
       "       [5.13466627],\n",
       "       [5.97836648],\n",
       "       [2.62215661],\n",
       "       [3.00871309],\n",
       "       [0.25399782],\n",
       "       [3.03062561],\n",
       "       [2.42075875],\n",
       "       [5.57578189],\n",
       "       [5.6550702 ],\n",
       "       [4.75132247],\n",
       "       [2.92797976],\n",
       "       [0.64251061],\n",
       "       [9.78819146],\n",
       "       [3.39707844],\n",
       "       [4.95048631],\n",
       "       [9.77080726],\n",
       "       [4.40773825],\n",
       "       [3.18272805],\n",
       "       [5.19796986]])"
      ]
     },
     "execution_count": 9,
     "metadata": {},
     "output_type": "execute_result"
    }
   ],
   "source": [
    "X"
   ]
  },
  {
   "cell_type": "markdown",
   "id": "c52462c6",
   "metadata": {},
   "source": [
    "행렬의 형태로 바뀐 것이 확인됐으면, 이제 학습시킨다"
   ]
  },
  {
   "cell_type": "code",
   "execution_count": 10,
   "id": "9ae0a29e",
   "metadata": {
    "scrolled": true
   },
   "outputs": [
    {
     "data": {
      "text/plain": [
       "LinearRegression()"
      ]
     },
     "execution_count": 10,
     "metadata": {},
     "output_type": "execute_result"
    }
   ],
   "source": [
    "model.fit(X,y)"
   ]
  },
  {
   "cell_type": "code",
   "execution_count": 11,
   "id": "3f2d0a3c",
   "metadata": {},
   "outputs": [],
   "source": [
    "x_new = np.linspace(-1, 11, 100)\n",
    "X_new = x_new.reshape(100,1)\n",
    "y_new = model.predict(X_new)"
   ]
  },
  {
   "cell_type": "markdown",
   "id": "07f63c36",
   "metadata": {},
   "source": [
    "새로운 x_new (test 데이터) 로 얼마나 학습을 잘했는지 \n",
    ".predict 메서드로 확인해본다."
   ]
  },
  {
   "cell_type": "markdown",
   "id": "a7925664",
   "metadata": {},
   "source": [
    "모델의 성능평가 관련 메서드들은\n",
    "sklearn.metrics 에 저장되어 있다.\n",
    "\n",
    "회귀모델의 성능 평가 기준인 RMSE (Root Mean Square Error) 를 사용한다."
   ]
  },
  {
   "cell_type": "code",
   "execution_count": 14,
   "id": "55fd4916",
   "metadata": {},
   "outputs": [
    {
     "name": "stdout",
     "output_type": "stream",
     "text": [
      "9.299028215052264\n"
     ]
    }
   ],
   "source": [
    "from sklearn.metrics import mean_squared_error\n",
    "error = np.sqrt(mean_squared_error(y,y_new))\n",
    "print(error)"
   ]
  },
  {
   "cell_type": "markdown",
   "id": "543124be",
   "metadata": {},
   "source": [
    "이를 그래프로 보면 다음과 같다\n"
   ]
  },
  {
   "cell_type": "code",
   "execution_count": 15,
   "id": "4a38a2fb",
   "metadata": {},
   "outputs": [
    {
     "data": {
      "text/plain": [
       "[<matplotlib.lines.Line2D at 0x7ff1e47ebfd0>]"
      ]
     },
     "execution_count": 15,
     "metadata": {},
     "output_type": "execute_result"
    },
    {
     "data": {
      "image/png": "[encoded data removed]",
      "text/plain": [
       "<Figure size 432x288 with 1 Axes>"
      ]
     },
     "metadata": {
      "needs_background": "light"
     },
     "output_type": "display_data"
    }
   ],
   "source": [
    "plt.scatter(x, y, label='input data')\n",
    "plt.plot(X_new, y_new, color='red', label='regression line')"
   ]
  },
  {
   "cell_type": "code",
   "execution_count": null,
   "id": "f4054102",
   "metadata": {},
   "outputs": [],
   "source": []
  }
 ],
 "metadata": {
  "kernelspec": {
   "display_name": "Python 3 (ipykernel)",
   "language": "python",
   "name": "python3"
  },
  "language_info": {
   "codemirror_mode": {
    "name": "ipython",
    "version": 3
   },
   "file_extension": ".py",
   "mimetype": "text/x-python",
   "name": "python",
   "nbconvert_exporter": "python",
   "pygments_lexer": "ipython3",
   "version": "3.9.7"
  }
 },
 "nbformat": 4,
 "nbformat_minor": 5
}
