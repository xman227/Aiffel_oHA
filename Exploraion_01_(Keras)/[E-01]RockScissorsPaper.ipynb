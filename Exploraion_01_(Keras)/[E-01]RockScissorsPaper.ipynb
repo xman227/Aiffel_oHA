{
 "cells": [
  {
   "cell_type": "markdown",
   "id": "eca51516",
   "metadata": {},
   "source": [
    "# 가위바위보 분류기 만들기"
   ]
  },
  {
   "cell_type": "markdown",
   "id": "c8a405c0",
   "metadata": {},
   "source": [
    "가위바위보 분류기를 만들어보도록 하자.  \n",
    " 순서는 다음과 같다.\n",
    " \n",
    "    1. 가위, 바위, 보 가 담긴 사진 Data set 을 만들고 전처리한다.  \n",
    "    2. 분류기에게 Data set을 입력해 학습을 시킨다.  \n",
    "    3. 잘 학습되었는지 Data set2 를 이용해 시험한다.  \n",
    "  \n",
    "가위바위보 분류기에 대한 Rubric 기준은 다음과 같다.\n",
    "\n",
    "|평가문항|상세기준|\n",
    "| --- | --- |  \n",
    "|이미지 분류기 모델이 성공적으로 만들어 졌는가?|트레이닝이 정상 수행됨|\n",
    "|오버피팅을 극복하기 위한 적절한 시도가 있었는가?|데이터셋의 다양성, 정규화 등의 시도가 적절하였음|\n",
    "|분류모델의 test accuracy가 기준 이상 도달하였는가?|60% 이상 도달하였음|\n",
    "    \n",
    "### 목차\n",
    "1.  Data set 만들기\n",
    "2. 데이터 학습\n",
    "3. 성능 시험 및 개선 (Try-6)\n",
    "4. 회고 및 정리"
   ]
  },
  {
   "cell_type": "markdown",
   "id": "06999ee6",
   "metadata": {},
   "source": [
    "## 1. Data set 만들기"
   ]
  },
  {
   "cell_type": "markdown",
   "id": "8f4f7954",
   "metadata": {},
   "source": [
    "가위바위보 무엇을 냈는지 보려면 당연히 가위바위보 사진이 필요하다,  \n",
    "분류기가 제대로 작동하려면 적어도 각각 100장 이상의 데이터 사진을 불러와야 한다."
   ]
  },
  {
   "cell_type": "markdown",
   "id": "71c1b13f",
   "metadata": {},
   "source": [
    "   ### 1-1. 데이터 사진 만들기\n",
    "구글의 teachable machine 사이트에서는 웹캠을 이용해 짧은 시간 내에 사진 파일을 만들 수 있는 프로그램이 제공되고 있다.\n",
    "\n",
    "[Teachable Machine](https://teachablemachine.withgoogle.com/)\n",
    "\n"
   ]
  },
  {
   "cell_type": "markdown",
   "id": "d8f17e59",
   "metadata": {},
   "source": [
    "<img src=\"./img/site.PNG\" width=\"300px\" height=\"200px\"></img><img src=\"./img/cam.gif\" width=\"300px\" height =\"200px\"></img>"
   ]
  },
  {
   "cell_type": "markdown",
   "id": "81a5d956",
   "metadata": {},
   "source": [
    "넉넉하게 가위, 바위, 보 당 300장의 이미지 샘플을 만들어 저장했다."
   ]
  },
  {
   "cell_type": "markdown",
   "id": "5cc65971",
   "metadata": {},
   "source": [
    "### 1-2 데이터 전처리\n",
    "데이터 사진은 잘 불러왔다면, 해당 이미지 파일들의 정보를 가위, 바위, 보 별로  \n",
    "라벨링 하여 28x28의 사이즈로 처리하려 한다.\n",
    "\n",
    "#### 1-2-1 Resize\n",
    "가위, 바위와 보 를 같은 사이즈로 변경해 주었다."
   ]
  },
  {
   "cell_type": "code",
   "execution_count": 2,
   "id": "8378d056",
   "metadata": {},
   "outputs": [
    {
     "name": "stdout",
     "output_type": "stream",
     "text": [
      "342 clear\n",
      "302 clear\n",
      "308 clear\n"
     ]
    }
   ],
   "source": [
    "from PIL import Image\n",
    "import glob\n",
    "import os\n",
    "\n",
    "def resize_images(img_path):\n",
    "    images=glob.glob(img_path + \"/*.jpg\") #리스트 안에 이미지 요소 담김\n",
    "    \n",
    "    target_size = (28,28) #바꾸고 싶은 사이즈\n",
    "    for img in images:\n",
    "        old_img=Image.open(img)\n",
    "        new_img=old_img.resize(target_size,Image.ANTIALIAS) #resize 메서드로 사이즈 변경\n",
    "        new_img.save(img, \"JPEG\")\n",
    "    print(\"{} clear\".format(len(images)))\n",
    "        \n",
    "image_dir_path_scissors = os.getenv(\"HOME\") + \"/aiffel/rock_scissors_paper/scissors\"\n",
    "image_dir_path_rock = os.getenv(\"HOME\") + \"/aiffel/rock_scissors_paper/rock\"\n",
    "image_dir_path_paper = os.getenv(\"HOME\") + \"/aiffel/rock_scissors_paper/paper\"\n",
    "\n",
    "resize_images(image_dir_path_scissors)\n",
    "resize_images(image_dir_path_rock)\n",
    "resize_images(image_dir_path_paper)"
   ]
  },
  {
   "cell_type": "markdown",
   "id": "512ef0c2",
   "metadata": {},
   "source": [
    "---\n",
    "#### 1-2-2 Labeling\n",
    "  \n",
    "이제는 이 사진을 바탕으로 가위:0 바위:1 보:2 라는 클래스를 선정해 준다."
   ]
  },
  {
   "cell_type": "code",
   "execution_count": 4,
   "id": "64caa9e8",
   "metadata": {},
   "outputs": [
    {
     "name": "stdout",
     "output_type": "stream",
     "text": [
      "학습데이터(x_train)의 이미지 개수는 952 입니다.\n",
      "x_train에 담긴 자료의 행렬: (952, 28, 28, 3)\n",
      "y_train에 담긴 0,1,2(가위바위보) 라벨의 개수: (952,)\n"
     ]
    }
   ],
   "source": [
    "import numpy as np\n",
    "\n",
    "def load_data(img_path, number_of_data=952):  # 가위바위보 이미지 개수의 총 합\n",
    "    # 가위 : 0, 바위 : 1, 보 : 2\n",
    "    \n",
    "    img_size=28\n",
    "    color=3\n",
    "    \n",
    "    #이미지 데이터와 라벨(가위 : 0, 바위 : 1, 보 : 2) 데이터를 담을 행렬(matrix) 영역을 생성합니다.\n",
    "    imgs=np.zeros(number_of_data*img_size*img_size*color,dtype=np.int32).reshape(number_of_data,img_size,img_size,color)\n",
    "    labels=np.zeros(number_of_data,dtype=np.int32)\n",
    "\n",
    "    idx=0\n",
    "    for file in glob.iglob(img_path+'/scissors/*.jpg'):\n",
    "        img = np.array(Image.open(file),dtype=np.int32)\n",
    "        imgs[idx,:,:,:]=img    # 데이터 영역에 이미지 행렬을 복사\n",
    "        labels[idx]=0   # 가위 : 0\n",
    "        idx=idx+1\n",
    "\n",
    "    for file in glob.iglob(img_path+'/rock/*.jpg'):\n",
    "        img = np.array(Image.open(file),dtype=np.int32)\n",
    "        imgs[idx,:,:,:]=img    # 데이터 영역에 이미지 행렬을 복사\n",
    "        labels[idx]=1   # 바위 : 1\n",
    "        idx=idx+1  \n",
    "    \n",
    "    for file in glob.iglob(img_path+'/paper/*.jpg'):\n",
    "        img = np.array(Image.open(file),dtype=np.int32)\n",
    "        imgs[idx,:,:,:]=img    # 데이터 영역에 이미지 행렬을 복사\n",
    "        labels[idx]=2   # 보 : 2\n",
    "        idx=idx+1\n",
    "        \n",
    "    print(\"학습데이터(x_train)의 이미지 개수는\", idx,\"입니다.\")\n",
    "    return imgs, labels\n",
    "\n",
    "image_dir_path = os.getenv(\"HOME\") + \"/aiffel/rock_scissors_paper\"\n",
    "(x_train, y_train)=load_data(image_dir_path)\n",
    "\n",
    "print(\"x_train에 담긴 자료의 행렬: {}\".format(x_train.shape))\n",
    "print(\"y_train에 담긴 0,1,2(가위바위보) 라벨의 개수: {}\".format(y_train.shape))"
   ]
  },
  {
   "cell_type": "markdown",
   "id": "607dcbef",
   "metadata": {},
   "source": [
    "이러면 (x_train, y_train) 에서  \n",
    "x에는 각 사진의 모든 데이터(크기, 색깔) 이,  \n",
    "y에는 해당 데이터의 정답 (가위 0 인지 바위 1 인지 보 2 인지) 이 들어간 행렬이 만들어진다.\n",
    "\n",
    "예를 들어 x_train 의 자료 구조는 가장 안에 3개의 rgb 값이 있고, 그 값들이 가로 순서로 정렬되어 있고, 그 값들이 세로 순서로 정렬되어 있다.\n"
   ]
  },
  {
   "cell_type": "code",
   "execution_count": 3,
   "id": "b60a3cca",
   "metadata": {},
   "outputs": [
    {
     "name": "stdout",
     "output_type": "stream",
     "text": [
      "첫번째 데이터의 rgb 값 : [110 119 124]\n",
      "첫번째 줄의 rgb값 순서 :\n",
      " [[110 119 124]\n",
      " [117 126 131]\n",
      " [128 137 142]\n",
      " [138 147 152]\n",
      " [145 154 159]\n",
      " [151 160 165]\n",
      " [155 164 169]\n",
      " [158 167 172]\n",
      " [166 173 181]\n",
      " [167 174 182]\n",
      " [168 175 183]\n",
      " [168 175 183]\n",
      " [169 176 184]\n",
      " [168 175 183]\n",
      " [168 175 183]\n",
      " [167 174 182]\n",
      " [164 174 183]\n",
      " [164 174 183]\n",
      " [164 174 183]\n",
      " [163 173 182]\n",
      " [162 172 181]\n",
      " [161 171 180]\n",
      " [160 169 176]\n",
      " [159 168 175]\n",
      " [158 167 174]\n",
      " [157 166 173]\n",
      " [157 164 170]\n",
      " [156 163 169]]\n"
     ]
    }
   ],
   "source": [
    "print('첫번째 데이터의 rgb 값 :', x_train[0][0][0])\n",
    "print('첫번째 줄의 rgb값 순서 :\\n', x_train[0][0])"
   ]
  },
  {
   "cell_type": "markdown",
   "id": "c0f46e48",
   "metadata": {},
   "source": [
    "이렇게 3x28x28 의 데이터를 가진 사진이 총 952장 있으므로  \n",
    "x_train 은 (952,28,28,3) 4차원의 행렬구조를 갖춘다\n",
    "\n",
    "사진 데이터 하나를 뽑아보면 다음과 같다"
   ]
  },
  {
   "cell_type": "code",
   "execution_count": 4,
   "id": "aaa35304",
   "metadata": {},
   "outputs": [
    {
     "name": "stdout",
     "output_type": "stream",
     "text": [
      "라벨:  0\n"
     ]
    },
    {
     "data": {
      "image/png": "[encoded data removed]",
      "text/plain": [
       "<Figure size 432x288 with 1 Axes>"
      ]
     },
     "metadata": {
      "needs_background": "light"
     },
     "output_type": "display_data"
    }
   ],
   "source": [
    "import matplotlib.pyplot as plt\n",
    "\n",
    "plt.imshow(x_train[0])\n",
    "print('라벨: ', y_train[0])"
   ]
  },
  {
   "cell_type": "markdown",
   "id": "4cd720c2",
   "metadata": {},
   "source": [
    "---\n",
    "#### 1-2-3 Nomalization\n",
    "인공지능 모델을 학습시킬 때, 일반적으로 모든 데이터를 0~1 사이의 값으로  \n",
    "정규화 시켜 사용한다.\n"
   ]
  },
  {
   "cell_type": "code",
   "execution_count": 5,
   "id": "e3192a4f",
   "metadata": {},
   "outputs": [
    {
     "name": "stdout",
     "output_type": "stream",
     "text": [
      "정규화된 rgb값의 예시 :\n",
      " [[0.43137255 0.46666667 0.48627451]\n",
      " [0.45882353 0.49411765 0.51372549]\n",
      " [0.50196078 0.5372549  0.55686275]\n",
      " [0.54117647 0.57647059 0.59607843]\n",
      " [0.56862745 0.60392157 0.62352941]\n",
      " [0.59215686 0.62745098 0.64705882]\n",
      " [0.60784314 0.64313725 0.6627451 ]\n",
      " [0.61960784 0.65490196 0.6745098 ]\n",
      " [0.65098039 0.67843137 0.70980392]\n",
      " [0.65490196 0.68235294 0.71372549]\n",
      " [0.65882353 0.68627451 0.71764706]\n",
      " [0.65882353 0.68627451 0.71764706]\n",
      " [0.6627451  0.69019608 0.72156863]\n",
      " [0.65882353 0.68627451 0.71764706]\n",
      " [0.65882353 0.68627451 0.71764706]\n",
      " [0.65490196 0.68235294 0.71372549]\n",
      " [0.64313725 0.68235294 0.71764706]\n",
      " [0.64313725 0.68235294 0.71764706]\n",
      " [0.64313725 0.68235294 0.71764706]\n",
      " [0.63921569 0.67843137 0.71372549]\n",
      " [0.63529412 0.6745098  0.70980392]\n",
      " [0.63137255 0.67058824 0.70588235]\n",
      " [0.62745098 0.6627451  0.69019608]\n",
      " [0.62352941 0.65882353 0.68627451]\n",
      " [0.61960784 0.65490196 0.68235294]\n",
      " [0.61568627 0.65098039 0.67843137]\n",
      " [0.61568627 0.64313725 0.66666667]\n",
      " [0.61176471 0.63921569 0.6627451 ]]\n"
     ]
    }
   ],
   "source": [
    "x_train_norm = x_train/255.0   # 입력은 0~1 사이의 값으로 정규화\n",
    "print('정규화된 rgb값의 예시 :\\n', x_train_norm[0][0])"
   ]
  },
  {
   "cell_type": "markdown",
   "id": "d5a00726",
   "metadata": {},
   "source": [
    "---\n",
    "모든 데이터 전처리가 끝났다!!!!  \n",
    "우리가 만든 데이터는   \n",
    "*(x_train_norm , y_train )* 이다."
   ]
  },
  {
   "cell_type": "markdown",
   "id": "09621490",
   "metadata": {},
   "source": [
    "## 2. 데이터 학습\n",
    "\n",
    "데이터가 모두 준비되었다면, 데이터간의 차이를 알아서 패턴화하고 구별해주는  \n",
    "'딥러닝 네트워크' 가 필요하다.\n",
    "\n",
    "tensorflow 에서는 이러한 딥러닝 네트워크 제작을 지원해주는  \n",
    "Sequential API 를 제공하고 있다.\n",
    "\n",
    "아래는 그 사용이다.\n",
    "\n",
    "### 2-1. 딥러닝 네트워크 만들기\n"
   ]
  },
  {
   "cell_type": "code",
   "execution_count": 10,
   "id": "a6869c77",
   "metadata": {},
   "outputs": [
    {
     "name": "stdout",
     "output_type": "stream",
     "text": [
      "Model에 추가된 Layer 개수:  7\n"
     ]
    }
   ],
   "source": [
    "import tensorflow as tf\n",
    "from tensorflow import keras\n",
    "\n",
    "model=keras.models.Sequential()\n",
    "model.add(keras.layers.Conv2D(16, (3,3), activation='relu', input_shape=(28,28,3)))\n",
    "model.add(keras.layers.MaxPool2D(2,2))\n",
    "model.add(keras.layers.Conv2D(32, (3,3), activation='relu'))\n",
    "model.add(keras.layers.MaxPooling2D((2,2)))\n",
    "model.add(keras.layers.Flatten())\n",
    "model.add(keras.layers.Dense(32, activation='relu'))\n",
    "model.add(keras.layers.Dense(3, activation='softmax'))\n",
    "\n",
    "print('Model에 추가된 Layer 개수: ', len(model.layers))"
   ]
  },
  {
   "cell_type": "markdown",
   "id": "04963209",
   "metadata": {},
   "source": [
    "각 메서드와 매개변수에 대한 설명:\n",
    "> 1. Conv2D(a, b, activation='', input_shape=())  \n",
    "a : 구분할 이미지 특징의 갯수\n",
    "2. Dense(a, activation=\"\")  \n",
    "a : 알고리즘의 복잡도 (perceptron의 사용갯수)\n",
    "*input_shape : 입력이미지 형태 ( 가로픽셀, 세로픽셀, 흑백=1/컬러=3 )\n",
    "*activation : 사용할 활성함수\n",
    "\n",
    "마지막의 Dense 함수의 a 는 구분할 클래스의 수를 지정하면 된다.  \n",
    "우리의 경우 가위, 바위, 보 로 3개가 필요하므로 3을 넣자.\n",
    "\n",
    "---"
   ]
  },
  {
   "cell_type": "markdown",
   "id": "fc14f9cd",
   "metadata": {},
   "source": [
    "우리가 만든 이 네트워크는 model.summary()로 확인해 볼 수 있다."
   ]
  },
  {
   "cell_type": "code",
   "execution_count": 7,
   "id": "127a0bb5",
   "metadata": {},
   "outputs": [
    {
     "name": "stdout",
     "output_type": "stream",
     "text": [
      "Model: \"sequential\"\n",
      "_________________________________________________________________\n",
      "Layer (type)                 Output Shape              Param #   \n",
      "=================================================================\n",
      "conv2d (Conv2D)              (None, 26, 26, 16)        448       \n",
      "_________________________________________________________________\n",
      "max_pooling2d (MaxPooling2D) (None, 13, 13, 16)        0         \n",
      "_________________________________________________________________\n",
      "conv2d_1 (Conv2D)            (None, 11, 11, 32)        4640      \n",
      "_________________________________________________________________\n",
      "max_pooling2d_1 (MaxPooling2 (None, 5, 5, 32)          0         \n",
      "_________________________________________________________________\n",
      "flatten (Flatten)            (None, 800)               0         \n",
      "_________________________________________________________________\n",
      "dense (Dense)                (None, 32)                25632     \n",
      "_________________________________________________________________\n",
      "dense_1 (Dense)              (None, 3)                 99        \n",
      "=================================================================\n",
      "Total params: 30,819\n",
      "Trainable params: 30,819\n",
      "Non-trainable params: 0\n",
      "_________________________________________________________________\n"
     ]
    }
   ],
   "source": [
    "model.summary()"
   ]
  },
  {
   "cell_type": "markdown",
   "id": "b3d0d592",
   "metadata": {},
   "source": [
    "## 2-2 데이터로 딥러닝 네트워크 학습시키기"
   ]
  },
  {
   "cell_type": "markdown",
   "id": "80fbf522",
   "metadata": {},
   "source": [
    "아래는 우리가 준비한 전처리 데이터를 가지고 네트워크 학습을 10회 반복한다는 코드이다."
   ]
  },
  {
   "cell_type": "code",
   "execution_count": 8,
   "id": "7f951eda",
   "metadata": {},
   "outputs": [
    {
     "name": "stdout",
     "output_type": "stream",
     "text": [
      "Epoch 1/10\n",
      "30/30 [==============================] - 3s 6ms/step - loss: 1.0376 - accuracy: 0.4737\n",
      "Epoch 2/10\n",
      "30/30 [==============================] - 0s 3ms/step - loss: 0.7599 - accuracy: 0.7405\n",
      "Epoch 3/10\n",
      "30/30 [==============================] - 0s 3ms/step - loss: 0.4803 - accuracy: 0.8477\n",
      "Epoch 4/10\n",
      "30/30 [==============================] - 0s 3ms/step - loss: 0.3212 - accuracy: 0.9212\n",
      "Epoch 5/10\n",
      "30/30 [==============================] - 0s 3ms/step - loss: 0.2155 - accuracy: 0.9496\n",
      "Epoch 6/10\n",
      "30/30 [==============================] - 0s 3ms/step - loss: 0.1638 - accuracy: 0.9580\n",
      "Epoch 7/10\n",
      "30/30 [==============================] - 0s 3ms/step - loss: 0.1155 - accuracy: 0.9790\n",
      "Epoch 8/10\n",
      "30/30 [==============================] - 0s 3ms/step - loss: 0.1044 - accuracy: 0.9779\n",
      "Epoch 9/10\n",
      "30/30 [==============================] - 0s 3ms/step - loss: 0.0705 - accuracy: 0.9905\n",
      "Epoch 10/10\n",
      "30/30 [==============================] - 0s 3ms/step - loss: 0.0429 - accuracy: 0.9979\n"
     ]
    },
    {
     "data": {
      "text/plain": [
       "<keras.callbacks.History at 0x7fd61023fd30>"
      ]
     },
     "execution_count": 8,
     "metadata": {},
     "output_type": "execute_result"
    }
   ],
   "source": [
    "model.compile(optimizer='adam',\n",
    "             loss='sparse_categorical_crossentropy',\n",
    "             metrics=['accuracy'])\n",
    "\n",
    "model.fit(x_train_norm, y_train, epochs=10)"
   ]
  },
  {
   "cell_type": "markdown",
   "id": "4063e1e8",
   "metadata": {},
   "source": [
    "정확도를 나타내는 accuracy의 값이 점점 높아지는 것을 볼 수 있다.  "
   ]
  },
  {
   "cell_type": "markdown",
   "id": "a3b113f1",
   "metadata": {},
   "source": [
    "## 3. 성능 시험하기 \n",
    "### 3-1 테스트 데이터 준비하기"
   ]
  },
  {
   "cell_type": "markdown",
   "id": "a1f0453a",
   "metadata": {},
   "source": [
    "내가 만든 딥워킹이가 잘 작동하는지 확인하기 위해선 test 데이터를 필요로 한다.  \n",
    "나는 내 친구가 만든 가위바위보 영상 사진을 가져왔다.  \n",
    "~~친구가 없다면 반댓손으로 다시 만들자~~"
   ]
  },
  {
   "cell_type": "code",
   "execution_count": 9,
   "id": "0863b140",
   "metadata": {},
   "outputs": [
    {
     "name": "stdout",
     "output_type": "stream",
     "text": [
      "102 clear\n",
      "101 clear\n",
      "100 clear\n",
      "학습데이터(x_train)의 이미지 개수는 303 입니다.\n",
      "x_test에 담긴 자료의 행렬: (952, 28, 28, 3)\n",
      "y_test에 담긴 0,1,2(가위바위보) 라벨의 개수: (952,)\n",
      "test값 전처리 복붙으로 손쉽게 완료!\n",
      "해당 사진의 라벨 : 0\n"
     ]
    },
    {
     "data": {
      "image/png": "[encoded data removed]",
      "text/plain": [
       "<Figure size 432x288 with 1 Axes>"
      ]
     },
     "metadata": {
      "needs_background": "light"
     },
     "output_type": "display_data"
    }
   ],
   "source": [
    "image_dir_path_scissors_test = os.getenv(\"HOME\") + \"/aiffel/rock_scissors_paper_test/scissors\"\n",
    "image_dir_path_rock_test = os.getenv(\"HOME\") + \"/aiffel/rock_scissors_paper_test/rock\"\n",
    "image_dir_path_paper_test = os.getenv(\"HOME\") + \"/aiffel/rock_scissors_paper_test/paper\"\n",
    "\n",
    "resize_images(image_dir_path_scissors_test)\n",
    "resize_images(image_dir_path_rock_test)\n",
    "resize_images(image_dir_path_paper_test)\n",
    "\n",
    "image_dir_path_test = os.getenv(\"HOME\") + \"/aiffel/rock_scissors_paper_test\"\n",
    "(x_test, y_test)=load_data(image_dir_path_test)\n",
    "\n",
    "print(\"x_test에 담긴 자료의 행렬: {}\".format(x_test.shape))\n",
    "print(\"y_test에 담긴 0,1,2(가위바위보) 라벨의 개수: {}\".format(y_test.shape))\n",
    "x_test_norm = x_train/255.0\n",
    "\n",
    "print('test값 전처리 복붙으로 손쉽게 완료!')\n",
    "plt.imshow(x_test[0])\n",
    "print('해당 사진의 라벨 :',y_test[0])"
   ]
  },
  {
   "cell_type": "markdown",
   "id": "66203cca",
   "metadata": {},
   "source": [
    "### 3-2. 테스트 데이터로 측정하기"
   ]
  },
  {
   "cell_type": "code",
   "execution_count": 10,
   "id": "fd7674cc",
   "metadata": {},
   "outputs": [
    {
     "name": "stdout",
     "output_type": "stream",
     "text": [
      "30/30 - 0s - loss: 5.9817 - accuracy: 0.1492\n",
      "test_loss: 5.981659889221191 \n",
      "test_accuracy: 0.14915966987609863\n"
     ]
    }
   ],
   "source": [
    "test_loss, test_accuracy = model.evaluate(x_test_norm,y_test, verbose=2) #evaluate 함수로 다른 데이터를 통해 네트워크 평가\n",
    "print(\"test_loss: {} \".format(test_loss))\n",
    "print(\"test_accuracy: {}\".format(test_accuracy))"
   ]
  },
  {
   "cell_type": "markdown",
   "id": "dd0b275b",
   "metadata": {},
   "source": [
    "---\n",
    "이럴수가,, 정확도가 약 15%가 나왔다.\n",
    "뭐가 잘못된걸까?\n",
    "\n",
    "하...\n"
   ]
  },
  {
   "cell_type": "markdown",
   "id": "c272c9d6",
   "metadata": {},
   "source": [
    "### 3-3 측정 결과 분석하기  \n",
    ".predict() 함수를 사용하면 내가 만든 네트워크 모델의 추론과정을  \n",
    "확률분포로 뽑아볼 수 있다."
   ]
  },
  {
   "cell_type": "code",
   "execution_count": 15,
   "id": "1d8ad059",
   "metadata": {},
   "outputs": [
    {
     "name": "stdout",
     "output_type": "stream",
     "text": [
      "model.predict() 결과 :  [9.9997127e-01 8.7066237e-06 2.0021884e-05]\n",
      "model이 추론한 가장 가능성이 높은 결과 :  0\n",
      "실제 데이터의 라벨 :  2\n",
      "\n",
      "실제 데이터의 사진\n"
     ]
    },
    {
     "data": {
      "image/png": "[encoded data removed]",
      "text/plain": [
       "<Figure size 432x288 with 1 Axes>"
      ]
     },
     "metadata": {
      "needs_background": "light"
     },
     "output_type": "display_data"
    }
   ],
   "source": [
    "predicted_result = model.predict(x_test_norm)  # model이 추론한 확률값. \n",
    "predicted_labels = np.argmax(predicted_result, axis=1)\n",
    "\n",
    "idx=220  #220번째 x_test를 살펴보자. \n",
    "print('model.predict() 결과 : ', predicted_result[idx])\n",
    "print('model이 추론한 가장 가능성이 높은 결과 : ', predicted_labels[idx])\n",
    "print('실제 데이터의 라벨 : ', y_test[idx])\n",
    "\n",
    "plt.imshow(x_test[idx],cmap=plt.cm.binary)\n",
    "print('\\n실제 데이터의 사진')\n",
    "plt.show()\n"
   ]
  },
  {
   "cell_type": "markdown",
   "id": "7cb8aa73",
   "metadata": {},
   "source": [
    "확률 분포를 보면 해당 데이터는 1과 가장 가까운 0번라벨(바위)라고 판단했지만\n",
    "사실 실제 데이터의 사진은 보자기다. 왜 이 친구가 실수를 한걸까?\n",
    "\n",
    "-보니까 내 사진은 뒤가 하얀데 내 친구는\n",
    "뒤가 너저분하다. 그러게 청소좀 하지.\n",
    "\n",
    "-화질이 너무 깨져서 그런거 아닐까? 사람도 분간하기 힘들잖어"
   ]
  },
  {
   "cell_type": "markdown",
   "id": "b9c4c9cc",
   "metadata": {},
   "source": [
    "---\n",
    "그러므로 다시 데이터 전처리로 돌아가,  \n",
    "\n",
    "1. 다른 train 값 을 더 추가하여 사용\n",
    "2. 데이터 설계에서 epoch 값 증가\n",
    "\n",
    "를 중심으로 코드를 수정하기로 했다.\n",
    "\n",
    "---\n",
    "### 3-4. 분석에 따라 코드 수정하기\n",
    "\n",
    "#### Try 1.\n",
    "\n",
    "1. 다른 train 값 각각 500장씩을 새로 불러와 리사이징, 라벨링 작업을 실시했다"
   ]
  },
  {
   "cell_type": "code",
   "execution_count": 11,
   "id": "faf41092",
   "metadata": {},
   "outputs": [
    {
     "name": "stdout",
     "output_type": "stream",
     "text": [
      "500 clear\n",
      "500 clear\n",
      "500 clear\n",
      "학습데이터(x_train)의 이미지 개수는 1500 입니다.\n",
      "x_train에 담긴 자료의 행렬: (1500, 28, 28, 3)\n",
      "y_train에 담긴 0,1,2(가위바위보) 라벨의 개수: (1500,)\n"
     ]
    }
   ],
   "source": [
    "def load_data(img_path, number_of_data=1500):  #def number_of_data=952 에서 number_of_data=1500으로 변경했음\n",
    "    \n",
    "    img_size=28\n",
    "    color=3\n",
    "    \n",
    "    imgs=np.zeros(number_of_data*img_size*img_size*color,dtype=np.int32).reshape(number_of_data,img_size,img_size,color)\n",
    "    labels=np.zeros(number_of_data,dtype=np.int32)\n",
    "\n",
    "    idx=0\n",
    "    for file in glob.iglob(img_path+'/scissors/*.jpg'):\n",
    "        img = np.array(Image.open(file),dtype=np.int32)\n",
    "        imgs[idx,:,:,:]=img    # 데이터 영역에 이미지 행렬을 복사\n",
    "        labels[idx]=0   # 가위 : 0\n",
    "        idx=idx+1\n",
    "\n",
    "    for file in glob.iglob(img_path+'/rock/*.jpg'):\n",
    "        img = np.array(Image.open(file),dtype=np.int32)\n",
    "        imgs[idx,:,:,:]=img    # 데이터 영역에 이미지 행렬을 복사\n",
    "        labels[idx]=1   # 바위 : 1\n",
    "        idx=idx+1  \n",
    "    \n",
    "    for file in glob.iglob(img_path+'/paper/*.jpg'):\n",
    "        img = np.array(Image.open(file),dtype=np.int32)\n",
    "        imgs[idx,:,:,:]=img    # 데이터 영역에 이미지 행렬을 복사\n",
    "        labels[idx]=2   # 보 : 2\n",
    "        idx=idx+1\n",
    "        \n",
    "    print(\"학습데이터(x_train)의 이미지 개수는\", idx,\"입니다.\")\n",
    "    return imgs, labels\n",
    "\n",
    "\n",
    "image_dir_path_scissors = os.getenv(\"HOME\") + \"/aiffel/rsp_sample/scissors\"\n",
    "image_dir_path_rock = os.getenv(\"HOME\") + \"/aiffel/rsp_sample/rock\"\n",
    "image_dir_path_paper = os.getenv(\"HOME\") + \"/aiffel/rsp_sample/paper\"\n",
    "\n",
    "resize_images(image_dir_path_scissors)\n",
    "resize_images(image_dir_path_rock)\n",
    "resize_images(image_dir_path_paper)\n",
    "\n",
    "image_dir_path = os.getenv(\"HOME\") + \"/aiffel/rsp_sample\"\n",
    "(x_train, y_train)=load_data(image_dir_path)\n",
    "\n",
    "print(\"x_train에 담긴 자료의 행렬: {}\".format(x_train.shape))\n",
    "print(\"y_train에 담긴 0,1,2(가위바위보) 라벨의 개수: {}\".format(y_train.shape))\n",
    "x_train_norm = x_train/255.0"
   ]
  },
  {
   "cell_type": "markdown",
   "id": "5718546c",
   "metadata": {},
   "source": [
    "---\n",
    "2. 이를 바탕으로 epoch 값을 20으로 늘려 재학습 후 시험해보도록 하자.\n"
   ]
  },
  {
   "cell_type": "code",
   "execution_count": 12,
   "id": "e59c1020",
   "metadata": {},
   "outputs": [
    {
     "name": "stdout",
     "output_type": "stream",
     "text": [
      "Epoch 1/20\n",
      "47/47 [==============================] - 1s 5ms/step - loss: 1.3868 - accuracy: 0.3620\n",
      "Epoch 2/20\n",
      "47/47 [==============================] - 0s 3ms/step - loss: 0.9553 - accuracy: 0.5340\n",
      "Epoch 3/20\n",
      "47/47 [==============================] - 0s 3ms/step - loss: 0.7468 - accuracy: 0.6973\n",
      "Epoch 4/20\n",
      "47/47 [==============================] - 0s 3ms/step - loss: 0.5427 - accuracy: 0.8000\n",
      "Epoch 5/20\n",
      "47/47 [==============================] - 0s 3ms/step - loss: 0.4002 - accuracy: 0.8660\n",
      "Epoch 6/20\n",
      "47/47 [==============================] - 0s 3ms/step - loss: 0.2997 - accuracy: 0.9013\n",
      "Epoch 7/20\n",
      "47/47 [==============================] - 0s 3ms/step - loss: 0.2176 - accuracy: 0.9400\n",
      "Epoch 8/20\n",
      "47/47 [==============================] - 0s 3ms/step - loss: 0.1566 - accuracy: 0.9713\n",
      "Epoch 9/20\n",
      "47/47 [==============================] - 0s 3ms/step - loss: 0.1175 - accuracy: 0.9827\n",
      "Epoch 10/20\n",
      "47/47 [==============================] - 0s 3ms/step - loss: 0.1014 - accuracy: 0.9813\n",
      "Epoch 11/20\n",
      "47/47 [==============================] - 0s 3ms/step - loss: 0.0733 - accuracy: 0.9907\n",
      "Epoch 12/20\n",
      "47/47 [==============================] - 0s 3ms/step - loss: 0.0569 - accuracy: 0.9960\n",
      "Epoch 13/20\n",
      "47/47 [==============================] - 0s 3ms/step - loss: 0.0478 - accuracy: 0.9947\n",
      "Epoch 14/20\n",
      "47/47 [==============================] - 0s 3ms/step - loss: 0.0402 - accuracy: 0.9993\n",
      "Epoch 15/20\n",
      "47/47 [==============================] - 0s 3ms/step - loss: 0.0316 - accuracy: 0.9973\n",
      "Epoch 16/20\n",
      "47/47 [==============================] - 0s 3ms/step - loss: 0.0233 - accuracy: 0.9993\n",
      "Epoch 17/20\n",
      "47/47 [==============================] - 0s 3ms/step - loss: 0.0210 - accuracy: 0.9993\n",
      "Epoch 18/20\n",
      "47/47 [==============================] - 0s 3ms/step - loss: 0.0181 - accuracy: 0.9993\n",
      "Epoch 19/20\n",
      "47/47 [==============================] - 0s 3ms/step - loss: 0.0127 - accuracy: 1.0000\n",
      "Epoch 20/20\n",
      "47/47 [==============================] - 0s 3ms/step - loss: 0.0118 - accuracy: 1.0000\n"
     ]
    },
    {
     "data": {
      "text/plain": [
       "<keras.callbacks.History at 0x7fd55dd9c4f0>"
      ]
     },
     "execution_count": 12,
     "metadata": {},
     "output_type": "execute_result"
    }
   ],
   "source": [
    "model.compile(optimizer='adam',\n",
    "             loss='sparse_categorical_crossentropy',\n",
    "             metrics=['accuracy'])\n",
    "\n",
    "model.fit(x_train_norm, y_train, epochs=20)"
   ]
  },
  {
   "cell_type": "code",
   "execution_count": 13,
   "id": "86a941ca",
   "metadata": {},
   "outputs": [
    {
     "name": "stdout",
     "output_type": "stream",
     "text": [
      "30/30 - 0s - loss: 14.6183 - accuracy: 0.1418\n",
      "test_loss: 14.61825942993164 \n",
      "test_accuracy: 0.1418067216873169\n"
     ]
    }
   ],
   "source": [
    "test_loss, test_accuracy = model.evaluate(x_test_norm,y_test, verbose=2)\n",
    "print(\"test_loss: {} \".format(test_loss))\n",
    "print(\"test_accuracy: {}\".format(test_accuracy))"
   ]
  },
  {
   "cell_type": "markdown",
   "id": "0cabd2ce",
   "metadata": {},
   "source": [
    "이럴리가 없다. 우선 epoch 값을 5로 줄여 재학습해보았다.\n",
    "\n",
    "#### Try 1-2."
   ]
  },
  {
   "cell_type": "code",
   "execution_count": 16,
   "id": "e75f01c1",
   "metadata": {},
   "outputs": [
    {
     "name": "stdout",
     "output_type": "stream",
     "text": [
      "Epoch 1/5\n",
      "47/47 [==============================] - 0s 3ms/step - loss: 0.0068 - accuracy: 0.9993\n",
      "Epoch 2/5\n",
      "47/47 [==============================] - 0s 3ms/step - loss: 0.0020 - accuracy: 1.0000\n",
      "Epoch 3/5\n",
      "47/47 [==============================] - 0s 3ms/step - loss: 0.0012 - accuracy: 1.0000\n",
      "Epoch 4/5\n",
      "47/47 [==============================] - 0s 3ms/step - loss: 0.0011 - accuracy: 1.0000\n",
      "Epoch 5/5\n",
      "47/47 [==============================] - 0s 3ms/step - loss: 9.8273e-04 - accuracy: 1.0000\n"
     ]
    },
    {
     "data": {
      "text/plain": [
       "<keras.callbacks.History at 0x7fd671662730>"
      ]
     },
     "execution_count": 16,
     "metadata": {},
     "output_type": "execute_result"
    }
   ],
   "source": [
    "model.compile(optimizer='adam',\n",
    "             loss='sparse_categorical_crossentropy',\n",
    "             metrics=['accuracy'])\n",
    "\n",
    "model.fit(x_train_norm, y_train, epochs=5)"
   ]
  },
  {
   "cell_type": "code",
   "execution_count": 17,
   "id": "2fba5698",
   "metadata": {},
   "outputs": [
    {
     "name": "stdout",
     "output_type": "stream",
     "text": [
      "30/30 - 0s - loss: 19.8458 - accuracy: 0.1418\n",
      "test_loss: 19.845796585083008 \n",
      "test_accuracy: 0.1418067216873169\n"
     ]
    }
   ],
   "source": [
    "test_loss, test_accuracy = model.evaluate(x_test_norm,y_test, verbose=2) #evaluate 함수로 다른 데이터를 통해 네트워크 평가\n",
    "print(\"test_loss: {} \".format(test_loss))\n",
    "print(\"test_accuracy: {}\".format(test_accuracy))"
   ]
  },
  {
   "cell_type": "markdown",
   "id": "456018c5",
   "metadata": {},
   "source": [
    "성능은 그대로 좋지 않다.\n",
    "다시 한번 생각해봤다.\n",
    "\n",
    "학습 accuracy 가 저렇게 덜떨어진 이유가 뭘까?\n",
    "\n",
    "---\n",
    "내 acuuracy 를 올리기 위한 방법은 여러가지가 있다.\n",
    "\n",
    "1. train 데이터 조작 (변경, 확대, 축소)\n",
    "2. test 데이터 조작 (변경, 축소)\n",
    "3. epoch 값 변경 (# 너무 올려도 오버피팅현상이 생기니 적절한 값 찾기)\n",
    "4. hyperparameter 값 변경 (아직 이에 대해 잘 모름)\n",
    "\n",
    "고심히 생각해본 결과 \n",
    "train 데이터와 test 데이터의 배경이 너무 다르고 또 화질이 너무 좋지 않다고 판단했다.\n",
    "\n",
    "#### Try 2.\n",
    "\n",
    "그러므로 다시 데이터 전처리로 돌아가,  \n",
    "\n",
    "1. image 사이즈 변경\n",
    "2. test 데이터, 배경이 덜 어지러운 이미지로 변경\n",
    "3. 데이터 설계에서 반복횟수인 epoch 값을 늘려보도록 하겠다.\n",
    "\n",
    "---"
   ]
  },
  {
   "cell_type": "code",
   "execution_count": 6,
   "id": "80f4fcb2",
   "metadata": {},
   "outputs": [
    {
     "name": "stdout",
     "output_type": "stream",
     "text": [
      "342 clear\n",
      "302 clear\n",
      "308 clear\n",
      "학습데이터(x_train)의 이미지 개수는 952 입니다.\n",
      "x_train에 담긴 자료의 행렬: (952, 56, 56, 3)\n",
      "y_train에 담긴 0,1,2(가위바위보) 라벨의 개수: (952,)\n"
     ]
    }
   ],
   "source": [
    "#train 값의 이미지 56px 로 변경\n",
    "\n",
    "def resize_images(img_path):\n",
    "    images=glob.glob(img_path + \"/*.jpg\") \n",
    "    \n",
    "    target_size = (56,56) #바꾸고 싶은 사이즈\n",
    "    for img in images:\n",
    "        old_img=Image.open(img)\n",
    "        new_img=old_img.resize(target_size,Image.ANTIALIAS) \n",
    "        new_img.save(img, \"JPEG\")\n",
    "    print(\"{} clear\".format(len(images)))\n",
    "        \n",
    "image_dir_path_scissors = os.getenv(\"HOME\") + \"/aiffel/rock_scissors_paper/scissors\"\n",
    "image_dir_path_rock = os.getenv(\"HOME\") + \"/aiffel/rock_scissors_paper/rock\"\n",
    "image_dir_path_paper = os.getenv(\"HOME\") + \"/aiffel/rock_scissors_paper/paper\"\n",
    "\n",
    "resize_images(image_dir_path_scissors)\n",
    "resize_images(image_dir_path_rock)\n",
    "resize_images(image_dir_path_paper)\n",
    "\n",
    "\n",
    "def load_data(img_path, number_of_data=952): \n",
    "    \n",
    "    img_size=56\n",
    "    color=3\n",
    "    \n",
    "    imgs=np.zeros(number_of_data*img_size*img_size*color,dtype=np.int32).reshape(number_of_data,img_size,img_size,color)\n",
    "    labels=np.zeros(number_of_data,dtype=np.int32)\n",
    "\n",
    "    idx=0\n",
    "    for file in glob.iglob(img_path+'/scissors/*.jpg'):\n",
    "        img = np.array(Image.open(file),dtype=np.int32)\n",
    "        imgs[idx,:,:,:]=img    # 데이터 영역에 이미지 행렬을 복사\n",
    "        labels[idx]=0   # 가위 : 0\n",
    "        idx=idx+1\n",
    "\n",
    "    for file in glob.iglob(img_path+'/rock/*.jpg'):\n",
    "        img = np.array(Image.open(file),dtype=np.int32)\n",
    "        imgs[idx,:,:,:]=img    # 데이터 영역에 이미지 행렬을 복사\n",
    "        labels[idx]=1   # 바위 : 1\n",
    "        idx=idx+1  \n",
    "    \n",
    "    for file in glob.iglob(img_path+'/paper/*.jpg'):\n",
    "        img = np.array(Image.open(file),dtype=np.int32)\n",
    "        imgs[idx,:,:,:]=img    # 데이터 영역에 이미지 행렬을 복사\n",
    "        labels[idx]=2   # 보 : 2\n",
    "        idx=idx+1\n",
    "        \n",
    "    print(\"학습데이터(x_train)의 이미지 개수는\", idx,\"입니다.\")\n",
    "    return imgs, labels\n",
    "\n",
    "image_dir_path = os.getenv(\"HOME\") + \"/aiffel/rock_scissors_paper\"\n",
    "(x_train, y_train)=load_data(image_dir_path)\n",
    "\n",
    "print(\"x_train에 담긴 자료의 행렬: {}\".format(x_train.shape))\n",
    "print(\"y_train에 담긴 0,1,2(가위바위보) 라벨의 개수: {}\".format(y_train.shape))\n",
    "x_train_norm = x_train/255.0"
   ]
  },
  {
   "cell_type": "code",
   "execution_count": 30,
   "id": "44fce4bd",
   "metadata": {},
   "outputs": [
    {
     "name": "stdout",
     "output_type": "stream",
     "text": [
      "라벨:  0\n"
     ]
    },
    {
     "data": {
      "image/png": "[encoded data removed]",
      "text/plain": [
       "<Figure size 432x288 with 1 Axes>"
      ]
     },
     "metadata": {
      "needs_background": "light"
     },
     "output_type": "display_data"
    }
   ],
   "source": [
    "import matplotlib.pyplot as plt\n",
    "\n",
    "plt.imshow(x_train[0])\n",
    "print('라벨: ', y_train[0])"
   ]
  },
  {
   "cell_type": "markdown",
   "id": "45843951",
   "metadata": {},
   "source": [
    "조금 더 선명해진 사진의 화질이 느껴진다.\n",
    "\n",
    "늘어난 픽셀에 따라 딥러닝 네트워크를 조정해주고 학습시켜보자."
   ]
  },
  {
   "cell_type": "code",
   "execution_count": 39,
   "id": "675e5a1e",
   "metadata": {},
   "outputs": [
    {
     "name": "stdout",
     "output_type": "stream",
     "text": [
      "Model에 추가된 Layer 개수:  7\n",
      "Epoch 1/15\n",
      "30/30 [==============================] - 0s 4ms/step - loss: 1.0588 - accuracy: 0.4233\n",
      "Epoch 2/15\n",
      "30/30 [==============================] - 0s 4ms/step - loss: 0.8183 - accuracy: 0.6912\n",
      "Epoch 3/15\n",
      "30/30 [==============================] - 0s 4ms/step - loss: 0.4854 - accuracy: 0.8372\n",
      "Epoch 4/15\n",
      "30/30 [==============================] - 0s 3ms/step - loss: 0.2890 - accuracy: 0.9065\n",
      "Epoch 5/15\n",
      "30/30 [==============================] - 0s 3ms/step - loss: 0.2337 - accuracy: 0.9391\n",
      "Epoch 6/15\n",
      "30/30 [==============================] - 0s 3ms/step - loss: 0.1419 - accuracy: 0.9643\n",
      "Epoch 7/15\n",
      "30/30 [==============================] - 0s 3ms/step - loss: 0.0930 - accuracy: 0.9821\n",
      "Epoch 8/15\n",
      "30/30 [==============================] - 0s 3ms/step - loss: 0.0794 - accuracy: 0.9800\n",
      "Epoch 9/15\n",
      "30/30 [==============================] - 0s 3ms/step - loss: 0.0538 - accuracy: 0.9884\n",
      "Epoch 10/15\n",
      "30/30 [==============================] - 0s 3ms/step - loss: 0.0667 - accuracy: 0.9800\n",
      "Epoch 11/15\n",
      "30/30 [==============================] - 0s 3ms/step - loss: 0.0243 - accuracy: 0.9968\n",
      "Epoch 12/15\n",
      "30/30 [==============================] - 0s 3ms/step - loss: 0.0155 - accuracy: 0.9989\n",
      "Epoch 13/15\n",
      "30/30 [==============================] - 0s 3ms/step - loss: 0.0120 - accuracy: 1.0000\n",
      "Epoch 14/15\n",
      "30/30 [==============================] - 0s 3ms/step - loss: 0.0104 - accuracy: 0.9989\n",
      "Epoch 15/15\n",
      "30/30 [==============================] - 0s 3ms/step - loss: 0.0070 - accuracy: 1.0000\n"
     ]
    },
    {
     "data": {
      "text/plain": [
       "<keras.callbacks.History at 0x7fd55ca7af10>"
      ]
     },
     "execution_count": 39,
     "metadata": {},
     "output_type": "execute_result"
    }
   ],
   "source": [
    "model=keras.models.Sequential()\n",
    "model.add(keras.layers.Conv2D(16, (3,3), activation='relu', input_shape=(56,56,3)))\n",
    "model.add(keras.layers.MaxPool2D(2,2))\n",
    "model.add(keras.layers.Conv2D(32, (3,3), activation='relu'))\n",
    "model.add(keras.layers.MaxPooling2D((2,2)))\n",
    "model.add(keras.layers.Flatten())\n",
    "model.add(keras.layers.Dense(32, activation='relu'))\n",
    "model.add(keras.layers.Dense(3, activation='softmax'))\n",
    "\n",
    "print('Model에 추가된 Layer 개수: ', len(model.layers))\n",
    "\n",
    "model.compile(optimizer='adam',\n",
    "             loss='sparse_categorical_crossentropy',\n",
    "             metrics=['accuracy'])\n",
    "\n",
    "model.fit(x_train_norm, y_train, epochs=15)"
   ]
  },
  {
   "cell_type": "code",
   "execution_count": 34,
   "id": "e9568577",
   "metadata": {},
   "outputs": [
    {
     "name": "stdout",
     "output_type": "stream",
     "text": [
      "100 clear\n",
      "100 clear\n",
      "100 clear\n",
      "학습데이터(x_train)의 이미지 개수는 300 입니다.\n",
      "x_test에 담긴 자료의 행렬: (952, 56, 56, 3)\n",
      "y_test에 담긴 0,1,2(가위바위보) 라벨의 개수: (952,)\n",
      "test값 전처리 복붙으로 손쉽게 완료!\n",
      "해당 사진의 라벨 : 0\n"
     ]
    },
    {
     "data": {
      "image/png": "[encoded data removed]",
      "text/plain": [
       "<Figure size 432x288 with 1 Axes>"
      ]
     },
     "metadata": {
      "needs_background": "light"
     },
     "output_type": "display_data"
    }
   ],
   "source": [
    "image_dir_path_scissors_test = os.getenv(\"HOME\") + \"/aiffel/rock_scissors_paper_test_2/scissors\"\n",
    "image_dir_path_rock_test = os.getenv(\"HOME\") + \"/aiffel/rock_scissors_paper_test_2/rock\"\n",
    "image_dir_path_paper_test = os.getenv(\"HOME\") + \"/aiffel/rock_scissors_paper_test_2/paper\"\n",
    "\n",
    "resize_images(image_dir_path_scissors_test)\n",
    "resize_images(image_dir_path_rock_test)\n",
    "resize_images(image_dir_path_paper_test)\n",
    "\n",
    "image_dir_path_test = os.getenv(\"HOME\") + \"/aiffel/rock_scissors_paper_test_2\"\n",
    "(x_test, y_test)=load_data(image_dir_path_test)\n",
    "\n",
    "print(\"x_test에 담긴 자료의 행렬: {}\".format(x_test.shape))\n",
    "print(\"y_test에 담긴 0,1,2(가위바위보) 라벨의 개수: {}\".format(y_test.shape))\n",
    "x_test_norm = x_train/255.0\n",
    "\n",
    "print('test값 전처리 복붙으로 손쉽게 완료!')\n",
    "plt.imshow(x_test[0])\n",
    "print('해당 사진의 라벨 :',y_test[0])"
   ]
  },
  {
   "cell_type": "markdown",
   "id": "55a9751c",
   "metadata": {},
   "source": [
    "말한 바와 같이 뒷면이 하얀 배경을 가진 데이터를 불러왔다"
   ]
  },
  {
   "cell_type": "code",
   "execution_count": 40,
   "id": "1e38f6a9",
   "metadata": {},
   "outputs": [
    {
     "name": "stdout",
     "output_type": "stream",
     "text": [
      "30/30 - 0s - loss: 9.0367 - accuracy: 0.1492\n",
      "test_loss: 9.036745071411133 \n",
      "test_accuracy: 0.14915966987609863\n"
     ]
    }
   ],
   "source": [
    "test_loss, test_accuracy = model.evaluate(x_test_norm,y_test, verbose=2) #evaluate 함수로 다른 데이터를 통해 네트워크 평가\n",
    "print(\"test_loss: {} \".format(test_loss))\n",
    "print(\"test_accuracy: {}\".format(test_accuracy))"
   ]
  },
  {
   "cell_type": "markdown",
   "id": "a6981455",
   "metadata": {},
   "source": [
    "아무리 값을 바꾸고 이것저것 시도해봐도 나아지지가 않는다..  \n",
    "\n",
    "#### Try 3.\n",
    "\n",
    "여기서 불현듯\n",
    "test사진과 비슷한 구도와 손동작으로 train 영상을 찍는다면, 훨씬 훌륭한 학습을 하지 않을까 싶어 다시 train 자료를 준비하기로\n",
    "생각했다."
   ]
  },
  {
   "cell_type": "code",
   "execution_count": 62,
   "id": "591f0d7b",
   "metadata": {
    "scrolled": true
   },
   "outputs": [
    {
     "data": {
      "image/png": "[encoded data removed]",
      "text/plain": [
       "<Figure size 432x288 with 9 Axes>"
      ]
     },
     "metadata": {
      "needs_background": "light"
     },
     "output_type": "display_data"
    }
   ],
   "source": [
    "fig = plt.figure()\n",
    "count = 1\n",
    "for i in range(1, 10):\n",
    "    ax = fig.add_subplot(3,3,i)\n",
    "    plt.imshow(x_test[count])\n",
    "    count += 29"
   ]
  },
  {
   "cell_type": "markdown",
   "id": "7938abc6",
   "metadata": {},
   "source": [
    "상단의 test데이터는 바닥면에 엄지와 검지로 만든 가위, 바위, 그리고 보를 보여주고 있다. 이와 비슷하게 데이터를 만들어 보도록 하겠다."
   ]
  },
  {
   "cell_type": "code",
   "execution_count": 59,
   "id": "d374da36",
   "metadata": {},
   "outputs": [
    {
     "name": "stdout",
     "output_type": "stream",
     "text": [
      "100 clear\n",
      "100 clear\n",
      "100 clear\n",
      "학습데이터(x_train)의 이미지 개수는 300 입니다.\n",
      "x_train에 담긴 자료의 행렬: (300, 56, 56, 3)\n",
      "y_train에 담긴 0,1,2(가위바위보) 라벨의 개수: (300,)\n"
     ]
    }
   ],
   "source": [
    "image_dir_path_scissors = os.getenv(\"HOME\") + \"/aiffel/rock_scissors_paper_2/scissors\"\n",
    "image_dir_path_rock = os.getenv(\"HOME\") + \"/aiffel/rock_scissors_paper_2/rock\"\n",
    "image_dir_path_paper = os.getenv(\"HOME\") + \"/aiffel/rock_scissors_paper_2/paper\"\n",
    "\n",
    "resize_images(image_dir_path_scissors)\n",
    "resize_images(image_dir_path_rock)\n",
    "resize_images(image_dir_path_paper)\n",
    "\n",
    "\n",
    "def load_data(img_path, number_of_data=300):    \n",
    "    img_size=56\n",
    "    color=3\n",
    "    \n",
    "    imgs=np.zeros(number_of_data*img_size*img_size*color,dtype=np.int32).reshape(number_of_data,img_size,img_size,color)\n",
    "    labels=np.zeros(number_of_data,dtype=np.int32)\n",
    "\n",
    "    idx=0\n",
    "    for file in glob.iglob(img_path+'/scissors/*.jpg'):\n",
    "        img = np.array(Image.open(file),dtype=np.int32)\n",
    "        imgs[idx,:,:,:]=img    # 데이터 영역에 이미지 행렬을 복사\n",
    "        labels[idx]=0   # 가위 : 0\n",
    "        idx=idx+1\n",
    "\n",
    "    for file in glob.iglob(img_path+'/rock/*.jpg'):\n",
    "        img = np.array(Image.open(file),dtype=np.int32)\n",
    "        imgs[idx,:,:,:]=img    # 데이터 영역에 이미지 행렬을 복사\n",
    "        labels[idx]=1   # 바위 : 1\n",
    "        idx=idx+1  \n",
    "    \n",
    "    for file in glob.iglob(img_path+'/paper/*.jpg'):\n",
    "        img = np.array(Image.open(file),dtype=np.int32)\n",
    "        imgs[idx,:,:,:]=img    # 데이터 영역에 이미지 행렬을 복사\n",
    "        labels[idx]=2   # 보 : 2\n",
    "        idx=idx+1\n",
    "        \n",
    "    print(\"학습데이터(x_train)의 이미지 개수는\", idx,\"입니다.\")\n",
    "    return imgs, labels\n",
    "\n",
    "\n",
    "image_dir_path = os.getenv(\"HOME\") + \"/aiffel/rock_scissors_paper_2\"\n",
    "(x_train, y_train)=load_data(image_dir_path)\n",
    "\n",
    "print(\"x_train에 담긴 자료의 행렬: {}\".format(x_train.shape))\n",
    "print(\"y_train에 담긴 0,1,2(가위바위보) 라벨의 개수: {}\".format(y_train.shape))\n",
    "x_train_norm = x_train/255.0"
   ]
  },
  {
   "cell_type": "code",
   "execution_count": 61,
   "id": "8ff1da55",
   "metadata": {},
   "outputs": [
    {
     "data": {
      "image/png": "[encoded data removed]",
      "text/plain": [
       "<Figure size 432x288 with 9 Axes>"
      ]
     },
     "metadata": {
      "needs_background": "light"
     },
     "output_type": "display_data"
    }
   ],
   "source": [
    "fig = plt.figure()\n",
    "count = 1\n",
    "for i in range(1, 10):\n",
    "    ax = fig.add_subplot(3,3,i)\n",
    "    plt.imshow(x_train[count])\n",
    "    count += 29\n"
   ]
  },
  {
   "cell_type": "code",
   "execution_count": 87,
   "id": "f2d5561b",
   "metadata": {
    "scrolled": true
   },
   "outputs": [
    {
     "name": "stdout",
     "output_type": "stream",
     "text": [
      "Epoch 1/17\n",
      "10/10 [==============================] - 0s 4ms/step - loss: 1.0809 - accuracy: 0.4133\n",
      "Epoch 2/17\n",
      "10/10 [==============================] - 0s 4ms/step - loss: 0.9417 - accuracy: 0.6567\n",
      "Epoch 3/17\n",
      "10/10 [==============================] - 0s 4ms/step - loss: 0.8412 - accuracy: 0.6867\n",
      "Epoch 4/17\n",
      "10/10 [==============================] - 0s 4ms/step - loss: 0.6697 - accuracy: 0.7167\n",
      "Epoch 5/17\n",
      "10/10 [==============================] - 0s 4ms/step - loss: 0.5408 - accuracy: 0.8233\n",
      "Epoch 6/17\n",
      "10/10 [==============================] - 0s 4ms/step - loss: 0.4558 - accuracy: 0.8300\n",
      "Epoch 7/17\n",
      "10/10 [==============================] - 0s 4ms/step - loss: 0.3557 - accuracy: 0.8933\n",
      "Epoch 8/17\n",
      "10/10 [==============================] - 0s 4ms/step - loss: 0.2823 - accuracy: 0.9233\n",
      "Epoch 9/17\n",
      "10/10 [==============================] - 0s 4ms/step - loss: 0.2182 - accuracy: 0.9533\n",
      "Epoch 10/17\n",
      "10/10 [==============================] - 0s 4ms/step - loss: 0.1745 - accuracy: 0.9567\n",
      "Epoch 11/17\n",
      "10/10 [==============================] - 0s 4ms/step - loss: 0.1477 - accuracy: 0.9700\n",
      "Epoch 12/17\n",
      "10/10 [==============================] - 0s 4ms/step - loss: 0.1039 - accuracy: 0.9733\n",
      "Epoch 13/17\n",
      "10/10 [==============================] - 0s 4ms/step - loss: 0.0852 - accuracy: 0.9867\n",
      "Epoch 14/17\n",
      "10/10 [==============================] - 0s 4ms/step - loss: 0.0790 - accuracy: 0.9833\n",
      "Epoch 15/17\n",
      "10/10 [==============================] - 0s 4ms/step - loss: 0.0543 - accuracy: 0.9900\n",
      "Epoch 16/17\n",
      "10/10 [==============================] - 0s 4ms/step - loss: 0.0452 - accuracy: 1.0000\n",
      "Epoch 17/17\n",
      "10/10 [==============================] - 0s 4ms/step - loss: 0.0308 - accuracy: 1.0000\n"
     ]
    },
    {
     "data": {
      "text/plain": [
       "<keras.callbacks.History at 0x7fd55c043f40>"
      ]
     },
     "execution_count": 87,
     "metadata": {},
     "output_type": "execute_result"
    }
   ],
   "source": [
    "model=keras.models.Sequential()\n",
    "model.add(keras.layers.Conv2D(16, (3,3), activation='relu', input_shape=(56,56,3)))\n",
    "model.add(keras.layers.MaxPool2D(2,2))\n",
    "model.add(keras.layers.Conv2D(32, (3,3), activation='relu'))\n",
    "model.add(keras.layers.MaxPooling2D((2,2)))\n",
    "model.add(keras.layers.Flatten())\n",
    "model.add(keras.layers.Dense(32, activation='relu'))\n",
    "model.add(keras.layers.Dense(3, activation='softmax'))\n",
    "\n",
    "\n",
    "model.compile(optimizer='adam',\n",
    "             loss='sparse_categorical_crossentropy',\n",
    "             metrics=['accuracy'])\n",
    "\n",
    "model.fit(x_train_norm, y_train, epochs=17)"
   ]
  },
  {
   "cell_type": "code",
   "execution_count": 88,
   "id": "435ffc3b",
   "metadata": {},
   "outputs": [
    {
     "name": "stdout",
     "output_type": "stream",
     "text": [
      "30/30 - 0s - loss: 5.6904 - accuracy: 0.2511\n",
      "test_loss: 5.69038724899292 \n",
      "test_accuracy: 0.2510504126548767\n"
     ]
    }
   ],
   "source": [
    "test_loss, test_accuracy = model.evaluate(x_test_norm,y_test, verbose=2) #evaluate 함수로 다른 데이터를 통해 네트워크 평가\n",
    "print(\"test_loss: {} \".format(test_loss))\n",
    "print(\"test_accuracy: {}\".format(test_accuracy))"
   ]
  },
  {
   "cell_type": "markdown",
   "id": "da183204",
   "metadata": {},
   "source": [
    "!!! 눈에 띄게 높아진 정확도를 볼 수 있다.\n",
    "하지만 사실상 가위바위보 분류는 하나로 찍기만 해도 33%는 나와야 하는데,\n",
    "그에 비하면 터무니없는 확률이다.\n",
    "\n",
    "그럼 이미지 간의 유사도를 더 높여보면 어떨까?\n",
    "\n",
    "#### Try 4.\n",
    "\n",
    "결국 Train 이미지와 test이미지를 내가 다 준비해보기로 하였다."
   ]
  },
  {
   "cell_type": "code",
   "execution_count": 95,
   "id": "79577247",
   "metadata": {
    "scrolled": true
   },
   "outputs": [
    {
     "name": "stdout",
     "output_type": "stream",
     "text": [
      "200 clear\n",
      "200 clear\n",
      "200 clear\n",
      "학습데이터(x_train)의 이미지 개수는 600 입니다.\n",
      "x_train에 담긴 자료의 행렬: (600, 56, 56, 3)\n",
      "y_train에 담긴 0,1,2(가위바위보) 라벨의 개수: (600,)\n",
      "200 clear\n",
      "200 clear\n",
      "200 clear\n",
      "학습데이터(x_train)의 이미지 개수는 600 입니다.\n",
      "x_test에 담긴 자료의 행렬: (600, 56, 56, 3)\n",
      "y_test에 담긴 0,1,2(가위바위보) 라벨의 개수: (600,)\n"
     ]
    }
   ],
   "source": [
    "\n",
    "#train, test 데이터 리사이징 및 라벨링 \n",
    "image_dir_path_scissors = os.getenv(\"HOME\") + \"/aiffel/rock_scissors_paper_3/scissors\"\n",
    "image_dir_path_rock = os.getenv(\"HOME\") + \"/aiffel/rock_scissors_paper_3/rock\"\n",
    "image_dir_path_paper = os.getenv(\"HOME\") + \"/aiffel/rock_scissors_paper_3/paper\"\n",
    "\n",
    "resize_images(image_dir_path_scissors)\n",
    "resize_images(image_dir_path_rock)\n",
    "resize_images(image_dir_path_paper)\n",
    "\n",
    "def load_data(img_path, number_of_data=1500):    \n",
    "    img_size=56\n",
    "    color=3\n",
    "    \n",
    "    imgs=np.zeros(number_of_data*img_size*img_size*color,dtype=np.int32).reshape(number_of_data,img_size,img_size,color)\n",
    "    labels=np.zeros(number_of_data,dtype=np.int32)\n",
    "\n",
    "    idx=0\n",
    "    for file in glob.iglob(img_path+'/scissors/*.jpg'):\n",
    "        img = np.array(Image.open(file),dtype=np.int32)\n",
    "        imgs[idx,:,:,:]=img    # 데이터 영역에 이미지 행렬을 복사\n",
    "        labels[idx]=0   # 가위 : 0\n",
    "        idx=idx+1\n",
    "\n",
    "    for file in glob.iglob(img_path+'/rock/*.jpg'):\n",
    "        img = np.array(Image.open(file),dtype=np.int32)\n",
    "        imgs[idx,:,:,:]=img    # 데이터 영역에 이미지 행렬을 복사\n",
    "        labels[idx]=1   # 바위 : 1\n",
    "        idx=idx+1  \n",
    "    \n",
    "    for file in glob.iglob(img_path+'/paper/*.jpg'):\n",
    "        img = np.array(Image.open(file),dtype=np.int32)\n",
    "        imgs[idx,:,:,:]=img    # 데이터 영역에 이미지 행렬을 복사\n",
    "        labels[idx]=2   # 보 : 2\n",
    "        idx=idx+1\n",
    "        \n",
    "    print(\"학습데이터(x_train)의 이미지 개수는\", idx,\"입니다.\")\n",
    "    return imgs, labels\n",
    "\n",
    "\n",
    "image_dir_path = os.getenv(\"HOME\") + \"/aiffel/rock_scissors_paper_3\"\n",
    "(x_train, y_train)=load_data(image_dir_path)\n",
    "\n",
    "print(\"x_train에 담긴 자료의 행렬: {}\".format(x_train.shape))\n",
    "print(\"y_train에 담긴 0,1,2(가위바위보) 라벨의 개수: {}\".format(y_train.shape))\n",
    "x_train_norm = x_train/255.0\n",
    "\n",
    "\n",
    "\n",
    "image_dir_path_scissors_test = os.getenv(\"HOME\") + \"/aiffel/rock_scissors_paper_test_3/scissors\"\n",
    "image_dir_path_rock_test = os.getenv(\"HOME\") + \"/aiffel/rock_scissors_paper_test_3/rock\"\n",
    "image_dir_path_paper_test = os.getenv(\"HOME\") + \"/aiffel/rock_scissors_paper_test_3/paper\"\n",
    "\n",
    "resize_images(image_dir_path_scissors_test)\n",
    "resize_images(image_dir_path_rock_test)\n",
    "resize_images(image_dir_path_paper_test)\n",
    "\n",
    "image_dir_path_test = os.getenv(\"HOME\") + \"/aiffel/rock_scissors_paper_test_3\"\n",
    "(x_test, y_test)=load_data(image_dir_path_test)\n",
    "x_test_norm = x_test/255.0\n",
    "\n",
    "\n",
    "print(\"x_test에 담긴 자료의 행렬: {}\".format(x_test.shape))\n",
    "print(\"y_test에 담긴 0,1,2(가위바위보) 라벨의 개수: {}\".format(y_test.shape))"
   ]
  },
  {
   "cell_type": "code",
   "execution_count": 123,
   "id": "33491cfd",
   "metadata": {},
   "outputs": [
    {
     "name": "stdout",
     "output_type": "stream",
     "text": [
      "Epoch 1/10\n",
      "19/19 [==============================] - 0s 4ms/step - loss: 1.0400 - accuracy: 0.4850\n",
      "Epoch 2/10\n",
      "19/19 [==============================] - 0s 4ms/step - loss: 0.6295 - accuracy: 0.8033\n",
      "Epoch 3/10\n",
      "19/19 [==============================] - 0s 4ms/step - loss: 0.3623 - accuracy: 0.8917\n",
      "Epoch 4/10\n",
      "19/19 [==============================] - 0s 4ms/step - loss: 0.1875 - accuracy: 0.9483\n",
      "Epoch 5/10\n",
      "19/19 [==============================] - 0s 4ms/step - loss: 0.1245 - accuracy: 0.9700\n",
      "Epoch 6/10\n",
      "19/19 [==============================] - 0s 4ms/step - loss: 0.0818 - accuracy: 0.9833\n",
      "Epoch 7/10\n",
      "19/19 [==============================] - 0s 4ms/step - loss: 0.0452 - accuracy: 0.9917\n",
      "Epoch 8/10\n",
      "19/19 [==============================] - 0s 4ms/step - loss: 0.0278 - accuracy: 0.9983\n",
      "Epoch 9/10\n",
      "19/19 [==============================] - 0s 4ms/step - loss: 0.0247 - accuracy: 0.9967\n",
      "Epoch 10/10\n",
      "19/19 [==============================] - 0s 4ms/step - loss: 0.0182 - accuracy: 0.9983\n"
     ]
    },
    {
     "data": {
      "text/plain": [
       "<keras.callbacks.History at 0x7fd51457e670>"
      ]
     },
     "execution_count": 123,
     "metadata": {},
     "output_type": "execute_result"
    }
   ],
   "source": [
    "model=keras.models.Sequential()\n",
    "model.add(keras.layers.Conv2D(32, (3,3), activation='relu', input_shape=(56,56,3)))\n",
    "model.add(keras.layers.MaxPool2D(2,2))\n",
    "model.add(keras.layers.Conv2D(32, (3,3), activation='relu'))\n",
    "model.add(keras.layers.MaxPooling2D((2,2)))\n",
    "model.add(keras.layers.Flatten())\n",
    "model.add(keras.layers.Dense(32, activation='relu'))\n",
    "model.add(keras.layers.Dense(3, activation='softmax'))\n",
    "\n",
    "\n",
    "model.compile(optimizer='adam',\n",
    "             loss='sparse_categorical_crossentropy',\n",
    "             metrics=['accuracy'])\n",
    "\n",
    "model.fit(x_train_norm, y_train, epochs=10)"
   ]
  },
  {
   "cell_type": "code",
   "execution_count": 124,
   "id": "18ee44da",
   "metadata": {},
   "outputs": [
    {
     "name": "stdout",
     "output_type": "stream",
     "text": [
      "19/19 - 0s - loss: 1.4248 - accuracy: 0.5900\n",
      "test_loss: 1.424778699874878 \n",
      "test_accuracy: 0.5899999737739563\n"
     ]
    }
   ],
   "source": [
    "test_loss, test_accuracy = model.evaluate(x_test_norm,y_test, verbose=2) #evaluate 함수로 다른 데이터를 통해 네트워크 평가\n",
    "print(\"test_loss: {} \".format(test_loss))\n",
    "print(\"test_accuracy: {}\".format(test_accuracy))"
   ]
  },
  {
   "cell_type": "markdown",
   "id": "daeb7ae1",
   "metadata": {},
   "source": [
    "놀랍다...! 곧 60%에 도달할 것이다. \n",
    "traing 데이터 셋을 더 채운다면 분명 더 높은 적중률을 보일 것이다.\n",
    "\n",
    "#### Try 5"
   ]
  },
  {
   "cell_type": "markdown",
   "id": "fc72ea34",
   "metadata": {},
   "source": [
    "카테고리별로 약 500장을 더 넣어 훈련시켰다."
   ]
  },
  {
   "cell_type": "code",
   "execution_count": 47,
   "id": "d042f945",
   "metadata": {},
   "outputs": [
    {
     "name": "stdout",
     "output_type": "stream",
     "text": [
      "660 clear\n",
      "660 clear\n",
      "660 clear\n",
      "학습데이터(x_train)의 이미지 개수는 1980 입니다.\n",
      "x_train에 담긴 자료의 행렬: (1980, 56, 56, 3)\n",
      "y_train에 담긴 0,1,2(가위바위보) 라벨의 개수: (1980,)\n",
      "200 clear\n",
      "200 clear\n",
      "200 clear\n",
      "학습데이터(x_train)의 이미지 개수는 600 입니다.\n",
      "x_test에 담긴 자료의 행렬: (1980, 56, 56, 3)\n",
      "y_test에 담긴 0,1,2(가위바위보) 라벨의 개수: (1980,)\n"
     ]
    }
   ],
   "source": [
    "#train, test 데이터 리사이징 및 라벨링 \n",
    "image_dir_path_scissors = os.getenv(\"HOME\") + \"/aiffel/rock_scissors_paper_3/scissors\"\n",
    "image_dir_path_rock = os.getenv(\"HOME\") + \"/aiffel/rock_scissors_paper_3/rock\"\n",
    "image_dir_path_paper = os.getenv(\"HOME\") + \"/aiffel/rock_scissors_paper_3/paper\"\n",
    "\n",
    "resize_images(image_dir_path_scissors)\n",
    "resize_images(image_dir_path_rock)\n",
    "resize_images(image_dir_path_paper)\n",
    "\n",
    "def load_data(img_path, number_of_data=1980):    \n",
    "    img_size=56\n",
    "    color=3\n",
    "    \n",
    "    imgs=np.zeros(number_of_data*img_size*img_size*color,dtype=np.int32).reshape(number_of_data,img_size,img_size,color)\n",
    "    labels=np.zeros(number_of_data,dtype=np.int32)\n",
    "\n",
    "    idx=0\n",
    "    for file in glob.iglob(img_path+'/scissors/*.jpg'):\n",
    "        img = np.array(Image.open(file),dtype=np.int32)\n",
    "        imgs[idx,:,:,:]=img    # 데이터 영역에 이미지 행렬을 복사\n",
    "        labels[idx]=0   # 가위 : 0\n",
    "        idx=idx+1\n",
    "\n",
    "    for file in glob.iglob(img_path+'/rock/*.jpg'):\n",
    "        img = np.array(Image.open(file),dtype=np.int32)\n",
    "        imgs[idx,:,:,:]=img    # 데이터 영역에 이미지 행렬을 복사\n",
    "        labels[idx]=1   # 바위 : 1\n",
    "        idx=idx+1  \n",
    "    \n",
    "    for file in glob.iglob(img_path+'/paper/*.jpg'):\n",
    "        img = np.array(Image.open(file),dtype=np.int32)\n",
    "        imgs[idx,:,:,:]=img    # 데이터 영역에 이미지 행렬을 복사\n",
    "        labels[idx]=2   # 보 : 2\n",
    "        idx=idx+1\n",
    "        \n",
    "    print(\"학습데이터(x_train)의 이미지 개수는\", idx,\"입니다.\")\n",
    "    return imgs, labels\n",
    "\n",
    "\n",
    "image_dir_path = os.getenv(\"HOME\") + \"/aiffel/rock_scissors_paper_3\"\n",
    "(x_train, y_train)=load_data(image_dir_path)\n",
    "\n",
    "print(\"x_train에 담긴 자료의 행렬: {}\".format(x_train.shape))\n",
    "print(\"y_train에 담긴 0,1,2(가위바위보) 라벨의 개수: {}\".format(y_train.shape))\n",
    "x_train_norm = x_train/255.0\n",
    "\n",
    "\n",
    "\n",
    "image_dir_path_scissors_test = os.getenv(\"HOME\") + \"/aiffel/rock_scissors_paper_test_3/scissors\"\n",
    "image_dir_path_rock_test = os.getenv(\"HOME\") + \"/aiffel/rock_scissors_paper_test_3/rock\"\n",
    "image_dir_path_paper_test = os.getenv(\"HOME\") + \"/aiffel/rock_scissors_paper_test_3/paper\"\n",
    "\n",
    "resize_images(image_dir_path_scissors_test)\n",
    "resize_images(image_dir_path_rock_test)\n",
    "resize_images(image_dir_path_paper_test)\n",
    "\n",
    "image_dir_path_test = os.getenv(\"HOME\") + \"/aiffel/rock_scissors_paper_test_3\"\n",
    "(x_test, y_test)=load_data(image_dir_path_test)\n",
    "x_test_norm = x_test/255.0\n",
    "\n",
    "\n",
    "print(\"x_test에 담긴 자료의 행렬: {}\".format(x_test.shape))\n",
    "print(\"y_test에 담긴 0,1,2(가위바위보) 라벨의 개수: {}\".format(y_test.shape))"
   ]
  },
  {
   "cell_type": "code",
   "execution_count": 50,
   "id": "5c5d1b12",
   "metadata": {},
   "outputs": [
    {
     "name": "stdout",
     "output_type": "stream",
     "text": [
      "Epoch 1/7\n",
      "62/62 [==============================] - 1s 4ms/step - loss: 0.7827 - accuracy: 0.6303\n",
      "Epoch 2/7\n",
      "62/62 [==============================] - 0s 4ms/step - loss: 0.2222 - accuracy: 0.9323\n",
      "Epoch 3/7\n",
      "62/62 [==============================] - 0s 4ms/step - loss: 0.0840 - accuracy: 0.9768\n",
      "Epoch 4/7\n",
      "62/62 [==============================] - 0s 4ms/step - loss: 0.0506 - accuracy: 0.9879\n",
      "Epoch 5/7\n",
      "62/62 [==============================] - 0s 4ms/step - loss: 0.0227 - accuracy: 0.9975\n",
      "Epoch 6/7\n",
      "62/62 [==============================] - 0s 4ms/step - loss: 0.0192 - accuracy: 0.9949\n",
      "Epoch 7/7\n",
      "62/62 [==============================] - 0s 3ms/step - loss: 0.0183 - accuracy: 0.9980\n"
     ]
    },
    {
     "data": {
      "text/plain": [
       "<keras.callbacks.History at 0x7f0d22f50910>"
      ]
     },
     "execution_count": 50,
     "metadata": {},
     "output_type": "execute_result"
    }
   ],
   "source": [
    "model=keras.models.Sequential()\n",
    "model.add(keras.layers.Conv2D(32, (3,3), activation='relu', input_shape=(56,56,3)))\n",
    "model.add(keras.layers.MaxPool2D(2,2))\n",
    "model.add(keras.layers.Conv2D(32, (3,3), activation='relu'))\n",
    "model.add(keras.layers.MaxPooling2D((2,2)))\n",
    "model.add(keras.layers.Flatten())\n",
    "model.add(keras.layers.Dense(32, activation='relu'))\n",
    "model.add(keras.layers.Dense(3, activation='softmax'))\n",
    "\n",
    "\n",
    "model.compile(optimizer='adam',\n",
    "             loss='sparse_categorical_crossentropy',\n",
    "             metrics=['accuracy'])\n",
    "\n",
    "model.fit(x_train_norm, y_train, epochs=7)"
   ]
  },
  {
   "cell_type": "code",
   "execution_count": 51,
   "id": "b71442c7",
   "metadata": {},
   "outputs": [
    {
     "name": "stdout",
     "output_type": "stream",
     "text": [
      "62/62 - 0s - loss: 4.3338 - accuracy: 0.2919\n",
      "test_loss: 4.333792686462402 \n",
      "test_accuracy: 0.29191920161247253\n"
     ]
    }
   ],
   "source": [
    "test_loss, test_accuracy = model.evaluate(x_test_norm,y_test, verbose=2) #evaluate 함수로 다른 데이터를 통해 네트워크 평가\n",
    "print(\"test_loss: {} \".format(test_loss))\n",
    "print(\"test_accuracy: {}\".format(test_accuracy))"
   ]
  },
  {
   "cell_type": "markdown",
   "id": "c0725588",
   "metadata": {},
   "source": [
    "?? 진짜 말도 안되지만 확률이 다시 줄어들었다.\n",
    "하지만 다행히도 **Try 4**에서 정말 훌륭한 확률이 나왔기 때문에\n",
    "\n",
    "다시 초심으로 돌아가 Try 4를 해보기로 한다.\n",
    "\n",
    "---"
   ]
  },
  {
   "cell_type": "markdown",
   "id": "da06969e",
   "metadata": {},
   "source": [
    "#### Try 6"
   ]
  },
  {
   "cell_type": "markdown",
   "id": "6ad9105d",
   "metadata": {},
   "source": [
    "새로운 마음으로 지금까지 재용했던 함수를 다시 정의하고\n",
    "이미지도 28pixel 로 집어 넣어 써보도록 하자."
   ]
  },
  {
   "cell_type": "markdown",
   "id": "0abdd0fd",
   "metadata": {},
   "source": [
    "## Try 6-1. 데이터 전처리 (요약)"
   ]
  },
  {
   "cell_type": "code",
   "execution_count": 9,
   "id": "55d9e524",
   "metadata": {},
   "outputs": [
    {
     "name": "stdout",
     "output_type": "stream",
     "text": [
      "630 clear\n",
      "630 clear\n",
      "630 clear\n",
      "학습데이터(x_train)의 이미지 개수는 1890 입니다.\n",
      "\n",
      "180 clear\n",
      "180 clear\n",
      "180 clear\n",
      "학습데이터(x_train)의 이미지 개수는 540 입니다.\n",
      "\n",
      "x_train에 담긴 자료의 행렬: (1890, 28, 28, 3)\n",
      "y_train에 담긴 0,1,2(가위바위보) 라벨의 개수: (1890,)\n",
      "\n",
      "x_test에 담긴 자료의 행렬: (540, 28, 28, 3)\n",
      "y_test에 담긴 0,1,2(가위바위보) 라벨의 개수: (540,)\n"
     ]
    }
   ],
   "source": [
    "from PIL import Image\n",
    "import glob\n",
    "import os\n",
    "import numpy as np\n",
    "\n",
    "# data resizing\n",
    "def resize_images_final(img_path):\n",
    "    images=glob.glob(img_path + \"/*.jpg\") \n",
    "    \n",
    "    target_size = (28,28) #바꾸고 싶은 사이즈\n",
    "    for img in images:\n",
    "        old_img=Image.open(img)\n",
    "        new_img=old_img.resize(target_size,Image.ANTIALIAS) \n",
    "        new_img.save(img, \"JPEG\")\n",
    "    print(\"{} clear\".format(len(images)))\n",
    "        \n",
    "\n",
    "#data labeling\n",
    "def load_data_final(img_path, number_of_data): \n",
    "    # 가위 : 0, 바위 : 1, 보 : 2\n",
    "    \n",
    "    img_size=28\n",
    "    color=3\n",
    "    \n",
    "    imgs=np.zeros(number_of_data*img_size*img_size*color,dtype=np.int32).reshape(number_of_data,img_size,img_size,color)\n",
    "    labels=np.zeros(number_of_data,dtype=np.int32)\n",
    "\n",
    "    idx=0\n",
    "    for file in glob.iglob(img_path+'/scissors/scissors/*.jpg'):\n",
    "        img = np.array(Image.open(file),dtype=np.int32)\n",
    "        imgs[idx,:,:,:]=img    \n",
    "        labels[idx]=0   # 가위 : 0\n",
    "        idx=idx+1\n",
    "\n",
    "    for file in glob.iglob(img_path+'/rock/rock/*.jpg'):\n",
    "        img = np.array(Image.open(file),dtype=np.int32)\n",
    "        imgs[idx,:,:,:]=img    \n",
    "        labels[idx]=1   # 바위 : 1\n",
    "        idx=idx+1  \n",
    "    \n",
    "    for file in glob.iglob(img_path+'/paper/paper/*.jpg'):\n",
    "        img = np.array(Image.open(file),dtype=np.int32)\n",
    "        imgs[idx,:,:,:]=img    \n",
    "        labels[idx]=2   # 보 : 2\n",
    "        idx=idx+1\n",
    "        \n",
    "    print(\"학습데이터(x_train)의 이미지 개수는\", idx,\"입니다.\\n\")\n",
    "    return imgs, labels\n",
    "\n",
    "\n",
    "# train_data\n",
    "image_dir_path_scissors_final = os.getenv(\"HOME\") + \"/aiffel/rock_scissors_paper_4/scissors/scissors\"\n",
    "image_dir_path_rock_final = os.getenv(\"HOME\") + \"/aiffel/rock_scissors_paper_4/rock/rock\"\n",
    "image_dir_path_paper_final = os.getenv(\"HOME\") + \"/aiffel/rock_scissors_paper_4/paper/paper\"\n",
    "\n",
    "resize_images_final(image_dir_path_scissors_final)\n",
    "resize_images_final(image_dir_path_rock_final)\n",
    "resize_images_final(image_dir_path_paper_final)\n",
    "\n",
    "image_dir_path_final = os.getenv(\"HOME\") + \"/aiffel/rock_scissors_paper_4\"\n",
    "(x_train_final, y_train_final)=load_data_final(image_dir_path_final, 1890)  # 사진 갯수\n",
    "\n",
    "# train_data nomalization\n",
    "x_train_norm_final = x_train_final/255.0\n",
    "\n",
    "\n",
    "# test_data\n",
    "image_dir_path_scissors_test_final = os.getenv(\"HOME\") + \"/aiffel/rock_scissors_paper_test_4/scissors/scissors\"\n",
    "image_dir_path_rock_test_final = os.getenv(\"HOME\") + \"/aiffel/rock_scissors_paper_test_4/rock/rock\"\n",
    "image_dir_path_paper_test_final = os.getenv(\"HOME\") + \"/aiffel/rock_scissors_paper_test_4/paper/paper\"\n",
    "\n",
    "resize_images_final(image_dir_path_scissors_test_final)\n",
    "resize_images_final(image_dir_path_rock_test_final)\n",
    "resize_images_final(image_dir_path_paper_test_final)\n",
    "\n",
    "image_dir_path_test_final = os.getenv(\"HOME\") + \"/aiffel/rock_scissors_paper_test_4\"\n",
    "(x_test_final, y_test_final)=load_data_final(image_dir_path_test_final, 540) # 사진 갯수\n",
    "\n",
    "# test_data nomalization\n",
    "\n",
    "x_test_norm_final = x_test_final/255.0\n",
    "\n",
    "print(\"x_train에 담긴 자료의 행렬: {}\".format(x_train_final.shape))\n",
    "print(\"y_train에 담긴 0,1,2(가위바위보) 라벨의 개수: {}\\n\".format(y_train_final.shape))\n",
    "\n",
    "print(\"x_test에 담긴 자료의 행렬: {}\".format(x_test_final.shape))\n",
    "print(\"y_test에 담긴 0,1,2(가위바위보) 라벨의 개수: {}\".format(y_test_final.shape))\n",
    "\n",
    "\n"
   ]
  },
  {
   "cell_type": "markdown",
   "id": "ce18f9c2",
   "metadata": {},
   "source": [
    "## Try 6-2. 딥러닝 네트워크 모델 제작 및 학습"
   ]
  },
  {
   "cell_type": "code",
   "execution_count": 14,
   "id": "1520949e",
   "metadata": {},
   "outputs": [
    {
     "name": "stdout",
     "output_type": "stream",
     "text": [
      "Model에 추가된 Layer 개수:  7\n",
      "Epoch 1/10\n",
      "60/60 [==============================] - 0s 3ms/step - loss: 0.9125 - accuracy: 0.6238\n",
      "Epoch 2/10\n",
      "60/60 [==============================] - 0s 3ms/step - loss: 0.4968 - accuracy: 0.8296\n",
      "Epoch 3/10\n",
      "60/60 [==============================] - 0s 3ms/step - loss: 0.2908 - accuracy: 0.9016\n",
      "Epoch 4/10\n",
      "60/60 [==============================] - 0s 3ms/step - loss: 0.1707 - accuracy: 0.9466\n",
      "Epoch 5/10\n",
      "60/60 [==============================] - 0s 3ms/step - loss: 0.1046 - accuracy: 0.9720\n",
      "Epoch 6/10\n",
      "60/60 [==============================] - 0s 3ms/step - loss: 0.0770 - accuracy: 0.9804\n",
      "Epoch 7/10\n",
      "60/60 [==============================] - 0s 3ms/step - loss: 0.0547 - accuracy: 0.9915\n",
      "Epoch 8/10\n",
      "60/60 [==============================] - 0s 3ms/step - loss: 0.0336 - accuracy: 0.9974\n",
      "Epoch 9/10\n",
      "60/60 [==============================] - 0s 3ms/step - loss: 0.0320 - accuracy: 0.9963\n",
      "Epoch 10/10\n",
      "60/60 [==============================] - 0s 3ms/step - loss: 0.0190 - accuracy: 0.9995\n"
     ]
    },
    {
     "data": {
      "text/plain": [
       "<keras.callbacks.History at 0x7f8a90c696a0>"
      ]
     },
     "execution_count": 14,
     "metadata": {},
     "output_type": "execute_result"
    }
   ],
   "source": [
    "import tensorflow as tf\n",
    "from tensorflow import keras\n",
    "\n",
    "model_final=keras.models.Sequential()\n",
    "model_final.add(keras.layers.Conv2D(16, (3,3), activation='relu', input_shape=(28,28,3)))\n",
    "model_final.add(keras.layers.MaxPool2D(2,2))\n",
    "model_final.add(keras.layers.Conv2D(32, (3,3), activation='relu'))\n",
    "model_final.add(keras.layers.MaxPooling2D((2,2)))\n",
    "model_final.add(keras.layers.Flatten())\n",
    "model_final.add(keras.layers.Dense(32, activation='relu'))\n",
    "model_final.add(keras.layers.Dense(3, activation='softmax'))\n",
    "\n",
    "print('Model에 추가된 Layer 개수: ', len(model_final.layers))\n",
    "\n",
    "model_final.compile(optimizer='adam',\n",
    "             loss='sparse_categorical_crossentropy',\n",
    "             metrics=['accuracy'])\n",
    "\n",
    "model_final.fit(x_train_norm_final, y_train_final, epochs=10)"
   ]
  },
  {
   "cell_type": "markdown",
   "id": "c5ba413c",
   "metadata": {},
   "source": [
    "## Try 6-3. 성능 평가"
   ]
  },
  {
   "cell_type": "code",
   "execution_count": 16,
   "id": "c2ffe9f0",
   "metadata": {},
   "outputs": [
    {
     "name": "stdout",
     "output_type": "stream",
     "text": [
      "17/17 - 0s - loss: 0.1481 - accuracy: 0.9315\n",
      "test_loss: 0.14811034500598907 \n",
      "test_accuracy: 0.9314814805984497\n"
     ]
    }
   ],
   "source": [
    "test_loss_final, test_accuracy_final = model_final.evaluate(x_test_norm_final,y_test_final, verbose=2) #evaluate 함수로 다른 데이터를 통해 네트워크 평가\n",
    "print(\"test_loss: {} \".format(test_loss_final))\n",
    "print(\"test_accuracy: {}\".format(test_accuracy_final))"
   ]
  },
  {
   "cell_type": "markdown",
   "id": "e20e224a",
   "metadata": {},
   "source": [
    "나왔다."
   ]
  },
  {
   "cell_type": "markdown",
   "id": "8481735b",
   "metadata": {},
   "source": [
    "# 4 회고 및 정리"
   ]
  },
  {
   "cell_type": "markdown",
   "id": "ebea02cd",
   "metadata": {},
   "source": [
    "### Clear Point\n",
    "1. train 과 test set 의 유사도 높임\n",
    "2. train set의 volume 증가\n",
    "3. 이미지 데이터 resizing 및 nomaliztion 으로 overfiting 최소화\n",
    "\n",
    "### Checking Point\n",
    " > 1. **Try & Failure**  \n",
    "   6번 Try라고는 했지만, 사실 한번 실패할 때마다 이런저런 파라미터를 보고, 코드를 수정하는 등\n",
    "   전체적으로는 약 60번 정도의 시도를 해 보았다.\n",
    "   처음에는 속도도 빠르게 나가고 즐거웠지만, 내가 통제할 수 없는 어떤 부분에서 막힐 때 부터는  \n",
    "   진이 빠지고 의욕이 줄어든 것이 사실이다.\n",
    "   \n",
    "> 2. **머신러닝 메서드 이해의 부족**  \n",
    "   전체적인 머신러닝의 맥락 ( 데이터 전처리 - 모델 선정 및 학습 - 모델 평가 ) 에 대해선 이해했지만,  \n",
    "   아직 왜 가위바위보 분류 모델로 **Tensorflow의 keras 모델을 쓰는지**,  \n",
    "   그리고 **그 모델 안에서 어떤 식으로 학습이 이루어지는지**를  \n",
    "   이해하지 못했다. 때문에 코드 수정 과정에서 이 모델 선정 및 학습 파라미터 설정 부분은 개선시킬 수가 없었다.\n",
    "   때문에 내가 이해한 선에서 (하이퍼 파라미터를 통해 데이터 분류를 복잡화, 다량화 시킬 수 있다.) 최대한 수정해보았다.\n",
    "   \n",
    "> 3. **기초 라이브러리에 대한 메서드 숙달치 부족**  \n",
    "   물론 딥러닝보다는 훨씬 잘 알고 있지만, glob, os, numpy 관련 메서드 사용능력이 부족하다고 느꼈다.  \n",
    "   프로젝트를 진행하면서도 차차 실력이 늘겠지만, 더 원활하고 효유적인 진행을 위해 따로 메서드와 작동방식을 숙지해야 한다고 생각했다.\n",
    "   \n",
    " \n",
    "### 다짐  \n",
    "\n",
    "위에서와 같이 아직 부족한 점이 많다. 하지만 내 공부 순서에 따르면 지금은 딥러닝 모델 메서드에 대해 공부하기 보다는 순차적으로\n",
    "기본적인 메서드를 익히고 , 라이브러리를 이해하는 과정부터 시작해야 한다고 생각한다.  \n",
    "특히 파이썬에 대한 기본 이해(정규표현식 중심), 데이터 전처리 관련 기본 메서드(numpy,pandas,os 중심)에 대해  \n",
    "우선적으로 정리를 해 나갈 생각이다. 아직은 기본기를 쌓을 때다.  \n",
    "탄탄한 지반으로 딥러닝이라는 나무의 뿌리를 단단히 자리잡게 만들고 싶다."
   ]
  },
  {
   "cell_type": "code",
   "execution_count": null,
   "id": "621d1b52",
   "metadata": {},
   "outputs": [],
   "source": []
  }
 ],
 "metadata": {
  "kernelspec": {
   "display_name": "Python 3 (ipykernel)",
   "language": "python",
   "name": "python3"
  },
  "language_info": {
   "codemirror_mode": {
    "name": "ipython",
    "version": 3
   },
   "file_extension": ".py",
   "mimetype": "text/x-python",
   "name": "python",
   "nbconvert_exporter": "python",
   "pygments_lexer": "ipython3",
   "version": "3.9.7"
  }
 },
 "nbformat": 4,
 "nbformat_minor": 5
}
