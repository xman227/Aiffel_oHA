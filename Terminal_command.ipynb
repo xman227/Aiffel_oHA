{
 "cells": [
  {
   "cell_type": "markdown",
   "id": "969811b7",
   "metadata": {},
   "source": [
    "# Ubuntu chord with Git\n",
    "\n",
    "붙여넣기 : Ctrl + Shift + v\n",
    "\n",
    "git --version\n",
    "\n",
    "git config --global user.email \"니 이메일\"  \n",
    "git config --global user.name \"니 닉네임\"  \n",
    "* git 툴이 내가 코드 정보를 전송할 때 보낼 계정을 선택  \n",
    "\n",
    "git config -l \n",
    "* git 툴에 등록한 congiuration 정보를 확인\n",
    "\n",
    "mkdir \"\"\n",
    "* 폴더 만들기\n",
    "\n",
    "git init\n",
    "* 그 폴더 자리를 Git 으로 관리하기\n",
    "\n",
    "ls -a\n",
    "* 숨김파일인 .git 폴더를 보여줌, 여기 들어가서 ls 하면 내부 파일 볼 수 있음\n",
    "---\n",
    "## Very Very ImPorTant\n",
    "\n",
    "git add \"\"  \n",
    "git commit -m \"commit 하는 이유\"  \n",
    "\n",
    "---\n",
    "내 repository 주소\n",
    "https://github.com/xman227/oha.git\n",
    "\n",
    "---\n",
    "git remote and origin https://github.com/xman227/oha.git  \n",
    "origin 이라는 변수에 내 주소 저장 (origin 이라는 단어에만 가능)  \n",
    "\n",
    "---\n",
    "\n",
    "git config credential.helper store\n",
    "git push origin master\n",
    "로컬에서 repository로 전송하기\n",
    "\n",
    "----\n",
    "## Clone\n",
    "\n",
    "git clone https://github.com/xman227/oha.git  \n",
    "해당 위치에 내 git 파일들  그대로 가져오기"
   ]
  }
 ],
 "metadata": {
  "kernelspec": {
   "display_name": "Python 3 (ipykernel)",
   "language": "python",
   "name": "python3"
  },
  "language_info": {
   "codemirror_mode": {
    "name": "ipython",
    "version": 3
   },
   "file_extension": ".py",
   "mimetype": "text/x-python",
   "name": "python",
   "nbconvert_exporter": "python",
   "pygments_lexer": "ipython3",
   "version": "3.9.7"
  }
 },
 "nbformat": 4,
 "nbformat_minor": 5
}
