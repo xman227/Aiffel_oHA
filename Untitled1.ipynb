{
 "cells": [
  {
   "cell_type": "markdown",
   "id": "13b1e925",
   "metadata": {},
   "source": [
    "# 인공지능 가위바위보 준비  \n",
    "- 데이터준비  \n",
    "- 딥러닝 네트워크 설계  \n",
    "- 학습  \n",
    "- 테스트(평가)"
   ]
  },
  {
   "cell_type": "markdown",
   "id": "538ab868",
   "metadata": {},
   "source": [
    "## 1. MNIST 숫자 손글씨 Dataset 불러오기   \n",
    "- Tensorflow 의 표준 API 인 tf.keras 의 Sequential API 를 중심으로\n"
   ]
  },
  {
   "cell_type": "markdown",
   "id": "02a8b6fa",
   "metadata": {},
   "source": [
    "[여기](http://yann.lecun.com/exdb/mnist/) 에는 MNIST 교수님이  \n",
    "직접 만드신 손글씨 사진과 그에 맞는 데이터가 있다.\n",
    "\n",
    "데이터셋은 500명 사용자가 작성한 70,000장의 손글씨 사진이 있다.  \n",
    "(train 60000, test 10000)\n",
    "\n",
    "train 데이터와 test 데이터가 있는데  \n",
    "우리는 train을 가지고 알고리즘을 만든 다음에  \n",
    "test로 성능 테스트를 하면 된다."
   ]
  },
  {
   "cell_type": "code",
   "execution_count": 1,
   "id": "abd4aec5",
   "metadata": {},
   "outputs": [
    {
     "name": "stdout",
     "output_type": "stream",
     "text": [
      "2.6.0\n",
      "60000\n"
     ]
    }
   ],
   "source": [
    "import tensorflow as tf\n",
    "from tensorflow import keras\n",
    "\n",
    "import numpy as np\n",
    "import matplotlib.pyplot as plt\n",
    "import os\n",
    "\n",
    "\n",
    "print(tf.__version__)   # Tensorflow의 버전을 출력\n",
    "\n",
    "mnist = keras.datasets.mnist\n",
    "\n",
    "# MNIST 데이터를 로드. 다운로드하지 않았다면 다운로드까지 자동으로 진행됩니다. \n",
    "(x_train, y_train), (x_test, y_test) = mnist.load_data()   \n",
    "\n",
    "print(len(x_train))  # x_train 배열의 크기를 출력"
   ]
  },
  {
   "cell_type": "markdown",
   "id": "6e5b924e",
   "metadata": {},
   "source": [
    "우리가 불러온 학습용 데이터 개수 확인해보기"
   ]
  },
  {
   "cell_type": "code",
   "execution_count": 2,
   "id": "d421488c",
   "metadata": {},
   "outputs": [
    {
     "name": "stdout",
     "output_type": "stream",
     "text": [
      "(60000, 28, 28)\n"
     ]
    }
   ],
   "source": [
    "print(x_train.shape)"
   ]
  },
  {
   "cell_type": "markdown",
   "id": "163993de",
   "metadata": {},
   "source": [
    "6000개의 사진이 28x28 의 크기로 있다.\n",
    "\n",
    "---\n"
   ]
  },
  {
   "cell_type": "markdown",
   "id": "e5792020",
   "metadata": {},
   "source": [
    "여기서 잠깐\n",
    "---\n",
    "* Train set : 모델 학습 용 dataset  \n",
    "* Validation set : 학습이 완료된 모델을 검증하기 위한 dataset  \n",
    "* Test set : 학습도 검증도 완료된 모델의 성능 평가를 위한 dataset\n",
    "\n",
    "데이터 셋을 모은 다음 Train 6: Validation 2 : Test 2 의 비율로 나눈다.  \n",
    "(Validation 할만큼 양이 많지 않으면 Train에 8)"
   ]
  },
  {
   "cell_type": "code",
   "execution_count": null,
   "id": "a0374595",
   "metadata": {},
   "outputs": [],
   "source": []
  },
  {
   "cell_type": "code",
   "execution_count": null,
   "id": "23883de9",
   "metadata": {},
   "outputs": [],
   "source": []
  },
  {
   "cell_type": "markdown",
   "id": "ff0211cb",
   "metadata": {},
   "source": []
  },
  {
   "cell_type": "code",
   "execution_count": null,
   "id": "004774c0",
   "metadata": {},
   "outputs": [],
   "source": []
  },
  {
   "cell_type": "code",
   "execution_count": null,
   "id": "807cb46f",
   "metadata": {},
   "outputs": [],
   "source": []
  },
  {
   "cell_type": "code",
   "execution_count": null,
   "id": "317bae1e",
   "metadata": {},
   "outputs": [],
   "source": []
  },
  {
   "cell_type": "code",
   "execution_count": null,
   "id": "69994640",
   "metadata": {},
   "outputs": [],
   "source": []
  }
 ],
 "metadata": {
  "kernelspec": {
   "display_name": "Python 3 (ipykernel)",
   "language": "python",
   "name": "python3"
  },
  "language_info": {
   "codemirror_mode": {
    "name": "ipython",
    "version": 3
   },
   "file_extension": ".py",
   "mimetype": "text/x-python",
   "name": "python",
   "nbconvert_exporter": "python",
   "pygments_lexer": "ipython3",
   "version": "3.9.7"
  }
 },
 "nbformat": 4,
 "nbformat_minor": 5
}
