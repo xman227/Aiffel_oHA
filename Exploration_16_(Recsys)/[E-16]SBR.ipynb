{
 "cells": [
  {
   "attachments": {
    "image.png": {
     "image/png": "[encoded data removed]"
    }
   },
   "cell_type": "markdown",
   "id": "9803a2bc",
   "metadata": {},
   "source": [
    "![image.png](attachment:image.png)"
   ]
  },
  {
   "cell_type": "markdown",
   "id": "d3012c8b",
   "metadata": {},
   "source": [
    "## Contexts\n",
    "\n",
    "### 1. READY\n",
    "    1-1 오늘의 Exp와 Rubric  \n",
    "    1-2 사용하는 라이브러리  \n",
    "\n",
    "### 2. GAME\n",
    "    2-1. 데이터 읽어오기  \n",
    "    2-2. 데이터 전처리\n",
    "        -1. EDA (Exploration Data Analysis)\n",
    "        -2. 전처리\n",
    "        \n",
    "    2-3. 모델 학습  \n",
    "    2-4. 데이터 평가   \n",
    "\n",
    "### 3. POTG (best Play Of The Game\n",
    "    3-1. 소감(POTG)  \n",
    "    3-2. 어려웠던 점과 극복방안  \n",
    "    3-3. 추후  \n",
    "\n",
    "---\n"
   ]
  },
  {
   "cell_type": "markdown",
   "id": "a3b870f3",
   "metadata": {},
   "source": [
    "# 1. Ready\n",
    "## 1-1. 오늘의 Exp와 Rubric\n"
   ]
  },
  {
   "cell_type": "markdown",
   "id": "1a7ea8ef",
   "metadata": {},
   "source": [
    "우리가 가지고 있는 movielens 데이터셋을 기반으로\n",
    "해당 user 의 Session Based Recommendation 영화 추천 시스템을 만들 것이다.\n",
    "\n",
    "> Session Based Recommendation 란?  \n",
    "Session 은 인터넷에서 사용자의 행동기록을 의미한다. 사용자가 로그인을 했든 하지 않았든  \n",
    "그 당장의 클릭 기록이나 사이트 체류시간 등  \n",
    "순간적인 기록을 이용해 추천하는 방식을 의미한다.\n",
    "\n",
    "오늘의 rubric은 다음과 같다.\n",
    "\n",
    "|평가문항|상세기준|\n",
    "|---|---|\n",
    "|1. Movielens 데이터셋을 session based recommendation 관점으로 전처리하는 과정이 체계적으로 진행되었다.|데이터셋의 면밀한 분석을 토대로 세션단위 정의 과정(길이분석, 시간분석)을 합리적으로 수행한 과정이 기술되었다.|\n",
    "|2. RNN 기반의 예측 모델이 정상적으로 구성되어 안정적으로 훈련이 진행되었다.|적절한 epoch만큼의 학습이 진행되는 과정에서 train loss가 안정적으로 감소하고, validation 단계에서의 Recall, MRR이 개선되는 것이 확인된다.|\n",
    "|3. 세션정의, 모델구조, 하이퍼파라미터 등을 변경해서 실험하여 Recall, MRR 등의 변화추이를 관찰하였다.|3가지 이상의 변화를 시도하고 그 실험결과를 체계적으로 분석하였다.|\n",
    "\n"
   ]
  },
  {
   "cell_type": "markdown",
   "id": "5e81dc40",
   "metadata": {},
   "source": [
    "## 1-2. 사용하는 라이브러리"
   ]
  },
  {
   "cell_type": "code",
   "execution_count": 1,
   "id": "ed9f0f2a",
   "metadata": {},
   "outputs": [],
   "source": [
    "import pandas as pd\n",
    "import numpy as np #데이터 배열 처리 라이브러리\n",
    "\n",
    "from pathlib import Path\n",
    "import os #데이터 경로 설정\n",
    "\n",
    "import matplotlib.pyplot as plt #데이터 시각화\n",
    "\n",
    "import datetime as dt #날짜 계산 라이브러리\n",
    "\n",
    "import tensorflow as tf\n",
    "from tensorflow.keras.layers import Input, Dense, Dropout, GRU\n",
    "from tensorflow.keras.losses import categorical_crossentropy\n",
    "from tensorflow.keras.models import Model\n",
    "from tensorflow.keras.optimizers import Adam\n",
    "from tensorflow.keras.utils import to_categorical #모델 생성 라이브러리\n",
    "\n",
    "from tqdm import tqdm  #progress 생성 라이브러리\n"
   ]
  },
  {
   "cell_type": "markdown",
   "id": "8e48a926",
   "metadata": {},
   "source": [
    "# 2. GAME\n",
    "## 2-1. 데이터 읽어오기"
   ]
  },
  {
   "cell_type": "code",
   "execution_count": 2,
   "id": "87e5d67c",
   "metadata": {},
   "outputs": [
    {
     "name": "stderr",
     "output_type": "stream",
     "text": [
      "/opt/conda/lib/python3.9/site-packages/pandas/util/_decorators.py:311: ParserWarning: Falling back to the 'python' engine because the 'c' engine does not support regex separators (separators > 1 char and different from '\\s+' are interpreted as regex); you can avoid this warning by specifying engine='python'.\n",
      "  return func(*args, **kwargs)\n"
     ]
    },
    {
     "data": {
      "text/html": [
       "<div>\n",
       "<style scoped>\n",
       "    .dataframe tbody tr th:only-of-type {\n",
       "        vertical-align: middle;\n",
       "    }\n",
       "\n",
       "    .dataframe tbody tr th {\n",
       "        vertical-align: top;\n",
       "    }\n",
       "\n",
       "    .dataframe thead th {\n",
       "        text-align: right;\n",
       "    }\n",
       "</style>\n",
       "<table border=\"1\" class=\"dataframe\">\n",
       "  <thead>\n",
       "    <tr style=\"text-align: right;\">\n",
       "      <th></th>\n",
       "      <th>UserId</th>\n",
       "      <th>ItemId</th>\n",
       "      <th>Rating</th>\n",
       "      <th>Time</th>\n",
       "    </tr>\n",
       "  </thead>\n",
       "  <tbody>\n",
       "    <tr>\n",
       "      <th>31</th>\n",
       "      <td>1</td>\n",
       "      <td>3186</td>\n",
       "      <td>4</td>\n",
       "      <td>2000-12-31 22:00:19</td>\n",
       "    </tr>\n",
       "    <tr>\n",
       "      <th>22</th>\n",
       "      <td>1</td>\n",
       "      <td>1270</td>\n",
       "      <td>5</td>\n",
       "      <td>2000-12-31 22:00:55</td>\n",
       "    </tr>\n",
       "    <tr>\n",
       "      <th>27</th>\n",
       "      <td>1</td>\n",
       "      <td>1721</td>\n",
       "      <td>4</td>\n",
       "      <td>2000-12-31 22:00:55</td>\n",
       "    </tr>\n",
       "    <tr>\n",
       "      <th>37</th>\n",
       "      <td>1</td>\n",
       "      <td>1022</td>\n",
       "      <td>5</td>\n",
       "      <td>2000-12-31 22:00:55</td>\n",
       "    </tr>\n",
       "    <tr>\n",
       "      <th>24</th>\n",
       "      <td>1</td>\n",
       "      <td>2340</td>\n",
       "      <td>3</td>\n",
       "      <td>2000-12-31 22:01:43</td>\n",
       "    </tr>\n",
       "    <tr>\n",
       "      <th>...</th>\n",
       "      <td>...</td>\n",
       "      <td>...</td>\n",
       "      <td>...</td>\n",
       "      <td>...</td>\n",
       "    </tr>\n",
       "    <tr>\n",
       "      <th>1000019</th>\n",
       "      <td>6040</td>\n",
       "      <td>2917</td>\n",
       "      <td>4</td>\n",
       "      <td>2001-08-10 14:40:29</td>\n",
       "    </tr>\n",
       "    <tr>\n",
       "      <th>999988</th>\n",
       "      <td>6040</td>\n",
       "      <td>1921</td>\n",
       "      <td>4</td>\n",
       "      <td>2001-08-10 14:41:04</td>\n",
       "    </tr>\n",
       "    <tr>\n",
       "      <th>1000172</th>\n",
       "      <td>6040</td>\n",
       "      <td>1784</td>\n",
       "      <td>3</td>\n",
       "      <td>2001-08-10 14:41:04</td>\n",
       "    </tr>\n",
       "    <tr>\n",
       "      <th>1000167</th>\n",
       "      <td>6040</td>\n",
       "      <td>161</td>\n",
       "      <td>3</td>\n",
       "      <td>2001-08-10 14:41:26</td>\n",
       "    </tr>\n",
       "    <tr>\n",
       "      <th>1000042</th>\n",
       "      <td>6040</td>\n",
       "      <td>1221</td>\n",
       "      <td>4</td>\n",
       "      <td>2001-08-20 13:44:15</td>\n",
       "    </tr>\n",
       "  </tbody>\n",
       "</table>\n",
       "<p>1000209 rows × 4 columns</p>\n",
       "</div>"
      ],
      "text/plain": [
       "         UserId  ItemId  Rating                Time\n",
       "31            1    3186       4 2000-12-31 22:00:19\n",
       "22            1    1270       5 2000-12-31 22:00:55\n",
       "27            1    1721       4 2000-12-31 22:00:55\n",
       "37            1    1022       5 2000-12-31 22:00:55\n",
       "24            1    2340       3 2000-12-31 22:01:43\n",
       "...         ...     ...     ...                 ...\n",
       "1000019    6040    2917       4 2001-08-10 14:40:29\n",
       "999988     6040    1921       4 2001-08-10 14:41:04\n",
       "1000172    6040    1784       3 2001-08-10 14:41:04\n",
       "1000167    6040     161       3 2001-08-10 14:41:26\n",
       "1000042    6040    1221       4 2001-08-20 13:44:15\n",
       "\n",
       "[1000209 rows x 4 columns]"
      ]
     },
     "execution_count": 2,
     "metadata": {},
     "output_type": "execute_result"
    }
   ],
   "source": [
    "data_path = Path(os.getenv('HOME')+'/aiffel/workplace/E16/data/') #이미 저장해둔 영화 평 데이터\n",
    "train_path = data_path / 'ratings.dat'\n",
    "\n",
    "def load_data(data_path: Path, nrows=None):\n",
    "    data = pd.read_csv(data_path, sep='::', header=None, usecols=[0, 1, 2, 3], dtype={0: np.int32, 1: np.int32, 2: np.int32}, nrows=nrows)\n",
    "    data.columns = ['UserId', 'ItemId', 'Rating', 'Time']\n",
    "    return data\n",
    "\n",
    "data = load_data(train_path, None)\n",
    "\n",
    "data['Time'] = pd.to_datetime(data['Time'], unit='s')\n",
    "\n",
    "data.sort_values(['UserId', 'Time'], inplace=True)  # data를 id와 시간 순서로 정렬해줍니다.\n",
    "data"
   ]
  },
  {
   "cell_type": "markdown",
   "id": "b7c3c6b2",
   "metadata": {},
   "source": [
    "데이터는 `User_id` 순으로 정렬했다.  \n",
    "cloumns 는 index, 유저id, 영화id, 평가된 점수, 평가한 날짜   \n",
    "총 5가지로 저장되어 있다.  "
   ]
  },
  {
   "cell_type": "markdown",
   "id": "4c36bcb8",
   "metadata": {},
   "source": [
    "## 2-2.데이터 전처리\n",
    "### 2-2-1. EDA"
   ]
  },
  {
   "cell_type": "markdown",
   "id": "d2d44882",
   "metadata": {},
   "source": [
    "#### 1) 세션별 탐색"
   ]
  },
  {
   "cell_type": "code",
   "execution_count": 3,
   "id": "a4a2ba18",
   "metadata": {},
   "outputs": [
    {
     "data": {
      "text/plain": [
       "(6040, 3706)"
      ]
     },
     "execution_count": 3,
     "metadata": {},
     "output_type": "execute_result"
    }
   ],
   "source": [
    "data['UserId'].nunique(), data['ItemId'].nunique()"
   ]
  },
  {
   "cell_type": "markdown",
   "id": "404780b2",
   "metadata": {},
   "source": [
    "이용자 수는 6040명, 영화의 수는 3700개 이다.  \n",
    "총 index가 100만 이었는데 이용자 6040명인걸로 보아   \n",
    "평균 영화 평 횟수는 100편 정도로 예상되는데, 한번 더 자세히 살펴볼까?"
   ]
  },
  {
   "cell_type": "code",
   "execution_count": 4,
   "id": "2956640b",
   "metadata": {
    "scrolled": true
   },
   "outputs": [
    {
     "data": {
      "text/plain": [
       "UserId\n",
       "1        53\n",
       "2       129\n",
       "3        51\n",
       "4        21\n",
       "5       198\n",
       "       ... \n",
       "6036    888\n",
       "6037    202\n",
       "6038     20\n",
       "6039    123\n",
       "6040    341\n",
       "Length: 6040, dtype: int64"
      ]
     },
     "execution_count": 4,
     "metadata": {},
     "output_type": "execute_result"
    }
   ],
   "source": [
    "session_length = data.groupby('UserId').size()\n",
    "session_length"
   ]
  },
  {
   "cell_type": "markdown",
   "id": "7d0820e1",
   "metadata": {},
   "source": [
    "`session_length` 는 한 user 당 몇개의 영화에 별점을 주었는지를 나타낸다."
   ]
  },
  {
   "cell_type": "code",
   "execution_count": 5,
   "id": "0c5992fc",
   "metadata": {},
   "outputs": [
    {
     "data": {
      "text/plain": [
       "(96.0, 165.5975165562914)"
      ]
     },
     "execution_count": 5,
     "metadata": {},
     "output_type": "execute_result"
    }
   ],
   "source": [
    "session_length.median(), session_length.mean()"
   ]
  },
  {
   "cell_type": "code",
   "execution_count": 6,
   "id": "21d6b645",
   "metadata": {},
   "outputs": [
    {
     "data": {
      "text/plain": [
       "(20, 2314)"
      ]
     },
     "execution_count": 6,
     "metadata": {},
     "output_type": "execute_result"
    }
   ],
   "source": [
    "session_length.min(), session_length.max()"
   ]
  },
  {
   "cell_type": "code",
   "execution_count": 7,
   "id": "3d757cf0",
   "metadata": {},
   "outputs": [
    {
     "data": {
      "text/plain": [
       "1343.181000000005"
      ]
     },
     "execution_count": 7,
     "metadata": {},
     "output_type": "execute_result"
    }
   ],
   "source": [
    "session_length.quantile(0.999)"
   ]
  },
  {
   "cell_type": "markdown",
   "id": "3a00ce70",
   "metadata": {},
   "source": [
    "해당 데이터들은 다음과 같은 vision 을 보여준다.\n",
    "\n",
    "1. 한 사람당 평균적으로 165개의 영화를 평했다.\n",
    "2. 가장 적게 평가한 사람은 20개, 가장 많이 평가한 사람은 2300개,\n",
    "3. 상위 99.9% 의 사람은 1343개의 영화를 평했다.\n",
    "\n",
    "영화를 2300개나 본 사람은 대체 언제 이 영화들을 다 본걸까?"
   ]
  },
  {
   "cell_type": "code",
   "execution_count": 8,
   "id": "8d8ef10f",
   "metadata": {},
   "outputs": [
    {
     "data": {
      "text/html": [
       "<div>\n",
       "<style scoped>\n",
       "    .dataframe tbody tr th:only-of-type {\n",
       "        vertical-align: middle;\n",
       "    }\n",
       "\n",
       "    .dataframe tbody tr th {\n",
       "        vertical-align: top;\n",
       "    }\n",
       "\n",
       "    .dataframe thead th {\n",
       "        text-align: right;\n",
       "    }\n",
       "</style>\n",
       "<table border=\"1\" class=\"dataframe\">\n",
       "  <thead>\n",
       "    <tr style=\"text-align: right;\">\n",
       "      <th></th>\n",
       "      <th>UserId</th>\n",
       "      <th>ItemId</th>\n",
       "      <th>Rating</th>\n",
       "      <th>Time</th>\n",
       "    </tr>\n",
       "  </thead>\n",
       "  <tbody>\n",
       "    <tr>\n",
       "      <th>696969</th>\n",
       "      <td>4169</td>\n",
       "      <td>1268</td>\n",
       "      <td>5</td>\n",
       "      <td>2000-08-03 20:09:52</td>\n",
       "    </tr>\n",
       "    <tr>\n",
       "      <th>697168</th>\n",
       "      <td>4169</td>\n",
       "      <td>2617</td>\n",
       "      <td>4</td>\n",
       "      <td>2000-08-03 20:09:52</td>\n",
       "    </tr>\n",
       "    <tr>\n",
       "      <th>697185</th>\n",
       "      <td>4169</td>\n",
       "      <td>2628</td>\n",
       "      <td>4</td>\n",
       "      <td>2000-08-03 20:09:52</td>\n",
       "    </tr>\n",
       "    <tr>\n",
       "      <th>697219</th>\n",
       "      <td>4169</td>\n",
       "      <td>2653</td>\n",
       "      <td>4</td>\n",
       "      <td>2000-08-03 20:09:52</td>\n",
       "    </tr>\n",
       "    <tr>\n",
       "      <th>697275</th>\n",
       "      <td>4169</td>\n",
       "      <td>423</td>\n",
       "      <td>3</td>\n",
       "      <td>2000-08-03 20:09:52</td>\n",
       "    </tr>\n",
       "    <tr>\n",
       "      <th>...</th>\n",
       "      <td>...</td>\n",
       "      <td>...</td>\n",
       "      <td>...</td>\n",
       "      <td>...</td>\n",
       "    </tr>\n",
       "    <tr>\n",
       "      <th>697882</th>\n",
       "      <td>4169</td>\n",
       "      <td>3754</td>\n",
       "      <td>2</td>\n",
       "      <td>2002-06-15 20:52:27</td>\n",
       "    </tr>\n",
       "    <tr>\n",
       "      <th>695702</th>\n",
       "      <td>4169</td>\n",
       "      <td>1413</td>\n",
       "      <td>3</td>\n",
       "      <td>2002-06-15 21:03:51</td>\n",
       "    </tr>\n",
       "    <tr>\n",
       "      <th>697358</th>\n",
       "      <td>4169</td>\n",
       "      <td>494</td>\n",
       "      <td>4</td>\n",
       "      <td>2002-06-15 21:16:00</td>\n",
       "    </tr>\n",
       "    <tr>\n",
       "      <th>695945</th>\n",
       "      <td>4169</td>\n",
       "      <td>1804</td>\n",
       "      <td>2</td>\n",
       "      <td>2002-06-15 21:16:23</td>\n",
       "    </tr>\n",
       "    <tr>\n",
       "      <th>696446</th>\n",
       "      <td>4169</td>\n",
       "      <td>1548</td>\n",
       "      <td>3</td>\n",
       "      <td>2002-06-15 21:25:37</td>\n",
       "    </tr>\n",
       "  </tbody>\n",
       "</table>\n",
       "<p>2314 rows × 4 columns</p>\n",
       "</div>"
      ],
      "text/plain": [
       "        UserId  ItemId  Rating                Time\n",
       "696969    4169    1268       5 2000-08-03 20:09:52\n",
       "697168    4169    2617       4 2000-08-03 20:09:52\n",
       "697185    4169    2628       4 2000-08-03 20:09:52\n",
       "697219    4169    2653       4 2000-08-03 20:09:52\n",
       "697275    4169     423       3 2000-08-03 20:09:52\n",
       "...        ...     ...     ...                 ...\n",
       "697882    4169    3754       2 2002-06-15 20:52:27\n",
       "695702    4169    1413       3 2002-06-15 21:03:51\n",
       "697358    4169     494       4 2002-06-15 21:16:00\n",
       "695945    4169    1804       2 2002-06-15 21:16:23\n",
       "696446    4169    1548       3 2002-06-15 21:25:37\n",
       "\n",
       "[2314 rows x 4 columns]"
      ]
     },
     "execution_count": 8,
     "metadata": {},
     "output_type": "execute_result"
    }
   ],
   "source": [
    "long_session = session_length[session_length==2314].index[0]\n",
    "data[data['UserId']==long_session]"
   ]
  },
  {
   "cell_type": "markdown",
   "id": "277f899e",
   "metadata": {},
   "source": [
    "2년간 2300개의 영화에 평을 매겼다.\n",
    "\n",
    "하루에 6편씩 영화를 본 셈인데, 12시간은 영화만 보고 있어야 한다.  \n",
    "실제로 기록을 보면 동일한 시간에 5개에 대한 평가를 매기고 있다.\n",
    "\n",
    "적어도 1년에 365개 이상의 영화를 본 사람은  \n",
    "영화에 대해 건성히 본 사람, 혹은 악의적인 시도를 하는 고객이라고 판단하기로 했다."
   ]
  },
  {
   "cell_type": "markdown",
   "id": "c5b2f409",
   "metadata": {},
   "source": [
    "#### 2) 시간별 탐색\n",
    "\n",
    "추천시스템은 시간적 Trend 에도 영향을 많이 받는다.  \n",
    "때문에 영화 평점 데이터도 시간이 지남에 따라 많은 변화가 있었을 것이다.  \n",
    "하지만 현재 우리가 가진 가장 예전 데이터는 2000년, 가장 빠른 데이터는 2003년이므로  \n",
    "큰 편차가 없을 것으로 판단했다."
   ]
  },
  {
   "cell_type": "code",
   "execution_count": 9,
   "id": "b4a58aaa",
   "metadata": {
    "scrolled": true
   },
   "outputs": [
    {
     "name": "stdout",
     "output_type": "stream",
     "text": [
      "2000-04-25 23:05:32\n",
      "2003-02-28 17:49:50\n"
     ]
    }
   ],
   "source": [
    "oldest, latest = data['Time'].min(), data['Time'].max()\n",
    "print(oldest) \n",
    "print(latest)"
   ]
  },
  {
   "cell_type": "code",
   "execution_count": 10,
   "id": "737f7b8e",
   "metadata": {
    "scrolled": true
   },
   "outputs": [
    {
     "data": {
      "text/plain": [
       "Timedelta('1038 days 18:44:18')"
      ]
     },
     "execution_count": 10,
     "metadata": {},
     "output_type": "execute_result"
    }
   ],
   "source": [
    "diff = latest -  oldest\n",
    "diff"
   ]
  },
  {
   "cell_type": "markdown",
   "id": "950ff51a",
   "metadata": {},
   "source": [
    "총 1038 일이다."
   ]
  },
  {
   "cell_type": "markdown",
   "id": "7ecf51aa",
   "metadata": {},
   "source": [
    "어느정도 데이터를 정리했으니\n",
    "정확한 추천이 이루어질 수 있도록 데이터를 정제하도록 한다.\n",
    "\n",
    "1. 평점 매긴 횟수가 너무 적은 사람들을 제거한다\n",
    "2. 평점을 너무 많이 매긴 사람들을 제거한다.\n",
    "\n",
    "3. 평점이 너무 안매겨진 영화는 제거한다.\n"
   ]
  },
  {
   "cell_type": "markdown",
   "id": "6c7b9103",
   "metadata": {},
   "source": [
    "## 2-2-2. 데이터 전처리"
   ]
  },
  {
   "cell_type": "code",
   "execution_count": 11,
   "id": "e4238f22",
   "metadata": {},
   "outputs": [],
   "source": [
    "\n",
    "def cleanse_short_session(data: pd.DataFrame, shortest):\n",
    "    user_len = data.groupby('UserId').size()\n",
    "    user_use = user_len[user_len >= shortest].index #평점매긴 횟수가 shortest 이하인 세션 제거\n",
    "    data = data[data['UserId'].isin(user_use)]\n",
    "    return data\n",
    "\n",
    "def cleanse_long_session(data: pd.DataFrame, longest):\n",
    "    user_len = data.groupby('UserId').size()\n",
    "    user_use = user_len[user_len <= longest].index #평점매긴 횟수가 longest 이상인 세션 제거\n",
    "    data = data[data['UserId'].isin(user_use)]\n",
    "    return data\n",
    "\n",
    "\n",
    "def cleanse_unpopular_item(data: pd.DataFrame, least_rating):\n",
    "    item_popular = data.groupby('ItemId').size()\n",
    "    item_use = item_popular[item_popular >= least_rating].index # least_rating 만큼 평가된 영화 제거\n",
    "    data = data[data['ItemId'].isin(item_use)]\n",
    "    return data\n",
    "\n",
    "def cleanse_recursive(data: pd.DataFrame, shortest, longest, least_rating) -> pd.DataFrame:\n",
    "    while True:\n",
    "        before_len = len(data)\n",
    "        data = cleanse_short_session(data, shortest)\n",
    "        data = cleanse_long_session(data, longest)\n",
    "        data = cleanse_unpopular_item(data, least_rating) #위의 것들을 합쳤다.\n",
    "        after_len = len(data)\n",
    "        if before_len == after_len:\n",
    "            break\n",
    "    return data\n",
    "\n"
   ]
  },
  {
   "cell_type": "code",
   "execution_count": 12,
   "id": "7495911f",
   "metadata": {},
   "outputs": [
    {
     "name": "stdout",
     "output_type": "stream",
     "text": [
      "165.5975165562914\n",
      "269.88909875876953\n"
     ]
    }
   ],
   "source": [
    "user_len = data.groupby('UserId').size()\n",
    "item_popular = data.groupby('ItemId').size()\n",
    "\n",
    "print(user_len.mean())\n",
    "print(item_popular.mean())"
   ]
  },
  {
   "cell_type": "markdown",
   "id": "fc034889",
   "metadata": {},
   "source": [
    "한사람은 평균 165 번의 영화를 봤고  \n",
    "한 영화는 평균 269번 시청되었다.\n",
    "\n",
    "의견을 나눈 대로 \n",
    "\n",
    "\n",
    "3년간 1038(매일 1편씩 본다고 가정) 이상의 영화를 본 User와  \n",
    "한명만 본 영화,  \n",
    "5번 이하로 영화를 본 User 를 제거하도록 하겠다.  \n"
   ]
  },
  {
   "cell_type": "code",
   "execution_count": 13,
   "id": "78e3603d",
   "metadata": {},
   "outputs": [
    {
     "data": {
      "text/html": [
       "<div>\n",
       "<style scoped>\n",
       "    .dataframe tbody tr th:only-of-type {\n",
       "        vertical-align: middle;\n",
       "    }\n",
       "\n",
       "    .dataframe tbody tr th {\n",
       "        vertical-align: top;\n",
       "    }\n",
       "\n",
       "    .dataframe thead th {\n",
       "        text-align: right;\n",
       "    }\n",
       "</style>\n",
       "<table border=\"1\" class=\"dataframe\">\n",
       "  <thead>\n",
       "    <tr style=\"text-align: right;\">\n",
       "      <th></th>\n",
       "      <th>UserId</th>\n",
       "      <th>ItemId</th>\n",
       "      <th>Rating</th>\n",
       "      <th>Time</th>\n",
       "    </tr>\n",
       "  </thead>\n",
       "  <tbody>\n",
       "    <tr>\n",
       "      <th>31</th>\n",
       "      <td>1</td>\n",
       "      <td>3186</td>\n",
       "      <td>4</td>\n",
       "      <td>2000-12-31 22:00:19</td>\n",
       "    </tr>\n",
       "    <tr>\n",
       "      <th>22</th>\n",
       "      <td>1</td>\n",
       "      <td>1270</td>\n",
       "      <td>5</td>\n",
       "      <td>2000-12-31 22:00:55</td>\n",
       "    </tr>\n",
       "    <tr>\n",
       "      <th>27</th>\n",
       "      <td>1</td>\n",
       "      <td>1721</td>\n",
       "      <td>4</td>\n",
       "      <td>2000-12-31 22:00:55</td>\n",
       "    </tr>\n",
       "    <tr>\n",
       "      <th>37</th>\n",
       "      <td>1</td>\n",
       "      <td>1022</td>\n",
       "      <td>5</td>\n",
       "      <td>2000-12-31 22:00:55</td>\n",
       "    </tr>\n",
       "    <tr>\n",
       "      <th>24</th>\n",
       "      <td>1</td>\n",
       "      <td>2340</td>\n",
       "      <td>3</td>\n",
       "      <td>2000-12-31 22:01:43</td>\n",
       "    </tr>\n",
       "    <tr>\n",
       "      <th>...</th>\n",
       "      <td>...</td>\n",
       "      <td>...</td>\n",
       "      <td>...</td>\n",
       "      <td>...</td>\n",
       "    </tr>\n",
       "    <tr>\n",
       "      <th>1000019</th>\n",
       "      <td>6040</td>\n",
       "      <td>2917</td>\n",
       "      <td>4</td>\n",
       "      <td>2001-08-10 14:40:29</td>\n",
       "    </tr>\n",
       "    <tr>\n",
       "      <th>999988</th>\n",
       "      <td>6040</td>\n",
       "      <td>1921</td>\n",
       "      <td>4</td>\n",
       "      <td>2001-08-10 14:41:04</td>\n",
       "    </tr>\n",
       "    <tr>\n",
       "      <th>1000172</th>\n",
       "      <td>6040</td>\n",
       "      <td>1784</td>\n",
       "      <td>3</td>\n",
       "      <td>2001-08-10 14:41:04</td>\n",
       "    </tr>\n",
       "    <tr>\n",
       "      <th>1000167</th>\n",
       "      <td>6040</td>\n",
       "      <td>161</td>\n",
       "      <td>3</td>\n",
       "      <td>2001-08-10 14:41:26</td>\n",
       "    </tr>\n",
       "    <tr>\n",
       "      <th>1000042</th>\n",
       "      <td>6040</td>\n",
       "      <td>1221</td>\n",
       "      <td>4</td>\n",
       "      <td>2001-08-20 13:44:15</td>\n",
       "    </tr>\n",
       "  </tbody>\n",
       "</table>\n",
       "<p>959341 rows × 4 columns</p>\n",
       "</div>"
      ],
      "text/plain": [
       "         UserId  ItemId  Rating                Time\n",
       "31            1    3186       4 2000-12-31 22:00:19\n",
       "22            1    1270       5 2000-12-31 22:00:55\n",
       "27            1    1721       4 2000-12-31 22:00:55\n",
       "37            1    1022       5 2000-12-31 22:00:55\n",
       "24            1    2340       3 2000-12-31 22:01:43\n",
       "...         ...     ...     ...                 ...\n",
       "1000019    6040    2917       4 2001-08-10 14:40:29\n",
       "999988     6040    1921       4 2001-08-10 14:41:04\n",
       "1000172    6040    1784       3 2001-08-10 14:41:04\n",
       "1000167    6040     161       3 2001-08-10 14:41:26\n",
       "1000042    6040    1221       4 2001-08-20 13:44:15\n",
       "\n",
       "[959341 rows x 4 columns]"
      ]
     },
     "execution_count": 13,
     "metadata": {},
     "output_type": "execute_result"
    }
   ],
   "source": [
    "data = cleanse_recursive(data, shortest=4, longest=1038, least_rating=2)\n",
    "data"
   ]
  },
  {
   "cell_type": "markdown",
   "id": "bd85b2eb",
   "metadata": {},
   "source": [
    "약 4만개의 데이터가 삭제되었다.\n",
    "\n",
    "이를 바탕으로 Validattion 데이터와 Test 데이터를 나누도록 한다.\n",
    "약 10%씩 구분한다"
   ]
  },
  {
   "cell_type": "markdown",
   "id": "eff8f241",
   "metadata": {},
   "source": [
    "### Train, Val, Test split"
   ]
  },
  {
   "cell_type": "code",
   "execution_count": 14,
   "id": "3aa382af",
   "metadata": {},
   "outputs": [
    {
     "name": "stdout",
     "output_type": "stream",
     "text": [
      "* train Set Stats Info\n",
      "\t Events: 940069\n",
      "\t Users: 6007\n",
      "\t Items: 3569\n",
      "\t First Time : 2000-04-25 23:05:32\n",
      "\t Last Time : 2002-03-05 04:19:56\n",
      "\n",
      "* valid Set Stats Info\n",
      "\t Events: 11229\n",
      "\t Users: 386\n",
      "\t Items: 2512\n",
      "\t First Time : 2002-03-05 04:21:07\n",
      "\t Last Time : 2002-09-01 04:20:59\n",
      "\n",
      "* test Set Stats Info\n",
      "\t Events: 8043\n",
      "\t Users: 327\n",
      "\t Items: 2200\n",
      "\t First Time : 2002-09-01 19:41:39\n",
      "\t Last Time : 2003-02-28 17:49:50\n",
      "\n"
     ]
    }
   ],
   "source": [
    "def split_by_date(data: pd.DataFrame, n_days: int):\n",
    "    final_time = data['Time'].max()\n",
    "    user_last_time = data.groupby('UserId')['Time'].max().sort_values()\n",
    "    user_in_train = data[data['Time'] < final_time - dt.timedelta(n_days)]\n",
    "    user_in_test = data[data['Time'] >= final_time - dt.timedelta(n_days)]\n",
    "    \n",
    "    before_date = user_in_train\n",
    "    after_date = user_in_test\n",
    "    return before_date, after_date\n",
    "\n",
    "tr, test = split_by_date(data, n_days=180)\n",
    "tr, val = split_by_date(tr, n_days=180)\n",
    "\n",
    "def stats_info(data: pd.DataFrame, status: str):\n",
    "    print(f'* {status} Set Stats Info\\n'\n",
    "          f'\\t Events: {len(data)}\\n'\n",
    "          f'\\t Users: {data[\"UserId\"].nunique()}\\n'\n",
    "          f'\\t Items: {data[\"ItemId\"].nunique()}\\n'\n",
    "          f'\\t First Time : {data[\"Time\"].min()}\\n'\n",
    "          f'\\t Last Time : {data[\"Time\"].max()}\\n')\n",
    "    \n",
    "stats_info(tr, 'train')\n",
    "stats_info(val, 'valid')\n",
    "stats_info(test, 'test')"
   ]
  },
  {
   "cell_type": "markdown",
   "id": "0064a58e",
   "metadata": {},
   "source": [
    "3년치(1038일) 데이터 중에서  \n",
    "약 10%를 차지하는 3개월을 기준으로 \n",
    "\n",
    "valid 데이터와 test 데이터를 분리한다.\n",
    "\n",
    "다시 말해서 \n",
    "\n",
    "- train : 2000년 - 2002년 3월까지 \n",
    "- val : 2002년 3월 - 9월 까지 \n",
    "- test : 2002년 9월 - 2002년 2월 까지\n",
    "\n",
    "순차적으로 분리했다.\n",
    "\n",
    "그런데 영화는 계속 발매되기 때문에 2002년 3월 val 이후에 생긴 영화는 추천해줄 수가 없다.\n",
    "관련 데이터가 모델에 훈련되지 않기 때문이다.\n",
    "\n",
    "* 물론 영화나 사용자의 정보가 포함된다면 가능하겠지만 지금은  \n",
    "`Session based Rec` 이기 때문에 평가할 수 없다"
   ]
  },
  {
   "cell_type": "code",
   "execution_count": 15,
   "id": "5b6555da",
   "metadata": {
    "scrolled": true
   },
   "outputs": [
    {
     "name": "stderr",
     "output_type": "stream",
     "text": [
      "/tmp/ipykernel_14/96802692.py:6: SettingWithCopyWarning: \n",
      "A value is trying to be set on a copy of a slice from a DataFrame.\n",
      "Try using .loc[row_indexer,col_indexer] = value instead\n",
      "\n",
      "See the caveats in the documentation: https://pandas.pydata.org/pandas-docs/stable/user_guide/indexing.html#returning-a-view-versus-a-copy\n",
      "  df['item_idx'] = df['ItemId'].map(lambda x: id2idx.get(x, -1))  # id2idx에 없는 아이템은 모르는 값(-1) 처리 해줍니다.\n"
     ]
    }
   ],
   "source": [
    "# train set에 없는 아이템이 val, test기간에 생길 수 있으므로 train data를 기준으로 인덱싱합니다\n",
    "\n",
    "id2idx = {item_id : index for index, item_id in enumerate(tr['ItemId'].unique())}\n",
    "\n",
    "def indexing(df, id2idx):\n",
    "    df['item_idx'] = df['ItemId'].map(lambda x: id2idx.get(x, -1))  # id2idx에 없는 아이템은 모르는 값(-1) 처리 해줍니다.\n",
    "    return df\n",
    "\n",
    "tr = indexing(tr, id2idx)\n",
    "val = indexing(val, id2idx)\n",
    "test = indexing(test, id2idx)\n",
    "\n",
    "save_path = data_path / 'processed'\n",
    "save_path.mkdir(parents=True, exist_ok=True)\n",
    "\n",
    "tr.to_pickle(save_path / 'train.pkl')\n",
    "val.to_pickle(save_path / 'valid.pkl')\n",
    "test.to_pickle(save_path / 'test.pkl')"
   ]
  },
  {
   "cell_type": "code",
   "execution_count": 16,
   "id": "265e2d2e",
   "metadata": {},
   "outputs": [
    {
     "data": {
      "text/html": [
       "<div>\n",
       "<style scoped>\n",
       "    .dataframe tbody tr th:only-of-type {\n",
       "        vertical-align: middle;\n",
       "    }\n",
       "\n",
       "    .dataframe tbody tr th {\n",
       "        vertical-align: top;\n",
       "    }\n",
       "\n",
       "    .dataframe thead th {\n",
       "        text-align: right;\n",
       "    }\n",
       "</style>\n",
       "<table border=\"1\" class=\"dataframe\">\n",
       "  <thead>\n",
       "    <tr style=\"text-align: right;\">\n",
       "      <th></th>\n",
       "      <th>UserId</th>\n",
       "      <th>ItemId</th>\n",
       "      <th>Rating</th>\n",
       "      <th>Time</th>\n",
       "      <th>item_idx</th>\n",
       "    </tr>\n",
       "  </thead>\n",
       "  <tbody>\n",
       "    <tr>\n",
       "      <th>5200</th>\n",
       "      <td>36</td>\n",
       "      <td>2269</td>\n",
       "      <td>5</td>\n",
       "      <td>2002-12-22 08:05:50</td>\n",
       "      <td>1421</td>\n",
       "    </tr>\n",
       "    <tr>\n",
       "      <th>5256</th>\n",
       "      <td>36</td>\n",
       "      <td>1701</td>\n",
       "      <td>4</td>\n",
       "      <td>2002-12-22 08:05:50</td>\n",
       "      <td>493</td>\n",
       "    </tr>\n",
       "    <tr>\n",
       "      <th>5184</th>\n",
       "      <td>36</td>\n",
       "      <td>2694</td>\n",
       "      <td>3</td>\n",
       "      <td>2002-12-22 08:08:14</td>\n",
       "      <td>866</td>\n",
       "    </tr>\n",
       "    <tr>\n",
       "      <th>5364</th>\n",
       "      <td>36</td>\n",
       "      <td>3786</td>\n",
       "      <td>4</td>\n",
       "      <td>2002-12-22 08:08:41</td>\n",
       "      <td>226</td>\n",
       "    </tr>\n",
       "    <tr>\n",
       "      <th>5262</th>\n",
       "      <td>36</td>\n",
       "      <td>2369</td>\n",
       "      <td>4</td>\n",
       "      <td>2002-12-22 08:09:24</td>\n",
       "      <td>934</td>\n",
       "    </tr>\n",
       "    <tr>\n",
       "      <th>...</th>\n",
       "      <td>...</td>\n",
       "      <td>...</td>\n",
       "      <td>...</td>\n",
       "      <td>...</td>\n",
       "      <td>...</td>\n",
       "    </tr>\n",
       "    <tr>\n",
       "      <th>984733</th>\n",
       "      <td>5950</td>\n",
       "      <td>1262</td>\n",
       "      <td>4</td>\n",
       "      <td>2003-02-27 18:17:38</td>\n",
       "      <td>843</td>\n",
       "    </tr>\n",
       "    <tr>\n",
       "      <th>986778</th>\n",
       "      <td>5956</td>\n",
       "      <td>469</td>\n",
       "      <td>3</td>\n",
       "      <td>2002-09-30 03:54:57</td>\n",
       "      <td>1754</td>\n",
       "    </tr>\n",
       "    <tr>\n",
       "      <th>992702</th>\n",
       "      <td>5996</td>\n",
       "      <td>168</td>\n",
       "      <td>3</td>\n",
       "      <td>2002-09-03 13:12:26</td>\n",
       "      <td>1064</td>\n",
       "    </tr>\n",
       "    <tr>\n",
       "      <th>992459</th>\n",
       "      <td>5996</td>\n",
       "      <td>339</td>\n",
       "      <td>4</td>\n",
       "      <td>2002-10-07 13:24:39</td>\n",
       "      <td>735</td>\n",
       "    </tr>\n",
       "    <tr>\n",
       "      <th>992387</th>\n",
       "      <td>5996</td>\n",
       "      <td>3882</td>\n",
       "      <td>3</td>\n",
       "      <td>2002-11-04 16:55:55</td>\n",
       "      <td>2042</td>\n",
       "    </tr>\n",
       "  </tbody>\n",
       "</table>\n",
       "<p>8043 rows × 5 columns</p>\n",
       "</div>"
      ],
      "text/plain": [
       "        UserId  ItemId  Rating                Time  item_idx\n",
       "5200        36    2269       5 2002-12-22 08:05:50      1421\n",
       "5256        36    1701       4 2002-12-22 08:05:50       493\n",
       "5184        36    2694       3 2002-12-22 08:08:14       866\n",
       "5364        36    3786       4 2002-12-22 08:08:41       226\n",
       "5262        36    2369       4 2002-12-22 08:09:24       934\n",
       "...        ...     ...     ...                 ...       ...\n",
       "984733    5950    1262       4 2003-02-27 18:17:38       843\n",
       "986778    5956     469       3 2002-09-30 03:54:57      1754\n",
       "992702    5996     168       3 2002-09-03 13:12:26      1064\n",
       "992459    5996     339       4 2002-10-07 13:24:39       735\n",
       "992387    5996    3882       3 2002-11-04 16:55:55      2042\n",
       "\n",
       "[8043 rows x 5 columns]"
      ]
     },
     "execution_count": 16,
     "metadata": {},
     "output_type": "execute_result"
    }
   ],
   "source": [
    "test"
   ]
  },
  {
   "cell_type": "markdown",
   "id": "612b9319",
   "metadata": {},
   "source": [
    "## 이번 추천시스템을 위한 모델은\n",
    "\n",
    "논문에서 발표된 GRU 4 Rec 이란 모델을 사용할 것이다\n",
    "\n",
    "RNN 모델이지만 추천시스템에 맞게 custom 되었다\n",
    "\n",
    "RNN 모델은 LSTM, vanila RNN 등이 있는데 해당 과제에서는 GRU 를 사용하기로 했다.  \n",
    "또한 임베딩레이어는 사용하지 않고 one-hot encoding을 수행한다"
   ]
  },
  {
   "cell_type": "code",
   "execution_count": 17,
   "id": "6e6a1ad2",
   "metadata": {},
   "outputs": [],
   "source": [
    "class SessionDataset:\n",
    "    \"\"\"Credit to yhs-968/pyGRU4REC.\"\"\"\n",
    "\n",
    "    def __init__(self, data):\n",
    "        self.df = data\n",
    "        self.click_offsets = self.get_click_offsets()\n",
    "        self.session_idx = np.arange(self.df['UserId'].nunique())  # indexing to UserId\n",
    "\n",
    "    def get_click_offsets(self):\n",
    "        \"\"\"\n",
    "        Return the indexes of the first click of each session IDs,\n",
    "        \"\"\"\n",
    "        offsets = np.zeros(self.df['UserId'].nunique() + 1, dtype=np.int32)\n",
    "        offsets[1:] = self.df.groupby('UserId').size().cumsum()\n",
    "        return offsets"
   ]
  },
  {
   "cell_type": "code",
   "execution_count": 18,
   "id": "4580d3e7",
   "metadata": {
    "scrolled": true
   },
   "outputs": [
    {
     "data": {
      "text/html": [
       "<div>\n",
       "<style scoped>\n",
       "    .dataframe tbody tr th:only-of-type {\n",
       "        vertical-align: middle;\n",
       "    }\n",
       "\n",
       "    .dataframe tbody tr th {\n",
       "        vertical-align: top;\n",
       "    }\n",
       "\n",
       "    .dataframe thead th {\n",
       "        text-align: right;\n",
       "    }\n",
       "</style>\n",
       "<table border=\"1\" class=\"dataframe\">\n",
       "  <thead>\n",
       "    <tr style=\"text-align: right;\">\n",
       "      <th></th>\n",
       "      <th>UserId</th>\n",
       "      <th>ItemId</th>\n",
       "      <th>Rating</th>\n",
       "      <th>Time</th>\n",
       "      <th>item_idx</th>\n",
       "    </tr>\n",
       "  </thead>\n",
       "  <tbody>\n",
       "    <tr>\n",
       "      <th>31</th>\n",
       "      <td>1</td>\n",
       "      <td>3186</td>\n",
       "      <td>4</td>\n",
       "      <td>2000-12-31 22:00:19</td>\n",
       "      <td>0</td>\n",
       "    </tr>\n",
       "    <tr>\n",
       "      <th>22</th>\n",
       "      <td>1</td>\n",
       "      <td>1270</td>\n",
       "      <td>5</td>\n",
       "      <td>2000-12-31 22:00:55</td>\n",
       "      <td>1</td>\n",
       "    </tr>\n",
       "    <tr>\n",
       "      <th>27</th>\n",
       "      <td>1</td>\n",
       "      <td>1721</td>\n",
       "      <td>4</td>\n",
       "      <td>2000-12-31 22:00:55</td>\n",
       "      <td>2</td>\n",
       "    </tr>\n",
       "    <tr>\n",
       "      <th>37</th>\n",
       "      <td>1</td>\n",
       "      <td>1022</td>\n",
       "      <td>5</td>\n",
       "      <td>2000-12-31 22:00:55</td>\n",
       "      <td>3</td>\n",
       "    </tr>\n",
       "    <tr>\n",
       "      <th>24</th>\n",
       "      <td>1</td>\n",
       "      <td>2340</td>\n",
       "      <td>3</td>\n",
       "      <td>2000-12-31 22:01:43</td>\n",
       "      <td>4</td>\n",
       "    </tr>\n",
       "    <tr>\n",
       "      <th>36</th>\n",
       "      <td>1</td>\n",
       "      <td>1836</td>\n",
       "      <td>5</td>\n",
       "      <td>2000-12-31 22:02:52</td>\n",
       "      <td>5</td>\n",
       "    </tr>\n",
       "    <tr>\n",
       "      <th>3</th>\n",
       "      <td>1</td>\n",
       "      <td>3408</td>\n",
       "      <td>4</td>\n",
       "      <td>2000-12-31 22:04:35</td>\n",
       "      <td>6</td>\n",
       "    </tr>\n",
       "    <tr>\n",
       "      <th>7</th>\n",
       "      <td>1</td>\n",
       "      <td>2804</td>\n",
       "      <td>5</td>\n",
       "      <td>2000-12-31 22:11:59</td>\n",
       "      <td>7</td>\n",
       "    </tr>\n",
       "    <tr>\n",
       "      <th>47</th>\n",
       "      <td>1</td>\n",
       "      <td>1207</td>\n",
       "      <td>4</td>\n",
       "      <td>2000-12-31 22:11:59</td>\n",
       "      <td>8</td>\n",
       "    </tr>\n",
       "    <tr>\n",
       "      <th>0</th>\n",
       "      <td>1</td>\n",
       "      <td>1193</td>\n",
       "      <td>5</td>\n",
       "      <td>2000-12-31 22:12:40</td>\n",
       "      <td>9</td>\n",
       "    </tr>\n",
       "  </tbody>\n",
       "</table>\n",
       "</div>"
      ],
      "text/plain": [
       "    UserId  ItemId  Rating                Time  item_idx\n",
       "31       1    3186       4 2000-12-31 22:00:19         0\n",
       "22       1    1270       5 2000-12-31 22:00:55         1\n",
       "27       1    1721       4 2000-12-31 22:00:55         2\n",
       "37       1    1022       5 2000-12-31 22:00:55         3\n",
       "24       1    2340       3 2000-12-31 22:01:43         4\n",
       "36       1    1836       5 2000-12-31 22:02:52         5\n",
       "3        1    3408       4 2000-12-31 22:04:35         6\n",
       "7        1    2804       5 2000-12-31 22:11:59         7\n",
       "47       1    1207       4 2000-12-31 22:11:59         8\n",
       "0        1    1193       5 2000-12-31 22:12:40         9"
      ]
     },
     "execution_count": 18,
     "metadata": {},
     "output_type": "execute_result"
    }
   ],
   "source": [
    "tr_dataset = SessionDataset(tr)\n",
    "tr_dataset.df.head(10)"
   ]
  },
  {
   "cell_type": "code",
   "execution_count": 19,
   "id": "63388967",
   "metadata": {},
   "outputs": [
    {
     "data": {
      "text/plain": [
       "array([     0,     53,    182, ..., 939605, 939728, 940069], dtype=int32)"
      ]
     },
     "execution_count": 19,
     "metadata": {},
     "output_type": "execute_result"
    }
   ],
   "source": [
    "tr_dataset.click_offsets\n"
   ]
  },
  {
   "cell_type": "code",
   "execution_count": 20,
   "id": "266dbdbb",
   "metadata": {
    "scrolled": true
   },
   "outputs": [
    {
     "data": {
      "text/plain": [
       "array([   0,    1,    2, ..., 6004, 6005, 6006])"
      ]
     },
     "execution_count": 20,
     "metadata": {},
     "output_type": "execute_result"
    }
   ],
   "source": [
    "tr_dataset.session_idx"
   ]
  },
  {
   "cell_type": "markdown",
   "id": "ce9b6838",
   "metadata": {},
   "source": [
    "이 이후에는\n",
    "\n",
    "SessionDataset 객체를 받아서 Session-Parallel mini-batch를 만드는 클래스를 만든다.  \n",
    "`__iter__ ` 메서드는 모델 인풋, 라벨, 세션이 끝나는 곳의 위치를 `yield` 한다.  \n",
    "> `yield` 는 기존의 `for` 문처럼 한번에 끝까지 돌아가는 것이 아니라 한 턴마다 대기를 하는 메서드이다.  \n",
    "\n",
    "mask는 후에 RNN Cell State를 초기화하는데 사용한다.  "
   ]
  },
  {
   "cell_type": "code",
   "execution_count": 21,
   "id": "67ac89d6",
   "metadata": {},
   "outputs": [],
   "source": [
    "class SessionDataLoader:\n",
    "    \"\"\"Credit to yhs-968/pyGRU4REC.\"\"\"\n",
    "\n",
    "    def __init__(self, dataset: SessionDataset, batch_size=50):\n",
    "        self.dataset = dataset\n",
    "        self.batch_size = batch_size\n",
    "\n",
    "    def __iter__(self):\n",
    "        \"\"\" Returns the iterator for producing session-parallel training mini-batches.\n",
    "        Yields:\n",
    "            input (B,):  Item indices that will be encoded as one-hot vectors later.\n",
    "            target (B,): a Variable that stores the target item indices\n",
    "            masks: Numpy array indicating the positions of the sessions to be terminated\n",
    "        \"\"\"\n",
    "\n",
    "        start, end, mask, last_session, finished = self.initialize()  # initialize 메소드에서 확인해주세요.\n",
    "        \"\"\"\n",
    "        start : Index Where Session Start\n",
    "        end : Index Where Session End\n",
    "        mask : indicator for the sessions to be terminated\n",
    "        \"\"\"\n",
    "\n",
    "        while not finished:\n",
    "            min_len = (end - start).min() - 1  # Shortest Length Among Sessions\n",
    "            for i in range(min_len):\n",
    "                # Build inputs & targets\n",
    "                inp = self.dataset.df['item_idx'].values[start + i]\n",
    "                target = self.dataset.df['item_idx'].values[start + i + 1]\n",
    "                yield inp, target, mask\n",
    "\n",
    "            start, end, mask, last_session, finished = self.update_status(start, end, min_len, last_session, finished)\n",
    "\n",
    "    def initialize(self):\n",
    "        first_iters = np.arange(self.batch_size)    # 첫 배치에 사용할 세션 Index를 가져옵니다.\n",
    "        last_session = self.batch_size - 1    # 마지막으로 다루고 있는 세션 Index를 저장해둡니다.\n",
    "        start = self.dataset.click_offsets[self.dataset.session_idx[first_iters]]       # data 상에서 session이 시작된 위치를 가져옵니다.\n",
    "        end = self.dataset.click_offsets[self.dataset.session_idx[first_iters] + 1]  # session이 끝난 위치 바로 다음 위치를 가져옵니다.\n",
    "        mask = np.array([])   # session의 모든 아이템을 다 돌은 경우 mask에 추가해줄 것입니다.\n",
    "        finished = False         # data를 전부 돌았는지 기록하기 위한 변수입니다.\n",
    "        return start, end, mask, last_session, finished\n",
    "\n",
    "    def update_status(self, start: np.ndarray, end: np.ndarray, min_len: int, last_session: int, finished: bool):  \n",
    "        # 다음 배치 데이터를 생성하기 위해 상태를 update합니다.\n",
    "        \n",
    "        start += min_len   # __iter__에서 min_len 만큼 for문을 돌았으므로 start를 min_len 만큼 더해줍니다.\n",
    "        mask = np.arange(self.batch_size)[(end - start) == 1]  \n",
    "        # end는 다음 세션이 시작되는 위치인데 start와 한 칸 차이난다는 것은 session이 끝났다는 뜻입니다. mask에 기록해줍니다.\n",
    "\n",
    "        for i, idx in enumerate(mask, start=1):  # mask에 추가된 세션 개수만큼 새로운 세션을 돌것입니다.\n",
    "            new_session = last_session + i  \n",
    "            if new_session > self.dataset.session_idx[-1]:  # 만약 새로운 세션이 마지막 세션 index보다 크다면 모든 학습데이터를 돈 것입니다.\n",
    "                finished = True\n",
    "                break\n",
    "            # update the next starting/ending point\n",
    "            start[idx] = self.dataset.click_offsets[self.dataset.session_idx[new_session]]     # 종료된 세션 대신 새로운 세션의 시작점을 기록합니다.\n",
    "            end[idx] = self.dataset.click_offsets[self.dataset.session_idx[new_session] + 1]\n",
    "\n",
    "        last_session += len(mask)  # 마지막 세션의 위치를 기록해둡니다.\n",
    "        return start, end, mask, last_session, finished"
   ]
  },
  {
   "cell_type": "code",
   "execution_count": 22,
   "id": "3f661fd3",
   "metadata": {
    "scrolled": true
   },
   "outputs": [
    {
     "data": {
      "text/plain": [
       "<bound method NDFrame.head of          UserId  ItemId  Rating                Time  item_idx\n",
       "31            1    3186       4 2000-12-31 22:00:19         0\n",
       "22            1    1270       5 2000-12-31 22:00:55         1\n",
       "27            1    1721       4 2000-12-31 22:00:55         2\n",
       "37            1    1022       5 2000-12-31 22:00:55         3\n",
       "24            1    2340       3 2000-12-31 22:01:43         4\n",
       "...         ...     ...     ...                 ...       ...\n",
       "1000019    6040    2917       4 2001-08-10 14:40:29      1248\n",
       "999988     6040    1921       4 2001-08-10 14:41:04       370\n",
       "1000172    6040    1784       3 2001-08-10 14:41:04        89\n",
       "1000167    6040     161       3 2001-08-10 14:41:26       464\n",
       "1000042    6040    1221       4 2001-08-20 13:44:15       430\n",
       "\n",
       "[940069 rows x 5 columns]>"
      ]
     },
     "execution_count": 22,
     "metadata": {},
     "output_type": "execute_result"
    }
   ],
   "source": [
    "tr_data_loader = SessionDataLoader(tr_dataset, batch_size=4)\n",
    "tr_dataset.df.head\n"
   ]
  },
  {
   "cell_type": "code",
   "execution_count": 23,
   "id": "a9332606",
   "metadata": {},
   "outputs": [
    {
     "name": "stdout",
     "output_type": "stream",
     "text": [
      "Model Input Item Idx are : [ 0 53 65 54]\n",
      "Label Item Idx are :       [ 1 54 62 24]\n",
      "Previous Masked Input Idx are []\n"
     ]
    }
   ],
   "source": [
    "iter_ex = iter(tr_data_loader)\n",
    "\n",
    "inputs, labels, mask =  next(iter_ex)\n",
    "print(f'Model Input Item Idx are : {inputs}')\n",
    "print(f'Label Item Idx are : {\"\":5} {labels}')\n",
    "print(f'Previous Masked Input Idx are {mask}')\n"
   ]
  },
  {
   "cell_type": "markdown",
   "id": "6429d46f",
   "metadata": {},
   "source": [
    "## 2-3.모델 학습"
   ]
  },
  {
   "cell_type": "markdown",
   "id": "4a603155",
   "metadata": {},
   "source": [
    "모델 성능 평가에 대한 matrix 로  \n",
    "precision 과 recall 등이 있다\n",
    "\n",
    "precision 은 아닌 걸 맞다 하는 확률이 더 적은 데 초점을 둔다.   \n",
    "recall 은 맞는 걸 아니다 하는 확률이 더 적은 데 초점을 둔다. (스팸, 암 판별 등)\n",
    "\n",
    "그런데 추천시스템은 조금 더 복잡하다.\n",
    "\n",
    "모델이 k개의 아이템을 제시했을때, 유저가 구미를 당길만한 아이템이  \n",
    "많을수록 좋다.\n",
    "\n",
    "그래서 RecSys 에서는 Recall@k 지표, Mean Average Presicion@k 지표를 사용한다.\n",
    "\n",
    "또한 순서에 민감한 지표인 MRR, NDCG 지표도 사용한다.\n",
    "\n",
    "해당 과제에서는 `Recall@k` 지표와 `MRR` 지표로 평가하도록 한다.\n",
    "\n",
    "Recall 과 MRR 은 높은 수치일수록 정확함을 의미한다."
   ]
  },
  {
   "cell_type": "code",
   "execution_count": 24,
   "id": "365fe9ad",
   "metadata": {},
   "outputs": [],
   "source": [
    "def mrr_k(pred, truth: int, k: int): #mrr 지표 함수\n",
    "    indexing = np.where(pred[:k] == truth)[0]\n",
    "    if len(indexing) > 0:\n",
    "        return 1 / (indexing[0] + 1)\n",
    "    else:\n",
    "        return 0\n",
    "\n",
    "\n",
    "def recall_k(pred, truth: int, k: int) -> int:  #recall 지표 함수, int가 return 함\n",
    "    answer = truth in pred[:k]\n",
    "    return int(answer)"
   ]
  },
  {
   "cell_type": "markdown",
   "id": "89e4332d",
   "metadata": {},
   "source": [
    "모델 구조는 Functional API 를 사용한다/"
   ]
  },
  {
   "cell_type": "code",
   "execution_count": 25,
   "id": "b4d23139",
   "metadata": {},
   "outputs": [],
   "source": [
    "def create_model(args):\n",
    "    inputs = Input(batch_shape=(args.batch_size, 1, args.num_items))\n",
    "    gru, _ = GRU(args.hsz, stateful=True, return_state=True, name='GRU')(inputs)\n",
    "    dropout = Dropout(args.drop_rate)(gru)\n",
    "    predictions = Dense(args.num_items, activation='softmax')(dropout)\n",
    "    model = Model(inputs=inputs, outputs=[predictions])\n",
    "    model.compile(loss=categorical_crossentropy, optimizer=Adam(args.lr), metrics=['accuracy'])\n",
    "    model.summary()\n",
    "    return model"
   ]
  },
  {
   "cell_type": "markdown",
   "id": "9c17bb81",
   "metadata": {},
   "source": [
    "하이퍼 파라미터는 class 로 관리한다."
   ]
  },
  {
   "cell_type": "code",
   "execution_count": 26,
   "id": "2c74bb8e",
   "metadata": {},
   "outputs": [],
   "source": [
    "class Args:\n",
    "    def __init__(self, tr, val, test, batch_size, hsz, drop_rate, lr, epochs, k):\n",
    "        self.tr = tr\n",
    "        self.val = val\n",
    "        self.test = test\n",
    "        self.num_items = tr['ItemId'].nunique()\n",
    "        self.num_users = tr['UserId'].nunique()\n",
    "        self.batch_size = batch_size\n",
    "        self.hsz = hsz\n",
    "        self.drop_rate = drop_rate\n",
    "        self.lr = lr\n",
    "        self.epochs = epochs\n",
    "        self.k = k\n",
    "\n",
    "args = Args(tr, val, test, batch_size=256, hsz=50, drop_rate=0.1, lr=0.001, epochs=5, k=20)"
   ]
  },
  {
   "cell_type": "code",
   "execution_count": 27,
   "id": "deb393c4",
   "metadata": {
    "scrolled": false
   },
   "outputs": [
    {
     "name": "stdout",
     "output_type": "stream",
     "text": [
      "Model: \"model\"\n",
      "_________________________________________________________________\n",
      "Layer (type)                 Output Shape              Param #   \n",
      "=================================================================\n",
      "input_1 (InputLayer)         [(256, 1, 3569)]          0         \n",
      "_________________________________________________________________\n",
      "GRU (GRU)                    [(256, 50), (256, 50)]    543150    \n",
      "_________________________________________________________________\n",
      "dropout (Dropout)            (256, 50)                 0         \n",
      "_________________________________________________________________\n",
      "dense (Dense)                (256, 3569)               182019    \n",
      "=================================================================\n",
      "Total params: 725,169\n",
      "Trainable params: 725,169\n",
      "Non-trainable params: 0\n",
      "_________________________________________________________________\n"
     ]
    }
   ],
   "source": [
    "model = create_model(args)"
   ]
  },
  {
   "cell_type": "markdown",
   "id": "e1b1e417",
   "metadata": {},
   "source": [
    "## 학습 시작"
   ]
  },
  {
   "cell_type": "code",
   "execution_count": 28,
   "id": "8e85ffff",
   "metadata": {},
   "outputs": [],
   "source": [
    "# train 셋으로 학습하면서 valid 셋으로 검증합니다.\n",
    "def train_model(model, args):\n",
    "    train_dataset = SessionDataset(args.tr)\n",
    "    train_loader = SessionDataLoader(train_dataset, batch_size=args.batch_size)\n",
    "\n",
    "    for epoch in range(1, args.epochs + 1):\n",
    "        total_step = len(args.tr) - args.tr['UserId'].nunique()\n",
    "        tr_loader = tqdm(train_loader, total=total_step // args.batch_size, desc='Train', mininterval=1)\n",
    "        for feat, target, mask in tr_loader:\n",
    "            reset_hidden_states(model, mask)  # 종료된 session은 hidden_state를 초기화합니다. 아래 메서드에서 확인해주세요.\n",
    "\n",
    "            input_ohe = to_categorical(feat, num_classes=args.num_items)\n",
    "            input_ohe = np.expand_dims(input_ohe, axis=1)\n",
    "            target_ohe = to_categorical(target, num_classes=args.num_items)\n",
    "\n",
    "            result = model.train_on_batch(input_ohe, target_ohe)\n",
    "            tr_loader.set_postfix(train_loss=result[0], accuracy = result[1])\n",
    "\n",
    "        val_recall, val_mrr = get_metrics(args.val, model, args, args.k)  # valid set에 대해 검증합니다.\n",
    "\n",
    "        print(f\"\\t - Recall@{args.k} epoch {epoch}: {val_recall:3f}\")\n",
    "        print(f\"\\t - MRR@{args.k}    epoch {epoch}: {val_mrr:3f}\\n\")\n",
    "\n",
    "\n",
    "def reset_hidden_states(model, mask):\n",
    "    gru_layer = model.get_layer(name='GRU')  # model에서 gru layer를 가져옵니다.\n",
    "    hidden_states = gru_layer.states[0].numpy()  # gru_layer의 parameter를 가져옵니다.\n",
    "    for elt in mask:  # mask된 인덱스 즉, 종료된 세션의 인덱스를 돌면서\n",
    "        hidden_states[elt, :] = 0  # parameter를 초기화 합니다.\n",
    "    gru_layer.reset_states(states=hidden_states)\n",
    "\n",
    "\n",
    "def get_metrics(data, model, args, k: int):  # valid셋과 test셋을 평가하는 코드입니다. \n",
    "                                             # train과 거의 같지만 mrr, recall을 구하는 라인이 있습니다.\n",
    "    dataset = SessionDataset(data)\n",
    "    loader = SessionDataLoader(dataset, batch_size=args.batch_size)\n",
    "    recall_list, mrr_list = [], []\n",
    "\n",
    "    total_step = len(data) - data['UserId'].nunique()\n",
    "    for inputs, label, mask in tqdm(loader, total=total_step // args.batch_size, desc='Evaluation', mininterval=1):\n",
    "        reset_hidden_states(model, mask)\n",
    "        input_ohe = to_categorical(inputs, num_classes=args.num_items)\n",
    "        input_ohe = np.expand_dims(input_ohe, axis=1)\n",
    "        pred = model.predict(input_ohe, batch_size=args.batch_size)\n",
    "#         pred_arg = tf.nn.top_k(pred, k=124, sorted=True)[1]  # softmax 값이 큰 순서대로 sorting 합니다.\n",
    "        pred_arg = tf.argsort(pred, direction='DESCENDING')\n",
    "    \n",
    "        length = len(inputs)\n",
    "        recall_list.extend([recall_k(pred_arg[i], label[i], k) for i in range(length)])\n",
    "        mrr_list.extend([mrr_k(pred_arg[i], label[i], k) for i in range(length)])\n",
    "\n",
    "    recall, mrr = np.mean(recall_list), np.mean(mrr_list)\n",
    "    return recall, mrr"
   ]
  },
  {
   "cell_type": "code",
   "execution_count": 29,
   "id": "faeda4e0",
   "metadata": {
    "scrolled": false
   },
   "outputs": [
    {
     "name": "stderr",
     "output_type": "stream",
     "text": [
      "Train:  96%|█████████▌| 3486/3648 [03:36<00:10, 16.07it/s, accuracy=0.0156, train_loss=6.52] \n",
      "Evaluation:  14%|█▍        | 6/42 [00:09<00:57,  1.58s/it]\n"
     ]
    },
    {
     "name": "stdout",
     "output_type": "stream",
     "text": [
      "\t - Recall@20 epoch 1: 0.063802\n",
      "\t - MRR@20    epoch 1: 0.014872\n",
      "\n"
     ]
    },
    {
     "name": "stderr",
     "output_type": "stream",
     "text": [
      "Train:  96%|█████████▌| 3486/3648 [03:38<00:10, 15.95it/s, accuracy=0.0312, train_loss=6.1]  \n",
      "Evaluation:  14%|█▍        | 6/42 [00:08<00:51,  1.43s/it]\n"
     ]
    },
    {
     "name": "stdout",
     "output_type": "stream",
     "text": [
      "\t - Recall@20 epoch 2: 0.096354\n",
      "\t - MRR@20    epoch 2: 0.027316\n",
      "\n"
     ]
    },
    {
     "name": "stderr",
     "output_type": "stream",
     "text": [
      "Train:  96%|█████████▌| 3486/3648 [03:33<00:09, 16.31it/s, accuracy=0.0352, train_loss=5.92] \n",
      "Evaluation:  14%|█▍        | 6/42 [00:08<00:50,  1.40s/it]\n"
     ]
    },
    {
     "name": "stdout",
     "output_type": "stream",
     "text": [
      "\t - Recall@20 epoch 3: 0.105469\n",
      "\t - MRR@20    epoch 3: 0.030702\n",
      "\n"
     ]
    },
    {
     "name": "stderr",
     "output_type": "stream",
     "text": [
      "Train:  96%|█████████▌| 3486/3648 [03:31<00:09, 16.47it/s, accuracy=0.0469, train_loss=5.87] \n",
      "Evaluation:  14%|█▍        | 6/42 [00:08<00:51,  1.44s/it]\n"
     ]
    },
    {
     "name": "stdout",
     "output_type": "stream",
     "text": [
      "\t - Recall@20 epoch 4: 0.106771\n",
      "\t - MRR@20    epoch 4: 0.033625\n",
      "\n"
     ]
    },
    {
     "name": "stderr",
     "output_type": "stream",
     "text": [
      "Train:  96%|█████████▌| 3486/3648 [03:32<00:09, 16.41it/s, accuracy=0.0508, train_loss=5.77] \n",
      "Evaluation:  14%|█▍        | 6/42 [00:08<00:49,  1.39s/it]"
     ]
    },
    {
     "name": "stdout",
     "output_type": "stream",
     "text": [
      "\t - Recall@20 epoch 5: 0.112630\n",
      "\t - MRR@20    epoch 5: 0.034052\n",
      "\n"
     ]
    },
    {
     "name": "stderr",
     "output_type": "stream",
     "text": [
      "\n"
     ]
    }
   ],
   "source": [
    "train_model(model, args)\n"
   ]
  },
  {
   "cell_type": "markdown",
   "id": "b5ef0fb6",
   "metadata": {},
   "source": [
    "해당 progress 에서 Evaluatrion 은 Validation 에 대한 평가결과를 의미한다.  \n",
    "`epochs` 가 늘어날수록 train_loss 도 안정적으로 감소하고,   \n",
    "Recall 값과 MRR 값도 점차 상승하고 있다."
   ]
  },
  {
   "cell_type": "markdown",
   "id": "bead18ac",
   "metadata": {},
   "source": [
    "## 2-4.데이터 평가"
   ]
  },
  {
   "cell_type": "markdown",
   "id": "af5044b0",
   "metadata": {},
   "source": [
    "### 첫번째 시도"
   ]
  },
  {
   "cell_type": "code",
   "execution_count": 30,
   "id": "908d80e4",
   "metadata": {},
   "outputs": [],
   "source": [
    "def test_model(model, args, test):\n",
    "    test_recall, test_mrr = get_metrics(test, model, args, 20)\n",
    "    print(f\"\\t - Recall@{args.k}: {test_recall:3f}\")\n",
    "    print(f\"\\t - MRR@{args.k}: {test_mrr:3f}\\n\")"
   ]
  },
  {
   "cell_type": "markdown",
   "id": "4dd275a8",
   "metadata": {},
   "source": [
    "epochs = 5  \n",
    "batch size : 256  \n",
    "hsz = 50  \n",
    "drop rate = 0.1  \n",
    "learning rate = 0.001"
   ]
  },
  {
   "cell_type": "code",
   "execution_count": 31,
   "id": "ae225503",
   "metadata": {},
   "outputs": [
    {
     "name": "stderr",
     "output_type": "stream",
     "text": [
      "Evaluation:   7%|▋         | 2/30 [00:02<00:40,  1.44s/it]"
     ]
    },
    {
     "name": "stdout",
     "output_type": "stream",
     "text": [
      "\t - Recall@20: 0.107422\n",
      "\t - MRR@20: 0.039226\n",
      "\n"
     ]
    },
    {
     "name": "stderr",
     "output_type": "stream",
     "text": [
      "\n"
     ]
    }
   ],
   "source": [
    "test_model(model, args, test)"
   ]
  },
  {
   "cell_type": "markdown",
   "id": "3f318559",
   "metadata": {},
   "source": [
    "### 두번째 시도"
   ]
  },
  {
   "cell_type": "markdown",
   "id": "93958ca4",
   "metadata": {},
   "source": [
    "배치사이즈를 128로 줄여보았다."
   ]
  },
  {
   "cell_type": "markdown",
   "id": "e4bda0cb",
   "metadata": {},
   "source": [
    "epochs = 5  \n",
    "batch size : 128  \n",
    "hsz = 50  \n",
    "drop rate = 0.1  \n",
    "learning rate = 0.001"
   ]
  },
  {
   "cell_type": "code",
   "execution_count": 46,
   "id": "210d99a4",
   "metadata": {},
   "outputs": [
    {
     "name": "stdout",
     "output_type": "stream",
     "text": [
      "Model: \"model_1\"\n",
      "_________________________________________________________________\n",
      "Layer (type)                 Output Shape              Param #   \n",
      "=================================================================\n",
      "input_2 (InputLayer)         [(128, 1, 3569)]          0         \n",
      "_________________________________________________________________\n",
      "GRU (GRU)                    [(128, 50), (128, 50)]    543150    \n",
      "_________________________________________________________________\n",
      "dropout_1 (Dropout)          (128, 50)                 0         \n",
      "_________________________________________________________________\n",
      "dense_1 (Dense)              (128, 3569)               182019    \n",
      "=================================================================\n",
      "Total params: 725,169\n",
      "Trainable params: 725,169\n",
      "Non-trainable params: 0\n",
      "_________________________________________________________________\n"
     ]
    },
    {
     "name": "stderr",
     "output_type": "stream",
     "text": [
      "Train:  98%|█████████▊| 7142/7297 [02:09<00:02, 55.10it/s, accuracy=0.0234, train_loss=6.25] \n",
      "Evaluation:  45%|████▌     | 38/84 [00:23<00:28,  1.61it/s]\n"
     ]
    },
    {
     "name": "stdout",
     "output_type": "stream",
     "text": [
      "\t - Recall@20 epoch 1: 0.092722\n",
      "\t - MRR@20    epoch 1: 0.024149\n",
      "\n"
     ]
    },
    {
     "name": "stderr",
     "output_type": "stream",
     "text": [
      "Train:  98%|█████████▊| 7142/7297 [01:45<00:02, 67.71it/s, accuracy=0.0469, train_loss=5.83] \n",
      "Evaluation:  45%|████▌     | 38/84 [00:22<00:27,  1.66it/s]\n"
     ]
    },
    {
     "name": "stdout",
     "output_type": "stream",
     "text": [
      "\t - Recall@20 epoch 2: 0.120888\n",
      "\t - MRR@20    epoch 2: 0.034414\n",
      "\n"
     ]
    },
    {
     "name": "stderr",
     "output_type": "stream",
     "text": [
      "Train:  98%|█████████▊| 7142/7297 [01:44<00:02, 68.17it/s, accuracy=0.0312, train_loss=5.67] \n",
      "Evaluation:  45%|████▌     | 38/84 [00:22<00:27,  1.67it/s]\n"
     ]
    },
    {
     "name": "stdout",
     "output_type": "stream",
     "text": [
      "\t - Recall@20 epoch 3: 0.131785\n",
      "\t - MRR@20    epoch 3: 0.036571\n",
      "\n"
     ]
    },
    {
     "name": "stderr",
     "output_type": "stream",
     "text": [
      "Train:  98%|█████████▊| 7142/7297 [01:43<00:02, 68.97it/s, accuracy=0.0391, train_loss=5.63] \n",
      "Evaluation:  45%|████▌     | 38/84 [00:22<00:27,  1.68it/s]\n"
     ]
    },
    {
     "name": "stdout",
     "output_type": "stream",
     "text": [
      "\t - Recall@20 epoch 4: 0.132401\n",
      "\t - MRR@20    epoch 4: 0.039289\n",
      "\n"
     ]
    },
    {
     "name": "stderr",
     "output_type": "stream",
     "text": [
      "Train:  98%|█████████▊| 7142/7297 [01:43<00:02, 68.98it/s, accuracy=0.0469, train_loss=5.64] \n",
      "Evaluation:  45%|████▌     | 38/84 [00:22<00:27,  1.69it/s]"
     ]
    },
    {
     "name": "stdout",
     "output_type": "stream",
     "text": [
      "\t - Recall@20 epoch 5: 0.136308\n",
      "\t - MRR@20    epoch 5: 0.040794\n",
      "\n"
     ]
    },
    {
     "name": "stderr",
     "output_type": "stream",
     "text": [
      "\n"
     ]
    }
   ],
   "source": [
    "args = Args(tr, val, test, batch_size=128, hsz=50, drop_rate=0.1, lr=0.001, epochs=5, k=20)\n",
    "model = create_model(args)\n",
    "train_model(model, args)"
   ]
  },
  {
   "cell_type": "code",
   "execution_count": 48,
   "id": "20645fda",
   "metadata": {},
   "outputs": [
    {
     "name": "stderr",
     "output_type": "stream",
     "text": [
      "Evaluation:  38%|███▊      | 23/60 [00:13<00:21,  1.69it/s]"
     ]
    },
    {
     "name": "stdout",
     "output_type": "stream",
     "text": [
      "\t - Recall@20: 0.154891\n",
      "\t - MRR@20: 0.046065\n",
      "\n"
     ]
    },
    {
     "name": "stderr",
     "output_type": "stream",
     "text": [
      "\n"
     ]
    }
   ],
   "source": [
    "test_model(model, args, test)"
   ]
  },
  {
   "cell_type": "markdown",
   "id": "bdca2675",
   "metadata": {},
   "source": [
    "0.15  그리고 0.04 로, 이전 학습보다 더 좋은 결과가 나옴을 확인할 수 있다.\n"
   ]
  },
  {
   "cell_type": "markdown",
   "id": "587f8fc7",
   "metadata": {},
   "source": [
    "### 세번째 시도\n",
    "\n",
    "모델 내부의 GRU layer를 2 층 증가시켜 진행해보겠다.  \n",
    "[Session-base Rec with RNN 논문](https://arxiv.org/pdf/1511.06939v4.pdf)에서는 다음과 같은 내용이 나온다.\n",
    "\n",
    "> to GRU layers deeper in the network, as we found that this improves performance.  (ref.4 page)\n",
    "\n",
    "구조 안에서 GRU 레이어가 늘어날수록 학습효과가 상승한다는 내용이다.\n",
    "\n",
    "GRU 레이어와 함께 Dropout 도 진행해주었고, 수정사항은 다음과 같다.\n"
   ]
  },
  {
   "cell_type": "code",
   "execution_count": 39,
   "id": "ef1701e9",
   "metadata": {},
   "outputs": [],
   "source": [
    "def create_model(args):\n",
    "    inputs = Input(batch_shape=(args.batch_size, 1, args.num_items))\n",
    "    gru, _ = GRU(args.hsz, stateful=True, return_state=True, name='GRU')(inputs)\n",
    "    gru = gru[:, np.newaxis, :]\n",
    "    gru, _ = GRU(args.hsz, stateful=True, return_state=True, name='GRU2')(gru) #추가한 부분 -\n",
    "    gru = gru[:, np.newaxis, :]\n",
    "    gru, _ = GRU(args.hsz, stateful=True, return_state=True, name='GRU3')(gru) \n",
    "    dropout = Dropout(args.drop_rate)(gru) # - 추가한 부분\n",
    "    predictions = Dense(args.num_items, activation='softmax')(dropout)\n",
    "    model = Model(inputs=inputs, outputs=[predictions])\n",
    "    model.compile(loss=categorical_crossentropy, optimizer=Adam(args.lr), metrics=['accuracy'])\n",
    "    model.summary()\n",
    "    return model"
   ]
  },
  {
   "cell_type": "markdown",
   "id": "345e6d13",
   "metadata": {},
   "source": [
    "이에 더 좋은 결과가 나온 배치사이즈 128을 넣어 학습을 시켜본다."
   ]
  },
  {
   "cell_type": "code",
   "execution_count": 41,
   "id": "3de2d0f9",
   "metadata": {},
   "outputs": [
    {
     "name": "stdout",
     "output_type": "stream",
     "text": [
      "Model: \"model_3\"\n",
      "_________________________________________________________________\n",
      "Layer (type)                 Output Shape              Param #   \n",
      "=================================================================\n",
      "input_6 (InputLayer)         [(128, 1, 3569)]          0         \n",
      "_________________________________________________________________\n",
      "GRU (GRU)                    [(128, 50), (128, 50)]    543150    \n",
      "_________________________________________________________________\n",
      "tf.__operators__.getitem_4 ( (128, 1, 50)              0         \n",
      "_________________________________________________________________\n",
      "GRU2 (GRU)                   [(128, 50), (128, 50)]    15300     \n",
      "_________________________________________________________________\n",
      "tf.__operators__.getitem_5 ( (128, 1, 50)              0         \n",
      "_________________________________________________________________\n",
      "GRU3 (GRU)                   [(128, 50), (128, 50)]    15300     \n",
      "_________________________________________________________________\n",
      "dropout_4 (Dropout)          (128, 50)                 0         \n",
      "_________________________________________________________________\n",
      "dense_3 (Dense)              (128, 3569)               182019    \n",
      "=================================================================\n",
      "Total params: 755,769\n",
      "Trainable params: 755,769\n",
      "Non-trainable params: 0\n",
      "_________________________________________________________________\n"
     ]
    }
   ],
   "source": [
    "args = Args(tr, val, test, batch_size=128, hsz=50, drop_rate=0.1, lr=0.001, epochs=5, k=20)\n",
    "model = create_model(args)"
   ]
  },
  {
   "cell_type": "markdown",
   "id": "2cc9f9f0",
   "metadata": {},
   "source": [
    "파라미터가 약 30000개 늘어났다."
   ]
  },
  {
   "cell_type": "code",
   "execution_count": 42,
   "id": "12b96d57",
   "metadata": {},
   "outputs": [
    {
     "name": "stderr",
     "output_type": "stream",
     "text": [
      "Train:  98%|█████████▊| 7142/7297 [05:02<00:06, 23.63it/s, accuracy=0, train_loss=6.48]      \n",
      "Evaluation:  45%|████▌     | 38/84 [00:29<00:35,  1.29it/s]\n"
     ]
    },
    {
     "name": "stdout",
     "output_type": "stream",
     "text": [
      "\t - Recall@20 epoch 1: 0.081414\n",
      "\t - MRR@20    epoch 1: 0.018545\n",
      "\n"
     ]
    },
    {
     "name": "stderr",
     "output_type": "stream",
     "text": [
      "Train:  98%|█████████▊| 7142/7297 [04:57<00:06, 23.98it/s, accuracy=0.0312, train_loss=5.97] \n",
      "Evaluation:  45%|████▌     | 38/84 [00:28<00:34,  1.31it/s]\n"
     ]
    },
    {
     "name": "stdout",
     "output_type": "stream",
     "text": [
      "\t - Recall@20 epoch 2: 0.106086\n",
      "\t - MRR@20    epoch 2: 0.026324\n",
      "\n"
     ]
    },
    {
     "name": "stderr",
     "output_type": "stream",
     "text": [
      "Train:  98%|█████████▊| 7142/7297 [04:54<00:06, 24.26it/s, accuracy=0.0391, train_loss=5.77] \n",
      "Evaluation:  45%|████▌     | 38/84 [00:27<00:33,  1.36it/s]\n"
     ]
    },
    {
     "name": "stdout",
     "output_type": "stream",
     "text": [
      "\t - Recall@20 epoch 3: 0.120271\n",
      "\t - MRR@20    epoch 3: 0.030473\n",
      "\n"
     ]
    },
    {
     "name": "stderr",
     "output_type": "stream",
     "text": [
      "Train:  98%|█████████▊| 7142/7297 [04:55<00:06, 24.20it/s, accuracy=0.0469, train_loss=5.66] \n",
      "Evaluation:  45%|████▌     | 38/84 [00:27<00:32,  1.40it/s]\n"
     ]
    },
    {
     "name": "stdout",
     "output_type": "stream",
     "text": [
      "\t - Recall@20 epoch 4: 0.126028\n",
      "\t - MRR@20    epoch 4: 0.032030\n",
      "\n"
     ]
    },
    {
     "name": "stderr",
     "output_type": "stream",
     "text": [
      "Train:  98%|█████████▊| 7142/7297 [04:57<00:06, 24.04it/s, accuracy=0.0391, train_loss=5.6]  \n",
      "Evaluation:  45%|████▌     | 38/84 [00:27<00:33,  1.38it/s]"
     ]
    },
    {
     "name": "stdout",
     "output_type": "stream",
     "text": [
      "\t - Recall@20 epoch 5: 0.129112\n",
      "\t - MRR@20    epoch 5: 0.035185\n",
      "\n"
     ]
    },
    {
     "name": "stderr",
     "output_type": "stream",
     "text": [
      "\n"
     ]
    }
   ],
   "source": [
    "train_model(model, args)"
   ]
  },
  {
   "cell_type": "code",
   "execution_count": 43,
   "id": "34b395aa",
   "metadata": {},
   "outputs": [
    {
     "name": "stderr",
     "output_type": "stream",
     "text": [
      "Evaluation:  38%|███▊      | 23/60 [00:16<00:27,  1.37it/s]"
     ]
    },
    {
     "name": "stdout",
     "output_type": "stream",
     "text": [
      "\t - Recall@20: 0.138247\n",
      "\t - MRR@20: 0.037771\n",
      "\n"
     ]
    },
    {
     "name": "stderr",
     "output_type": "stream",
     "text": [
      "\n"
     ]
    }
   ],
   "source": [
    "test_model(model, args, test)"
   ]
  },
  {
   "cell_type": "markdown",
   "id": "16abf847",
   "metadata": {},
   "source": [
    "---\n",
    "\n",
    "### 최종 평가\n",
    "\n",
    "|시도|구성|결과|\n",
    "|--|--|--|\n",
    "|첫번째|기본구성|Recall : 0.10 , MRR : 0.03 |\n",
    "|두번째|배치사이즈 128|Recall : 0.15, MRR : 0.04|\n",
    "|세번째|배치사이즈 128 + 2 GRU layer|Recall : 0.13, MRR : 0.03|\n",
    "\n",
    "결과적으로 GRU layer 을 추가한 것보다 batch size 만 줄인 것이 더 큰 정확도를 보였다.\n",
    "\n"
   ]
  },
  {
   "cell_type": "code",
   "execution_count": null,
   "id": "8a8867a3",
   "metadata": {},
   "outputs": [],
   "source": []
  },
  {
   "cell_type": "markdown",
   "id": "1550aa07",
   "metadata": {},
   "source": [
    "# 3. POTG\n",
    "## 3-1. 소감"
   ]
  },
  {
   "cell_type": "markdown",
   "id": "f068042a",
   "metadata": {},
   "source": [
    "#### \" 😉 Item 이 무엇인지 알 수가 없어 어떤 영화가 추천됐는지 알 수가 없는게 아쉽습니다,, \"\n",
    "\n",
    "RNN 내부 구조에 대한 이해가 부족하다고 생각합니다. 추천시스템을 위해 NLP 공부를 다시 해야겠다고 느꼈습니다..  \n",
    "전체적인 맥락은 다 이해했지만, 중간 모델 설계 부분이 이해가 되지 않습니다.\n",
    "\n",
    "이 부분만 완전히 파악한다면 더 나은 모델을 설계할 수 있을 것이라 느낍니다!"
   ]
  },
  {
   "cell_type": "markdown",
   "id": "c11800b0",
   "metadata": {},
   "source": [
    "## 3-2. 어려웠던 점과 극복방안"
   ]
  },
  {
   "attachments": {
    "image-2.png": {
     "image/png": "[encoded data removed]"
    },
    "image.png": {
     "image/png": "[encoded data removed]"
    }
   },
   "cell_type": "markdown",
   "id": "12f6f59f",
   "metadata": {},
   "source": [
    "1. 시간 데이터 처리  \n",
    "우리가 가지고 있는 데이터는 1970년도 기준으로 얼마나 지났는지를 초단위로 알려주는 데이터이다.\n",
    "![image.png](attachment:image.png)\n",
    "\n",
    "난 처음에 97년도 데이터부터 있는 줄 알았다.\n",
    "이걸 직관적으로 보기 위해선 년-월-일 개념으로 다시 바꿔줄 필요가 있었다.\n",
    "\n",
    "`data['Time'] = pd.to_datetime(data['Time'], unit='s')` 를 통해 바꾸었다.\n",
    "\n",
    "2. 모델 변경 - GRU layer 증가\n",
    "GRU 가 정확히 무슨 layer인지 이해가 부족했다. \n",
    "\n",
    "> GRU ; Gated Recuurent Unit.  \n",
    "\n",
    "GRU는 LSTM 과 비슷한 역할을 하지만 더 간단한 구조로 되어 있다.  \n",
    "GRU 에는 LSTM 의 `cell` 이 없는 대신 출력 `h`에서 그 역할을 함께 수행한다.\n",
    "\n",
    "![image-2.png](attachment:image-2.png)\n",
    "\n",
    "전체적인 작동원리는 알았다. 그런데, 내가 이 layer를 쓰기 위해선  \n",
    "결과적으로 어떤 input이 들어가서 어떤 output 이 나오는지 알아야 했다.\n",
    "\n",
    "그래서 tensorflow 홈페이지에서 GRU 메서드에 대한 설명을 찾아봤다.\n",
    "\n",
    "그 과정에서, `return_state` 라는 파라미터는 마지막 state 를 반환함을 알았다.  \n",
    "그리고 GRU 모델 구조를 살펴보면서 3차원의 데이터가 2차원으로 축소함을 알았다.  \n",
    "\n",
    "그렇다면 다시 GRU 모델을 쓰고싶다면 그 2차원의 데이터를 3차원으로 증가시켜야겠지? \n",
    "그래서 배열 차원을 억지로 증가시킬 수 있는 array 메서드를 찾아 보았다.\n",
    "\n",
    "그래서 찾은 메서드가 `np.newaxis`\n",
    "\n",
    "이걸 통해 중간에 차원을 증가시켜서 GRU 가 여러번 돌아갈 수 있도록 바꿔주었다.\n"
   ]
  },
  {
   "cell_type": "markdown",
   "id": "04f07c5e",
   "metadata": {},
   "source": [
    "## 3-3. 추후"
   ]
  },
  {
   "cell_type": "markdown",
   "id": "fedcc9bb",
   "metadata": {},
   "source": [
    "NLP 분야를 Going Deeper 할 예정이니만큼 순환 신경망에 대해 좀 더 확실하게 짚고 넘어가겠습니다."
   ]
  },
  {
   "cell_type": "code",
   "execution_count": null,
   "id": "7dd1762f",
   "metadata": {},
   "outputs": [],
   "source": []
  }
 ],
 "metadata": {
  "kernelspec": {
   "display_name": "Python 3 (ipykernel)",
   "language": "python",
   "name": "python3"
  },
  "language_info": {
   "codemirror_mode": {
    "name": "ipython",
    "version": 3
   },
   "file_extension": ".py",
   "mimetype": "text/x-python",
   "name": "python",
   "nbconvert_exporter": "python",
   "pygments_lexer": "ipython3",
   "version": "3.9.7"
  }
 },
 "nbformat": 4,
 "nbformat_minor": 5
}
