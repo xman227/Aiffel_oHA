{
 "cells": [
  {
   "attachments": {
    "image.png": {
     "image/png": "[encoded data removed]"
    }
   },
   "cell_type": "markdown",
   "id": "da581a0e",
   "metadata": {},
   "source": [
    "![image.png](attachment:image.png)"
   ]
  },
  {
   "cell_type": "markdown",
   "id": "338c5745",
   "metadata": {},
   "source": [
    "## Contexts\n",
    "\n",
    "### 1. READY\n",
    "    1-1 오늘의 Exp와 Rubric  \n",
    "    1-2 사용하는 라이브러리  \n",
    "\n",
    "### 2. GAME\n",
    "    2-1. 데이터 읽어오기  \n",
    "    2-2. 데이터 전처리  \n",
    "    2-3. 데이터 분석\n",
    "    2-4. 모델 생성\n",
    "        -1. CSR matrix \n",
    "        -2. MF 모델 학습\n",
    "        \n",
    "    2-5. 데이터 평가   \n",
    "\n",
    "### 3. POTG (best Play Of The Game\n",
    "    3-1. 소감(POTG)  \n",
    "    3-2. 어려웠던 점과 극복방안  \n",
    "    3-3. 추후  \n",
    "\n",
    "---\n"
   ]
  },
  {
   "cell_type": "markdown",
   "id": "252e7bd2",
   "metadata": {},
   "source": [
    "# 1. Ready\n",
    "## 1-1. 오늘의 Exp와 Rubric\n"
   ]
  },
  {
   "cell_type": "markdown",
   "id": "646085fd",
   "metadata": {},
   "source": [
    "\n",
    "\n",
    "오늘은 Movielens 데이터를 통해 영화 추천 시스템을만들어보도록 한다.\n",
    "\n",
    "오늘의 Rubric 은 다음과 같다.\n",
    "\n",
    "|평가문항|상세기준|\n",
    "|---|---|\n",
    "|1. CSR matrix가 정상적으로 만들어졌다.|사용자와 아이템 개수를 바탕으로 정확한 사이즈로 만들었다.|\n",
    "|2. MF 모델이 정상적으로 훈련되어 그럴듯한 추천이 이루어졌다.|사용자와 아이템 벡터 내적수치가 의미있게 형성되었다.|\n",
    "|3. 비슷한 영화 찾기와 유저에게 추천하기의 과정이 정상적으로 진행되었다.|MF모델이 예측한 유저 선호도 및 아이템간 유사도, 기여도가 의미있게 측정되었다.|\n",
    "\n"
   ]
  },
  {
   "cell_type": "markdown",
   "id": "cd7cc71b",
   "metadata": {},
   "source": [
    "## 1-2. 사용하는 라이브러리"
   ]
  },
  {
   "cell_type": "code",
   "execution_count": 1,
   "id": "bdc79283",
   "metadata": {},
   "outputs": [],
   "source": [
    "import pandas as pd\n",
    "import numpy as np\n",
    "\n",
    "import os\n",
    "import datetime as dt\n",
    "from pathlib import Path\n",
    "import matplotlib.pyplot as plt\n",
    "\n",
    "from implicit.als import AlternatingLeastSquares #추천 모델\n",
    "from scipy.sparse import csr_matrix # 추천 알고리즘 라이브러리\n",
    "\n",
    "\n",
    "import warnings\n",
    "warnings.filterwarnings('ignore')"
   ]
  },
  {
   "cell_type": "markdown",
   "id": "86b7b3a1",
   "metadata": {},
   "source": [
    "# 2. GAME\n",
    "## 2-1. 데이터 읽어오기"
   ]
  },
  {
   "cell_type": "markdown",
   "id": "edec6d5d",
   "metadata": {},
   "source": [
    "이번에 활용할 데이터셋은 추천 시스템의 MNIST라고 부를만한 Movielens 데이터 이다.\n",
    "\n"
   ]
  },
  {
   "cell_type": "code",
   "execution_count": 2,
   "id": "6e6d4138",
   "metadata": {},
   "outputs": [
    {
     "data": {
      "text/html": [
       "<div>\n",
       "<style scoped>\n",
       "    .dataframe tbody tr th:only-of-type {\n",
       "        vertical-align: middle;\n",
       "    }\n",
       "\n",
       "    .dataframe tbody tr th {\n",
       "        vertical-align: top;\n",
       "    }\n",
       "\n",
       "    .dataframe thead th {\n",
       "        text-align: right;\n",
       "    }\n",
       "</style>\n",
       "<table border=\"1\" class=\"dataframe\">\n",
       "  <thead>\n",
       "    <tr style=\"text-align: right;\">\n",
       "      <th></th>\n",
       "      <th>user_id</th>\n",
       "      <th>movie_id</th>\n",
       "      <th>ratings</th>\n",
       "      <th>timestamp</th>\n",
       "    </tr>\n",
       "  </thead>\n",
       "  <tbody>\n",
       "    <tr>\n",
       "      <th>0</th>\n",
       "      <td>1</td>\n",
       "      <td>1193</td>\n",
       "      <td>5</td>\n",
       "      <td>978300760</td>\n",
       "    </tr>\n",
       "    <tr>\n",
       "      <th>1</th>\n",
       "      <td>1</td>\n",
       "      <td>661</td>\n",
       "      <td>3</td>\n",
       "      <td>978302109</td>\n",
       "    </tr>\n",
       "    <tr>\n",
       "      <th>2</th>\n",
       "      <td>1</td>\n",
       "      <td>914</td>\n",
       "      <td>3</td>\n",
       "      <td>978301968</td>\n",
       "    </tr>\n",
       "    <tr>\n",
       "      <th>3</th>\n",
       "      <td>1</td>\n",
       "      <td>3408</td>\n",
       "      <td>4</td>\n",
       "      <td>978300275</td>\n",
       "    </tr>\n",
       "    <tr>\n",
       "      <th>4</th>\n",
       "      <td>1</td>\n",
       "      <td>2355</td>\n",
       "      <td>5</td>\n",
       "      <td>978824291</td>\n",
       "    </tr>\n",
       "  </tbody>\n",
       "</table>\n",
       "</div>"
      ],
      "text/plain": [
       "   user_id  movie_id  ratings  timestamp\n",
       "0        1      1193        5  978300760\n",
       "1        1       661        3  978302109\n",
       "2        1       914        3  978301968\n",
       "3        1      3408        4  978300275\n",
       "4        1      2355        5  978824291"
      ]
     },
     "execution_count": 2,
     "metadata": {},
     "output_type": "execute_result"
    }
   ],
   "source": [
    "\n",
    "\n",
    "rating_file_path=os.getenv('HOME') + '/aiffel/recommendata_iu/data/ml-1m/ratings.dat'\n",
    "ratings_cols = ['user_id', 'movie_id', 'ratings', 'timestamp']\n",
    "ratings = pd.read_csv(rating_file_path, sep='::', names=ratings_cols, engine='python', encoding = \"ISO-8859-1\")\n",
    "orginal_data_size = len(ratings)\n",
    "ratings.head()"
   ]
  },
  {
   "cell_type": "markdown",
   "id": "6b43cb53",
   "metadata": {},
   "source": [
    "## 2-2.데이터 전처리"
   ]
  },
  {
   "cell_type": "code",
   "execution_count": 3,
   "id": "2e0ab46b",
   "metadata": {},
   "outputs": [
    {
     "name": "stdout",
     "output_type": "stream",
     "text": [
      "orginal_data_size: 1000209, filtered_data_size: 836478\n",
      "Ratio of Remaining Data is 83.63%\n"
     ]
    }
   ],
   "source": [
    "# 3점 이상만 남깁니다.\n",
    "ratings = ratings[ratings['ratings']>=3]\n",
    "filtered_data_size = len(ratings)\n",
    "\n",
    "print(f'orginal_data_size: {orginal_data_size}, filtered_data_size: {filtered_data_size}')\n",
    "print(f'Ratio of Remaining Data is {filtered_data_size / orginal_data_size:.2%}')"
   ]
  },
  {
   "cell_type": "code",
   "execution_count": 4,
   "id": "e8a81b17",
   "metadata": {},
   "outputs": [],
   "source": [
    "# ratings 컬럼의 이름을 counts로 바꿉니다.\n",
    "ratings.rename(columns={'ratings':'counts'}, inplace=True)"
   ]
  },
  {
   "cell_type": "code",
   "execution_count": 5,
   "id": "45080394",
   "metadata": {},
   "outputs": [
    {
     "data": {
      "text/plain": [
       "0          5\n",
       "1          3\n",
       "2          3\n",
       "3          4\n",
       "4          5\n",
       "          ..\n",
       "1000203    3\n",
       "1000205    5\n",
       "1000206    5\n",
       "1000207    4\n",
       "1000208    4\n",
       "Name: counts, Length: 836478, dtype: int64"
      ]
     },
     "execution_count": 5,
     "metadata": {},
     "output_type": "execute_result"
    }
   ],
   "source": [
    "ratings['counts']"
   ]
  },
  {
   "cell_type": "code",
   "execution_count": 6,
   "id": "045e7852",
   "metadata": {},
   "outputs": [
    {
     "data": {
      "text/html": [
       "<div>\n",
       "<style scoped>\n",
       "    .dataframe tbody tr th:only-of-type {\n",
       "        vertical-align: middle;\n",
       "    }\n",
       "\n",
       "    .dataframe tbody tr th {\n",
       "        vertical-align: top;\n",
       "    }\n",
       "\n",
       "    .dataframe thead th {\n",
       "        text-align: right;\n",
       "    }\n",
       "</style>\n",
       "<table border=\"1\" class=\"dataframe\">\n",
       "  <thead>\n",
       "    <tr style=\"text-align: right;\">\n",
       "      <th></th>\n",
       "      <th>movie_id</th>\n",
       "      <th>title</th>\n",
       "      <th>genre</th>\n",
       "    </tr>\n",
       "  </thead>\n",
       "  <tbody>\n",
       "    <tr>\n",
       "      <th>0</th>\n",
       "      <td>1</td>\n",
       "      <td>Toy Story (1995)</td>\n",
       "      <td>Animation|Children's|Comedy</td>\n",
       "    </tr>\n",
       "    <tr>\n",
       "      <th>1</th>\n",
       "      <td>2</td>\n",
       "      <td>Jumanji (1995)</td>\n",
       "      <td>Adventure|Children's|Fantasy</td>\n",
       "    </tr>\n",
       "    <tr>\n",
       "      <th>2</th>\n",
       "      <td>3</td>\n",
       "      <td>Grumpier Old Men (1995)</td>\n",
       "      <td>Comedy|Romance</td>\n",
       "    </tr>\n",
       "    <tr>\n",
       "      <th>3</th>\n",
       "      <td>4</td>\n",
       "      <td>Waiting to Exhale (1995)</td>\n",
       "      <td>Comedy|Drama</td>\n",
       "    </tr>\n",
       "    <tr>\n",
       "      <th>4</th>\n",
       "      <td>5</td>\n",
       "      <td>Father of the Bride Part II (1995)</td>\n",
       "      <td>Comedy</td>\n",
       "    </tr>\n",
       "  </tbody>\n",
       "</table>\n",
       "</div>"
      ],
      "text/plain": [
       "   movie_id                               title                         genre\n",
       "0         1                    Toy Story (1995)   Animation|Children's|Comedy\n",
       "1         2                      Jumanji (1995)  Adventure|Children's|Fantasy\n",
       "2         3             Grumpier Old Men (1995)                Comedy|Romance\n",
       "3         4            Waiting to Exhale (1995)                  Comedy|Drama\n",
       "4         5  Father of the Bride Part II (1995)                        Comedy"
      ]
     },
     "execution_count": 6,
     "metadata": {},
     "output_type": "execute_result"
    }
   ],
   "source": [
    "# 영화 제목을 보기 위해 메타 데이터를 읽어옵니다.\n",
    "movie_file_path=os.getenv('HOME') + '/aiffel/recommendata_iu/data/ml-1m/movies.dat'\n",
    "cols = ['movie_id', 'title', 'genre'] \n",
    "movies = pd.read_csv(movie_file_path, sep='::', names=cols, engine='python', encoding='ISO-8859-1')\n",
    "movies.head()"
   ]
  },
  {
   "cell_type": "code",
   "execution_count": 7,
   "id": "00a1e2e2",
   "metadata": {},
   "outputs": [],
   "source": [
    "# movie_id 를 통해 title을 얻을 수 있도록 dictionary 생성\n",
    "movie_dic = {}\n",
    "for i in range(len(movies)):\n",
    "    movie_dic[movies.values[i][0]] = movies.values[i][1]"
   ]
  },
  {
   "cell_type": "code",
   "execution_count": 8,
   "id": "ab585aaf",
   "metadata": {},
   "outputs": [],
   "source": [
    "# ratings에 새로운 열 추가\n",
    "mv_title = []\n",
    "for i in range(len(ratings)):\n",
    "    mv_title.append(movie_dic[ratings.values[i][1]])\n",
    "\n",
    "ratings['title'] = mv_title"
   ]
  },
  {
   "cell_type": "code",
   "execution_count": 9,
   "id": "979d460a",
   "metadata": {},
   "outputs": [
    {
     "data": {
      "text/html": [
       "<div>\n",
       "<style scoped>\n",
       "    .dataframe tbody tr th:only-of-type {\n",
       "        vertical-align: middle;\n",
       "    }\n",
       "\n",
       "    .dataframe tbody tr th {\n",
       "        vertical-align: top;\n",
       "    }\n",
       "\n",
       "    .dataframe thead th {\n",
       "        text-align: right;\n",
       "    }\n",
       "</style>\n",
       "<table border=\"1\" class=\"dataframe\">\n",
       "  <thead>\n",
       "    <tr style=\"text-align: right;\">\n",
       "      <th></th>\n",
       "      <th>user_id</th>\n",
       "      <th>movie_id</th>\n",
       "      <th>counts</th>\n",
       "      <th>timestamp</th>\n",
       "      <th>title</th>\n",
       "    </tr>\n",
       "  </thead>\n",
       "  <tbody>\n",
       "    <tr>\n",
       "      <th>0</th>\n",
       "      <td>1</td>\n",
       "      <td>1193</td>\n",
       "      <td>5</td>\n",
       "      <td>978300760</td>\n",
       "      <td>One Flew Over the Cuckoo's Nest (1975)</td>\n",
       "    </tr>\n",
       "    <tr>\n",
       "      <th>1</th>\n",
       "      <td>1</td>\n",
       "      <td>661</td>\n",
       "      <td>3</td>\n",
       "      <td>978302109</td>\n",
       "      <td>James and the Giant Peach (1996)</td>\n",
       "    </tr>\n",
       "    <tr>\n",
       "      <th>2</th>\n",
       "      <td>1</td>\n",
       "      <td>914</td>\n",
       "      <td>3</td>\n",
       "      <td>978301968</td>\n",
       "      <td>My Fair Lady (1964)</td>\n",
       "    </tr>\n",
       "    <tr>\n",
       "      <th>3</th>\n",
       "      <td>1</td>\n",
       "      <td>3408</td>\n",
       "      <td>4</td>\n",
       "      <td>978300275</td>\n",
       "      <td>Erin Brockovich (2000)</td>\n",
       "    </tr>\n",
       "    <tr>\n",
       "      <th>4</th>\n",
       "      <td>1</td>\n",
       "      <td>2355</td>\n",
       "      <td>5</td>\n",
       "      <td>978824291</td>\n",
       "      <td>Bug's Life, A (1998)</td>\n",
       "    </tr>\n",
       "  </tbody>\n",
       "</table>\n",
       "</div>"
      ],
      "text/plain": [
       "   user_id  movie_id  counts  timestamp  \\\n",
       "0        1      1193       5  978300760   \n",
       "1        1       661       3  978302109   \n",
       "2        1       914       3  978301968   \n",
       "3        1      3408       4  978300275   \n",
       "4        1      2355       5  978824291   \n",
       "\n",
       "                                    title  \n",
       "0  One Flew Over the Cuckoo's Nest (1975)  \n",
       "1        James and the Giant Peach (1996)  \n",
       "2                     My Fair Lady (1964)  \n",
       "3                  Erin Brockovich (2000)  \n",
       "4                    Bug's Life, A (1998)  "
      ]
     },
     "execution_count": 9,
     "metadata": {},
     "output_type": "execute_result"
    }
   ],
   "source": [
    "ratings.head()\n"
   ]
  },
  {
   "cell_type": "markdown",
   "id": "f8667b08",
   "metadata": {},
   "source": [
    "## 2-3.데이터 분석"
   ]
  },
  {
   "cell_type": "code",
   "execution_count": 10,
   "id": "1f437a53",
   "metadata": {},
   "outputs": [
    {
     "data": {
      "text/plain": [
       "3628"
      ]
     },
     "execution_count": 10,
     "metadata": {},
     "output_type": "execute_result"
    }
   ],
   "source": [
    "# ratings에 있는 유니크한 영화 개수\n",
    "ratings['movie_id'].nunique()"
   ]
  },
  {
   "cell_type": "code",
   "execution_count": 11,
   "id": "20323aba",
   "metadata": {},
   "outputs": [
    {
     "data": {
      "text/plain": [
       "3628"
      ]
     },
     "execution_count": 11,
     "metadata": {},
     "output_type": "execute_result"
    }
   ],
   "source": [
    "ratings['title'].nunique()"
   ]
  },
  {
   "cell_type": "code",
   "execution_count": 12,
   "id": "092f55a8",
   "metadata": {},
   "outputs": [
    {
     "data": {
      "text/plain": [
       "6039"
      ]
     },
     "execution_count": 12,
     "metadata": {},
     "output_type": "execute_result"
    }
   ],
   "source": [
    "# ratings에 있는 유니크한 사용자 수\n",
    "ratings['user_id'].nunique()"
   ]
  },
  {
   "cell_type": "code",
   "execution_count": 13,
   "id": "2212c6b1",
   "metadata": {
    "scrolled": true
   },
   "outputs": [
    {
     "data": {
      "text/plain": [
       "title\n",
       "American Beauty (1999)                                   3211\n",
       "Star Wars: Episode IV - A New Hope (1977)                2910\n",
       "Star Wars: Episode V - The Empire Strikes Back (1980)    2885\n",
       "Star Wars: Episode VI - Return of the Jedi (1983)        2716\n",
       "Saving Private Ryan (1998)                               2561\n",
       "Terminator 2: Judgment Day (1991)                        2509\n",
       "Silence of the Lambs, The (1991)                         2498\n",
       "Raiders of the Lost Ark (1981)                           2473\n",
       "Back to the Future (1985)                                2460\n",
       "Matrix, The (1999)                                       2434\n",
       "Jurassic Park (1993)                                     2413\n",
       "Sixth Sense, The (1999)                                  2385\n",
       "Fargo (1996)                                             2371\n",
       "Braveheart (1995)                                        2314\n",
       "Men in Black (1997)                                      2297\n",
       "Schindler's List (1993)                                  2257\n",
       "Princess Bride, The (1987)                               2252\n",
       "Shakespeare in Love (1998)                               2213\n",
       "L.A. Confidential (1997)                                 2210\n",
       "Shawshank Redemption, The (1994)                         2194\n",
       "Godfather, The (1972)                                    2167\n",
       "Groundhog Day (1993)                                     2121\n",
       "E.T. the Extra-Terrestrial (1982)                        2102\n",
       "Being John Malkovich (1999)                              2066\n",
       "Ghostbusters (1984)                                      2051\n",
       "Pulp Fiction (1994)                                      2030\n",
       "Forrest Gump (1994)                                      2022\n",
       "Terminator, The (1984)                                   2019\n",
       "Toy Story (1995)                                         2000\n",
       "Fugitive, The (1993)                                     1941\n",
       "Name: user_id, dtype: int64"
      ]
     },
     "execution_count": 13,
     "metadata": {},
     "output_type": "execute_result"
    }
   ],
   "source": [
    "# 가장 인기 있는 영화 30개(인기순)\n",
    "movie_count = ratings.groupby('title')['user_id'].count()\n",
    "movie_count_30 = movie_count.sort_values(ascending=False).head(30)\n",
    "movie_count_30"
   ]
  },
  {
   "cell_type": "markdown",
   "id": "46ee3c52",
   "metadata": {},
   "source": [
    "내가 선호하는 영화를 5개 골라 Ratings 에 추가했다."
   ]
  },
  {
   "cell_type": "code",
   "execution_count": 14,
   "id": "1e654d07",
   "metadata": {},
   "outputs": [
    {
     "data": {
      "text/html": [
       "<div>\n",
       "<style scoped>\n",
       "    .dataframe tbody tr th:only-of-type {\n",
       "        vertical-align: middle;\n",
       "    }\n",
       "\n",
       "    .dataframe tbody tr th {\n",
       "        vertical-align: top;\n",
       "    }\n",
       "\n",
       "    .dataframe thead th {\n",
       "        text-align: right;\n",
       "    }\n",
       "</style>\n",
       "<table border=\"1\" class=\"dataframe\">\n",
       "  <thead>\n",
       "    <tr style=\"text-align: right;\">\n",
       "      <th></th>\n",
       "      <th>user_id</th>\n",
       "      <th>movie_id</th>\n",
       "      <th>counts</th>\n",
       "      <th>timestamp</th>\n",
       "      <th>title</th>\n",
       "    </tr>\n",
       "  </thead>\n",
       "  <tbody>\n",
       "    <tr>\n",
       "      <th>1000203</th>\n",
       "      <td>6040</td>\n",
       "      <td>1090.0</td>\n",
       "      <td>3</td>\n",
       "      <td>956715518.0</td>\n",
       "      <td>Platoon (1986)</td>\n",
       "    </tr>\n",
       "    <tr>\n",
       "      <th>1000205</th>\n",
       "      <td>6040</td>\n",
       "      <td>1094.0</td>\n",
       "      <td>5</td>\n",
       "      <td>956704887.0</td>\n",
       "      <td>Crying Game, The (1992)</td>\n",
       "    </tr>\n",
       "    <tr>\n",
       "      <th>1000206</th>\n",
       "      <td>6040</td>\n",
       "      <td>562.0</td>\n",
       "      <td>5</td>\n",
       "      <td>956704746.0</td>\n",
       "      <td>Welcome to the Dollhouse (1995)</td>\n",
       "    </tr>\n",
       "    <tr>\n",
       "      <th>1000207</th>\n",
       "      <td>6040</td>\n",
       "      <td>1096.0</td>\n",
       "      <td>4</td>\n",
       "      <td>956715648.0</td>\n",
       "      <td>Sophie's Choice (1982)</td>\n",
       "    </tr>\n",
       "    <tr>\n",
       "      <th>1000208</th>\n",
       "      <td>6040</td>\n",
       "      <td>1097.0</td>\n",
       "      <td>4</td>\n",
       "      <td>956715569.0</td>\n",
       "      <td>E.T. the Extra-Terrestrial (1982)</td>\n",
       "    </tr>\n",
       "    <tr>\n",
       "      <th>0</th>\n",
       "      <td>Ha</td>\n",
       "      <td>NaN</td>\n",
       "      <td>5</td>\n",
       "      <td>NaN</td>\n",
       "      <td>Showman</td>\n",
       "    </tr>\n",
       "    <tr>\n",
       "      <th>1</th>\n",
       "      <td>Ha</td>\n",
       "      <td>NaN</td>\n",
       "      <td>5</td>\n",
       "      <td>NaN</td>\n",
       "      <td>Toystory</td>\n",
       "    </tr>\n",
       "    <tr>\n",
       "      <th>2</th>\n",
       "      <td>Ha</td>\n",
       "      <td>NaN</td>\n",
       "      <td>5</td>\n",
       "      <td>NaN</td>\n",
       "      <td>spongebob</td>\n",
       "    </tr>\n",
       "    <tr>\n",
       "      <th>3</th>\n",
       "      <td>Ha</td>\n",
       "      <td>NaN</td>\n",
       "      <td>5</td>\n",
       "      <td>NaN</td>\n",
       "      <td>Lionking</td>\n",
       "    </tr>\n",
       "    <tr>\n",
       "      <th>4</th>\n",
       "      <td>Ha</td>\n",
       "      <td>NaN</td>\n",
       "      <td>5</td>\n",
       "      <td>NaN</td>\n",
       "      <td>Sing</td>\n",
       "    </tr>\n",
       "  </tbody>\n",
       "</table>\n",
       "</div>"
      ],
      "text/plain": [
       "        user_id  movie_id  counts    timestamp  \\\n",
       "1000203    6040    1090.0       3  956715518.0   \n",
       "1000205    6040    1094.0       5  956704887.0   \n",
       "1000206    6040     562.0       5  956704746.0   \n",
       "1000207    6040    1096.0       4  956715648.0   \n",
       "1000208    6040    1097.0       4  956715569.0   \n",
       "0            Ha       NaN       5          NaN   \n",
       "1            Ha       NaN       5          NaN   \n",
       "2            Ha       NaN       5          NaN   \n",
       "3            Ha       NaN       5          NaN   \n",
       "4            Ha       NaN       5          NaN   \n",
       "\n",
       "                                     title  \n",
       "1000203                     Platoon (1986)  \n",
       "1000205            Crying Game, The (1992)  \n",
       "1000206    Welcome to the Dollhouse (1995)  \n",
       "1000207             Sophie's Choice (1982)  \n",
       "1000208  E.T. the Extra-Terrestrial (1982)  \n",
       "0                                  Showman  \n",
       "1                                 Toystory  \n",
       "2                                spongebob  \n",
       "3                                 Lionking  \n",
       "4                                     Sing  "
      ]
     },
     "execution_count": 14,
     "metadata": {},
     "output_type": "execute_result"
    }
   ],
   "source": [
    "# 내가 좋아하는 영화 5개\n",
    "my_favorite = ['Showman' , 'Toystory' ,'spongebob' ,'Lionking' ,'Sing']\n",
    "\n",
    "# 'HA'라는 user_id가 영화에 별점 5점씩.\n",
    "my_movie = pd.DataFrame({'user_id': ['Ha']*5, 'title': my_favorite, 'counts':[5]*5})\n",
    "\n",
    "if not ratings.isin({'user_id':['Ha']})['user_id'].any():  # user_id에 'Hong'이라는 데이터가 없다면\n",
    "    ratings = ratings.append(my_movie)                      # 위에 임의로 만든 my_favorite 데이터를 추가해 줍니다. \n",
    "\n",
    "ratings.tail(10)       # 잘 추가되었는지 확인해 봅시다."
   ]
  },
  {
   "cell_type": "code",
   "execution_count": 15,
   "id": "d402e9fc",
   "metadata": {},
   "outputs": [],
   "source": [
    "# 고유한 유저, 아티스트를 찾아내는 코드\n",
    "user_unique = ratings['user_id'].unique()\n",
    "title_unique = ratings['title'].unique()\n",
    "\n",
    "# 유저, 아티스트 indexing 하는 코드 idx는 index의 약자입니다.\n",
    "user_to_idx = {v:k for k,v in enumerate(user_unique)}\n",
    "title_to_idx = {v:k for k,v in enumerate(title_unique)}"
   ]
  },
  {
   "cell_type": "code",
   "execution_count": 16,
   "id": "af7f50f7",
   "metadata": {},
   "outputs": [
    {
     "name": "stdout",
     "output_type": "stream",
     "text": [
      "6039\n",
      "3632\n"
     ]
    }
   ],
   "source": [
    "# 인덱싱이 잘 되었는지 확인해 봅니다. \n",
    "print(user_to_idx['Ha'])    # 358869명의 유저 중 마지막으로 추가된 유저이니 358868이 나와야 합니다. \n",
    "print(title_to_idx['Sing'])"
   ]
  },
  {
   "cell_type": "code",
   "execution_count": 17,
   "id": "f91edc13",
   "metadata": {},
   "outputs": [
    {
     "name": "stdout",
     "output_type": "stream",
     "text": [
      "user_id column indexing OK!!\n",
      "title column indexing OK!!\n"
     ]
    },
    {
     "data": {
      "text/html": [
       "<div>\n",
       "<style scoped>\n",
       "    .dataframe tbody tr th:only-of-type {\n",
       "        vertical-align: middle;\n",
       "    }\n",
       "\n",
       "    .dataframe tbody tr th {\n",
       "        vertical-align: top;\n",
       "    }\n",
       "\n",
       "    .dataframe thead th {\n",
       "        text-align: right;\n",
       "    }\n",
       "</style>\n",
       "<table border=\"1\" class=\"dataframe\">\n",
       "  <thead>\n",
       "    <tr style=\"text-align: right;\">\n",
       "      <th></th>\n",
       "      <th>user_id</th>\n",
       "      <th>movie_id</th>\n",
       "      <th>counts</th>\n",
       "      <th>timestamp</th>\n",
       "      <th>title</th>\n",
       "    </tr>\n",
       "  </thead>\n",
       "  <tbody>\n",
       "    <tr>\n",
       "      <th>0</th>\n",
       "      <td>0</td>\n",
       "      <td>0</td>\n",
       "      <td>5</td>\n",
       "      <td>978300760.0</td>\n",
       "      <td>One Flew Over the Cuckoo's Nest (1975)</td>\n",
       "    </tr>\n",
       "    <tr>\n",
       "      <th>1</th>\n",
       "      <td>0</td>\n",
       "      <td>1</td>\n",
       "      <td>3</td>\n",
       "      <td>978302109.0</td>\n",
       "      <td>James and the Giant Peach (1996)</td>\n",
       "    </tr>\n",
       "    <tr>\n",
       "      <th>2</th>\n",
       "      <td>0</td>\n",
       "      <td>2</td>\n",
       "      <td>3</td>\n",
       "      <td>978301968.0</td>\n",
       "      <td>My Fair Lady (1964)</td>\n",
       "    </tr>\n",
       "    <tr>\n",
       "      <th>3</th>\n",
       "      <td>0</td>\n",
       "      <td>3</td>\n",
       "      <td>4</td>\n",
       "      <td>978300275.0</td>\n",
       "      <td>Erin Brockovich (2000)</td>\n",
       "    </tr>\n",
       "    <tr>\n",
       "      <th>4</th>\n",
       "      <td>0</td>\n",
       "      <td>4</td>\n",
       "      <td>5</td>\n",
       "      <td>978824291.0</td>\n",
       "      <td>Bug's Life, A (1998)</td>\n",
       "    </tr>\n",
       "    <tr>\n",
       "      <th>...</th>\n",
       "      <td>...</td>\n",
       "      <td>...</td>\n",
       "      <td>...</td>\n",
       "      <td>...</td>\n",
       "      <td>...</td>\n",
       "    </tr>\n",
       "    <tr>\n",
       "      <th>0</th>\n",
       "      <td>6039</td>\n",
       "      <td>3628</td>\n",
       "      <td>5</td>\n",
       "      <td>NaN</td>\n",
       "      <td>Showman</td>\n",
       "    </tr>\n",
       "    <tr>\n",
       "      <th>1</th>\n",
       "      <td>6039</td>\n",
       "      <td>3629</td>\n",
       "      <td>5</td>\n",
       "      <td>NaN</td>\n",
       "      <td>Toystory</td>\n",
       "    </tr>\n",
       "    <tr>\n",
       "      <th>2</th>\n",
       "      <td>6039</td>\n",
       "      <td>3630</td>\n",
       "      <td>5</td>\n",
       "      <td>NaN</td>\n",
       "      <td>spongebob</td>\n",
       "    </tr>\n",
       "    <tr>\n",
       "      <th>3</th>\n",
       "      <td>6039</td>\n",
       "      <td>3631</td>\n",
       "      <td>5</td>\n",
       "      <td>NaN</td>\n",
       "      <td>Lionking</td>\n",
       "    </tr>\n",
       "    <tr>\n",
       "      <th>4</th>\n",
       "      <td>6039</td>\n",
       "      <td>3632</td>\n",
       "      <td>5</td>\n",
       "      <td>NaN</td>\n",
       "      <td>Sing</td>\n",
       "    </tr>\n",
       "  </tbody>\n",
       "</table>\n",
       "<p>836483 rows × 5 columns</p>\n",
       "</div>"
      ],
      "text/plain": [
       "    user_id  movie_id  counts    timestamp  \\\n",
       "0         0         0       5  978300760.0   \n",
       "1         0         1       3  978302109.0   \n",
       "2         0         2       3  978301968.0   \n",
       "3         0         3       4  978300275.0   \n",
       "4         0         4       5  978824291.0   \n",
       "..      ...       ...     ...          ...   \n",
       "0      6039      3628       5          NaN   \n",
       "1      6039      3629       5          NaN   \n",
       "2      6039      3630       5          NaN   \n",
       "3      6039      3631       5          NaN   \n",
       "4      6039      3632       5          NaN   \n",
       "\n",
       "                                     title  \n",
       "0   One Flew Over the Cuckoo's Nest (1975)  \n",
       "1         James and the Giant Peach (1996)  \n",
       "2                      My Fair Lady (1964)  \n",
       "3                   Erin Brockovich (2000)  \n",
       "4                     Bug's Life, A (1998)  \n",
       "..                                     ...  \n",
       "0                                  Showman  \n",
       "1                                 Toystory  \n",
       "2                                spongebob  \n",
       "3                                 Lionking  \n",
       "4                                     Sing  \n",
       "\n",
       "[836483 rows x 5 columns]"
      ]
     },
     "execution_count": 17,
     "metadata": {},
     "output_type": "execute_result"
    }
   ],
   "source": [
    "# indexing을 통해 데이터 컬럼 내 값을 바꾸는 코드\n",
    "# dictionary 자료형의 get 함수는 https://wikidocs.net/16 을 참고하세요.\n",
    "\n",
    "# user_to_idx.get을 통해 user_id 컬럼의 모든 값을 인덱싱한 Series를 구해 봅시다. \n",
    "# 혹시 정상적으로 인덱싱되지 않은 row가 있다면 인덱스가 NaN이 될 테니 dropna()로 제거합니다. \n",
    "temp_user_data = ratings['user_id'].map(user_to_idx.get).dropna()\n",
    "if len(temp_user_data) == len(ratings):   # 모든 row가 정상적으로 인덱싱되었다면\n",
    "    print('user_id column indexing OK!!')\n",
    "    ratings['user_id'] = temp_user_data   # data['user_id']을 인덱싱된 Series로 교체해 줍니다. \n",
    "else:\n",
    "    print('user_id column indexing Fail!!')\n",
    "\n",
    "# title_to_idx을 통해 title 컬럼도 동일한 방식으로 인덱싱해 줍니다. \n",
    "temp_title_data = ratings['title'].map(title_to_idx.get).dropna()\n",
    "if len(temp_title_data) == len(ratings):\n",
    "    print('title column indexing OK!!')\n",
    "    ratings['movie_id'] = temp_title_data\n",
    "else:\n",
    "    print('title column indexing Fail!!')\n",
    "\n",
    "ratings\n"
   ]
  },
  {
   "cell_type": "markdown",
   "id": "394c1d11",
   "metadata": {},
   "source": [
    "## 2.4 모델 생성\n",
    "### 2-4-1. CSR matrix 만들기"
   ]
  },
  {
   "cell_type": "markdown",
   "id": "ee1e4b80",
   "metadata": {},
   "source": [
    "CSR matrix :  Sparse한 matrix에서 0이 아닌 유효한 데이터로 채워지는 데이터의 값과 좌표 정보만으로 구성하여 메모리 사용량을 최소화하면서도 Sparse한 matrix와 동일한 행렬을 표현할 수 있도록 하는 데이터 구조\n"
   ]
  },
  {
   "cell_type": "code",
   "execution_count": 18,
   "id": "55dc3ecf",
   "metadata": {},
   "outputs": [
    {
     "data": {
      "text/plain": [
       "<6040x3633 sparse matrix of type '<class 'numpy.int64'>'\n",
       "\twith 836483 stored elements in Compressed Sparse Row format>"
      ]
     },
     "execution_count": 18,
     "metadata": {},
     "output_type": "execute_result"
    }
   ],
   "source": [
    "num_user = ratings['user_id'].nunique()\n",
    "num_movie_id = ratings['movie_id'].nunique()\n",
    "\n",
    "csr_data = csr_matrix((ratings.counts, (ratings.user_id, ratings.movie_id)), shape= (num_user, num_movie_id))\n",
    "csr_data"
   ]
  },
  {
   "cell_type": "code",
   "execution_count": 19,
   "id": "ff0ea3c9",
   "metadata": {},
   "outputs": [],
   "source": [
    "# implicit 라이브러리에서 권장하고 있는 부분입니다.\n",
    "os.environ['OPENBLAS_NUM_THREADS']='1'\n",
    "os.environ['KMP_DUPLICATE_LIB_OK']='True'\n",
    "os.environ['MKL_NUM_THREADS']='1'\n",
    "\n",
    "als_model = AlternatingLeastSquares(factors=200, regularization=0.01, use_gpu=False, iterations=20, dtype=np.float32)\n"
   ]
  },
  {
   "cell_type": "markdown",
   "id": "46f960e0",
   "metadata": {},
   "source": [
    "factors : 유저와 아이템의 벡터를 몇 차원으로 할 것인지  \n",
    "regularization : 과적합을 방지하기 위해 정규화 값을 얼마나 사용할 것인지  \n",
    "use_gpu : GPU를 사용할 것인지  \n",
    "iterations : epochs와 같은 의미입니다. 데이터를 몇 번 반복해서 학습할 것인지  "
   ]
  },
  {
   "cell_type": "code",
   "execution_count": 20,
   "id": "244574f6",
   "metadata": {},
   "outputs": [
    {
     "data": {
      "text/plain": [
       "<3633x6040 sparse matrix of type '<class 'numpy.int64'>'\n",
       "\twith 836483 stored elements in Compressed Sparse Column format>"
      ]
     },
     "execution_count": 20,
     "metadata": {},
     "output_type": "execute_result"
    }
   ],
   "source": [
    "# als 모델은 input으로 (item X user 꼴의 matrix를 받기 때문에 Transpose해줍니다.)\n",
    "csr_data_transpose = csr_data.T\n",
    "csr_data_transpose"
   ]
  },
  {
   "cell_type": "markdown",
   "id": "940181e5",
   "metadata": {},
   "source": [
    "### 2-4-2. 모델 학습"
   ]
  },
  {
   "cell_type": "code",
   "execution_count": 21,
   "id": "b2b0173f",
   "metadata": {},
   "outputs": [
    {
     "data": {
      "application/vnd.jupyter.widget-view+json": {
       "model_id": "b80bd9c3508e409b93793f2b9c8277ec",
       "version_major": 2,
       "version_minor": 0
      },
      "text/plain": [
       "  0%|          | 0/20 [00:00<?, ?it/s]"
      ]
     },
     "metadata": {},
     "output_type": "display_data"
    }
   ],
   "source": [
    "# 모델 훈련\n",
    "als_model.fit(csr_data_transpose)"
   ]
  },
  {
   "cell_type": "markdown",
   "id": "901e87c7",
   "metadata": {},
   "source": [
    "## 2-4.데이터 평가"
   ]
  },
  {
   "cell_type": "code",
   "execution_count": 22,
   "id": "a05dca9e",
   "metadata": {},
   "outputs": [],
   "source": [
    "Ha, Sing = user_to_idx['Ha'], title_to_idx['Sing']\n",
    "Ha_vector, Sing_vector = als_model.user_factors[Ha], als_model.item_factors[Sing]\n"
   ]
  },
  {
   "cell_type": "code",
   "execution_count": 23,
   "id": "ec9deb3f",
   "metadata": {},
   "outputs": [
    {
     "data": {
      "text/plain": [
       "array([ 0.00751417, -0.101845  ,  0.05712584, -0.16308928, -0.03277985,\n",
       "       -0.04986611,  0.0337227 ,  0.09287469,  0.0344944 ,  0.0410362 ,\n",
       "        0.0024997 ,  0.03680173, -0.07802711,  0.09651607, -0.14732069,\n",
       "        0.11819708,  0.06549343,  0.02697443, -0.06921803,  0.02554797,\n",
       "        0.03316654,  0.10022967,  0.04948491,  0.07185426,  0.04957498,\n",
       "        0.00363182, -0.00236359,  0.10560187, -0.00327458,  0.05677547,\n",
       "        0.02593433, -0.06413838, -0.03929678, -0.06070546, -0.07285542,\n",
       "        0.00470842, -0.03027994,  0.07881375, -0.02730515,  0.05253988,\n",
       "       -0.0686364 , -0.05693533,  0.07249079, -0.04111919, -0.14418763,\n",
       "       -0.03100552,  0.04273528, -0.10440595, -0.02317088, -0.01394536,\n",
       "       -0.03297644, -0.02363133, -0.12587036,  0.04196518,  0.17392929,\n",
       "        0.0182784 ,  0.10901149, -0.0022103 ,  0.02856014, -0.0050237 ,\n",
       "       -0.107889  ,  0.02087657,  0.05229021, -0.05432286, -0.08069189,\n",
       "        0.05551942, -0.01163971, -0.09820157,  0.00167415, -0.09897243,\n",
       "        0.04271469,  0.02986781, -0.03471008, -0.03418328, -0.04287728,\n",
       "       -0.06954621, -0.01330359,  0.02193367,  0.01232894,  0.01843954,\n",
       "       -0.06040527, -0.03515415,  0.08821378, -0.05073714,  0.03835165,\n",
       "        0.01357391, -0.03534378, -0.01411476, -0.02802175,  0.06035963,\n",
       "       -0.04090187, -0.09585976,  0.01074203, -0.05203322,  0.04006712,\n",
       "       -0.03824439, -0.00039057, -0.05718435,  0.01478272, -0.01468622,\n",
       "       -0.06539907,  0.02942013,  0.08377971,  0.11176059, -0.0175996 ,\n",
       "        0.05937007,  0.0883392 , -0.03896883,  0.06544851, -0.00462768,\n",
       "        0.01715505,  0.1209304 ,  0.00819675, -0.02664098,  0.10591365,\n",
       "       -0.00082633, -0.09085641,  0.05098804,  0.02909694,  0.09022487,\n",
       "        0.03036493, -0.01338517,  0.02864912, -0.00837101, -0.06296647,\n",
       "        0.01472727,  0.00763314,  0.07583023, -0.04055251,  0.061525  ,\n",
       "        0.01940299,  0.09192272, -0.02278148,  0.06154003, -0.0506152 ,\n",
       "        0.04862171,  0.0352777 , -0.05788055,  0.09406673,  0.05369922,\n",
       "       -0.01098594, -0.06270848, -0.03717672, -0.04857443, -0.09114286,\n",
       "        0.1094611 ,  0.00230055,  0.08759388, -0.09594461, -0.102262  ,\n",
       "        0.01954764, -0.06170951, -0.05240167,  0.04155407,  0.11756986,\n",
       "        0.08162927, -0.12833904, -0.00841021, -0.03804023,  0.03923153,\n",
       "       -0.01505311,  0.06493503, -0.02419246,  0.00946557, -0.05199648,\n",
       "       -0.04573259,  0.08742703,  0.04312928, -0.06594023, -0.08723563,\n",
       "       -0.0071068 ,  0.03034964,  0.01780009,  0.0578525 ,  0.09033319,\n",
       "        0.00919878,  0.08736202,  0.11315466,  0.12292401, -0.00928457,\n",
       "       -0.1131487 , -0.00470383, -0.05093535, -0.07446305,  0.03803619,\n",
       "       -0.08440084, -0.02487158,  0.06856962, -0.0015941 , -0.15220115,\n",
       "       -0.0169361 , -0.04397872,  0.02340244, -0.03280366, -0.08492494,\n",
       "        0.02947831, -0.11798627, -0.01106324,  0.04007548, -0.0575299 ],\n",
       "      dtype=float32)"
      ]
     },
     "execution_count": 23,
     "metadata": {},
     "output_type": "execute_result"
    }
   ],
   "source": [
    "Ha_vector"
   ]
  },
  {
   "cell_type": "code",
   "execution_count": 24,
   "id": "dad2fbee",
   "metadata": {},
   "outputs": [
    {
     "data": {
      "text/plain": [
       "0.014562528"
      ]
     },
     "execution_count": 24,
     "metadata": {},
     "output_type": "execute_result"
    }
   ],
   "source": [
    "# Hong과 Joker를 내적하는 코드\n",
    "np.dot(Ha_vector, Sing_vector)"
   ]
  },
  {
   "cell_type": "markdown",
   "id": "527b10e3",
   "metadata": {},
   "source": [
    "### 사용해보기"
   ]
  },
  {
   "cell_type": "code",
   "execution_count": 25,
   "id": "c47125f4",
   "metadata": {},
   "outputs": [
    {
     "data": {
      "text/plain": [
       "[(3629, 0.9999999),\n",
       " (3630, 0.9999999),\n",
       " (3632, 0.9999999),\n",
       " (3631, 0.99999946),\n",
       " (3628, 0.9999229),\n",
       " (3615, 0.9989038),\n",
       " (3549, 0.99835813),\n",
       " (3035, 0.9983533),\n",
       " (3531, 0.9978987),\n",
       " (3570, 0.997703),\n",
       " (3480, 0.99748445),\n",
       " (3496, 0.9974302),\n",
       " (3616, 0.9973477),\n",
       " (3053, 0.997323),\n",
       " (3589, 0.997289)]"
      ]
     },
     "execution_count": 25,
     "metadata": {},
     "output_type": "execute_result"
    }
   ],
   "source": [
    "favorite_movie = 'Sing'\n",
    "movie_id = title_to_idx[favorite_movie]\n",
    "similar_movie = als_model.similar_items(movie_id, N=15)\n",
    "similar_movie"
   ]
  },
  {
   "cell_type": "code",
   "execution_count": 26,
   "id": "584d423c",
   "metadata": {},
   "outputs": [
    {
     "data": {
      "text/plain": [
       "['Toystory',\n",
       " 'spongebob',\n",
       " 'Sing',\n",
       " 'Lionking',\n",
       " 'Showman',\n",
       " 'Chain of Fools (2000)',\n",
       " 'Make Them Die Slowly (Cannibal Ferox) (1980)',\n",
       " 'For Ever Mozart (1996)',\n",
       " 'Aiqing wansui (1994)',\n",
       " 'Loser (1991)',\n",
       " 'Back Stage (2000)',\n",
       " 'Voyage to the Beginning of the World (1997)',\n",
       " 'Song of Freedom (1936)',\n",
       " 'Sunchaser, The (1996)',\n",
       " 'Soft Toilet Seats (1999)']"
      ]
     },
     "execution_count": 26,
     "metadata": {},
     "output_type": "execute_result"
    }
   ],
   "source": [
    "#title_to_idx 를 뒤집어, index로부터 title 이름을 얻는 dict를 생성합니다. \n",
    "idx_to_title = {v:k for k,v in title_to_idx.items()}\n",
    "[idx_to_title[i[0]] for i in similar_movie]"
   ]
  },
  {
   "cell_type": "code",
   "execution_count": 27,
   "id": "74b9a7d8",
   "metadata": {},
   "outputs": [],
   "source": [
    "# 함수로 만들기\n",
    "def get_similar_title(movie_name: str):\n",
    "    movie_id = title_to_idx[movie_name]\n",
    "    similar_movie = als_model.similar_items(movie_id)\n",
    "    similar_movie = [idx_to_title[i[0]] for i in similar_movie]\n",
    "    return similar_movie"
   ]
  },
  {
   "cell_type": "code",
   "execution_count": 28,
   "id": "152e9c4e",
   "metadata": {
    "scrolled": true
   },
   "outputs": [
    {
     "data": {
      "text/plain": [
       "['For Ever Mozart (1996)',\n",
       " 'Showman',\n",
       " 'Lionking',\n",
       " 'Toystory',\n",
       " 'spongebob',\n",
       " 'Sing',\n",
       " 'Chain of Fools (2000)',\n",
       " 'Make Them Die Slowly (Cannibal Ferox) (1980)',\n",
       " 'Aiqing wansui (1994)',\n",
       " 'Song of Freedom (1936)']"
      ]
     },
     "execution_count": 28,
     "metadata": {},
     "output_type": "execute_result"
    }
   ],
   "source": [
    "get_similar_title('For Ever Mozart (1996)')\n"
   ]
  },
  {
   "cell_type": "markdown",
   "id": "311b3320",
   "metadata": {},
   "source": [
    "결과적으로 내가 좋아한 영화들에 기반하여  \n",
    "나에게 추천하는 영화들의 벡터값은 다음과 같다."
   ]
  },
  {
   "cell_type": "code",
   "execution_count": 29,
   "id": "0fb43b26",
   "metadata": {},
   "outputs": [
    {
     "data": {
      "text/plain": [
       "[(228, 0.028000504),\n",
       " (170, 0.026395697),\n",
       " (1716, 0.02297287),\n",
       " (706, 0.022776408),\n",
       " (1291, 0.022649264),\n",
       " (473, 0.022408128),\n",
       " (840, 0.021673992),\n",
       " (1553, 0.02149359),\n",
       " (811, 0.020922117),\n",
       " (817, 0.020585142),\n",
       " (2515, 0.020459477),\n",
       " (1888, 0.020274892),\n",
       " (3481, 0.020227658),\n",
       " (2250, 0.020166554),\n",
       " (945, 0.020111263),\n",
       " (2217, 0.020013882),\n",
       " (1194, 0.019919977),\n",
       " (58, 0.019795723),\n",
       " (3390, 0.019586043),\n",
       " (1379, 0.01954256)]"
      ]
     },
     "execution_count": 29,
     "metadata": {},
     "output_type": "execute_result"
    }
   ],
   "source": [
    "user = user_to_idx['Ha']\n",
    "# recommend에서는 user*item CSR Matrix를 받습니다.\n",
    "movie_recommended = als_model.recommend(user, csr_data, N=20, filter_already_liked_items=True)\n",
    "movie_recommended"
   ]
  },
  {
   "cell_type": "markdown",
   "id": "b3d2e703",
   "metadata": {},
   "source": [
    "아래는 해당 벡터값들의 영화 이름이다."
   ]
  },
  {
   "cell_type": "code",
   "execution_count": 30,
   "id": "4e8b6300",
   "metadata": {},
   "outputs": [
    {
     "data": {
      "text/plain": [
       "['X-Files: Fight the Future, The (1998)',\n",
       " 'Being John Malkovich (1999)',\n",
       " \"Angela's Ashes (1999)\",\n",
       " 'L.A. Story (1991)',\n",
       " 'Blood Simple (1984)',\n",
       " 'Hurricane, The (1999)',\n",
       " 'Simple Plan, A (1998)',\n",
       " 'Slipper and the Rose, The (1976)',\n",
       " 'Thomas Crown Affair, The (1999)',\n",
       " 'Sneakers (1992)',\n",
       " 'Life and Times of Hank Greenberg, The (1998)',\n",
       " 'Algiers (1938)',\n",
       " 'Man from Down Under, The (1943)',\n",
       " 'Blood on the Sun (1945)',\n",
       " 'Highlander (1986)',\n",
       " 'Palookaville (1996)',\n",
       " 'Fatal Attraction (1987)',\n",
       " 'Mission: Impossible (1996)',\n",
       " 'All Things Fair (1996)',\n",
       " 'Hitch-Hiker, The (1953)']"
      ]
     },
     "execution_count": 30,
     "metadata": {},
     "output_type": "execute_result"
    }
   ],
   "source": [
    "[idx_to_title[i[0]] for i in movie_recommended]"
   ]
  },
  {
   "cell_type": "markdown",
   "id": "11da233d",
   "metadata": {},
   "source": [
    "# 3. POTG\n",
    "## 3-1. 소감\n",
    "\n",
    "#### \"😎 오케이 일단 추천시스템의 원리는 알겠어! \"\n",
    "\n",
    "사람이 직관하기 어려울 정도의 차원에서, 컴퓨터는 자료들의 위치값을 벡터로 저장하고  \n",
    "내적을 통한 거리를 구합니다. 때문에 NLP 와 마찬가지로 자료의 임베딩(여기서는 MF 모델 생성) 과정이 중요합니다.\n"
   ]
  },
  {
   "cell_type": "markdown",
   "id": "c3d93d2d",
   "metadata": {},
   "source": [
    "## 3-2. 어려웠던 점과 극복방안"
   ]
  },
  {
   "attachments": {
    "image.png": {
     "image/png": "[encoded data removed]"
    }
   },
   "cell_type": "markdown",
   "id": "eeeb8643",
   "metadata": {},
   "source": [
    "1. CSR matirix 와 MF 모델에 대해 아직 이해가 부족한 것 같습니다. \n",
    "아직은 둘의 상관관계가 무엇인지 모르겠습니다.\n",
    "\n",
    "2. 내적값에 문제가 있다고 판단됩니다.\n",
    "본인이 평점을 높게 준 영화 외에,  \n",
    "다른 것들에 대한 내적값, 즉 유사도가 너무 높게 나옵니다.\n",
    "\n",
    "모델 생성과정의 문제라고 보는데, 하이퍼파라미터를 어떻게 바꿔야 할 지 모르겠습니다.\n",
    "![image.png](attachment:image.png)\n",
    "\n"
   ]
  },
  {
   "cell_type": "markdown",
   "id": "9f5e9725",
   "metadata": {},
   "source": [
    "## 3-3. 추후\n",
    "\n",
    "추천시스템은 NLP와 관련이 있다고 느끼는데, 아직 정확하게 어떤 교집합이 있는지 모릅니다.  \n",
    "그 부분에 대해 좀 더 파헤쳐보고 싶습니다."
   ]
  },
  {
   "cell_type": "code",
   "execution_count": null,
   "id": "2d0c1278",
   "metadata": {},
   "outputs": [],
   "source": []
  }
 ],
 "metadata": {
  "kernelspec": {
   "display_name": "Python 3 (ipykernel)",
   "language": "python",
   "name": "python3"
  },
  "language_info": {
   "codemirror_mode": {
    "name": "ipython",
    "version": 3
   },
   "file_extension": ".py",
   "mimetype": "text/x-python",
   "name": "python",
   "nbconvert_exporter": "python",
   "pygments_lexer": "ipython3",
   "version": "3.9.7"
  }
 },
 "nbformat": 4,
 "nbformat_minor": 5
}
