{
 "cells": [
  {
   "cell_type": "markdown",
   "id": "47a9ca3e",
   "metadata": {},
   "source": [
    "# Naver 영화 리뷰 감성 분석 모델 제작하기\n",
    "\n",
    "## Contexts\n",
    "\n",
    "### 1. READY\n",
    "    1-1 오늘의 Exp와 Rubric  \n",
    "    1-2 사용하는 라이브러리  \n",
    "\n",
    "### 2. GAME\n",
    "    2-1. 데이터 읽어오기  \n",
    "    2-2. 데이터 전처리  \n",
    "        -1. 결측값, 불용값 제거. 단어 토큰화. 사전 생성(index_to_word)\n",
    "        -2. 패딩 값 설정, 문장 길이 정형화 \n",
    "        -3. 검증데이터 분리\n",
    "        \n",
    "        \n",
    "    2-3. 모델 학습 및 평가 \n",
    "        -1. RNN\n",
    "        -2. CNN 1-D\n",
    "        -3. CNN global maxpooling\n",
    "        \n",
    "    2-4. Pre-trained Embedding data (Ko)\n",
    "        -1. 우리 단어사전 분석\n",
    "        -2. pre-trained 임베딩 써보기\n",
    "\n",
    "### 3. POTG\n",
    "    3-1. 소감(POTG)  \n",
    "    3-2. 어려웠던 점과 극복방안  \n"
   ]
  },
  {
   "cell_type": "markdown",
   "id": "8ef07287",
   "metadata": {},
   "source": [
    "## 1. Ready\n",
    "\n",
    "### 1-1. 오늘의 Exp와 Rubric\n",
    "\n",
    "오늘 진행한 Exploration은 네이버 영화 리뷰 데이터를 바탕으로  \n",
    "리뷰 감성 분석 NLP 모델을 만드는 것이다.\n",
    "\n",
    "진행 중점사항은 다음과 같다.\n",
    "\n",
    "- 1. RNN , 1-D CNN(Conv1D) ,1-D CNN(globalmaxpooling) 총 세 모델을 사용해 비교하기\n",
    "- 2. 한국어 Word2Vec 모델로 변환하여 성능 비교하기\n",
    "\n",
    "루브릭은 다음과 같다.\n",
    "\n",
    "|평가문항|상세기준|\n",
    "|-|-|\n",
    "|1. 다양한 방법으로 Text Classification 태스크를 성공적으로 구현하였다.|3가지 이상의 모델이 성공적으로 시도됨|\n",
    "|2. gensim을 활용하여 자체학습된 혹은 사전학습된 임베딩 레이어를 분석하였다.|gensim의 유사단어 찾기를 활용하여 자체학습한 임베딩과 사전학습 임베딩을 적절히 분석함|\n",
    "|3. 한국어 Word2Vec을 활용하여 가시적인 성능향상을 달성했다.|네이버 영화리뷰 데이터 감성분석 정확도를 85% 이상 달성함|\n",
    "\n",
    "### 1-2. 사용하는 라이브러리\n",
    "\n",
    "\n"
   ]
  },
  {
   "cell_type": "code",
   "execution_count": 1,
   "id": "03149b36",
   "metadata": {},
   "outputs": [],
   "source": [
    "import os\n",
    "\n",
    "import numpy as np\n",
    "import pandas as pd\n",
    "\n",
    "import re\n",
    "\n",
    "import tensorflow as tf\n",
    "from tensorflow.keras.initializers import Constant\n",
    "\n",
    "from gensim.models.keyedvectors import Word2VecKeyedVectors\n",
    "from gensim.models import KeyedVectors\n",
    "from gensim.models import Word2Vec\n",
    "\n",
    "from konlpy.tag import Mecab\n",
    "from collections import Counter\n",
    "\n",
    "import matplotlib.pyplot as plt\n",
    "\n",
    "#gensim==3.8.1"
   ]
  },
  {
   "cell_type": "markdown",
   "id": "3672307c",
   "metadata": {},
   "source": [
    "- os\n",
    "- numpy  \n",
    "- pandas   \n",
    "- tensorflow  \n",
    "- Constant  \n",
    "- gensim  \n",
    "- Mecab 형태소 분석기\n",
    "- Counter"
   ]
  },
  {
   "cell_type": "markdown",
   "id": "69a1e967",
   "metadata": {},
   "source": [
    "## 2. GAME\n",
    "\n",
    "### 2-1. DATA 불러오기\n",
    "\n",
    "우리가 사용할 데이터는 네이버 영화 평점사이트에서 스크랩해온 고객 리뷰 말뭉치이다.\n",
    "\n",
    "데이터는 전 네이버 머신러닝 엔지니어 Lucy Park 이사님께서  \n",
    "Git을 통해 무료 배포하고 있다.\n",
    "\n",
    "[Naver Sentimental Movie corpus 무료 다운로드::](https://github.com/e9t/nsmc)\n",
    "\n",
    "우리는 그 배포 자료중 이미 test와 train으로 나누어 주신 데이터를 쓴다.\n",
    "\n",
    "<img src=\"./img/data.PNG\"></img>\n",
    "\n",
    "Train 데이터는 150K (15만) reviews가, \n",
    "test 데이터는 50K reviews 가 존재하고, \n",
    "\n",
    "각 데이터 행마다 Id, Document, Label 열의 정보를 가지고 있다.\n",
    "\n",
    "* ID : 고객 아이디\n",
    "* Document : 실제로 쓴 한국어 리뷰\n",
    "* Label : 극성 ( 0- 부정 1- 긍정 )\n",
    "\n",
    "<img src=\"./img/review.PNG\"></img>\n",
    "\n",
    "역시 피🔥 도 눈물💧 도 없는 한국인이다.\n",
    "\n",
    "**주의**  \n",
    "데이터 사진을 잘 보면, 각 열간의 분류가 화살표  → 로 된걸 볼 수 있다.  \n",
    "이것을 .tsv 파일 형식이라고 한다."
   ]
  },
  {
   "cell_type": "code",
   "execution_count": 4,
   "id": "84847341",
   "metadata": {
    "scrolled": false
   },
   "outputs": [
    {
     "name": "stdout",
     "output_type": "stream",
     "text": [
      "가져온 txt파일의 타입은 : <class 'pandas.core.frame.DataFrame'>\n",
      "Train 행렬 구조 :  (150000, 3) Test 행렬 구조 :  (50000, 3)\n"
     ]
    },
    {
     "data": {
      "text/html": [
       "<div>\n",
       "<style scoped>\n",
       "    .dataframe tbody tr th:only-of-type {\n",
       "        vertical-align: middle;\n",
       "    }\n",
       "\n",
       "    .dataframe tbody tr th {\n",
       "        vertical-align: top;\n",
       "    }\n",
       "\n",
       "    .dataframe thead th {\n",
       "        text-align: right;\n",
       "    }\n",
       "</style>\n",
       "<table border=\"1\" class=\"dataframe\">\n",
       "  <thead>\n",
       "    <tr style=\"text-align: right;\">\n",
       "      <th></th>\n",
       "      <th>id</th>\n",
       "      <th>document</th>\n",
       "      <th>label</th>\n",
       "    </tr>\n",
       "  </thead>\n",
       "  <tbody>\n",
       "    <tr>\n",
       "      <th>149995</th>\n",
       "      <td>6222902</td>\n",
       "      <td>인간이 문제지.. 소는 뭔죄인가..</td>\n",
       "      <td>0</td>\n",
       "    </tr>\n",
       "    <tr>\n",
       "      <th>149996</th>\n",
       "      <td>8549745</td>\n",
       "      <td>평점이 너무 낮아서...</td>\n",
       "      <td>1</td>\n",
       "    </tr>\n",
       "    <tr>\n",
       "      <th>149997</th>\n",
       "      <td>9311800</td>\n",
       "      <td>이게 뭐요? 한국인은 거들먹거리고 필리핀 혼혈은 착하다?</td>\n",
       "      <td>0</td>\n",
       "    </tr>\n",
       "    <tr>\n",
       "      <th>149998</th>\n",
       "      <td>2376369</td>\n",
       "      <td>청춘 영화의 최고봉.방황과 우울했던 날들의 자화상</td>\n",
       "      <td>1</td>\n",
       "    </tr>\n",
       "    <tr>\n",
       "      <th>149999</th>\n",
       "      <td>9619869</td>\n",
       "      <td>한국 영화 최초로 수간하는 내용이 담긴 영화</td>\n",
       "      <td>0</td>\n",
       "    </tr>\n",
       "  </tbody>\n",
       "</table>\n",
       "</div>"
      ],
      "text/plain": [
       "             id                         document  label\n",
       "149995  6222902              인간이 문제지.. 소는 뭔죄인가..      0\n",
       "149996  8549745                    평점이 너무 낮아서...      1\n",
       "149997  9311800  이게 뭐요? 한국인은 거들먹거리고 필리핀 혼혈은 착하다?      0\n",
       "149998  2376369      청춘 영화의 최고봉.방황과 우울했던 날들의 자화상      1\n",
       "149999  9619869         한국 영화 최초로 수간하는 내용이 담긴 영화      0"
      ]
     },
     "execution_count": 4,
     "metadata": {},
     "output_type": "execute_result"
    }
   ],
   "source": [
    "train_data = pd.read_table('~/aiffel/workplace/[E-06]/data/ratings_train.txt')\n",
    "test_data = pd.read_table('~/aiffel/workplace/[E-06]/data/ratings_test.txt')\n",
    "\n",
    "print('가져온 txt파일의 타입은 :',type(train_data))\n",
    "print('Train 행렬 구조 : ',train_data.shape, 'Test 행렬 구조 : ',test_data.shape)\n",
    "train_data.tail()"
   ]
  },
  {
   "cell_type": "markdown",
   "id": "7a8855f8",
   "metadata": {},
   "source": [
    "텍스트 데이터를 pd 의 DataFrame 객체로 가져왔다.\n",
    "\n",
    "\n",
    "데이터의 행렬은 제시된 설명대로 15만개, 5만개의 3열 구조로 되어있다.\n",
    "\n",
    "### 2-2. DATA 전처리\n"
   ]
  },
  {
   "cell_type": "markdown",
   "id": "962852f3",
   "metadata": {},
   "source": [
    "이것을 사용하기 위해서는 자연어 문장들을 컴퓨터가 이해하게끔  \n",
    "벡터화 시켜주어야 한다.\n",
    "\n"
   ]
  },
  {
   "cell_type": "markdown",
   "id": "76324d43",
   "metadata": {},
   "source": [
    "#### 2-2-1. 결측값, 불용값 제거. 단어 토큰화. 사전 생성(index_to_word)"
   ]
  },
  {
   "cell_type": "code",
   "execution_count": 5,
   "id": "9b4a7472",
   "metadata": {},
   "outputs": [
    {
     "name": "stderr",
     "output_type": "stream",
     "text": [
      "/tmp/ipykernel_335/4021221263.py:5: FutureWarning: The default value of regex will change from True to False in a future version.\n",
      "  train_data['document'] = train_data['document'].str.replace(\"[^ㄱ-ㅎㅏ-ㅣ가-힣 ]\",\"\")\n",
      "/tmp/ipykernel_335/4021221263.py:6: FutureWarning: The default value of regex will change from True to False in a future version.\n",
      "  test_data['document'] = test_data['document'].str.replace(\"[^ㄱ-ㅎㅏ-ㅣ가-힣 ]\",\"\")\n"
     ]
    }
   ],
   "source": [
    "tokenizer = Mecab()\n",
    "stopwords = ['의','가','이','은','들','는','좀','잘','걍','과','도','를','으로','자','에','와','한','하다']\n",
    "\n",
    "def load_data(train_data, test_data, num_words=10000):\n",
    "    train_data['document'] = train_data['document'].str.replace(\"[^ㄱ-ㅎㅏ-ㅣ가-힣 ]\",\"\")\n",
    "    test_data['document'] = test_data['document'].str.replace(\"[^ㄱ-ㅎㅏ-ㅣ가-힣 ]\",\"\")\n",
    "    \n",
    "    train_data.drop_duplicates(subset=['document'], inplace=True)\n",
    "    train_data = train_data.dropna(how = 'any') \n",
    "    \n",
    "    test_data.drop_duplicates(subset=['document'], inplace=True)\n",
    "    test_data = test_data.dropna(how = 'any') \n",
    "\n",
    "    \n",
    "    X_train = []\n",
    "    for sentence in train_data['document']:\n",
    "        temp_X = tokenizer.morphs(sentence) # 토큰화\n",
    "        temp_X = [word for word in temp_X if not word in stopwords] # stopwords 의 쓸모없는 말들 제거\n",
    "        X_train.append(temp_X)\n",
    "\n",
    "    X_test = []\n",
    "    for sentence in test_data['document']:\n",
    "        temp_X = tokenizer.morphs(sentence) # 토큰화\n",
    "        temp_X = [word for word in temp_X if not word in stopwords] # 불용어 제거\n",
    "        X_test.append(temp_X)\n",
    "    \n",
    "    words = np.concatenate(X_train).tolist() # matrix 을 vector화 한 후 array를 list화\n",
    "    counter = Counter(words)\n",
    "    counter = counter.most_common(num_words-4)\n",
    "    vocab = ['<PAD>', '<BOS>', '<UNK>', '<UNUSED>'] + [key for key, _ in counter]\n",
    "    word_to_index = {word:index for index, word in enumerate(vocab)}\n",
    "        \n",
    "    def wordlist_to_indexlist(wordlist):\n",
    "        return [word_to_index[word] if word in word_to_index else word_to_index['<UNK>'] for word in wordlist]\n",
    "        \n",
    "    X_train = list(map(wordlist_to_indexlist, X_train))\n",
    "    X_test = list(map(wordlist_to_indexlist, X_test))\n",
    "        \n",
    "    return train_data, test_data, X_train, np.array(list(train_data['label'])), X_test, np.array(list(test_data['label'])), word_to_index\n",
    "    \n",
    "process_train, process_test, X_train, y_train, X_test, y_test, word_to_index = load_data(train_data, test_data)\n",
    "\n",
    "index_to_word = {index:word for word, index in word_to_index.items()}"
   ]
  },
  {
   "cell_type": "code",
   "execution_count": 6,
   "id": "6137325d",
   "metadata": {},
   "outputs": [
    {
     "name": "stdout",
     "output_type": "stream",
     "text": [
      "train data 개수: 143682, test data 개수: 48418\n",
      "정제된 데이터 안에 결측값이 있는가? :  False\n"
     ]
    }
   ],
   "source": [
    "print(\"train data 개수: {}, test data 개수: {}\".format(len(X_train), len(X_test)))\n",
    "print(\"정제된 데이터 안에 결측값이 있는가? : \", process_train.isnull().values.any())\n"
   ]
  },
  {
   "cell_type": "code",
   "execution_count": 7,
   "id": "eda1b69a",
   "metadata": {},
   "outputs": [
    {
     "data": {
      "text/html": [
       "<div>\n",
       "<style scoped>\n",
       "    .dataframe tbody tr th:only-of-type {\n",
       "        vertical-align: middle;\n",
       "    }\n",
       "\n",
       "    .dataframe tbody tr th {\n",
       "        vertical-align: top;\n",
       "    }\n",
       "\n",
       "    .dataframe thead th {\n",
       "        text-align: right;\n",
       "    }\n",
       "</style>\n",
       "<table border=\"1\" class=\"dataframe\">\n",
       "  <thead>\n",
       "    <tr style=\"text-align: right;\">\n",
       "      <th></th>\n",
       "      <th>id</th>\n",
       "      <th>document</th>\n",
       "      <th>label</th>\n",
       "    </tr>\n",
       "  </thead>\n",
       "  <tbody>\n",
       "    <tr>\n",
       "      <th>0</th>\n",
       "      <td>9976970</td>\n",
       "      <td>아 더빙 진짜 짜증나네요 목소리</td>\n",
       "      <td>0</td>\n",
       "    </tr>\n",
       "    <tr>\n",
       "      <th>1</th>\n",
       "      <td>3819312</td>\n",
       "      <td>흠포스터보고 초딩영화줄오버연기조차 가볍지 않구나</td>\n",
       "      <td>1</td>\n",
       "    </tr>\n",
       "    <tr>\n",
       "      <th>2</th>\n",
       "      <td>10265843</td>\n",
       "      <td>너무재밓었다그래서보는것을추천한다</td>\n",
       "      <td>0</td>\n",
       "    </tr>\n",
       "    <tr>\n",
       "      <th>3</th>\n",
       "      <td>9045019</td>\n",
       "      <td>교도소 이야기구먼 솔직히 재미는 없다평점 조정</td>\n",
       "      <td>0</td>\n",
       "    </tr>\n",
       "    <tr>\n",
       "      <th>4</th>\n",
       "      <td>6483659</td>\n",
       "      <td>사이몬페그의 익살스런 연기가 돋보였던 영화스파이더맨에서 늙어보이기만 했던 커스틴 던...</td>\n",
       "      <td>1</td>\n",
       "    </tr>\n",
       "  </tbody>\n",
       "</table>\n",
       "</div>"
      ],
      "text/plain": [
       "         id                                           document  label\n",
       "0   9976970                                  아 더빙 진짜 짜증나네요 목소리      0\n",
       "1   3819312                         흠포스터보고 초딩영화줄오버연기조차 가볍지 않구나      1\n",
       "2  10265843                                  너무재밓었다그래서보는것을추천한다      0\n",
       "3   9045019                          교도소 이야기구먼 솔직히 재미는 없다평점 조정      0\n",
       "4   6483659  사이몬페그의 익살스런 연기가 돋보였던 영화스파이더맨에서 늙어보이기만 했던 커스틴 던...      1"
      ]
     },
     "execution_count": 7,
     "metadata": {},
     "output_type": "execute_result"
    }
   ],
   "source": [
    "process_train[:5]"
   ]
  },
  {
   "cell_type": "markdown",
   "id": "b1f6fdf3",
   "metadata": {},
   "source": [
    "- df.drop_duplicates  \n",
    "(subset=['중복여부를 확인할 칼럼'],   \n",
    "inplace = '새로 복사할지(False) 원본을 변형할지(True)')   \n",
    ": 중복값 제거 \n",
    "\n",
    "\n",
    "- df.dropna\n",
    "(axis=0/1,   0=row, 1=col\n",
    "how='any'/'all',    any = NaN 이 하나만 있어도, all= NaN 이 한 행or열에 꽉 차있으면.\n",
    "subset=[col1, col2, ...],   기본값은 전체, 아니면 정한 부분만\n",
    "inplace=True/False)  \n",
    ": 결측값 제거\n",
    "\n",
    "- mecab.morphs : 형태소별로 묶어 리스트에 문자열로 반환\n",
    "\n",
    "- np.concatenate() : matrix 의 vector화\n",
    "- counter.most_common : 중복되는 수만큼을 기록하여 오름차순으로 튜플로 반환 [('a', 3) ('b', 1) ('c', 1)...]"
   ]
  },
  {
   "cell_type": "markdown",
   "id": "a88134d1",
   "metadata": {},
   "source": [
    "다음의 메서드를 이용해\n",
    "\n",
    "1. 우리가 불러온 document를 형태소별로 분류\n",
    "2. 형태소 중 조사 등 무의미 형태소를 제거\n",
    "3. 가장 많이쓰이는 단어를 num_words 개 만큼 떼어내 내림차순 정렬 후 index 매김.\n",
    "4. index에 따라 각 문장을 숫자들의 vector로 조합\n",
    "\n",
    "을 진행하여 x_train ,y_train 데이터에 집어넣고,\n",
    "그에 따른 y 라벨을 배열데이터로,\n",
    "그리고 단어들의 index 데이터 리스트를 빼내는 함수 load_data() 를 만들었다."
   ]
  },
  {
   "cell_type": "markdown",
   "id": "51423bbe",
   "metadata": {},
   "source": [
    "다음은 전처리된 데이터들의 예시이다."
   ]
  },
  {
   "cell_type": "code",
   "execution_count": 8,
   "id": "3b35a369",
   "metadata": {},
   "outputs": [
    {
     "name": "stdout",
     "output_type": "stream",
     "text": [
      "[8031, 143, 4131, 278, 86, 13, 5, 51, 3326]\n",
      "라벨 :  0\n",
      "실제 텍스트 값은 :  ['교도소 이야기구먼 솔직히 재미는 없다평점 조정']\n"
     ]
    }
   ],
   "source": [
    "print(X_train[3])\n",
    "print('라벨 : ',y_train[3])\n",
    "print('실제 텍스트 값은 : ', list(process_train[3:4]['document']))"
   ]
  },
  {
   "cell_type": "code",
   "execution_count": 9,
   "id": "a3f00400",
   "metadata": {},
   "outputs": [
    {
     "name": "stdout",
     "output_type": "stream",
     "text": [
      "[2, 8488, 1049, 47, 2698, 54, 4, 2620, 34, 1116, 29, 323, 36, 17, 35, 54, 2, 2, 393, 2875, 1674, 5]\n",
      "라벨 :  1\n",
      "실제 텍스트 값은 :  ['사이몬페그의 익살스런 연기가 돋보였던 영화스파이더맨에서 늙어보이기만 했던 커스틴 던스트가 너무나도 이뻐보였다']\n"
     ]
    }
   ],
   "source": [
    "print(X_train[4])\n",
    "print('라벨 : ',y_train[4])\n",
    "print('실제 텍스트 값은 : ', list(train_data[4:5]['document']))"
   ]
  },
  {
   "cell_type": "markdown",
   "id": "461b73b3",
   "metadata": {},
   "source": [
    "---"
   ]
  },
  {
   "cell_type": "markdown",
   "id": "91e533de",
   "metadata": {},
   "source": [
    "#### 2-2-2. 패딩 값 설정, 문장 길이 정형화 "
   ]
  },
  {
   "cell_type": "markdown",
   "id": "e29eedc5",
   "metadata": {},
   "source": [
    "문장 길이를 일정하게 맞춰주기 위해선,  \n",
    "해당 문장들의 평균 길이와 표준편차를 구해서  \n",
    "\n",
    "(평균 + 2 * 표준편차)\n",
    "\n",
    "총 데이터의 90% 정도를 담는 길이를 구했다."
   ]
  },
  {
   "cell_type": "code",
   "execution_count": 10,
   "id": "3f9bf8f8",
   "metadata": {},
   "outputs": [
    {
     "name": "stdout",
     "output_type": "stream",
     "text": [
      "문장길이 평균 :  13.921962519521083\n",
      "문장길이 최대 :  83\n",
      "문장길이 표준편차 :  11.455410497783275\n",
      "pad_sequences maxlen :  36\n",
      "전체 문장의 0.9328891202498698%가 maxlen 설정값 이내에 포함됩니다. \n"
     ]
    }
   ],
   "source": [
    "\n",
    "total_data_text = list(X_train) + list(X_test)\n",
    "# 텍스트데이터 문장길이의 리스트를 생성한 후\n",
    "num_tokens = [len(tokens) for tokens in total_data_text]\n",
    "num_tokens = np.array(num_tokens)\n",
    "# 문장길이의 평균값, 최대값, 표준편차를 계산해 본다. \n",
    "print('문장길이 평균 : ', np.mean(num_tokens))\n",
    "print('문장길이 최대 : ', np.max(num_tokens))\n",
    "print('문장길이 표준편차 : ', np.std(num_tokens))\n",
    "\n",
    "# 예를들어, 최대 길이를 (평균 + 2*표준편차)로 한다면,  \n",
    "max_tokens = np.mean(num_tokens) + 2 * np.std(num_tokens)\n",
    "maxlen = int(max_tokens)\n",
    "print('pad_sequences maxlen : ', maxlen)\n",
    "print('전체 문장의 {}%가 maxlen 설정값 이내에 포함됩니다. '.format(np.sum(num_tokens < max_tokens) / len(num_tokens)))"
   ]
  },
  {
   "cell_type": "markdown",
   "id": "f0f86aeb",
   "metadata": {},
   "source": [
    "그 답은 36 문장이므로 이에 따라 데이터에 패딩을 씌워준다."
   ]
  },
  {
   "cell_type": "code",
   "execution_count": 11,
   "id": "8f00c182",
   "metadata": {},
   "outputs": [],
   "source": [
    "raw_train_inputs = np.array(X_train, dtype='object')\n",
    "\n",
    "raw_test_inputs = np.array(X_test, dtype='object')\n"
   ]
  },
  {
   "cell_type": "code",
   "execution_count": 12,
   "id": "ae3094dd",
   "metadata": {},
   "outputs": [],
   "source": [
    "train_inputs = tf.keras.preprocessing.sequence.pad_sequences(raw_train_inputs,\n",
    "                                                       value=word_to_index['<PAD>'],\n",
    "                                                       padding='post',\n",
    "                                                       maxlen=36)\n",
    "\n",
    "test_inputs = tf.keras.preprocessing.sequence.pad_sequences(raw_test_inputs,\n",
    "                                                       value=word_to_index['<PAD>'],\n",
    "                                                       padding='post',\n",
    "                                                       maxlen=36)"
   ]
  },
  {
   "cell_type": "markdown",
   "id": "40962aca",
   "metadata": {},
   "source": [
    "다음은 패딩 값을 취해 준 후의 결과이다."
   ]
  },
  {
   "cell_type": "code",
   "execution_count": 13,
   "id": "ce4caf47",
   "metadata": {},
   "outputs": [
    {
     "name": "stdout",
     "output_type": "stream",
     "text": [
      "['흠', '포스터', '보고', '초딩', '영화', '줄', '오버', '연기', '조차', '가볍', '지', '않', '구나', '<PAD>', '<PAD>', '<PAD>', '<PAD>', '<PAD>', '<PAD>', '<PAD>', '<PAD>', '<PAD>', '<PAD>', '<PAD>', '<PAD>', '<PAD>', '<PAD>', '<PAD>', '<PAD>', '<PAD>', '<PAD>', '<PAD>', '<PAD>', '<PAD>', '<PAD>', '<PAD>']\n"
     ]
    }
   ],
   "source": [
    "decode_word=[]\n",
    "for i in train_inputs[1]:\n",
    "    decode_word.append(index_to_word[i])\n",
    "print(decode_word)"
   ]
  },
  {
   "cell_type": "markdown",
   "id": "ddc28444",
   "metadata": {},
   "source": [
    "우리가 만든 평가 리뷰 문장들에 속한 총 단어의 갯수"
   ]
  },
  {
   "cell_type": "code",
   "execution_count": 14,
   "id": "1773e436",
   "metadata": {},
   "outputs": [
    {
     "data": {
      "text/plain": [
       "9996"
      ]
     },
     "execution_count": 14,
     "metadata": {},
     "output_type": "execute_result"
    }
   ],
   "source": [
    "len(list(word_to_index.keys())[4:])"
   ]
  },
  {
   "cell_type": "markdown",
   "id": "3da3ceb9",
   "metadata": {},
   "source": [
    "---"
   ]
  },
  {
   "cell_type": "markdown",
   "id": "19119527",
   "metadata": {},
   "source": [
    "#### 2-2-3. 검증데이터 분리"
   ]
  },
  {
   "cell_type": "markdown",
   "id": "f9050208",
   "metadata": {},
   "source": [
    "모델의 파라미터를 원활히 탐색하기 위해  \n",
    "검증 데이터를 분리시킬 것이다.  \n",
    "\n",
    "총 데이터인 140000만 문장의 약 30%인 40000만 건을\n",
    "검증데이터로 분리시켰다."
   ]
  },
  {
   "cell_type": "code",
   "execution_count": 15,
   "id": "78d601aa",
   "metadata": {},
   "outputs": [
    {
     "name": "stdout",
     "output_type": "stream",
     "text": [
      "(93682, 36)\n",
      "(93682,)\n",
      "(50000, 36)\n",
      "(50000,)\n"
     ]
    }
   ],
   "source": [
    "# validation set 40000건 분리\n",
    "x_val = train_inputs[:50000]   \n",
    "y_val = y_train[:50000]\n",
    "\n",
    "# validation set을 제외한 나머지 약 100000건\n",
    "partial_x_train = train_inputs[50000:]  \n",
    "partial_y_train = y_train[50000:]\n",
    "\n",
    "print(partial_x_train.shape)\n",
    "print(partial_y_train.shape)\n",
    "print(x_val.shape)\n",
    "print(y_val.shape)\n"
   ]
  },
  {
   "cell_type": "markdown",
   "id": "0a5f6538",
   "metadata": {},
   "source": [
    "---\n",
    "\n",
    "#### 결과적으로, 총 데이터는 다음과 같다\n",
    "\n",
    "index_to_word : 우리가 만든 벡터 단어사전, 총 9996 단어를 보유\n",
    "\n",
    "partial_x_train : 우리가 학습시킬 문장들의 벡터화 데이터\n",
    "partial_y_train : 우리가 테스트할 문장들의 해답\n",
    "\n",
    "x_val : 검증할 때 쓰이는 문장 벡터화 데이터\n",
    "y_val : 검증할 때 쓰이는 문장들의 해답"
   ]
  },
  {
   "cell_type": "markdown",
   "id": "c799b081",
   "metadata": {},
   "source": [
    "# 2-3 모델 학습 및 평가\n",
    "\n",
    "## 2-3-1. RNN "
   ]
  },
  {
   "cell_type": "markdown",
   "id": "8c34492d",
   "metadata": {},
   "source": [
    "RNN 생성"
   ]
  },
  {
   "cell_type": "code",
   "execution_count": 17,
   "id": "52c7aaf5",
   "metadata": {
    "scrolled": true
   },
   "outputs": [
    {
     "name": "stdout",
     "output_type": "stream",
     "text": [
      "Model: \"sequential_1\"\n",
      "_________________________________________________________________\n",
      "Layer (type)                 Output Shape              Param #   \n",
      "=================================================================\n",
      "embedding (Embedding)        (None, None, 20)          199920    \n",
      "_________________________________________________________________\n",
      "lstm (LSTM)                  (None, 8)                 928       \n",
      "_________________________________________________________________\n",
      "dense (Dense)                (None, 8)                 72        \n",
      "_________________________________________________________________\n",
      "dense_1 (Dense)              (None, 1)                 9         \n",
      "=================================================================\n",
      "Total params: 200,929\n",
      "Trainable params: 200,929\n",
      "Non-trainable params: 0\n",
      "_________________________________________________________________\n"
     ]
    }
   ],
   "source": [
    "vocab_size = 9996  # 어휘 사전의 크기입니다\n",
    "word_vector_dim = 20  # 단어 하나를 표현하는 임베딩 벡터의 차원수입니다. \n",
    "\n",
    "# RNN 방식\n",
    "\n",
    "model = tf.keras.Sequential()\n",
    "model.add(tf.keras.layers.Embedding(vocab_size, word_vector_dim, input_shape=(None,)))\n",
    "model.add(tf.keras.layers.LSTM(8))   \n",
    "model.add(tf.keras.layers.Dense(8, activation='relu'))\n",
    "model.add(tf.keras.layers.Dense(1, activation='sigmoid'))  # 최종 출력은 긍정/부정을 나타내는 1dim 입니다.\n",
    "\n",
    "model.summary()"
   ]
  },
  {
   "cell_type": "markdown",
   "id": "b7eec39b",
   "metadata": {},
   "source": [
    "학습"
   ]
  },
  {
   "cell_type": "code",
   "execution_count": 19,
   "id": "fc2b1530",
   "metadata": {
    "scrolled": true
   },
   "outputs": [
    {
     "name": "stdout",
     "output_type": "stream",
     "text": [
      "Epoch 1/20\n",
      "183/183 [==============================] - 2s 5ms/step - loss: 0.6243 - accuracy: 0.7526 - val_loss: 0.4877 - val_accuracy: 0.8118\n",
      "Epoch 2/20\n",
      "183/183 [==============================] - 1s 4ms/step - loss: 0.4117 - accuracy: 0.8275 - val_loss: 0.3809 - val_accuracy: 0.8313\n",
      "Epoch 3/20\n",
      "183/183 [==============================] - 1s 4ms/step - loss: 0.3454 - accuracy: 0.8537 - val_loss: 0.3646 - val_accuracy: 0.8377\n",
      "Epoch 4/20\n",
      "183/183 [==============================] - 1s 4ms/step - loss: 0.3122 - accuracy: 0.8699 - val_loss: 0.3621 - val_accuracy: 0.8402\n",
      "Epoch 5/20\n",
      "183/183 [==============================] - 1s 4ms/step - loss: 0.2879 - accuracy: 0.8819 - val_loss: 0.3652 - val_accuracy: 0.8404\n",
      "Epoch 6/20\n",
      "183/183 [==============================] - 1s 4ms/step - loss: 0.2676 - accuracy: 0.8914 - val_loss: 0.3721 - val_accuracy: 0.8403\n",
      "Epoch 7/20\n",
      "183/183 [==============================] - 1s 4ms/step - loss: 0.2502 - accuracy: 0.9002 - val_loss: 0.3811 - val_accuracy: 0.8384\n",
      "Epoch 8/20\n",
      "183/183 [==============================] - 1s 4ms/step - loss: 0.2349 - accuracy: 0.9076 - val_loss: 0.3917 - val_accuracy: 0.8374\n",
      "Epoch 9/20\n",
      "183/183 [==============================] - 1s 4ms/step - loss: 0.2208 - accuracy: 0.9142 - val_loss: 0.4045 - val_accuracy: 0.8351\n",
      "Epoch 10/20\n",
      "183/183 [==============================] - 1s 4ms/step - loss: 0.2081 - accuracy: 0.9204 - val_loss: 0.4180 - val_accuracy: 0.8332\n",
      "Epoch 11/20\n",
      "183/183 [==============================] - 1s 4ms/step - loss: 0.1964 - accuracy: 0.9261 - val_loss: 0.4326 - val_accuracy: 0.8307\n",
      "Epoch 12/20\n",
      "183/183 [==============================] - 1s 4ms/step - loss: 0.1856 - accuracy: 0.9308 - val_loss: 0.4479 - val_accuracy: 0.8296\n",
      "Epoch 13/20\n",
      "183/183 [==============================] - 1s 4ms/step - loss: 0.1754 - accuracy: 0.9358 - val_loss: 0.4641 - val_accuracy: 0.8280\n",
      "Epoch 14/20\n",
      "183/183 [==============================] - 1s 4ms/step - loss: 0.1659 - accuracy: 0.9404 - val_loss: 0.4808 - val_accuracy: 0.8262\n",
      "Epoch 15/20\n",
      "183/183 [==============================] - 1s 4ms/step - loss: 0.1574 - accuracy: 0.9442 - val_loss: 0.4990 - val_accuracy: 0.8253\n",
      "Epoch 16/20\n",
      "183/183 [==============================] - 1s 4ms/step - loss: 0.1490 - accuracy: 0.9478 - val_loss: 0.5159 - val_accuracy: 0.8237\n",
      "Epoch 17/20\n",
      "183/183 [==============================] - 1s 4ms/step - loss: 0.1417 - accuracy: 0.9512 - val_loss: 0.5352 - val_accuracy: 0.8221\n",
      "Epoch 18/20\n",
      "183/183 [==============================] - 1s 4ms/step - loss: 0.1347 - accuracy: 0.9542 - val_loss: 0.5533 - val_accuracy: 0.8217\n",
      "Epoch 19/20\n",
      "183/183 [==============================] - 1s 4ms/step - loss: 0.1279 - accuracy: 0.9565 - val_loss: 0.5725 - val_accuracy: 0.8198\n",
      "Epoch 20/20\n",
      "183/183 [==============================] - 1s 4ms/step - loss: 0.1221 - accuracy: 0.9597 - val_loss: 0.5885 - val_accuracy: 0.8182\n"
     ]
    }
   ],
   "source": [
    "model.compile(optimizer='adam',\n",
    "              loss='binary_crossentropy',\n",
    "              metrics=['accuracy'])\n",
    "              \n",
    "epochs=20  # 몇 epoch를 훈련하면 좋을지 결과를 보면서 바꾸어 봅시다. \n",
    "\n",
    "history = model.fit(partial_x_train,\n",
    "                    partial_y_train,\n",
    "                    epochs=epochs,\n",
    "                    batch_size=512,\n",
    "                    validation_data=(x_val, y_val),\n",
    "                    verbose=1)"
   ]
  },
  {
   "cell_type": "markdown",
   "id": "75291696",
   "metadata": {},
   "source": [
    "평가 및 시각화"
   ]
  },
  {
   "cell_type": "code",
   "execution_count": 16,
   "id": "341ebf6a",
   "metadata": {},
   "outputs": [
    {
     "name": "stdout",
     "output_type": "stream",
     "text": [
      "1514/1514 - 3s - loss: 0.5361 - accuracy: 0.8226\n",
      "[0.5360623598098755, 0.8225866556167603]\n"
     ]
    }
   ],
   "source": [
    "results = model.evaluate(test_inputs,  y_test, verbose=2)\n",
    "\n",
    "print(results)"
   ]
  },
  {
   "cell_type": "code",
   "execution_count": 17,
   "id": "a44712ae",
   "metadata": {
    "scrolled": true
   },
   "outputs": [
    {
     "data": {
      "image/png": "[encoded data removed]",
      "text/plain": [
       "<Figure size 432x288 with 1 Axes>"
      ]
     },
     "metadata": {
      "needs_background": "light"
     },
     "output_type": "display_data"
    }
   ],
   "source": [
    "history_dict = history.history\n",
    "\n",
    "\n",
    "acc = history_dict['accuracy']\n",
    "val_acc = history_dict['val_accuracy']\n",
    "loss = history_dict['loss']\n",
    "val_loss = history_dict['val_loss']\n",
    "\n",
    "epochs = range(1, len(acc) + 1)\n",
    "\n",
    "# \"bo\"는 \"파란색 점\"입니다\n",
    "plt.plot(epochs, loss, 'bo', label='Training loss')\n",
    "# b는 \"파란 실선\"입니다\n",
    "plt.plot(epochs, val_loss, 'b', label='Validation loss')\n",
    "plt.title('Training and validation loss')\n",
    "plt.xlabel('Epochs')\n",
    "plt.ylabel('Loss')\n",
    "plt.legend()\n",
    "\n",
    "plt.show()"
   ]
  },
  {
   "cell_type": "code",
   "execution_count": 18,
   "id": "d45ddbc3",
   "metadata": {
    "scrolled": true
   },
   "outputs": [
    {
     "data": {
      "image/png": "[encoded data removed]",
      "text/plain": [
       "<Figure size 432x288 with 1 Axes>"
      ]
     },
     "metadata": {
      "needs_background": "light"
     },
     "output_type": "display_data"
    }
   ],
   "source": [
    "plt.clf()   # 그림을 초기화합니다\n",
    "\n",
    "plt.plot(epochs, acc, 'bo', label='Training acc')\n",
    "plt.plot(epochs, val_acc, 'b', label='Validation acc')\n",
    "plt.title('Training and validation accuracy')\n",
    "plt.xlabel('Epochs')\n",
    "plt.ylabel('Accuracy')\n",
    "plt.legend()\n",
    "\n",
    "plt.show()"
   ]
  },
  {
   "cell_type": "markdown",
   "id": "3d5ffc5f",
   "metadata": {},
   "source": [
    "epoch 이 5를 넘어서는 순간부터 검증 데이터의 loss 는 전체적을 올라고 train 데이터의 loss 만 줄어들고 있다.  \n",
    "다시 말해 학습된 모델이 train 데이터에 과적합 되었음을 추측할 수 있다."
   ]
  },
  {
   "cell_type": "markdown",
   "id": "1124b9bc",
   "metadata": {},
   "source": [
    "### 2-3-2. CNN  \n",
    "생성"
   ]
  },
  {
   "cell_type": "code",
   "execution_count": 25,
   "id": "35680164",
   "metadata": {},
   "outputs": [
    {
     "name": "stdout",
     "output_type": "stream",
     "text": [
      "Model: \"sequential_4\"\n",
      "_________________________________________________________________\n",
      "Layer (type)                 Output Shape              Param #   \n",
      "=================================================================\n",
      "embedding_4 (Embedding)      (None, None, 20)          199920    \n",
      "_________________________________________________________________\n",
      "conv1d_4 (Conv1D)            (None, None, 16)          1616      \n",
      "_________________________________________________________________\n",
      "max_pooling1d_2 (MaxPooling1 (None, None, 16)          0         \n",
      "_________________________________________________________________\n",
      "conv1d_5 (Conv1D)            (None, None, 16)          1296      \n",
      "_________________________________________________________________\n",
      "global_max_pooling1d_3 (Glob (None, 16)                0         \n",
      "_________________________________________________________________\n",
      "dense_8 (Dense)              (None, 8)                 136       \n",
      "_________________________________________________________________\n",
      "dense_9 (Dense)              (None, 1)                 9         \n",
      "=================================================================\n",
      "Total params: 202,977\n",
      "Trainable params: 202,977\n",
      "Non-trainable params: 0\n",
      "_________________________________________________________________\n"
     ]
    }
   ],
   "source": [
    "# CNN 방식 ConvD 만 사용한다.\n",
    "\n",
    "vocab_size = 9996  # 어휘 사전의 크기입니다\n",
    "word_vector_dim = 20 \n",
    "\n",
    "model = tf.keras.Sequential()\n",
    "model.add(tf.keras.layers.Embedding(vocab_size, word_vector_dim, input_shape=(None,)))\n",
    "model.add(tf.keras.layers.Conv1D(16, 5, activation='relu'))\n",
    "model.add(tf.keras.layers.MaxPooling1D(5))\n",
    "model.add(tf.keras.layers.Conv1D(16, 5, activation='relu'))\n",
    "model.add(tf.keras.layers.GlobalMaxPooling1D())\n",
    "model.add(tf.keras.layers.Dense(8, activation='relu'))\n",
    "model.add(tf.keras.layers.Dense(1, activation='sigmoid'))  # 최종 출력은 긍정/부정을 나타내는 1dim 입니다.\n",
    "\n",
    "model.summary()"
   ]
  },
  {
   "cell_type": "markdown",
   "id": "7f9bac76",
   "metadata": {},
   "source": [
    "결과"
   ]
  },
  {
   "cell_type": "code",
   "execution_count": 27,
   "id": "ef87eed2",
   "metadata": {},
   "outputs": [
    {
     "name": "stdout",
     "output_type": "stream",
     "text": [
      "Epoch 1/20\n",
      "203/203 [==============================] - 3s 6ms/step - loss: 0.5382 - accuracy: 0.7217 - val_loss: 0.3769 - val_accuracy: 0.8347\n",
      "Epoch 2/20\n",
      "203/203 [==============================] - 1s 5ms/step - loss: 0.3497 - accuracy: 0.8493 - val_loss: 0.3568 - val_accuracy: 0.8423\n",
      "Epoch 3/20\n",
      "203/203 [==============================] - 1s 5ms/step - loss: 0.3130 - accuracy: 0.8690 - val_loss: 0.3548 - val_accuracy: 0.8451\n",
      "Epoch 4/20\n",
      "203/203 [==============================] - 1s 5ms/step - loss: 0.2876 - accuracy: 0.8822 - val_loss: 0.3584 - val_accuracy: 0.8442\n",
      "Epoch 5/20\n",
      "203/203 [==============================] - 1s 5ms/step - loss: 0.2601 - accuracy: 0.8965 - val_loss: 0.3693 - val_accuracy: 0.8437\n",
      "Epoch 6/20\n",
      "203/203 [==============================] - 1s 5ms/step - loss: 0.2297 - accuracy: 0.9115 - val_loss: 0.3955 - val_accuracy: 0.8407\n",
      "Epoch 7/20\n",
      "203/203 [==============================] - 1s 5ms/step - loss: 0.1978 - accuracy: 0.9264 - val_loss: 0.4165 - val_accuracy: 0.8392\n",
      "Epoch 8/20\n",
      "203/203 [==============================] - 1s 5ms/step - loss: 0.1654 - accuracy: 0.9411 - val_loss: 0.4596 - val_accuracy: 0.8357\n",
      "Epoch 9/20\n",
      "203/203 [==============================] - 1s 5ms/step - loss: 0.1364 - accuracy: 0.9533 - val_loss: 0.5004 - val_accuracy: 0.8323\n",
      "Epoch 10/20\n",
      "203/203 [==============================] - 1s 5ms/step - loss: 0.1129 - accuracy: 0.9632 - val_loss: 0.5587 - val_accuracy: 0.8281\n",
      "Epoch 11/20\n",
      "203/203 [==============================] - 1s 5ms/step - loss: 0.0931 - accuracy: 0.9704 - val_loss: 0.6179 - val_accuracy: 0.8260\n",
      "Epoch 12/20\n",
      "203/203 [==============================] - 1s 5ms/step - loss: 0.0790 - accuracy: 0.9757 - val_loss: 0.6614 - val_accuracy: 0.8215\n",
      "Epoch 13/20\n",
      "203/203 [==============================] - 1s 5ms/step - loss: 0.0669 - accuracy: 0.9798 - val_loss: 0.7303 - val_accuracy: 0.8188\n",
      "Epoch 14/20\n",
      "203/203 [==============================] - 1s 5ms/step - loss: 0.0580 - accuracy: 0.9828 - val_loss: 0.7671 - val_accuracy: 0.8188\n",
      "Epoch 15/20\n",
      "203/203 [==============================] - 1s 5ms/step - loss: 0.0524 - accuracy: 0.9843 - val_loss: 0.8293 - val_accuracy: 0.8153\n",
      "Epoch 16/20\n",
      "203/203 [==============================] - 1s 5ms/step - loss: 0.0457 - accuracy: 0.9867 - val_loss: 0.8766 - val_accuracy: 0.8130\n",
      "Epoch 17/20\n",
      "203/203 [==============================] - 1s 5ms/step - loss: 0.0408 - accuracy: 0.9881 - val_loss: 0.9142 - val_accuracy: 0.8120\n",
      "Epoch 18/20\n",
      "203/203 [==============================] - 1s 5ms/step - loss: 0.0369 - accuracy: 0.9893 - val_loss: 0.9847 - val_accuracy: 0.8133\n",
      "Epoch 19/20\n",
      "203/203 [==============================] - 1s 5ms/step - loss: 0.0339 - accuracy: 0.9902 - val_loss: 1.0318 - val_accuracy: 0.8091\n",
      "Epoch 20/20\n",
      "203/203 [==============================] - 1s 5ms/step - loss: 0.0326 - accuracy: 0.9902 - val_loss: 1.0759 - val_accuracy: 0.8091\n"
     ]
    }
   ],
   "source": [
    "model.compile(optimizer='adam',\n",
    "              loss='binary_crossentropy',\n",
    "              metrics=['accuracy'])\n",
    "              \n",
    "epochs=20  # 몇 epoch를 훈련하면 좋을지 결과를 보면서 바꾸어 봅시다. \n",
    "\n",
    "history = model.fit(partial_x_train,\n",
    "                    partial_y_train,\n",
    "                    epochs=epochs,\n",
    "                    batch_size=512,\n",
    "                    validation_data=(x_val, y_val),\n",
    "                    verbose=1)"
   ]
  },
  {
   "cell_type": "markdown",
   "id": "0992bd2d",
   "metadata": {},
   "source": [
    "평가 및 시각화"
   ]
  },
  {
   "cell_type": "code",
   "execution_count": 28,
   "id": "f0039d16",
   "metadata": {},
   "outputs": [
    {
     "name": "stdout",
     "output_type": "stream",
     "text": [
      "1514/1514 - 2s - loss: 1.0904 - accuracy: 0.8054\n"
     ]
    }
   ],
   "source": [
    "results = model.evaluate(test_inputs,  y_test, verbose=2)\n"
   ]
  },
  {
   "cell_type": "code",
   "execution_count": 29,
   "id": "f67a5390",
   "metadata": {},
   "outputs": [
    {
     "data": {
      "image/png": "[encoded data removed]",
      "text/plain": [
       "<Figure size 432x288 with 1 Axes>"
      ]
     },
     "metadata": {
      "needs_background": "light"
     },
     "output_type": "display_data"
    }
   ],
   "source": [
    "history_dict = history.history\n",
    "\n",
    "\n",
    "acc = history_dict['accuracy']\n",
    "val_acc = history_dict['val_accuracy']\n",
    "loss = history_dict['loss']\n",
    "val_loss = history_dict['val_loss']\n",
    "\n",
    "epochs = range(1, len(acc) + 1)\n",
    "\n",
    "# \"bo\"는 \"파란색 점\"입니다\n",
    "plt.plot(epochs, loss, 'bo', label='Training loss')\n",
    "# b는 \"파란 실선\"입니다\n",
    "plt.plot(epochs, val_loss, 'b', label='Validation loss')\n",
    "plt.title('Training and validation loss')\n",
    "plt.xlabel('Epochs')\n",
    "plt.ylabel('Loss')\n",
    "plt.legend()\n",
    "\n",
    "plt.show()"
   ]
  },
  {
   "cell_type": "code",
   "execution_count": 30,
   "id": "7c0d5e7f",
   "metadata": {},
   "outputs": [
    {
     "data": {
      "image/png": "[encoded data removed]",
      "text/plain": [
       "<Figure size 432x288 with 1 Axes>"
      ]
     },
     "metadata": {
      "needs_background": "light"
     },
     "output_type": "display_data"
    }
   ],
   "source": [
    "plt.clf()   # 그림을 초기화합니다\n",
    "\n",
    "plt.plot(epochs, acc, 'bo', label='Training acc')\n",
    "plt.plot(epochs, val_acc, 'b', label='Validation acc')\n",
    "plt.title('Training and validation accuracy')\n",
    "plt.xlabel('Epochs')\n",
    "plt.ylabel('Accuracy')\n",
    "plt.legend()\n",
    "\n",
    "plt.show()"
   ]
  },
  {
   "cell_type": "markdown",
   "id": "8c8b3770",
   "metadata": {},
   "source": [
    "마찬가지로 과적합이 일어나고 있다."
   ]
  },
  {
   "cell_type": "markdown",
   "id": "f17bc08a",
   "metadata": {},
   "source": [
    "### 2-3-3. CNN - maxpooling  \n",
    "모델 생성"
   ]
  },
  {
   "cell_type": "code",
   "execution_count": 18,
   "id": "ef330728",
   "metadata": {},
   "outputs": [
    {
     "name": "stdout",
     "output_type": "stream",
     "text": [
      "Model: \"sequential_2\"\n",
      "_________________________________________________________________\n",
      "Layer (type)                 Output Shape              Param #   \n",
      "=================================================================\n",
      "embedding_1 (Embedding)      (None, None, 20)          199920    \n",
      "_________________________________________________________________\n",
      "global_max_pooling1d (Global (None, 20)                0         \n",
      "_________________________________________________________________\n",
      "dense_2 (Dense)              (None, 8)                 168       \n",
      "_________________________________________________________________\n",
      "dense_3 (Dense)              (None, 1)                 9         \n",
      "=================================================================\n",
      "Total params: 200,097\n",
      "Trainable params: 200,097\n",
      "Non-trainable params: 0\n",
      "_________________________________________________________________\n"
     ]
    }
   ],
   "source": [
    "# global maxpooling 을 사용한다.\n",
    "\n",
    "model = tf.keras.Sequential()\n",
    "model.add(tf.keras.layers.Embedding(vocab_size, word_vector_dim, input_shape=(None,)))\n",
    "model.add(tf.keras.layers.GlobalMaxPooling1D())\n",
    "model.add(tf.keras.layers.Dense(8, activation='relu'))\n",
    "model.add(tf.keras.layers.Dense(1, activation='sigmoid'))  # 최종 출력은 긍정/부정을 나타내는 1dim 입니다.\n",
    "\n",
    "model.summary()"
   ]
  },
  {
   "cell_type": "markdown",
   "id": "6b74ca41",
   "metadata": {},
   "source": [
    "결과"
   ]
  },
  {
   "cell_type": "code",
   "execution_count": 32,
   "id": "d9678c93",
   "metadata": {},
   "outputs": [
    {
     "name": "stdout",
     "output_type": "stream",
     "text": [
      "Epoch 1/20\n",
      "203/203 [==============================] - 1s 4ms/step - loss: 0.6201 - accuracy: 0.6697 - val_loss: 0.4874 - val_accuracy: 0.8056\n",
      "Epoch 2/20\n",
      "203/203 [==============================] - 1s 4ms/step - loss: 0.4094 - accuracy: 0.8299 - val_loss: 0.3776 - val_accuracy: 0.8332\n",
      "Epoch 3/20\n",
      "203/203 [==============================] - 1s 4ms/step - loss: 0.3398 - accuracy: 0.8569 - val_loss: 0.3628 - val_accuracy: 0.8387\n",
      "Epoch 4/20\n",
      "203/203 [==============================] - 1s 4ms/step - loss: 0.3088 - accuracy: 0.8715 - val_loss: 0.3624 - val_accuracy: 0.8395\n",
      "Epoch 5/20\n",
      "203/203 [==============================] - 1s 4ms/step - loss: 0.2868 - accuracy: 0.8817 - val_loss: 0.3675 - val_accuracy: 0.8400\n",
      "Epoch 6/20\n",
      "203/203 [==============================] - 1s 4ms/step - loss: 0.2686 - accuracy: 0.8908 - val_loss: 0.3754 - val_accuracy: 0.8390\n",
      "Epoch 7/20\n",
      "203/203 [==============================] - 1s 4ms/step - loss: 0.2529 - accuracy: 0.8988 - val_loss: 0.3848 - val_accuracy: 0.8382\n",
      "Epoch 8/20\n",
      "203/203 [==============================] - 1s 4ms/step - loss: 0.2390 - accuracy: 0.9054 - val_loss: 0.3963 - val_accuracy: 0.8352\n",
      "Epoch 9/20\n",
      "203/203 [==============================] - 1s 4ms/step - loss: 0.2268 - accuracy: 0.9114 - val_loss: 0.4084 - val_accuracy: 0.8342\n",
      "Epoch 10/20\n",
      "203/203 [==============================] - 1s 4ms/step - loss: 0.2153 - accuracy: 0.9170 - val_loss: 0.4237 - val_accuracy: 0.8330\n",
      "Epoch 11/20\n",
      "203/203 [==============================] - 1s 4ms/step - loss: 0.2047 - accuracy: 0.9224 - val_loss: 0.4384 - val_accuracy: 0.8300\n",
      "Epoch 12/20\n",
      "203/203 [==============================] - 1s 4ms/step - loss: 0.1948 - accuracy: 0.9266 - val_loss: 0.4536 - val_accuracy: 0.8280\n",
      "Epoch 13/20\n",
      "203/203 [==============================] - 1s 4ms/step - loss: 0.1858 - accuracy: 0.9315 - val_loss: 0.4699 - val_accuracy: 0.8262\n",
      "Epoch 14/20\n",
      "203/203 [==============================] - 1s 4ms/step - loss: 0.1770 - accuracy: 0.9357 - val_loss: 0.4859 - val_accuracy: 0.8243\n",
      "Epoch 15/20\n",
      "203/203 [==============================] - 1s 4ms/step - loss: 0.1691 - accuracy: 0.9389 - val_loss: 0.5008 - val_accuracy: 0.8234\n",
      "Epoch 16/20\n",
      "203/203 [==============================] - 1s 4ms/step - loss: 0.1618 - accuracy: 0.9420 - val_loss: 0.5172 - val_accuracy: 0.8227\n",
      "Epoch 17/20\n",
      "203/203 [==============================] - 1s 4ms/step - loss: 0.1552 - accuracy: 0.9453 - val_loss: 0.5345 - val_accuracy: 0.8221\n",
      "Epoch 18/20\n",
      "203/203 [==============================] - 1s 4ms/step - loss: 0.1488 - accuracy: 0.9485 - val_loss: 0.5502 - val_accuracy: 0.8211\n",
      "Epoch 19/20\n",
      "203/203 [==============================] - 1s 4ms/step - loss: 0.1429 - accuracy: 0.9504 - val_loss: 0.5686 - val_accuracy: 0.8188\n",
      "Epoch 20/20\n",
      "203/203 [==============================] - 1s 4ms/step - loss: 0.1373 - accuracy: 0.9529 - val_loss: 0.5862 - val_accuracy: 0.8183\n"
     ]
    }
   ],
   "source": [
    "model.compile(optimizer='adam',\n",
    "              loss='binary_crossentropy',\n",
    "              metrics=['accuracy'])\n",
    "              \n",
    "epochs=20  # 몇 epoch를 훈련하면 좋을지 결과를 보면서 바꾸어 봅시다. \n",
    "\n",
    "history = model.fit(partial_x_train,\n",
    "                    partial_y_train,\n",
    "                    epochs=epochs,\n",
    "                    batch_size=512,\n",
    "                    validation_data=(x_val, y_val),\n",
    "                    verbose=1)"
   ]
  },
  {
   "cell_type": "markdown",
   "id": "d4e46912",
   "metadata": {},
   "source": [
    "평가 및 시각화"
   ]
  },
  {
   "cell_type": "code",
   "execution_count": 33,
   "id": "57f093c8",
   "metadata": {
    "scrolled": true
   },
   "outputs": [
    {
     "name": "stdout",
     "output_type": "stream",
     "text": [
      "1514/1514 - 2s - loss: 0.5972 - accuracy: 0.8128\n"
     ]
    }
   ],
   "source": [
    "results = model.evaluate(test_inputs,  y_test, verbose=2)\n"
   ]
  },
  {
   "cell_type": "code",
   "execution_count": 34,
   "id": "fbc0f20d",
   "metadata": {},
   "outputs": [
    {
     "data": {
      "image/png": "[encoded data removed]",
      "text/plain": [
       "<Figure size 432x288 with 1 Axes>"
      ]
     },
     "metadata": {
      "needs_background": "light"
     },
     "output_type": "display_data"
    }
   ],
   "source": [
    "history_dict = history.history\n",
    "\n",
    "\n",
    "acc = history_dict['accuracy']\n",
    "val_acc = history_dict['val_accuracy']\n",
    "loss = history_dict['loss']\n",
    "val_loss = history_dict['val_loss']\n",
    "\n",
    "epochs = range(1, len(acc) + 1)\n",
    "\n",
    "# \"bo\"는 \"파란색 점\"입니다\n",
    "plt.plot(epochs, loss, 'bo', label='Training loss')\n",
    "# b는 \"파란 실선\"입니다\n",
    "plt.plot(epochs, val_loss, 'b', label='Validation loss')\n",
    "plt.title('Training and validation loss')\n",
    "plt.xlabel('Epochs')\n",
    "plt.ylabel('Loss')\n",
    "plt.legend()\n",
    "\n",
    "plt.show()"
   ]
  },
  {
   "cell_type": "code",
   "execution_count": 35,
   "id": "4ff7e1ed",
   "metadata": {},
   "outputs": [
    {
     "data": {
      "image/png": "[encoded data removed]",
      "text/plain": [
       "<Figure size 432x288 with 1 Axes>"
      ]
     },
     "metadata": {
      "needs_background": "light"
     },
     "output_type": "display_data"
    }
   ],
   "source": [
    "plt.clf()   # 그림을 초기화합니다\n",
    "\n",
    "plt.plot(epochs, acc, 'bo', label='Training acc')\n",
    "plt.plot(epochs, val_acc, 'b', label='Validation acc')\n",
    "plt.title('Training and validation accuracy')\n",
    "plt.xlabel('Epochs')\n",
    "plt.ylabel('Accuracy')\n",
    "plt.legend()\n",
    "\n",
    "plt.show()"
   ]
  },
  {
   "cell_type": "markdown",
   "id": "d3810589",
   "metadata": {},
   "source": [
    "마찬가지로 과적합이 일어난다.\n",
    "\n",
    "---"
   ]
  },
  {
   "cell_type": "markdown",
   "id": "8f378c4b",
   "metadata": {},
   "source": [
    "각 모델들의 accuracy 를 종합해 보면\n",
    "\n",
    "RNN                   : 0.8293  \n",
    "CNN 1-D               : 0.8054  \n",
    "CNN globalmaxplooing  : 0.8169    \n",
    "\n",
    "으로, 그나마 RNN 에서 82%로 가장 좋은 성능을 보인다.\n"
   ]
  },
  {
   "cell_type": "markdown",
   "id": "e0ce25d5",
   "metadata": {},
   "source": [
    "---\n",
    "\n",
    "## 2-4. Pre-trained Embedding data (Ko)"
   ]
  },
  {
   "cell_type": "markdown",
   "id": "873a5b83",
   "metadata": {},
   "source": [
    "상단의 모델에서는 우리가 만든 9996개의 단어를 가지고 임시 임베딩을 했다.  \n",
    "해당 단어사전으로 만든 임베딩의 단어 유사도를 알아보기로 한다."
   ]
  },
  {
   "cell_type": "markdown",
   "id": "1e0f84af",
   "metadata": {},
   "source": [
    "### 2-4-1. 우리의 단어사전 분석"
   ]
  },
  {
   "cell_type": "code",
   "execution_count": 20,
   "id": "f7da89f8",
   "metadata": {},
   "outputs": [
    {
     "name": "stdout",
     "output_type": "stream",
     "text": [
      "(9996, 20)\n"
     ]
    }
   ],
   "source": [
    "embedding_layer = model.layers[0]\n",
    "weights = embedding_layer.get_weights()[0]\n",
    "print(weights.shape)    # shape: (vocab_size, embedding_dim)"
   ]
  },
  {
   "cell_type": "markdown",
   "id": "5d051d8a",
   "metadata": {},
   "source": [
    "현재 각 단어가 20개의 벡터값으로 표현되어 있다."
   ]
  },
  {
   "cell_type": "code",
   "execution_count": 37,
   "id": "56ae3a50",
   "metadata": {},
   "outputs": [],
   "source": [
    "\n",
    "word2vec_file_path = os.getenv('HOME')+'/aiffel/workplace/[E-06]/data/word2vec.txt'\n",
    "f = open(word2vec_file_path, 'w')\n",
    "f.write('{} {}\\n'.format(vocab_size-4, word_vector_dim))  # 몇개의 벡터를 얼마 사이즈로 기재할지 타이틀을 씁니다.\n",
    "\n",
    "# 단어 개수(에서 특수문자 4개는 제외하고)만큼의 워드 벡터를 파일에 기록합니다. \n",
    "vectors = model.get_weights()[0]\n",
    "for i in range(4,vocab_size):\n",
    "    f.write('{} {}\\n'.format(index_to_word[i], ' '.join(map(str, list(vectors[i, :])))))\n",
    "f.close()"
   ]
  },
  {
   "cell_type": "code",
   "execution_count": 38,
   "id": "caa25268",
   "metadata": {},
   "outputs": [
    {
     "data": {
      "text/plain": [
       "array([-0.33015117, -0.01338573, -0.30968502,  0.03285117,  0.00497736,\n",
       "       -0.15218377, -0.04306409, -0.1516609 , -0.09199471, -0.02431269,\n",
       "       -0.09632351, -0.2314864 , -0.05165323, -0.01680278, -0.05301832,\n",
       "       -0.24944375, -0.24970013, -0.25418597, -0.23021825, -0.07592441],\n",
       "      dtype=float32)"
      ]
     },
     "execution_count": 38,
     "metadata": {},
     "output_type": "execute_result"
    }
   ],
   "source": [
    "word_vectors = Word2VecKeyedVectors.load_word2vec_format(word2vec_file_path, binary=False)\n",
    "vector = word_vectors['ㅋㅋㅋ']\n",
    "vector"
   ]
  },
  {
   "cell_type": "markdown",
   "id": "fdd27fef",
   "metadata": {},
   "source": [
    "우리의 단어사전을 파일로 저장하여, 특정 단어와 관련도가 높은 유사단어를 뽑아 보았다."
   ]
  },
  {
   "cell_type": "code",
   "execution_count": 39,
   "id": "052f6560",
   "metadata": {},
   "outputs": [
    {
     "data": {
      "text/plain": [
       "[('흥미', 0.870549201965332),\n",
       " ('즐겁', 0.8093381524085999),\n",
       " ('돋', 0.8091644048690796),\n",
       " ('기회', 0.8013196587562561),\n",
       " ('이번', 0.8010327816009521),\n",
       " ('찡', 0.7919623851776123),\n",
       " ('때', 0.7743175029754639),\n",
       " ('터미네이터', 0.773722231388092),\n",
       " ('올리비아', 0.7726334929466248),\n",
       " ('선생', 0.7702509760856628)]"
      ]
     },
     "execution_count": 39,
     "metadata": {},
     "output_type": "execute_result"
    }
   ],
   "source": [
    "word_vectors.similar_by_word(\"사랑\")"
   ]
  },
  {
   "cell_type": "markdown",
   "id": "bf709ffe",
   "metadata": {},
   "source": [
    "진짜 완전 형편이 없다."
   ]
  },
  {
   "cell_type": "code",
   "execution_count": 40,
   "id": "b4700637",
   "metadata": {},
   "outputs": [
    {
     "data": {
      "text/plain": [
       "[('귀여움', 0.8642995357513428),\n",
       " ('이스트우드', 0.8636992573738098),\n",
       " ('순수', 0.8622899651527405),\n",
       " ('회장', 0.8610565066337585),\n",
       " ('향해', 0.8608404397964478),\n",
       " ('갑', 0.8426898717880249),\n",
       " ('씀', 0.841067373752594),\n",
       " ('임다', 0.8383880853652954),\n",
       " ('고아라', 0.8366931080818176),\n",
       " ('꿀', 0.8322663903236389)]"
      ]
     },
     "execution_count": 40,
     "metadata": {},
     "output_type": "execute_result"
    }
   ],
   "source": [
    "word_vectors.similar_by_word(\"우정\")"
   ]
  },
  {
   "cell_type": "markdown",
   "id": "4635c963",
   "metadata": {},
   "source": [
    "우정은 귀여울 수 있지만 고아라씨와는 무슨 관계일까..?\n",
    "\n",
    "다음과 같이 적은 데이터 양으로는 훌륭하지 못한 유사도를 가지고 있다.  \n",
    "때문에 git에서 제공되는 Korea 단어사전을 가져와 사용해보도록 한다.\n",
    "\n"
   ]
  },
  {
   "cell_type": "markdown",
   "id": "dd2b9dc9",
   "metadata": {},
   "source": [
    "---\n",
    "\n",
    "### 2-4-2. pre-trained 임베딩 써보기"
   ]
  },
  {
   "cell_type": "markdown",
   "id": "437141d0",
   "metadata": {},
   "source": [
    "자료는 이곳에 준비되어 있다.  \n",
    "[규병 님의 깃허브](https://github.com/Kyubyong/wordvectors)\n"
   ]
  },
  {
   "cell_type": "code",
   "execution_count": 2,
   "id": "6ac292a9",
   "metadata": {},
   "outputs": [],
   "source": [
    "word2vec_path = os.getenv('HOME')+'/aiffel/workplace/[E-06]/data/ko.bin'\n",
    "ko_model = Word2Vec.load(word2vec_path)"
   ]
  },
  {
   "cell_type": "code",
   "execution_count": 3,
   "id": "da12e15c",
   "metadata": {},
   "outputs": [
    {
     "name": "stderr",
     "output_type": "stream",
     "text": [
      "/tmp/ipykernel_335/1747209064.py:1: DeprecationWarning: Call to deprecated `similar_by_word` (Method will be removed in 4.0.0, use self.wv.similar_by_word() instead).\n",
      "  ko_model.similar_by_word(\"사랑\")\n"
     ]
    },
    {
     "data": {
      "text/plain": [
       "[('슬픔', 0.7216662764549255),\n",
       " ('행복', 0.6759077310562134),\n",
       " ('절망', 0.6468985080718994),\n",
       " ('기쁨', 0.6458414196968079),\n",
       " ('이별', 0.6334798336029053),\n",
       " ('추억', 0.6320937275886536),\n",
       " ('인생', 0.6216273307800293),\n",
       " ('애정', 0.6206069588661194),\n",
       " ('연인', 0.6186063289642334),\n",
       " ('유혹', 0.5965287685394287)]"
      ]
     },
     "execution_count": 3,
     "metadata": {},
     "output_type": "execute_result"
    }
   ],
   "source": [
    "ko_model.similar_by_word(\"사랑\")"
   ]
  },
  {
   "cell_type": "code",
   "execution_count": 89,
   "id": "b9fe44b1",
   "metadata": {},
   "outputs": [
    {
     "name": "stderr",
     "output_type": "stream",
     "text": [
      "/tmp/ipykernel_1457/3419879231.py:1: DeprecationWarning: Call to deprecated `similar_by_word` (Method will be removed in 4.0.0, use self.wv.similar_by_word() instead).\n",
      "  ko_model.similar_by_word(\"노래\")\n"
     ]
    },
    {
     "data": {
      "text/plain": [
       "[('가사', 0.7066930532455444),\n",
       " ('곡조', 0.6870777010917664),\n",
       " ('곡', 0.6749094724655151),\n",
       " ('발라드', 0.6573207378387451),\n",
       " ('멜로디', 0.6572505235671997),\n",
       " ('주제가', 0.6365448832511902),\n",
       " ('애국가', 0.6258596181869507),\n",
       " ('곡인', 0.6254721879959106),\n",
       " ('히트곡', 0.6253563165664673),\n",
       " ('원곡', 0.6200122833251953)]"
      ]
     },
     "execution_count": 89,
     "metadata": {},
     "output_type": "execute_result"
    }
   ],
   "source": [
    "ko_model.similar_by_word(\"노래\")"
   ]
  },
  {
   "cell_type": "markdown",
   "id": "2df604c4",
   "metadata": {},
   "source": [
    "우리의 형편없는 유사도와 달리  \n",
    "이곳에서는 충분히 관련 있는 단어들이 유의미하게 나오고 있다."
   ]
  },
  {
   "cell_type": "code",
   "execution_count": 90,
   "id": "e8d19749",
   "metadata": {},
   "outputs": [
    {
     "data": {
      "text/plain": [
       "(30185, 200)"
      ]
     },
     "execution_count": 90,
     "metadata": {},
     "output_type": "execute_result"
    }
   ],
   "source": [
    "ko_model.wv.vectors.shape"
   ]
  },
  {
   "cell_type": "markdown",
   "id": "9ca0af42",
   "metadata": {},
   "source": [
    "해당 모델은 30185개의 단어가 많이 쓰이는 순서대로 200 개의 벡터값으로 표현된다.  \n",
    "우리는 상위에 가장 많이 쓰이는 10000개를 불러 와 모델학습을 시켜보도록 한다."
   ]
  },
  {
   "cell_type": "code",
   "execution_count": 16,
   "id": "15ef6380",
   "metadata": {},
   "outputs": [
    {
     "name": "stderr",
     "output_type": "stream",
     "text": [
      "/tmp/ipykernel_335/1009935147.py:7: DeprecationWarning: Call to deprecated `__contains__` (Method will be removed in 4.0.0, use self.wv.__contains__() instead).\n",
      "  if index_to_word[i] in ko_model:\n",
      "/tmp/ipykernel_335/1009935147.py:8: DeprecationWarning: Call to deprecated `__getitem__` (Method will be removed in 4.0.0, use self.wv.__getitem__() instead).\n",
      "  embedding_matrix[i] = ko_model[index_to_word[i]]\n"
     ]
    }
   ],
   "source": [
    "vocab_size = 10000   # 어휘 사전의 크기입니다(10,000개의 단어)\n",
    "word_vector_dim = 200  # 워드 벡터의 차원수\n",
    "embedding_matrix = np.random.rand(vocab_size, word_vector_dim)\n",
    "\n",
    "\n",
    "for i in range(4,vocab_size):\n",
    "    if index_to_word[i] in ko_model:\n",
    "        embedding_matrix[i] = ko_model[index_to_word[i]]"
   ]
  },
  {
   "cell_type": "code",
   "execution_count": 17,
   "id": "a1b54a77",
   "metadata": {
    "scrolled": true
   },
   "outputs": [
    {
     "data": {
      "text/plain": [
       "(10000, 200)"
      ]
     },
     "execution_count": 17,
     "metadata": {},
     "output_type": "execute_result"
    }
   ],
   "source": [
    "embedding_matrix.shape"
   ]
  },
  {
   "cell_type": "markdown",
   "id": "ca9803d4",
   "metadata": {},
   "source": [
    "RNN 모델을 사용하여 Pre-trained Embedding data 를 가져와 넣었다."
   ]
  },
  {
   "cell_type": "code",
   "execution_count": 18,
   "id": "c53af197",
   "metadata": {},
   "outputs": [
    {
     "name": "stdout",
     "output_type": "stream",
     "text": [
      "Model: \"sequential\"\n",
      "_________________________________________________________________\n",
      "Layer (type)                 Output Shape              Param #   \n",
      "=================================================================\n",
      "embedding (Embedding)        (None, 36, 200)           2000000   \n",
      "_________________________________________________________________\n",
      "lstm (LSTM)                  (None, 512)               1460224   \n",
      "_________________________________________________________________\n",
      "dense (Dense)                (None, 8)                 4104      \n",
      "_________________________________________________________________\n",
      "dense_1 (Dense)              (None, 1)                 9         \n",
      "=================================================================\n",
      "Total params: 3,464,337\n",
      "Trainable params: 3,464,337\n",
      "Non-trainable params: 0\n",
      "_________________________________________________________________\n"
     ]
    }
   ],
   "source": [
    "from tensorflow.keras.initializers import Constant\n",
    "\n",
    "vocab_size = 10000    # 어휘 사전의 크기입니다(10,000개의 단어)\n",
    "word_vector_dim = 200  # 워드 벡터의 차원 수 \n",
    "\n",
    "model = tf.keras.Sequential()\n",
    "model.add(tf.keras.layers.Embedding(vocab_size, \n",
    "                                 word_vector_dim, \n",
    "                                 embeddings_initializer=Constant(embedding_matrix),  # pre-trained data\n",
    "                                 input_length=maxlen, \n",
    "                                 trainable=True))\n",
    "model.add(tf.keras.layers.LSTM(512))\n",
    "model.add(tf.keras.layers.Dense(8, activation='relu'))\n",
    "model.add(tf.keras.layers.Dense(1, activation='sigmoid'))  # 최종 출력은 긍정/부정을 나타내는 1dim 입니다.\n",
    "\n",
    "model.summary()"
   ]
  },
  {
   "cell_type": "code",
   "execution_count": 19,
   "id": "4afd7795",
   "metadata": {
    "scrolled": true
   },
   "outputs": [
    {
     "name": "stdout",
     "output_type": "stream",
     "text": [
      "Epoch 1/5\n",
      "1464/1464 [==============================] - 22s 13ms/step - loss: 0.4594 - accuracy: 0.7610 - val_loss: 0.3434 - val_accuracy: 0.8480\n",
      "Epoch 2/5\n",
      "1464/1464 [==============================] - 19s 13ms/step - loss: 0.3055 - accuracy: 0.8680 - val_loss: 0.3233 - val_accuracy: 0.8594\n",
      "Epoch 3/5\n",
      "1464/1464 [==============================] - 19s 13ms/step - loss: 0.2489 - accuracy: 0.8968 - val_loss: 0.3337 - val_accuracy: 0.8599\n",
      "Epoch 4/5\n",
      "1464/1464 [==============================] - 19s 13ms/step - loss: 0.1911 - accuracy: 0.9239 - val_loss: 0.3579 - val_accuracy: 0.8555\n",
      "Epoch 5/5\n",
      "1464/1464 [==============================] - 20s 13ms/step - loss: 0.1361 - accuracy: 0.9483 - val_loss: 0.4342 - val_accuracy: 0.8529\n"
     ]
    }
   ],
   "source": [
    "model.compile(optimizer='adam',\n",
    "              loss='binary_crossentropy',\n",
    "              metrics=['accuracy'])\n",
    "              \n",
    "epochs=5  # 몇 epoch를 훈련하면 좋을지 결과를 보면서 바꾸어 봅시다. \n",
    "\n",
    "history = model.fit(partial_x_train,\n",
    "                    partial_y_train,\n",
    "                    epochs=epochs,\n",
    "                    batch_size=64,\n",
    "                    validation_data=(x_val, y_val),\n",
    "                    verbose=1)"
   ]
  },
  {
   "cell_type": "markdown",
   "id": "4c533e68",
   "metadata": {},
   "source": [
    "### 임베딩을 거친 결과값은????"
   ]
  },
  {
   "cell_type": "code",
   "execution_count": 20,
   "id": "64e33c6a",
   "metadata": {
    "scrolled": true
   },
   "outputs": [
    {
     "name": "stdout",
     "output_type": "stream",
     "text": [
      "1514/1514 - 5s - loss: 0.4414 - accuracy: 0.8508\n"
     ]
    }
   ],
   "source": [
    "results = model.evaluate(test_inputs,  y_test, verbose=2)\n"
   ]
  },
  {
   "cell_type": "markdown",
   "id": "ced7e08c",
   "metadata": {},
   "source": [
    "0.85%로 우리가 학습시켰던 어떤 모델보다도 높은 유의미한 결과가 나왔다."
   ]
  },
  {
   "cell_type": "code",
   "execution_count": 21,
   "id": "b6876a3f",
   "metadata": {},
   "outputs": [
    {
     "data": {
      "image/png": "[encoded data removed]",
      "text/plain": [
       "<Figure size 432x288 with 1 Axes>"
      ]
     },
     "metadata": {
      "needs_background": "light"
     },
     "output_type": "display_data"
    }
   ],
   "source": [
    "history_dict = history.history\n",
    "\n",
    "\n",
    "acc = history_dict['accuracy']\n",
    "val_acc = history_dict['val_accuracy']\n",
    "loss = history_dict['loss']\n",
    "val_loss = history_dict['val_loss']\n",
    "\n",
    "epochs = range(1, len(acc) + 1)\n",
    "\n",
    "# \"bo\"는 \"파란색 점\"입니다\n",
    "plt.plot(epochs, loss, 'bo', label='Training loss')\n",
    "# b는 \"파란 실선\"입니다\n",
    "plt.plot(epochs, val_loss, 'b', label='Validation loss')\n",
    "plt.title('Training and validation loss')\n",
    "plt.xlabel('Epochs')\n",
    "plt.ylabel('Loss')\n",
    "plt.legend()\n",
    "\n",
    "plt.show()"
   ]
  },
  {
   "cell_type": "code",
   "execution_count": 22,
   "id": "5ad85fc3",
   "metadata": {},
   "outputs": [
    {
     "data": {
      "image/png": "[encoded data removed]",
      "text/plain": [
       "<Figure size 432x288 with 1 Axes>"
      ]
     },
     "metadata": {
      "needs_background": "light"
     },
     "output_type": "display_data"
    }
   ],
   "source": [
    "plt.clf()   # 그림을 초기화합니다\n",
    "\n",
    "plt.plot(epochs, acc, 'bo', label='Training acc')\n",
    "plt.plot(epochs, val_acc, 'b', label='Validation acc')\n",
    "plt.title('Training and validation accuracy')\n",
    "plt.xlabel('Epochs')\n",
    "plt.ylabel('Accuracy')\n",
    "plt.legend()\n",
    "\n",
    "plt.show()"
   ]
  },
  {
   "cell_type": "markdown",
   "id": "fb094b92",
   "metadata": {},
   "source": [
    "## 3. POTG\n",
    "\n",
    "### 3-1. 소감\n",
    "\n",
    "#### \" 🙄음,, 글치글치,, 아 잠깐만,,? 어..? \"\n",
    "\" 분명 무슨 말인지 알겠는데 되돌아보면 다시 혼란스러워지는 전처리-임베딩-훈련 작업이었습니다.  \n",
    "아무래도 그 과정이 길고 복잡하다보니 끊어서 공부하면 안되겠다는 생각이 들었습니다.  \n",
    "공부할 때 한번에 쭉 나가야 논리적으로 훨씬 와닿으실 것 같네요! \"\n",
    "\n",
    "### 3-2. 어려웠던 점과 극복방안\n",
    "\n",
    "- 한국어 특화 분석을 위한 Mecab 라이브러리 사용\n",
    "지금까지 배운 NLP 와는 달리, 이번 과제는 한국어를 분석하는 프로젝트였다. 그래서 영어분석 때는 쓰지 않았던 Mecab 라이브러리를 사용했으나, 이것이 무엇인지 이해하기가 쉽지 않았다. \n",
    "\n",
    "한국어는 영어와 다른 문장구조와 문법을 가지고 있는데, Mecab은 그러한\n",
    "형태소를 분석하여 튜플 형태로 제공해준다.\n",
    "\n",
    "\n",
    "<img src=\"./img/mecab.PNG\"></img>\n",
    "\n",
    "\n",
    "관련 테이블을 이곳에서 찾아 쉽게 이해할 수 있었다.\n",
    "\n",
    "[Mecab 형태소 태깅 설명](https://sens.tistory.com/445)\n",
    "\n",
    "<img src=\"./img/mecab2.PNG\"></img>\n",
    "\n",
    "- 영어 / 한국어 임베딩 시 고려해야 할 사항 (gensim 버전,다른 임베딩 로드 메서드)\n",
    "\n",
    "한국어는 영어 임베딩 메서드와 다른 메서드를 사용해야 한다.\n",
    "\n",
    "KeyedVectors.load_word2vec_format - 영어\n",
    "Word2Vec.load(word2vec_path) - 한국어 "
   ]
  },
  {
   "cell_type": "markdown",
   "id": "bd69dcd0",
   "metadata": {},
   "source": [
    "- gensim 사용시 버전을 3.x.x 로 맞추라 하셨는데,\n",
    "  나의 경우에는 3.4.0도 되지 않았고 3.8.1 하나의 버전만 되었다,\n",
    "  또 새로 설치한 후에는 해당 파일을 완전히 shut douwn 한 다음 켜야 제대로 된 구동이 되었다.\n",
    "  <img url=\"./error.PNG\"></img>"
   ]
  },
  {
   "cell_type": "markdown",
   "id": "9a39d07c",
   "metadata": {},
   "source": []
  }
 ],
 "metadata": {
  "kernelspec": {
   "display_name": "Python 3 (ipykernel)",
   "language": "python",
   "name": "python3"
  },
  "language_info": {
   "codemirror_mode": {
    "name": "ipython",
    "version": 3
   },
   "file_extension": ".py",
   "mimetype": "text/x-python",
   "name": "python",
   "nbconvert_exporter": "python",
   "pygments_lexer": "ipython3",
   "version": "3.9.7"
  }
 },
 "nbformat": 4,
 "nbformat_minor": 5
}
