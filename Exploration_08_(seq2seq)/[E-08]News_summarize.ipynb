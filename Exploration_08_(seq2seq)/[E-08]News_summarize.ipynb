{
 "cells": [
  {
   "cell_type": "markdown",
   "id": "4ed83cb5",
   "metadata": {},
   "source": [
    "<span style='background-color: #fff5b1'># 오늘의 한 걸음  🚶🏽‍♂️: 뉴스기사 요약하기</span>"
   ]
  },
  {
   "cell_type": "markdown",
   "id": "e96a80c9",
   "metadata": {},
   "source": [
    "## Contexts\n",
    "\n",
    "### 1. READY\n",
    "    1-1 오늘의 Exp와 Rubric  \n",
    "    1-2 사용하는 라이브러리  \n",
    "\n",
    "### 2. GAME\n",
    "    2-1. 데이터 읽어오기  \n",
    "    2-2. 데이터 전처리   \n",
    "        -1. 결측치, 중복치 제거\n",
    "        -2. 정규화( do not = don't 처럼 같은 의미의 말 통일화) / 불용어 제거\n",
    "        -3. 길이 통일화\n",
    "        -4. 데이터 토큰화\n",
    "        -5. train test split\n",
    "        -6. 단어 사전 vocabulary 생성\n",
    "        -7. padding 값 생성\n",
    "        \n",
    "    2-3. 모델 학습 / 추상요약 Abstract Summarize\n",
    "        -1. seq2seq 모델 생성\n",
    "        -2. Attention machanism 추가\n",
    "        -3. 완성 모델로 학습\n",
    "        \n",
    "    2-4. 데이터 평가 \n",
    "    2-5. 번외 / 추출요약 Extract Summarize\n",
    "\n",
    "### 3. POTG (best Play Of The Game\n",
    "    3-1. 소감(POTG)  \n",
    "    3-2. 어려웠던 점과 극복방안  \n",
    "    3-3. 추후  \n",
    "\n",
    "---\n"
   ]
  },
  {
   "cell_type": "markdown",
   "id": "5d3fbce5",
   "metadata": {},
   "source": [
    "# 1. Ready\n",
    "## 1-1. 오늘의 Exp와 Rubric\n"
   ]
  },
  {
   "cell_type": "markdown",
   "id": "e654beb6",
   "metadata": {},
   "source": [
    "주어진 신문 기사 내용을 훌륭하게 요약해보는 프로그램을 만든다!\n",
    "\n",
    "[데이터 출처 : 깃허브 suunyshy](https://github.com/sunnysai12345/News_Summary)\n",
    "\n",
    "Exploration 과정에서 \n",
    "\n",
    "1. 스스로 데이터 전처리 하기\n",
    "2. seq2seq 모델 사용하기\n",
    "3. Attention machanism 사용하기\n",
    "\n",
    "를 중점적으로 다룬다\n",
    "\n",
    "\n",
    "- 오늘의 rubric\n",
    "\n",
    "|평가문항|상세기준|\n",
    "|---|---|\n",
    "|1. Abstractive 모델 구성을 위한 텍스트 전처리 단계가 체계적으로 진행되었다.|분석단계, 정제단계, 정규화와 불용어 제거, 데이터셋 분리, 인코딩 과정이 빠짐없이 체계적으로 진행되었다.|\n",
    "|2. 텍스트 요약모델이 성공적으로 학습되었음을 확인하였다.|모델학습이 안정적으로 수렴되었음을 그래프를 통해 확인하였으며, 실제 요약문과 유사한 요약문장을 얻을 수 있었다.|\n",
    "|3. Extractive 요약을 시도해 보고 Abstractive 요약 결과와 함께 비교해 보았다.|두 요약 결과를 문법완성도 측면과 핵심단어 포함 측면으로 나누어 비교분석 결과를 제시하였다.|"
   ]
  },
  {
   "cell_type": "markdown",
   "id": "48673b9e",
   "metadata": {},
   "source": [
    "## 1-2. 사용하는 라이브러리"
   ]
  },
  {
   "cell_type": "code",
   "execution_count": 2,
   "id": "38223928",
   "metadata": {},
   "outputs": [
    {
     "name": "stderr",
     "output_type": "stream",
     "text": [
      "[nltk_data] Downloading package stopwords to /aiffel/nltk_data...\n",
      "[nltk_data]   Unzipping corpora/stopwords.zip.\n"
     ]
    },
    {
     "data": {
      "text/plain": [
       "True"
      ]
     },
     "execution_count": 2,
     "metadata": {},
     "output_type": "execute_result"
    }
   ],
   "source": [
    "import numpy as np\n",
    "import pandas as pd  # 데이터 배열 처리 라이브러리\n",
    "\n",
    "import requests\n",
    "import urllib.request #웹사이트 데이터 로드 라이브러리\n",
    "\n",
    "import os # 데이터 경로 설정 라이브러리\n",
    "\n",
    "import re # 데이터 전처리 시 사용할 정규표현식 라이브러리\n",
    "from bs4 import BeautifulSoup #데이터 전처리 시 활용 라이브러리\n",
    "import matplotlib.pyplot as plt # 데이터 시각화 라이브러리\n",
    "\n",
    "\n",
    "from nltk.corpus import stopwords\n",
    "import nltk\n",
    "from tensorflow.keras.preprocessing.text import Tokenizer \n",
    "from tensorflow.keras.preprocessing.sequence import pad_sequences \n",
    "#NLP 프로세싱 라이브러리\n",
    "\n",
    "from tensorflow.keras.layers import AdditiveAttention # 어텐션 매커니즘 라이브러리\n",
    "\n",
    "from summa.summarizer import summarize #추출 요약 시 사용하는 라이브러리\n",
    "\n",
    "\n",
    "import warnings #오류 패싱 라이브러리\n",
    "\n",
    "\n",
    "nltk.download('stopwords')"
   ]
  },
  {
   "cell_type": "markdown",
   "id": "cbd6a9f5",
   "metadata": {},
   "source": [
    "# 2. GAME\n",
    "## 2-1. 데이터 읽어오기"
   ]
  },
  {
   "cell_type": "markdown",
   "id": "ed664fdb",
   "metadata": {},
   "source": [
    "우리의 데이터는 깃허브의 sunnyshy 라는 분이 모은 기사 자료이다.  \n",
    "\n",
    "- 자료 설명 :  \n",
    "2017년 2월부터 8월 까지의 힌두, 인디언 타임즈, 가디언 뉴스 기사 스크랩\n",
    "\n",
    "\n",
    "- 자료 요약 :  \n",
    "행 : 98400 개  \n",
    "열 : headline, text"
   ]
  },
  {
   "cell_type": "code",
   "execution_count": 3,
   "id": "519256ab",
   "metadata": {},
   "outputs": [],
   "source": [
    "urllib.request.urlretrieve(\"https://raw.githubusercontent.com/sunnysai12345/News_Summary/master/news_summary_more.csv\", filename=\"news_summary_more.csv\")\n",
    "\n",
    "#\n",
    "\n",
    "data = pd.read_csv('news_summary_more.csv', encoding='iso-8859-1')"
   ]
  },
  {
   "cell_type": "code",
   "execution_count": 4,
   "id": "42b6b175",
   "metadata": {
    "scrolled": false
   },
   "outputs": [
    {
     "data": {
      "text/html": [
       "<div>\n",
       "<style scoped>\n",
       "    .dataframe tbody tr th:only-of-type {\n",
       "        vertical-align: middle;\n",
       "    }\n",
       "\n",
       "    .dataframe tbody tr th {\n",
       "        vertical-align: top;\n",
       "    }\n",
       "\n",
       "    .dataframe thead th {\n",
       "        text-align: right;\n",
       "    }\n",
       "</style>\n",
       "<table border=\"1\" class=\"dataframe\">\n",
       "  <thead>\n",
       "    <tr style=\"text-align: right;\">\n",
       "      <th></th>\n",
       "      <th>headlines</th>\n",
       "      <th>text</th>\n",
       "    </tr>\n",
       "  </thead>\n",
       "  <tbody>\n",
       "    <tr>\n",
       "      <th>98396</th>\n",
       "      <td>CRPF jawan axed to death by Maoists in Chhatti...</td>\n",
       "      <td>A CRPF jawan was on Tuesday axed to death with...</td>\n",
       "    </tr>\n",
       "    <tr>\n",
       "      <th>98397</th>\n",
       "      <td>First song from Sonakshi Sinha's 'Noor' titled...</td>\n",
       "      <td>'Uff Yeh', the first song from the Sonakshi Si...</td>\n",
       "    </tr>\n",
       "    <tr>\n",
       "      <th>98398</th>\n",
       "      <td>'The Matrix' film to get a reboot: Reports</td>\n",
       "      <td>According to reports, a new version of the 199...</td>\n",
       "    </tr>\n",
       "    <tr>\n",
       "      <th>98399</th>\n",
       "      <td>Snoop Dogg aims gun at clown dressed as Trump ...</td>\n",
       "      <td>A new music video shows rapper Snoop Dogg aimi...</td>\n",
       "    </tr>\n",
       "    <tr>\n",
       "      <th>98400</th>\n",
       "      <td>Madhesi Morcha withdraws support to Nepalese g...</td>\n",
       "      <td>Madhesi Morcha, an alliance of seven political...</td>\n",
       "    </tr>\n",
       "  </tbody>\n",
       "</table>\n",
       "</div>"
      ],
      "text/plain": [
       "                                               headlines  \\\n",
       "98396  CRPF jawan axed to death by Maoists in Chhatti...   \n",
       "98397  First song from Sonakshi Sinha's 'Noor' titled...   \n",
       "98398         'The Matrix' film to get a reboot: Reports   \n",
       "98399  Snoop Dogg aims gun at clown dressed as Trump ...   \n",
       "98400  Madhesi Morcha withdraws support to Nepalese g...   \n",
       "\n",
       "                                                    text  \n",
       "98396  A CRPF jawan was on Tuesday axed to death with...  \n",
       "98397  'Uff Yeh', the first song from the Sonakshi Si...  \n",
       "98398  According to reports, a new version of the 199...  \n",
       "98399  A new music video shows rapper Snoop Dogg aimi...  \n",
       "98400  Madhesi Morcha, an alliance of seven political...  "
      ]
     },
     "execution_count": 4,
     "metadata": {},
     "output_type": "execute_result"
    }
   ],
   "source": [
    "data.tail()"
   ]
  },
  {
   "cell_type": "code",
   "execution_count": 5,
   "id": "8a7d8123",
   "metadata": {},
   "outputs": [
    {
     "data": {
      "text/plain": [
       "98401"
      ]
     },
     "execution_count": 5,
     "metadata": {},
     "output_type": "execute_result"
    }
   ],
   "source": [
    "len(data)"
   ]
  },
  {
   "cell_type": "markdown",
   "id": "df13a4ad",
   "metadata": {},
   "source": [
    "## 2-2.데이터 전처리"
   ]
  },
  {
   "cell_type": "markdown",
   "id": "4e532146",
   "metadata": {},
   "source": [
    "### 2-2-1. 중복값, 결측값 제거"
   ]
  },
  {
   "cell_type": "code",
   "execution_count": 6,
   "id": "0ea6877e",
   "metadata": {},
   "outputs": [
    {
     "name": "stdout",
     "output_type": "stream",
     "text": [
      "headlines 열에서 중복을 배제한 유일한 샘플의 수 : 98280\n",
      "text 열에서 중복을 배제한 유일한 샘플의 수 : 98360\n"
     ]
    }
   ],
   "source": [
    "print('headlines 열에서 중복을 배제한 유일한 샘플의 수 :', data['headlines'].nunique())\n",
    "print('text 열에서 중복을 배제한 유일한 샘플의 수 :', data['text'].nunique())"
   ]
  },
  {
   "cell_type": "markdown",
   "id": "7f61649d",
   "metadata": {},
   "source": [
    "- 총 데이터가 98401 행 인데 두 자료 모두 더 적은 데이터를 가지고 있다.  \n",
    "헤드라인은 같을 수도 있지만, 기사 내용이 완벽히 똑같을 순 없으므로 text의 중복값만 제거해준다."
   ]
  },
  {
   "cell_type": "code",
   "execution_count": 7,
   "id": "f59de977",
   "metadata": {},
   "outputs": [
    {
     "name": "stdout",
     "output_type": "stream",
     "text": [
      "전체 샘플수 : 98360\n"
     ]
    }
   ],
   "source": [
    "data.drop_duplicates(subset = ['text'], inplace=True) # Text 칼럼이 같은 거 삭제\n",
    "print('전체 샘플수 :', (len(data)))"
   ]
  },
  {
   "cell_type": "code",
   "execution_count": 8,
   "id": "bc8d57a8",
   "metadata": {},
   "outputs": [
    {
     "name": "stdout",
     "output_type": "stream",
     "text": [
      "headlines    0\n",
      "text         0\n",
      "dtype: int64\n"
     ]
    }
   ],
   "source": [
    "print(data.isnull().sum())"
   ]
  },
  {
   "cell_type": "markdown",
   "id": "efa8b89e",
   "metadata": {},
   "source": [
    "- 결측값은 없다."
   ]
  },
  {
   "cell_type": "markdown",
   "id": "013a2e07",
   "metadata": {},
   "source": [
    "### 2-2-2. 정규화 / 불용어 제거"
   ]
  },
  {
   "cell_type": "code",
   "execution_count": 9,
   "id": "e4800500",
   "metadata": {},
   "outputs": [
    {
     "name": "stdout",
     "output_type": "stream",
     "text": [
      "정규화 사전의 수:  120\n"
     ]
    }
   ],
   "source": [
    "contractions = {\"ain't\": \"is not\", \"aren't\": \"are not\",\"can't\": \"cannot\", \"'cause\": \"because\", \"could've\": \"could have\", \"couldn't\": \"could not\",\n",
    "                           \"didn't\": \"did not\",  \"doesn't\": \"does not\", \"don't\": \"do not\", \"hadn't\": \"had not\", \"hasn't\": \"has not\", \"haven't\": \"have not\",\n",
    "                           \"he'd\": \"he would\",\"he'll\": \"he will\", \"he's\": \"he is\", \"how'd\": \"how did\", \"how'd'y\": \"how do you\", \"how'll\": \"how will\", \"how's\": \"how is\",\n",
    "                           \"I'd\": \"I would\", \"I'd've\": \"I would have\", \"I'll\": \"I will\", \"I'll've\": \"I will have\",\"I'm\": \"I am\", \"I've\": \"I have\", \"i'd\": \"i would\",\n",
    "                           \"i'd've\": \"i would have\", \"i'll\": \"i will\",  \"i'll've\": \"i will have\",\"i'm\": \"i am\", \"i've\": \"i have\", \"isn't\": \"is not\", \"it'd\": \"it would\",\n",
    "                           \"it'd've\": \"it would have\", \"it'll\": \"it will\", \"it'll've\": \"it will have\",\"it's\": \"it is\", \"let's\": \"let us\", \"ma'am\": \"madam\",\n",
    "                           \"mayn't\": \"may not\", \"might've\": \"might have\",\"mightn't\": \"might not\",\"mightn't've\": \"might not have\", \"must've\": \"must have\",\n",
    "                           \"mustn't\": \"must not\", \"mustn't've\": \"must not have\", \"needn't\": \"need not\", \"needn't've\": \"need not have\",\"o'clock\": \"of the clock\",\n",
    "                           \"oughtn't\": \"ought not\", \"oughtn't've\": \"ought not have\", \"shan't\": \"shall not\", \"sha'n't\": \"shall not\", \"shan't've\": \"shall not have\",\n",
    "                           \"she'd\": \"she would\", \"she'd've\": \"she would have\", \"she'll\": \"she will\", \"she'll've\": \"she will have\", \"she's\": \"she is\",\n",
    "                           \"should've\": \"should have\", \"shouldn't\": \"should not\", \"shouldn't've\": \"should not have\", \"so've\": \"so have\",\"so's\": \"so as\",\n",
    "                           \"this's\": \"this is\",\"that'd\": \"that would\", \"that'd've\": \"that would have\", \"that's\": \"that is\", \"there'd\": \"there would\",\n",
    "                           \"there'd've\": \"there would have\", \"there's\": \"there is\", \"here's\": \"here is\",\"they'd\": \"they would\", \"they'd've\": \"they would have\",\n",
    "                           \"they'll\": \"they will\", \"they'll've\": \"they will have\", \"they're\": \"they are\", \"they've\": \"they have\", \"to've\": \"to have\",\n",
    "                           \"wasn't\": \"was not\", \"we'd\": \"we would\", \"we'd've\": \"we would have\", \"we'll\": \"we will\", \"we'll've\": \"we will have\", \"we're\": \"we are\",\n",
    "                           \"we've\": \"we have\", \"weren't\": \"were not\", \"what'll\": \"what will\", \"what'll've\": \"what will have\", \"what're\": \"what are\",\n",
    "                           \"what's\": \"what is\", \"what've\": \"what have\", \"when's\": \"when is\", \"when've\": \"when have\", \"where'd\": \"where did\", \"where's\": \"where is\",\n",
    "                           \"where've\": \"where have\", \"who'll\": \"who will\", \"who'll've\": \"who will have\", \"who's\": \"who is\", \"who've\": \"who have\",\n",
    "                           \"why's\": \"why is\", \"why've\": \"why have\", \"will've\": \"will have\", \"won't\": \"will not\", \"won't've\": \"will not have\",\n",
    "                           \"would've\": \"would have\", \"wouldn't\": \"would not\", \"wouldn't've\": \"would not have\", \"y'all\": \"you all\",\n",
    "                           \"y'all'd\": \"you all would\",\"y'all'd've\": \"you all would have\",\"y'all're\": \"you all are\",\"y'all've\": \"you all have\",\n",
    "                           \"you'd\": \"you would\", \"you'd've\": \"you would have\", \"you'll\": \"you will\", \"you'll've\": \"you will have\",\n",
    "                           \"you're\": \"you are\", \"you've\": \"you have\"}\n",
    "\n",
    "print(\"정규화 사전의 수: \", len(contractions))"
   ]
  },
  {
   "cell_type": "code",
   "execution_count": 10,
   "id": "7f19d063",
   "metadata": {},
   "outputs": [
    {
     "name": "stdout",
     "output_type": "stream",
     "text": [
      "불용어 개수 : 179\n",
      "['i', 'me', 'my', 'myself', 'we', 'our', 'ours', 'ourselves', 'you', \"you're\", \"you've\", \"you'll\", \"you'd\", 'your', 'yours', 'yourself', 'yourselves', 'he', 'him', 'his', 'himself', 'she', \"she's\", 'her', 'hers', 'herself', 'it', \"it's\", 'its', 'itself', 'they', 'them', 'their', 'theirs', 'themselves', 'what', 'which', 'who', 'whom', 'this', 'that', \"that'll\", 'these', 'those', 'am', 'is', 'are', 'was', 'were', 'be', 'been', 'being', 'have', 'has', 'had', 'having', 'do', 'does', 'did', 'doing', 'a', 'an', 'the', 'and', 'but', 'if', 'or', 'because', 'as', 'until', 'while', 'of', 'at', 'by', 'for', 'with', 'about', 'against', 'between', 'into', 'through', 'during', 'before', 'after', 'above', 'below', 'to', 'from', 'up', 'down', 'in', 'out', 'on', 'off', 'over', 'under', 'again', 'further', 'then', 'once', 'here', 'there', 'when', 'where', 'why', 'how', 'all', 'any', 'both', 'each', 'few', 'more', 'most', 'other', 'some', 'such', 'no', 'nor', 'not', 'only', 'own', 'same', 'so', 'than', 'too', 'very', 's', 't', 'can', 'will', 'just', 'don', \"don't\", 'should', \"should've\", 'now', 'd', 'll', 'm', 'o', 're', 've', 'y', 'ain', 'aren', \"aren't\", 'couldn', \"couldn't\", 'didn', \"didn't\", 'doesn', \"doesn't\", 'hadn', \"hadn't\", 'hasn', \"hasn't\", 'haven', \"haven't\", 'isn', \"isn't\", 'ma', 'mightn', \"mightn't\", 'mustn', \"mustn't\", 'needn', \"needn't\", 'shan', \"shan't\", 'shouldn', \"shouldn't\", 'wasn', \"wasn't\", 'weren', \"weren't\", 'won', \"won't\", 'wouldn', \"wouldn't\"]\n"
     ]
    }
   ],
   "source": [
    "print('불용어 개수 :', len(stopwords.words('english') ))\n",
    "print(stopwords.words('english'))"
   ]
  },
  {
   "cell_type": "code",
   "execution_count": 11,
   "id": "9a9af1af",
   "metadata": {},
   "outputs": [],
   "source": [
    "# 데이터 전처리 함수\n",
    "def preprocess_sentence(sentence, remove_stopwords=True):\n",
    "    sentence = sentence.lower() # 텍스트 소문자화\n",
    "    sentence = re.sub(r'\\([^)]*\\)', '', sentence) # 괄호로 닫힌 문자열 (...) 제거 Ex) my husband (and myself!) for => my husband for\n",
    "    sentence = re.sub('\"','', sentence) # 쌍따옴표 \" 제거\n",
    "    sentence = ' '.join([contractions[t] if t in contractions else t for t in sentence.split(\" \")]) # 약어 정규화\n",
    "    sentence = re.sub(r\"'s\\b\",\"\", sentence) # 소유격 제거. Ex) roland's -> roland\n",
    "    sentence = re.sub(\"[^a-zA-Z]\", \" \", sentence) # 영어 외 문자(숫자, 특수문자 등) 공백으로 변환\n",
    "    \n",
    "    # 불용어 제거 (Text)\n",
    "    if remove_stopwords:\n",
    "        tokens = ' '.join(word for word in sentence.split() if not word in stopwords.words('english') if len(word) > 1)\n",
    "    # 불용어 미제거 (Summary)\n",
    "    else:\n",
    "        tokens = ' '.join(word for word in sentence.split() if len(word) > 1)\n",
    "    return tokens"
   ]
  },
  {
   "cell_type": "markdown",
   "id": "907e184d",
   "metadata": {},
   "source": [
    "최종결과에 있어 요약 데이터는 불용어(my, during 등) 은 있는 것이 효과적이라고 생각했다.  \n",
    "때문에 전처리 시도 시 headlines 데이터에는 불용어 제거를 하지 않도록 한다."
   ]
  },
  {
   "cell_type": "code",
   "execution_count": 12,
   "id": "6153bd47",
   "metadata": {},
   "outputs": [
    {
     "name": "stdout",
     "output_type": "stream",
     "text": [
      "Text 전처리 후 결과:  ['saurav kant alumnus upgrad iiit pg program machine learning artificial intelligence sr systems engineer infosys almost years work experience program upgrad degree career support helped transition data scientist tech mahindra salary hike upgrad online power learning powered lakh careers', 'kunal shah credit card bill payment platform cred gave users chance win free food swiggy one year pranav kaushik delhi techie bagged reward spending cred coins users get one cred coin per rupee bill paid used avail rewards brands like ixigo bookmyshow ubereats cult fit', 'new zealand defeated india wickets fourth odi hamilton thursday win first match five match odi series india lost international match rohit sharma captaincy consecutive victories dating back march match witnessed india getting seventh lowest total odi cricket history', 'aegon life iterm insurance plan customers enjoy tax benefits premiums paid save taxes plan provides life cover age years also customers options insure critical illnesses disability accidental death benefit rider life cover age years', 'speaking sexual harassment allegations rajkumar hirani sonam kapoor said known hirani many years true metoo movement get derailed metoo movement always believe woman case need reserve judgment added hirani accused assistant worked sanju']\n"
     ]
    }
   ],
   "source": [
    "clean_text = []\n",
    "\n",
    "# 전체 Text 데이터에 대한 전처리\n",
    "for s in data['text']:\n",
    "    clean_text.append(preprocess_sentence(s))\n",
    "\n",
    "# 전처리 후 출력\n",
    "print(\"Text 전처리 후 결과: \", clean_text[:5])"
   ]
  },
  {
   "cell_type": "markdown",
   "id": "15ad15a0",
   "metadata": {},
   "source": [
    "하나의 기사를 뽑아 번역해 보면 다음과 같다.\n",
    "\n",
    "**라즈쿠마르 히라니 소남 카푸어는 성추행 혐의에 대해 알려진 수년간의 미투 운동이 탈선했다며 여성 사건에는 예비 판단이 필요하다고 믿는다고 말했다.**\n",
    "\n",
    "깔끔하게 전처리 되었음을 확인 가능하다."
   ]
  },
  {
   "cell_type": "code",
   "execution_count": 13,
   "id": "441d6d78",
   "metadata": {},
   "outputs": [
    {
     "name": "stdout",
     "output_type": "stream",
     "text": [
      "Text 전처리 후 결과:  ['upgrad learner switches to career in ml al with salary hike', 'delhi techie wins free food from swiggy for one year on cred', 'new zealand end rohit sharma led india match winning streak', 'aegon life iterm insurance plan helps customers save tax', 'have known hirani for yrs what if metoo claims are not true sonam']\n"
     ]
    }
   ],
   "source": [
    "clean_headlines = []\n",
    "# 전체 Text 데이터에 대한 전처리 \n",
    "for s in data['headlines']:\n",
    "    clean_headlines.append(preprocess_sentence(s, False))\n",
    "\n",
    "# 전처리 후 출력\n",
    "print(\"Text 전처리 후 결과: \", clean_headlines[:5])"
   ]
  },
  {
   "cell_type": "markdown",
   "id": "8b53723f",
   "metadata": {},
   "source": [
    "하나의 기사를 뽑아 번역해 보면 다음과 같다.\n",
    "\n",
    "**유명하기로 알려진 히라니 '만약 지금까지의 미투 운동이 진정한 미투 운동이 아니라면?'**\n",
    "\n",
    "깔끔하게 전처리 되었다."
   ]
  },
  {
   "cell_type": "code",
   "execution_count": 14,
   "id": "a93bdc2d",
   "metadata": {},
   "outputs": [],
   "source": [
    "data['text'] = clean_text\n",
    "data['headlines'] = clean_headlines"
   ]
  },
  {
   "cell_type": "code",
   "execution_count": 15,
   "id": "e322f80a",
   "metadata": {},
   "outputs": [
    {
     "data": {
      "text/html": [
       "<div>\n",
       "<style scoped>\n",
       "    .dataframe tbody tr th:only-of-type {\n",
       "        vertical-align: middle;\n",
       "    }\n",
       "\n",
       "    .dataframe tbody tr th {\n",
       "        vertical-align: top;\n",
       "    }\n",
       "\n",
       "    .dataframe thead th {\n",
       "        text-align: right;\n",
       "    }\n",
       "</style>\n",
       "<table border=\"1\" class=\"dataframe\">\n",
       "  <thead>\n",
       "    <tr style=\"text-align: right;\">\n",
       "      <th></th>\n",
       "      <th>headlines</th>\n",
       "      <th>text</th>\n",
       "    </tr>\n",
       "  </thead>\n",
       "  <tbody>\n",
       "    <tr>\n",
       "      <th>0</th>\n",
       "      <td>upgrad learner switches to career in ml al wit...</td>\n",
       "      <td>saurav kant alumnus upgrad iiit pg program mac...</td>\n",
       "    </tr>\n",
       "    <tr>\n",
       "      <th>1</th>\n",
       "      <td>delhi techie wins free food from swiggy for on...</td>\n",
       "      <td>kunal shah credit card bill payment platform c...</td>\n",
       "    </tr>\n",
       "    <tr>\n",
       "      <th>2</th>\n",
       "      <td>new zealand end rohit sharma led india match w...</td>\n",
       "      <td>new zealand defeated india wickets fourth odi ...</td>\n",
       "    </tr>\n",
       "    <tr>\n",
       "      <th>3</th>\n",
       "      <td>aegon life iterm insurance plan helps customer...</td>\n",
       "      <td>aegon life iterm insurance plan customers enjo...</td>\n",
       "    </tr>\n",
       "    <tr>\n",
       "      <th>4</th>\n",
       "      <td>have known hirani for yrs what if metoo claims...</td>\n",
       "      <td>speaking sexual harassment allegations rajkuma...</td>\n",
       "    </tr>\n",
       "  </tbody>\n",
       "</table>\n",
       "</div>"
      ],
      "text/plain": [
       "                                           headlines  \\\n",
       "0  upgrad learner switches to career in ml al wit...   \n",
       "1  delhi techie wins free food from swiggy for on...   \n",
       "2  new zealand end rohit sharma led india match w...   \n",
       "3  aegon life iterm insurance plan helps customer...   \n",
       "4  have known hirani for yrs what if metoo claims...   \n",
       "\n",
       "                                                text  \n",
       "0  saurav kant alumnus upgrad iiit pg program mac...  \n",
       "1  kunal shah credit card bill payment platform c...  \n",
       "2  new zealand defeated india wickets fourth odi ...  \n",
       "3  aegon life iterm insurance plan customers enjo...  \n",
       "4  speaking sexual harassment allegations rajkuma...  "
      ]
     },
     "execution_count": 15,
     "metadata": {},
     "output_type": "execute_result"
    }
   ],
   "source": [
    "data.head()"
   ]
  },
  {
   "cell_type": "markdown",
   "id": "98fbb7b2",
   "metadata": {},
   "source": [
    "전처리에서 필요없는 특수문자와 불용어 를 제거하는 과정 동안,  \n",
    "`''` 밖에 남지 않은 데이터가 있을 수 있다. 때문에 그 값을 Null 로 바꿔 없애도록 한다."
   ]
  },
  {
   "cell_type": "code",
   "execution_count": 17,
   "id": "8af71e55",
   "metadata": {},
   "outputs": [
    {
     "data": {
      "text/plain": [
       "headlines    0\n",
       "text         0\n",
       "dtype: int64"
      ]
     },
     "execution_count": 17,
     "metadata": {},
     "output_type": "execute_result"
    }
   ],
   "source": [
    "data.replace('', np.nan, inplace=True)\n",
    "data.isnull().sum()"
   ]
  },
  {
   "cell_type": "markdown",
   "id": "9eda73db",
   "metadata": {},
   "source": [
    "없어진 값은 없는 것으로 보인다."
   ]
  },
  {
   "cell_type": "markdown",
   "id": "3e6e11e0",
   "metadata": {},
   "source": [
    "### 2-2-3. 기사 길이 통일화\n",
    "너무 긴 문장은 모델 학습에 악영향을 미친다.  \n",
    "모델 학습 시에는 모든 문장의 길이를 일치시켜야 하는데,  \n",
    "다른 문장들에 과도한 padiing 값이 설정되기 때문이다.\n",
    "\n",
    "때문에 모든 기사의 길이 분포를 확인하고 적정선에서 데이터를 제거해준다."
   ]
  },
  {
   "cell_type": "code",
   "execution_count": 18,
   "id": "d55ed452",
   "metadata": {
    "scrolled": false
   },
   "outputs": [
    {
     "name": "stdout",
     "output_type": "stream",
     "text": [
      "텍스트의 최소 길이 : 1\n",
      "텍스트의 최대 길이 : 60\n",
      "텍스트의 평균 길이 : 35.09968483123221\n",
      "요약의 최소 길이 : 1\n",
      "요약의 최대 길이 : 16\n",
      "요약의 평균 길이 : 9.299532330215534\n"
     ]
    },
    {
     "data": {
      "image/png": "[encoded data removed]",
      "text/plain": [
       "<Figure size 432x288 with 2 Axes>"
      ]
     },
     "metadata": {
      "needs_background": "light"
     },
     "output_type": "display_data"
    },
    {
     "data": {
      "image/png": "[encoded data removed]",
      "text/plain": [
       "<Figure size 432x288 with 1 Axes>"
      ]
     },
     "metadata": {
      "needs_background": "light"
     },
     "output_type": "display_data"
    },
    {
     "data": {
      "image/png": "[encoded data removed]",
      "text/plain": [
       "<Figure size 432x288 with 1 Axes>"
      ]
     },
     "metadata": {
      "needs_background": "light"
     },
     "output_type": "display_data"
    }
   ],
   "source": [
    "# 길이 분포 출력\n",
    "import matplotlib.pyplot as plt\n",
    "\n",
    "text_len = [len(s.split()) for s in data['text']]\n",
    "head_len = [len(s.split()) for s in data['headlines']]\n",
    "\n",
    "print('텍스트의 최소 길이 : {}'.format(np.min(text_len)))\n",
    "print('텍스트의 최대 길이 : {}'.format(np.max(text_len)))\n",
    "print('텍스트의 평균 길이 : {}'.format(np.mean(text_len)))\n",
    "print('요약의 최소 길이 : {}'.format(np.min(head_len)))\n",
    "print('요약의 최대 길이 : {}'.format(np.max(head_len)))\n",
    "print('요약의 평균 길이 : {}'.format(np.mean(head_len)))\n",
    "\n",
    "plt.subplot(1,2,1)\n",
    "plt.boxplot(text_len)\n",
    "plt.title('Text')\n",
    "plt.subplot(1,2,2)\n",
    "plt.boxplot(head_len)\n",
    "plt.title('Headlines')\n",
    "plt.tight_layout()\n",
    "plt.show()\n",
    "\n",
    "plt.title('Text')\n",
    "plt.hist(text_len, bins = 40)\n",
    "plt.xlabel('length of samples')\n",
    "plt.ylabel('number of samples')\n",
    "plt.show()\n",
    "\n",
    "plt.title('Headlines')\n",
    "plt.hist(head_len, bins = 40)\n",
    "plt.xlabel('length of samples')\n",
    "plt.ylabel('number of samples')\n",
    "plt.show()"
   ]
  },
  {
   "cell_type": "markdown",
   "id": "8f960e93",
   "metadata": {},
   "source": [
    "한 단어의 짧은 기사부터 (대체 무슨 문장일까? ) 60단어의 긴 문장까지 있다.    \n",
    "\n",
    "하나의 단어만 있는게 뭔가 쓸데 없는 느낌이 들어 확인해보았다."
   ]
  },
  {
   "cell_type": "code",
   "execution_count": 19,
   "id": "d5899ac8",
   "metadata": {
    "scrolled": true
   },
   "outputs": [
    {
     "data": {
      "text/plain": [
       "52"
      ]
     },
     "execution_count": 19,
     "metadata": {},
     "output_type": "execute_result"
    }
   ],
   "source": [
    "a = data['text']\n",
    "\n",
    "b = list(map(lambda x : len(x.split()), a ))\n",
    "c = {leng:index for index, leng in enumerate(b)}\n",
    "\n",
    "c[1]"
   ]
  },
  {
   "cell_type": "code",
   "execution_count": 20,
   "id": "884f4445",
   "metadata": {},
   "outputs": [
    {
     "data": {
      "text/plain": [
       "headlines    headlines\n",
       "text              text\n",
       "Name: 52, dtype: object"
      ]
     },
     "execution_count": 20,
     "metadata": {},
     "output_type": "execute_result"
    }
   ],
   "source": [
    "data.loc[52]"
   ]
  },
  {
   "cell_type": "markdown",
   "id": "48c372e1",
   "metadata": {},
   "source": [
    "headlines 에 headlines, text에 text 가 들어있는 것으로 보아  \n",
    "제거해주는 것이 좋겠다.\n",
    "\n"
   ]
  },
  {
   "cell_type": "code",
   "execution_count": 21,
   "id": "1ffddf82",
   "metadata": {
    "scrolled": true
   },
   "outputs": [
    {
     "name": "stdout",
     "output_type": "stream",
     "text": [
      "전체 샘플수 : 98359\n"
     ]
    }
   ],
   "source": [
    "data = data.drop(52, axis=0)\n",
    "\n",
    "print('전체 샘플수 :', (len(data)))"
   ]
  },
  {
   "cell_type": "markdown",
   "id": "c225fae1",
   "metadata": {},
   "source": [
    "평균은 35단어로 그래프를 통해 보면 20~45단어 사이에 가장 많은 기사가 있는 것을 확인할 수 있다.\n",
    "\n",
    "헤드라인은 1단어부터 16단어까지 있으며, 6~12단어 사이에 가장 많은 헤드라인이 있다.\n",
    "\n",
    "우리는 기사는 38단어, 헤드라인은 11단어에서 끊어주도록 하겠다."
   ]
  },
  {
   "cell_type": "code",
   "execution_count": 24,
   "id": "d3027c59",
   "metadata": {},
   "outputs": [],
   "source": [
    "text_max_len = 38\n",
    "headlines_max_len = 10"
   ]
  },
  {
   "cell_type": "markdown",
   "id": "9deb5d40",
   "metadata": {},
   "source": [
    "이 단어 길이로 끊었을 때, 유지되는 기사의 비율은 어느정도일까?\n"
   ]
  },
  {
   "cell_type": "code",
   "execution_count": 25,
   "id": "a3ee1e2d",
   "metadata": {
    "scrolled": true
   },
   "outputs": [
    {
     "name": "stdout",
     "output_type": "stream",
     "text": [
      "전체 샘플 중 길이가 38 이하인 샘플의 비율: 0.8163360749905957\n",
      "전체 샘플 중 길이가 10 이하인 샘플의 비율: 0.8162954076393619\n"
     ]
    }
   ],
   "source": [
    "def below_threshold_len(max_len, nested_list):\n",
    "  cnt = 0\n",
    "  for s in nested_list:\n",
    "    if(len(s.split()) <= max_len):\n",
    "        cnt = cnt + 1\n",
    "  print('전체 샘플 중 길이가 %s 이하인 샘플의 비율: %s'%(max_len, (cnt / len(nested_list))))\n",
    "\n",
    "\n",
    "below_threshold_len(text_max_len, data['text'])\n",
    "below_threshold_len(headlines_max_len,  data['headlines'])"
   ]
  },
  {
   "cell_type": "markdown",
   "id": "5aefe9c5",
   "metadata": {},
   "source": [
    "20%는 버려주자"
   ]
  },
  {
   "cell_type": "code",
   "execution_count": 26,
   "id": "ee59d45b",
   "metadata": {},
   "outputs": [
    {
     "name": "stdout",
     "output_type": "stream",
     "text": [
      "전체 샘플수 : 65294\n"
     ]
    }
   ],
   "source": [
    "data = data[data['text'].apply(lambda x: len(x.split()) <= text_max_len)]\n",
    "data = data[data['headlines'].apply(lambda x: len(x.split()) <= headlines_max_len)]\n",
    "print('전체 샘플수 :', (len(data)))"
   ]
  },
  {
   "cell_type": "markdown",
   "id": "fd7ac583",
   "metadata": {},
   "source": [
    "### 2-2-4. 데이터 토큰화"
   ]
  },
  {
   "cell_type": "markdown",
   "id": "94b6dfab",
   "metadata": {},
   "source": [
    "데이터로 학습을 시켜주기 위해선 이미 요약된 문장에 start 싸인과 end 싸인을  \n",
    "줄 필요가 있다.\n",
    "\n",
    "start는 인풋, end 는 라벨링이라 생각하면 이해가 편하다\n",
    "\n",
    "start 에 나오는 문장에 대한 결과가 end 문장이 나와야 하는 것이다.\n",
    "\n"
   ]
  },
  {
   "cell_type": "code",
   "execution_count": 27,
   "id": "80f8e64a",
   "metadata": {
    "scrolled": true
   },
   "outputs": [
    {
     "data": {
      "text/html": [
       "<div>\n",
       "<style scoped>\n",
       "    .dataframe tbody tr th:only-of-type {\n",
       "        vertical-align: middle;\n",
       "    }\n",
       "\n",
       "    .dataframe tbody tr th {\n",
       "        vertical-align: top;\n",
       "    }\n",
       "\n",
       "    .dataframe thead th {\n",
       "        text-align: right;\n",
       "    }\n",
       "</style>\n",
       "<table border=\"1\" class=\"dataframe\">\n",
       "  <thead>\n",
       "    <tr style=\"text-align: right;\">\n",
       "      <th></th>\n",
       "      <th>headlines</th>\n",
       "      <th>text</th>\n",
       "      <th>decoder_input</th>\n",
       "      <th>decoder_target</th>\n",
       "    </tr>\n",
       "  </thead>\n",
       "  <tbody>\n",
       "    <tr>\n",
       "      <th>2</th>\n",
       "      <td>new zealand end rohit sharma led india match w...</td>\n",
       "      <td>new zealand defeated india wickets fourth odi ...</td>\n",
       "      <td>sostoken new zealand end rohit sharma led indi...</td>\n",
       "      <td>new zealand end rohit sharma led india match w...</td>\n",
       "    </tr>\n",
       "    <tr>\n",
       "      <th>3</th>\n",
       "      <td>aegon life iterm insurance plan helps customer...</td>\n",
       "      <td>aegon life iterm insurance plan customers enjo...</td>\n",
       "      <td>sostoken aegon life iterm insurance plan helps...</td>\n",
       "      <td>aegon life iterm insurance plan helps customer...</td>\n",
       "    </tr>\n",
       "    <tr>\n",
       "      <th>5</th>\n",
       "      <td>rahat fateh ali khan denies getting notice for...</td>\n",
       "      <td>pakistani singer rahat fateh ali khan denied r...</td>\n",
       "      <td>sostoken rahat fateh ali khan denies getting n...</td>\n",
       "      <td>rahat fateh ali khan denies getting notice for...</td>\n",
       "    </tr>\n",
       "    <tr>\n",
       "      <th>9</th>\n",
       "      <td>cong wins ramgarh bypoll in rajasthan takes to...</td>\n",
       "      <td>congress candidate shafia zubair ramgarh assem...</td>\n",
       "      <td>sostoken cong wins ramgarh bypoll in rajasthan...</td>\n",
       "      <td>cong wins ramgarh bypoll in rajasthan takes to...</td>\n",
       "    </tr>\n",
       "    <tr>\n",
       "      <th>10</th>\n",
       "      <td>up cousins fed human excreta for friendship wi...</td>\n",
       "      <td>two minor cousins uttar pradesh gorakhpur alle...</td>\n",
       "      <td>sostoken up cousins fed human excreta for frie...</td>\n",
       "      <td>up cousins fed human excreta for friendship wi...</td>\n",
       "    </tr>\n",
       "  </tbody>\n",
       "</table>\n",
       "</div>"
      ],
      "text/plain": [
       "                                            headlines  \\\n",
       "2   new zealand end rohit sharma led india match w...   \n",
       "3   aegon life iterm insurance plan helps customer...   \n",
       "5   rahat fateh ali khan denies getting notice for...   \n",
       "9   cong wins ramgarh bypoll in rajasthan takes to...   \n",
       "10  up cousins fed human excreta for friendship wi...   \n",
       "\n",
       "                                                 text  \\\n",
       "2   new zealand defeated india wickets fourth odi ...   \n",
       "3   aegon life iterm insurance plan customers enjo...   \n",
       "5   pakistani singer rahat fateh ali khan denied r...   \n",
       "9   congress candidate shafia zubair ramgarh assem...   \n",
       "10  two minor cousins uttar pradesh gorakhpur alle...   \n",
       "\n",
       "                                        decoder_input  \\\n",
       "2   sostoken new zealand end rohit sharma led indi...   \n",
       "3   sostoken aegon life iterm insurance plan helps...   \n",
       "5   sostoken rahat fateh ali khan denies getting n...   \n",
       "9   sostoken cong wins ramgarh bypoll in rajasthan...   \n",
       "10  sostoken up cousins fed human excreta for frie...   \n",
       "\n",
       "                                       decoder_target  \n",
       "2   new zealand end rohit sharma led india match w...  \n",
       "3   aegon life iterm insurance plan helps customer...  \n",
       "5   rahat fateh ali khan denies getting notice for...  \n",
       "9   cong wins ramgarh bypoll in rajasthan takes to...  \n",
       "10  up cousins fed human excreta for friendship wi...  "
      ]
     },
     "execution_count": 27,
     "metadata": {},
     "output_type": "execute_result"
    }
   ],
   "source": [
    "data['decoder_input'] =data['headlines'].apply(lambda x : 'sostoken ' + x)\n",
    "\n",
    "data['decoder_target'] = data['headlines'].apply(lambda x : x + ' eostoken')\n",
    "\n",
    "data.head()"
   ]
  },
  {
   "cell_type": "markdown",
   "id": "dbcd4bd4",
   "metadata": {},
   "source": [
    "최종적으로 데이터 형태를 Data Frame 에서 Numpy 배열 형태로 바꾼다."
   ]
  },
  {
   "cell_type": "code",
   "execution_count": 28,
   "id": "5c9cff61",
   "metadata": {},
   "outputs": [],
   "source": [
    "encoder_input = np.array(data['text']) # 인코더의 입력\n",
    "decoder_input = np.array(data['decoder_input']) # 디코더의 입력\n",
    "decoder_target = np.array(data['decoder_target']) # 디코더의 레이블"
   ]
  },
  {
   "cell_type": "markdown",
   "id": "4dbd19ba",
   "metadata": {},
   "source": [
    "### 2-2-5. Train Test Split"
   ]
  },
  {
   "cell_type": "code",
   "execution_count": 29,
   "id": "9ebe33da",
   "metadata": {},
   "outputs": [
    {
     "name": "stdout",
     "output_type": "stream",
     "text": [
      "[30102 27448  4800 ... 15514 13073  7717]\n"
     ]
    }
   ],
   "source": [
    "indices = np.arange(encoder_input.shape[0])\n",
    "np.random.shuffle(indices)\n",
    "print(indices)"
   ]
  },
  {
   "cell_type": "code",
   "execution_count": 30,
   "id": "34399c52",
   "metadata": {},
   "outputs": [],
   "source": [
    "encoder_input = encoder_input[indices]\n",
    "decoder_input = decoder_input[indices]\n",
    "decoder_target = decoder_target[indices] #배열과 숫자배열끼리 곱하면 숫자배열대로 배열의 순서가 바뀐다."
   ]
  },
  {
   "cell_type": "markdown",
   "id": "5f99157d",
   "metadata": {},
   "source": [
    "충분히 섞인 자료들을 8대 2의 비율로 나누도록 하겠다."
   ]
  },
  {
   "cell_type": "code",
   "execution_count": 31,
   "id": "c4bc4b82",
   "metadata": {},
   "outputs": [
    {
     "name": "stdout",
     "output_type": "stream",
     "text": [
      "테스트 데이터의 수 : 13058\n"
     ]
    }
   ],
   "source": [
    "n_of_val = int(len(encoder_input)*0.2)\n",
    "print('테스트 데이터의 수 :', n_of_val)"
   ]
  },
  {
   "cell_type": "code",
   "execution_count": 32,
   "id": "68a248d3",
   "metadata": {},
   "outputs": [
    {
     "name": "stdout",
     "output_type": "stream",
     "text": [
      "훈련 데이터의 개수 : 52236\n",
      "훈련 레이블의 개수 : 52236\n",
      "테스트 데이터의 개수 : 13058\n",
      "테스트 레이블의 개수 : 13058\n"
     ]
    }
   ],
   "source": [
    "encoder_input_train = encoder_input[:-n_of_val]\n",
    "decoder_input_train = decoder_input[:-n_of_val]\n",
    "decoder_target_train = decoder_target[:-n_of_val]\n",
    "\n",
    "encoder_input_test = encoder_input[-n_of_val:]\n",
    "decoder_input_test = decoder_input[-n_of_val:]\n",
    "decoder_target_test = decoder_target[-n_of_val:]\n",
    "\n",
    "print('훈련 데이터의 개수 :', len(encoder_input_train))\n",
    "print('훈련 레이블의 개수 :', len(decoder_input_train))\n",
    "print('테스트 데이터의 개수 :', len(encoder_input_test))\n",
    "print('테스트 레이블의 개수 :', len(decoder_input_test))"
   ]
  },
  {
   "cell_type": "markdown",
   "id": "d6a61793",
   "metadata": {},
   "source": [
    "### 2-2-6. 단어사전 Vocabulary 생성"
   ]
  },
  {
   "cell_type": "markdown",
   "id": "52c73233",
   "metadata": {},
   "source": [
    "우리가 가지고 있는 단어들을 바탕으로 단어사전을 만들어야 한다.\n",
    "이를 위해 Keras 의 `tokenizer` 클래스로 이미 정의된 단어들 중 우리가 가진 단어들만  \n",
    "`fit` 메서드를 통해 가지고 오겠다."
   ]
  },
  {
   "cell_type": "code",
   "execution_count": 33,
   "id": "aee341e1",
   "metadata": {},
   "outputs": [],
   "source": [
    "src_tokenizer = Tokenizer() # 토크나이저 정의\n",
    "src_tokenizer.fit_on_texts(encoder_input_train) # 입력된 데이터로부터 단어 집합 생성"
   ]
  },
  {
   "cell_type": "markdown",
   "id": "841c7d98",
   "metadata": {},
   "source": [
    "`fit` 메서드를 통해 우리 데이터 내부 모든 단어를 가져왔다,  \n",
    "하지만 우리가 지닌 모든 단어를 이용할 필요는 없다  \n",
    "68000번 중 1~2번밖에 나오지 않는 단어는 오히려 학습에 방해가 된다.  \n",
    "\n",
    "그러므로 빈도수가 낮은 단어의 비율을 확인 후 적절히 제거하도록 한다."
   ]
  },
  {
   "cell_type": "code",
   "execution_count": 34,
   "id": "6a8a9e3f",
   "metadata": {},
   "outputs": [
    {
     "name": "stdout",
     "output_type": "stream",
     "text": [
      "단어 집합(vocabulary)의 크기 : 57331\n",
      "등장 빈도가 8번 이하인 희귀 단어의 수: 41717\n",
      "단어 집합에서 희귀 단어를 제외시킬 경우의 단어 집합의 크기 15614\n",
      "단어 집합에서 희귀 단어의 비율: 72.76517067555075\n",
      "전체 등장 빈도에서 희귀 단어 등장 빈도 비율: 5.5037462949041815\n"
     ]
    }
   ],
   "source": [
    "threshold = 9\n",
    "total_cnt = len(src_tokenizer.word_index) # 단어의 수\n",
    "rare_cnt = 0 # 등장 빈도수가 threshold보다 작은 단어의 개수를 카운트\n",
    "total_freq = 0 # 훈련 데이터의 전체 단어 빈도수 총 합\n",
    "rare_freq = 0 # 등장 빈도수가 threshold보다 작은 단어의 등장 빈도수의 총 합\n",
    "\n",
    "# 단어와 빈도수의 쌍(pair)을 key와 value로 받는다.\n",
    "for key, value in src_tokenizer.word_counts.items():\n",
    "    total_freq = total_freq + value\n",
    "\n",
    "    # 단어의 등장 빈도수가 threshold보다 작으면\n",
    "    if(value < threshold):\n",
    "        rare_cnt = rare_cnt + 1\n",
    "        rare_freq = rare_freq + value\n",
    "\n",
    "print('단어 집합(vocabulary)의 크기 :', total_cnt)\n",
    "print('등장 빈도가 %s번 이하인 희귀 단어의 수: %s'%(threshold - 1, rare_cnt))\n",
    "print('단어 집합에서 희귀 단어를 제외시킬 경우의 단어 집합의 크기 %s'%(total_cnt - rare_cnt))\n",
    "print(\"단어 집합에서 희귀 단어의 비율:\", (rare_cnt / total_cnt)*100)\n",
    "print(\"전체 등장 빈도에서 희귀 단어 등장 빈도 비율:\", (rare_freq / total_freq)*100)"
   ]
  },
  {
   "cell_type": "markdown",
   "id": "dd1805bd",
   "metadata": {},
   "source": [
    "8번 이하 나오는 단어가 전체 단어의 80%나 차지하지만,  \n",
    "실상 반복되는 비율은 고작 5%이다. 때문에 8번 이하로 나오는 단어들은  \n",
    "제거하도록 한다."
   ]
  },
  {
   "cell_type": "code",
   "execution_count": 35,
   "id": "895f0e54",
   "metadata": {},
   "outputs": [],
   "source": [
    "src_vocab = 16000 #빈도가 높은 상위 16000개의 단어를 남긴다\n",
    "src_tokenizer = Tokenizer(num_words=src_vocab) # 단어 집합의 크기를 16,000으로 제한\n",
    "src_tokenizer.fit_on_texts(encoder_input_train) # 단어 집합 재생성\n"
   ]
  },
  {
   "cell_type": "markdown",
   "id": "aa2eef49",
   "metadata": {},
   "source": [
    "`text_to_sequence()` 메서드를 사용해 정제한 단어사전의 단어들을 정수화시킨다.  \n",
    "현재 16000개의 단어가 있으므로 16000까지의 정수가 생성될 것이다."
   ]
  },
  {
   "cell_type": "code",
   "execution_count": 36,
   "id": "a52f71ee",
   "metadata": {},
   "outputs": [
    {
     "name": "stdout",
     "output_type": "stream",
     "text": [
      "[[47, 643, 8421, 12625, 53, 1, 983, 1071, 4, 1696, 325, 765, 52, 12625, 1, 719, 6098, 59, 5717, 4474, 1089, 8, 619, 13, 581, 476, 5631, 5, 218, 1333, 7509, 12625, 3]]\n"
     ]
    }
   ],
   "source": [
    "# 텍스트 시퀀스를 정수 시퀀스로 변환\n",
    "encoder_input_train = src_tokenizer.texts_to_sequences(encoder_input_train) \n",
    "encoder_input_test = src_tokenizer.texts_to_sequences(encoder_input_test)\n",
    "\n",
    "# 잘 진행되었는지 샘플 출력\n",
    "print(encoder_input_train[:1])"
   ]
  },
  {
   "cell_type": "markdown",
   "id": "87cea885",
   "metadata": {},
   "source": [
    "위와 같이 decoder 데이터 (sos + 기사) 도 함께 tokenizer 처리를 해준다."
   ]
  },
  {
   "cell_type": "code",
   "execution_count": 37,
   "id": "65e18d34",
   "metadata": {},
   "outputs": [],
   "source": [
    "tar_tokenizer = Tokenizer()\n",
    "tar_tokenizer.fit_on_texts(decoder_input_train)"
   ]
  },
  {
   "cell_type": "markdown",
   "id": "7eef5931",
   "metadata": {},
   "source": [
    "이것을 두번 해주는 이유는 우리가 seq2seq 모델을 쓰기 때문이다.\n",
    "\n",
    "우리는 LSTM 이 두번 반복되는 모델을 사용하기에 각 모델에 들어가는 input,  \n",
    "즉, 기사 단어사전 과 headline 단어사전 을 다르게 형성해야 한다.\n",
    "\n"
   ]
  },
  {
   "cell_type": "code",
   "execution_count": 39,
   "id": "46d6017b",
   "metadata": {},
   "outputs": [
    {
     "name": "stdout",
     "output_type": "stream",
     "text": [
      "단어 집합(vocabulary)의 크기 : 25912\n",
      "등장 빈도가 4번 이하인 희귀 단어의 수: 16520\n",
      "단어 집합에서 희귀 단어를 제외시킬 경우의 단어 집합의 크기 9392\n",
      "단어 집합에서 희귀 단어의 비율: 63.75424513738809\n",
      "전체 등장 빈도에서 희귀 단어 등장 빈도 비율: 5.533552176581175\n"
     ]
    }
   ],
   "source": [
    "threshold = 5\n",
    "total_cnt = len(tar_tokenizer.word_index) # 단어의 수\n",
    "rare_cnt = 0 # 등장 빈도수가 threshold보다 작은 단어의 개수를 카운트\n",
    "total_freq = 0 # 훈련 데이터의 전체 단어 빈도수 총 합\n",
    "rare_freq = 0 # 등장 빈도수가 threshold보다 작은 단어의 등장 빈도수의 총 합\n",
    "\n",
    "# 단어와 빈도수의 쌍(pair)을 key와 value로 받는다.\n",
    "for key, value in tar_tokenizer.word_counts.items():\n",
    "    total_freq = total_freq + value\n",
    "\n",
    "    # 단어의 등장 빈도수가 threshold보다 작으면\n",
    "    if(value < threshold):\n",
    "        rare_cnt = rare_cnt + 1\n",
    "        rare_freq = rare_freq + value\n",
    "\n",
    "print('단어 집합(vocabulary)의 크기 :', total_cnt)\n",
    "print('등장 빈도가 %s번 이하인 희귀 단어의 수: %s'%(threshold - 1, rare_cnt))\n",
    "print('단어 집합에서 희귀 단어를 제외시킬 경우의 단어 집합의 크기 %s'%(total_cnt - rare_cnt))\n",
    "print(\"단어 집합에서 희귀 단어의 비율:\", (rare_cnt / total_cnt)*100)\n",
    "print(\"전체 등장 빈도에서 희귀 단어 등장 빈도 비율:\", (rare_freq / total_freq)*100)"
   ]
  },
  {
   "cell_type": "code",
   "execution_count": 40,
   "id": "063b810f",
   "metadata": {},
   "outputs": [
    {
     "name": "stdout",
     "output_type": "stream",
     "text": [
      "input\n",
      "input  [[1, 711, 476, 486, 10, 1996, 4, 69, 805, 37, 125], [1, 1207, 1208, 748, 6, 239, 4695, 15, 8385, 37], [1, 1641, 3, 6940, 2921, 9394, 424, 409, 8386, 38, 159], [1, 66, 2592, 91, 661, 3, 1997, 30, 11, 241, 4465], [1, 8387, 103, 3908, 233, 727, 310, 103, 305]]\n",
      "target\n",
      "decoder  [[711, 476, 486, 10, 1996, 4, 69, 805, 37, 125, 2], [1207, 1208, 748, 6, 239, 4695, 15, 8385, 37, 2], [1641, 3, 6940, 2921, 9394, 424, 409, 8386, 38, 159, 2], [66, 2592, 91, 661, 3, 1997, 30, 11, 241, 4465, 2], [8387, 103, 3908, 233, 727, 310, 103, 305, 2]]\n"
     ]
    }
   ],
   "source": [
    "tar_vocab = 10000\n",
    "tar_tokenizer = Tokenizer(num_words=tar_vocab) \n",
    "tar_tokenizer.fit_on_texts(decoder_input_train)\n",
    "tar_tokenizer.fit_on_texts(decoder_target_train)\n",
    "\n",
    "# 텍스트 시퀀스를 정수 시퀀스로 변환\n",
    "decoder_input_train = tar_tokenizer.texts_to_sequences(decoder_input_train) \n",
    "decoder_target_train = tar_tokenizer.texts_to_sequences(decoder_target_train)\n",
    "decoder_input_test = tar_tokenizer.texts_to_sequences(decoder_input_test)\n",
    "decoder_target_test = tar_tokenizer.texts_to_sequences(decoder_target_test)\n",
    "\n",
    "# 잘 변환되었는지 확인\n",
    "print('input')\n",
    "print('input ',decoder_input_train[:5])\n",
    "print('target')\n",
    "print('decoder ',decoder_target_train[:5])"
   ]
  },
  {
   "cell_type": "markdown",
   "id": "65d4e515",
   "metadata": {},
   "source": [
    "보면 sostoken 은 1로, eostoken 은 2 로 표시되고 있다."
   ]
  },
  {
   "cell_type": "markdown",
   "id": "20b7b2f7",
   "metadata": {},
   "source": [
    "#### 여기서 잠깐 ! 🖐\n",
    "\n",
    "빈도가 적은 단어를 삭제했기 때문에 다시 결측치가 생겼을 수도 있다.  \n",
    "한번 더 확인해보자."
   ]
  },
  {
   "cell_type": "code",
   "execution_count": 41,
   "id": "587911e4",
   "metadata": {},
   "outputs": [
    {
     "name": "stdout",
     "output_type": "stream",
     "text": [
      "삭제할 훈련 데이터의 개수 : 0\n",
      "삭제할 테스트 데이터의 개수 : 0\n"
     ]
    }
   ],
   "source": [
    "drop_train = [index for index, sentence in enumerate(decoder_input_train) if len(sentence) == 1]\n",
    "drop_test = [index for index, sentence in enumerate(decoder_input_test) if len(sentence) == 1]\n",
    "\n",
    "print('삭제할 훈련 데이터의 개수 :', len(drop_train))\n",
    "print('삭제할 테스트 데이터의 개수 :', len(drop_test))\n"
   ]
  },
  {
   "cell_type": "markdown",
   "id": "179b8026",
   "metadata": {},
   "source": [
    "다행히 삭제할 데이터는 존재하지 않는다."
   ]
  },
  {
   "cell_type": "markdown",
   "id": "f3128cba",
   "metadata": {},
   "source": [
    "### 2-2-7. padding 처리"
   ]
  },
  {
   "cell_type": "code",
   "execution_count": 42,
   "id": "b02847c1",
   "metadata": {},
   "outputs": [],
   "source": [
    "encoder_input_train = pad_sequences(encoder_input_train, maxlen=text_max_len, padding='post')\n",
    "encoder_input_test = pad_sequences(encoder_input_test, maxlen=text_max_len, padding='post')\n",
    "decoder_input_train = pad_sequences(decoder_input_train, maxlen=headlines_max_len, padding='post')\n",
    "decoder_target_train = pad_sequences(decoder_target_train, maxlen=headlines_max_len, padding='post')\n",
    "decoder_input_test = pad_sequences(decoder_input_test, maxlen=headlines_max_len, padding='post')\n",
    "decoder_target_test = pad_sequences(decoder_target_test, maxlen=headlines_max_len, padding='post')"
   ]
  },
  {
   "cell_type": "markdown",
   "id": "4880d523",
   "metadata": {},
   "source": [
    "## 2-3.모델 학습"
   ]
  },
  {
   "cell_type": "markdown",
   "id": "8390521d",
   "metadata": {},
   "source": [
    "### 2-3-1. seq2seq 모델 생성\n",
    "seq2seq 란 두 개의 RNN 모델을 이어 붙여 사용하는 모델로써,  \n",
    "앞의 모델을 `encoder` , 뒤의 모델을 `decoder` 라고 한다.\n",
    "\n",
    "인코더에서는 원본 데이터를 학습시켜 벡터 정보를 불러온다.\n",
    "디코더에서는 그 문맥 정보를 가지고 있는 벡터 정보르 전달받아 결과물을 내놓는다.\n",
    "\n",
    "seq2seq 모델 방식으로 RNN 대신 LSTM을 통해 학습을 시켜보겠다."
   ]
  },
  {
   "cell_type": "code",
   "execution_count": 43,
   "id": "c432c4c2",
   "metadata": {
    "scrolled": true
   },
   "outputs": [
    {
     "name": "stdout",
     "output_type": "stream",
     "text": [
      "WARNING:tensorflow:Layer lstm will not use cuDNN kernels since it doesn't meet the criteria. It will use a generic GPU kernel as fallback when running on GPU.\n",
      "WARNING:tensorflow:Layer lstm_1 will not use cuDNN kernels since it doesn't meet the criteria. It will use a generic GPU kernel as fallback when running on GPU.\n",
      "WARNING:tensorflow:Layer lstm_2 will not use cuDNN kernels since it doesn't meet the criteria. It will use a generic GPU kernel as fallback when running on GPU.\n"
     ]
    }
   ],
   "source": [
    "from tensorflow.keras.layers import Input, LSTM, Embedding, Dense, Concatenate, TimeDistributed\n",
    "from tensorflow.keras.models import Model\n",
    "from tensorflow.keras.callbacks import EarlyStopping, ModelCheckpoint\n",
    "\n",
    "\n",
    "# 인코더 설계 시작\n",
    "embedding_dim = 128\n",
    "hidden_size = 256 #hidden state\n",
    "\n",
    "# 인코더\n",
    "encoder_inputs = Input(shape=(text_max_len,))\n",
    "\n",
    "# 인코더의 임베딩 층\n",
    "enc_emb = Embedding(src_vocab, embedding_dim)(encoder_inputs)\n",
    "\n",
    "# 인코더의 LSTM 1\n",
    "encoder_lstm1 = LSTM(hidden_size, return_sequences=True, return_state=True ,dropout = 0.4, recurrent_dropout = 0.4)\n",
    "encoder_output1, state_h1, state_c1 = encoder_lstm1(enc_emb)\n",
    "\n",
    "# 인코더의 LSTM 2\n",
    "encoder_lstm2 = LSTM(hidden_size, return_sequences=True, return_state=True, dropout=0.4, recurrent_dropout=0.4)\n",
    "encoder_output2, state_h2, state_c2 = encoder_lstm2(encoder_output1)\n",
    "\n",
    "# 인코더의 LSTM 3\n",
    "encoder_lstm3 = LSTM(hidden_size, return_state=True, return_sequences=True, dropout=0.4, recurrent_dropout=0.4)\n",
    "encoder_outputs, state_h, state_c= encoder_lstm3(encoder_output2)"
   ]
  },
  {
   "cell_type": "markdown",
   "id": "e978e6c4",
   "metadata": {},
   "source": [
    "임베딩 차원은 128,  \n",
    "히든 사이즈 256 으로 하고\n",
    "\n",
    "세 개의 LSTM 레이어를 씌웠다.\n",
    "LSTM 레이어에서는 `Dropout` 과 `Recurrent Dropout` 을 동시에 사용한다.\n",
    "이처럼 두 가지 Dropout 정규화를 사용하는 기법을 Variational Dropout 이라 한다."
   ]
  },
  {
   "cell_type": "code",
   "execution_count": 44,
   "id": "35ddd20c",
   "metadata": {},
   "outputs": [
    {
     "name": "stdout",
     "output_type": "stream",
     "text": [
      "WARNING:tensorflow:Layer lstm_3 will not use cuDNN kernels since it doesn't meet the criteria. It will use a generic GPU kernel as fallback when running on GPU.\n"
     ]
    }
   ],
   "source": [
    "# 디코더 설계\n",
    "decoder_inputs = Input(shape=(None,))\n",
    "\n",
    "# 디코더의 임베딩 층\n",
    "dec_emb_layer = Embedding(tar_vocab, embedding_dim)\n",
    "dec_emb = dec_emb_layer(decoder_inputs)\n",
    "\n",
    "# 디코더의 LSTM\n",
    "decoder_lstm = LSTM(hidden_size, return_sequences=True, return_state=True, dropout=0.4, recurrent_dropout=0.2)\n",
    "decoder_outputs, _, _ = decoder_lstm(dec_emb, initial_state=[state_h, state_c])"
   ]
  },
  {
   "cell_type": "markdown",
   "id": "7e82d1d8",
   "metadata": {},
   "source": [
    "두번째 sequence 인 디코더 모델도 기본적인 LSTM 틀은 같다. 하지만  \n",
    "`initial_state=[state_h, state_c]` 을 통해서 첫 sequence의 히든값과 cell(메모) 값을  \n",
    "가져와야 한다."
   ]
  },
  {
   "cell_type": "code",
   "execution_count": 45,
   "id": "7afd1d5e",
   "metadata": {},
   "outputs": [
    {
     "name": "stdout",
     "output_type": "stream",
     "text": [
      "Model: \"model\"\n",
      "__________________________________________________________________________________________________\n",
      "Layer (type)                    Output Shape         Param #     Connected to                     \n",
      "==================================================================================================\n",
      "input_1 (InputLayer)            [(None, 38)]         0                                            \n",
      "__________________________________________________________________________________________________\n",
      "embedding (Embedding)           (None, 38, 128)      2048000     input_1[0][0]                    \n",
      "__________________________________________________________________________________________________\n",
      "lstm (LSTM)                     [(None, 38, 256), (N 394240      embedding[0][0]                  \n",
      "__________________________________________________________________________________________________\n",
      "input_2 (InputLayer)            [(None, None)]       0                                            \n",
      "__________________________________________________________________________________________________\n",
      "lstm_1 (LSTM)                   [(None, 38, 256), (N 525312      lstm[0][0]                       \n",
      "__________________________________________________________________________________________________\n",
      "embedding_1 (Embedding)         (None, None, 128)    1280000     input_2[0][0]                    \n",
      "__________________________________________________________________________________________________\n",
      "lstm_2 (LSTM)                   [(None, 38, 256), (N 525312      lstm_1[0][0]                     \n",
      "__________________________________________________________________________________________________\n",
      "lstm_3 (LSTM)                   [(None, None, 256),  394240      embedding_1[0][0]                \n",
      "                                                                 lstm_2[0][1]                     \n",
      "                                                                 lstm_2[0][2]                     \n",
      "__________________________________________________________________________________________________\n",
      "dense (Dense)                   (None, None, 10000)  2570000     lstm_3[0][0]                     \n",
      "==================================================================================================\n",
      "Total params: 7,737,104\n",
      "Trainable params: 7,737,104\n",
      "Non-trainable params: 0\n",
      "__________________________________________________________________________________________________\n"
     ]
    }
   ],
   "source": [
    "# 디코더의 출력층\n",
    "decoder_softmax_layer = Dense(tar_vocab, activation='softmax')\n",
    "decoder_softmax_outputs = decoder_softmax_layer(decoder_outputs) \n",
    "\n",
    "# 모델 정의\n",
    "model = Model([encoder_inputs, decoder_inputs], decoder_softmax_outputs)\n",
    "model.summary()"
   ]
  },
  {
   "cell_type": "markdown",
   "id": "ac9f8b0a",
   "metadata": {},
   "source": [
    "**여기까지가 기본적인 seq2seq  모델 과정이다.**\n",
    "\n",
    "하지만 LSTM 을 포함한 RNN 계열의 인공신경망은, 아무리 cell gate (메모 기능)  \n",
    "을 이용하더라도 문맥 정보의 손실이 생길 수 밖에 없다.\n",
    "\n",
    "우리는 정보의 손실을 최대한 막기 위해 `Attention Mechanism` 을 사용할 수 있다.\n",
    "\n",
    "### 2-3-2. Attention Mechanism 추가"
   ]
  },
  {
   "cell_type": "markdown",
   "id": "005c6c15",
   "metadata": {},
   "source": [
    "이는 기존의 seq2seq 에서 맨 마지막 hidden 값, cell 값 만 가져 오는 기능과 달리,\n",
    "\n",
    "인코더에서 생성되었던 모든 hidden 과 cell 값을 \n",
    "모델 생성에 영향을 미친 가중치 만큼을 곱해 가져온다."
   ]
  },
  {
   "cell_type": "code",
   "execution_count": 46,
   "id": "7cadd2fa",
   "metadata": {},
   "outputs": [
    {
     "name": "stdout",
     "output_type": "stream",
     "text": [
      "Model: \"model_1\"\n",
      "__________________________________________________________________________________________________\n",
      "Layer (type)                    Output Shape         Param #     Connected to                     \n",
      "==================================================================================================\n",
      "input_1 (InputLayer)            [(None, 38)]         0                                            \n",
      "__________________________________________________________________________________________________\n",
      "embedding (Embedding)           (None, 38, 128)      2048000     input_1[0][0]                    \n",
      "__________________________________________________________________________________________________\n",
      "lstm (LSTM)                     [(None, 38, 256), (N 394240      embedding[0][0]                  \n",
      "__________________________________________________________________________________________________\n",
      "input_2 (InputLayer)            [(None, None)]       0                                            \n",
      "__________________________________________________________________________________________________\n",
      "lstm_1 (LSTM)                   [(None, 38, 256), (N 525312      lstm[0][0]                       \n",
      "__________________________________________________________________________________________________\n",
      "embedding_1 (Embedding)         (None, None, 128)    1280000     input_2[0][0]                    \n",
      "__________________________________________________________________________________________________\n",
      "lstm_2 (LSTM)                   [(None, 38, 256), (N 525312      lstm_1[0][0]                     \n",
      "__________________________________________________________________________________________________\n",
      "lstm_3 (LSTM)                   [(None, None, 256),  394240      embedding_1[0][0]                \n",
      "                                                                 lstm_2[0][1]                     \n",
      "                                                                 lstm_2[0][2]                     \n",
      "__________________________________________________________________________________________________\n",
      "attention_layer (AdditiveAttent (None, None, 256)    256         lstm_3[0][0]                     \n",
      "                                                                 lstm_2[0][0]                     \n",
      "__________________________________________________________________________________________________\n",
      "concat_layer (Concatenate)      (None, None, 512)    0           lstm_3[0][0]                     \n",
      "                                                                 attention_layer[0][0]            \n",
      "__________________________________________________________________________________________________\n",
      "dense_1 (Dense)                 (None, None, 10000)  5130000     concat_layer[0][0]               \n",
      "==================================================================================================\n",
      "Total params: 10,297,360\n",
      "Trainable params: 10,297,360\n",
      "Non-trainable params: 0\n",
      "__________________________________________________________________________________________________\n"
     ]
    }
   ],
   "source": [
    "# from tensorflow.keras.layers import AdditiveAttention\n",
    "\n",
    "# 어텐션 층(어텐션 함수)\n",
    "attn_layer = AdditiveAttention(name='attention_layer')\n",
    "\n",
    "# 인코더와 디코더의 모든 time step의 hidden state를 어텐션 층에 전달하고 결과를 리턴\n",
    "attn_out = attn_layer([decoder_outputs, encoder_outputs])\n",
    "\n",
    "\n",
    "# 어텐션의 결과와 디코더의 hidden state들을 연결\n",
    "decoder_concat_input = Concatenate(axis=-1, name='concat_layer')([decoder_outputs, attn_out])\n",
    "\n",
    "# 디코더의 출력층\n",
    "decoder_softmax_layer = Dense(tar_vocab, activation='softmax')\n",
    "decoder_softmax_outputs = decoder_softmax_layer(decoder_concat_input)\n",
    "\n",
    "# 모델 정의\n",
    "model = Model([encoder_inputs, decoder_inputs], decoder_softmax_outputs)\n",
    "model.summary()"
   ]
  },
  {
   "cell_type": "markdown",
   "id": "c6dd059e",
   "metadata": {},
   "source": [
    "### 2-3-3. 모델 학습"
   ]
  },
  {
   "cell_type": "code",
   "execution_count": 47,
   "id": "68c78eb6",
   "metadata": {
    "scrolled": false
   },
   "outputs": [
    {
     "name": "stdout",
     "output_type": "stream",
     "text": [
      "Epoch 1/50\n",
      "205/205 [==============================] - 127s 539ms/step - loss: 6.4394 - val_loss: 6.0177\n",
      "Epoch 2/50\n",
      "205/205 [==============================] - 108s 527ms/step - loss: 5.9092 - val_loss: 5.7130\n",
      "Epoch 3/50\n",
      "205/205 [==============================] - 106s 518ms/step - loss: 5.5919 - val_loss: 5.4856\n",
      "Epoch 4/50\n",
      "205/205 [==============================] - 106s 517ms/step - loss: 5.3480 - val_loss: 5.3363\n",
      "Epoch 5/50\n",
      "205/205 [==============================] - 105s 514ms/step - loss: 5.1283 - val_loss: 5.1619\n",
      "Epoch 6/50\n",
      "205/205 [==============================] - 105s 513ms/step - loss: 4.9323 - val_loss: 4.9974\n",
      "Epoch 7/50\n",
      "205/205 [==============================] - 106s 516ms/step - loss: 4.7522 - val_loss: 4.9039\n",
      "Epoch 8/50\n",
      "205/205 [==============================] - 105s 513ms/step - loss: 4.5953 - val_loss: 4.8213\n",
      "Epoch 9/50\n",
      "205/205 [==============================] - 105s 511ms/step - loss: 4.4517 - val_loss: 4.7645\n",
      "Epoch 10/50\n",
      "205/205 [==============================] - 105s 515ms/step - loss: 4.3251 - val_loss: 4.6789\n",
      "Epoch 11/50\n",
      "205/205 [==============================] - 105s 513ms/step - loss: 4.2091 - val_loss: 4.6303\n",
      "Epoch 12/50\n",
      "205/205 [==============================] - 105s 513ms/step - loss: 4.0997 - val_loss: 4.5805\n",
      "Epoch 13/50\n",
      "205/205 [==============================] - 105s 515ms/step - loss: 3.9998 - val_loss: 4.5441\n",
      "Epoch 14/50\n",
      "205/205 [==============================] - 105s 514ms/step - loss: 3.9076 - val_loss: 4.5062\n",
      "Epoch 15/50\n",
      "205/205 [==============================] - 105s 514ms/step - loss: 3.8239 - val_loss: 4.4773\n",
      "Epoch 16/50\n",
      "205/205 [==============================] - 105s 512ms/step - loss: 3.7425 - val_loss: 4.4434\n",
      "Epoch 17/50\n",
      "205/205 [==============================] - 105s 512ms/step - loss: 3.6637 - val_loss: 4.4426\n",
      "Epoch 18/50\n",
      "205/205 [==============================] - 105s 514ms/step - loss: 3.5910 - val_loss: 4.4215\n",
      "Epoch 19/50\n",
      "205/205 [==============================] - 105s 512ms/step - loss: 3.5205 - val_loss: 4.4096\n",
      "Epoch 20/50\n",
      "205/205 [==============================] - 105s 514ms/step - loss: 3.4592 - val_loss: 4.4121\n",
      "Epoch 21/50\n",
      "205/205 [==============================] - 105s 513ms/step - loss: 3.3995 - val_loss: 4.3996\n",
      "Epoch 22/50\n",
      "205/205 [==============================] - 105s 513ms/step - loss: 3.3438 - val_loss: 4.3922\n",
      "Epoch 23/50\n",
      "205/205 [==============================] - 105s 511ms/step - loss: 3.2886 - val_loss: 4.4149\n",
      "Epoch 24/50\n",
      "205/205 [==============================] - 105s 511ms/step - loss: 3.2356 - val_loss: 4.3726\n",
      "Epoch 25/50\n",
      "205/205 [==============================] - 105s 512ms/step - loss: 3.1842 - val_loss: 4.3906\n",
      "Epoch 26/50\n",
      "205/205 [==============================] - 104s 510ms/step - loss: 3.1383 - val_loss: 4.3816\n",
      "Epoch 00026: early stopping\n"
     ]
    }
   ],
   "source": [
    "model.compile(optimizer='rmsprop', loss='sparse_categorical_crossentropy')\n",
    "es = EarlyStopping(monitor='val_loss', patience=2, verbose=1)\n",
    "history = model.fit(x=[encoder_input_train, decoder_input_train], y=decoder_target_train, \\\n",
    "          validation_data=([encoder_input_test, decoder_input_test], decoder_target_test), \\\n",
    "          batch_size=256, callbacks=[es], epochs=50)"
   ]
  },
  {
   "cell_type": "code",
   "execution_count": 87,
   "id": "f59fdd9f",
   "metadata": {
    "scrolled": true
   },
   "outputs": [
    {
     "name": "stdout",
     "output_type": "stream",
     "text": [
      "Epoch 1/50\n",
      "269/269 [==============================] - 165s 581ms/step - loss: 6.0458 - val_loss: 5.6339\n",
      "Epoch 2/50\n",
      "269/269 [==============================] - 156s 579ms/step - loss: 5.4679 - val_loss: 5.2470\n",
      "Epoch 3/50\n",
      "269/269 [==============================] - 152s 563ms/step - loss: 5.1238 - val_loss: 5.0133\n",
      "Epoch 4/50\n",
      "269/269 [==============================] - 149s 553ms/step - loss: 4.8506 - val_loss: 4.7871\n",
      "Epoch 5/50\n",
      "269/269 [==============================] - 151s 561ms/step - loss: 4.6278 - val_loss: 4.6418\n",
      "Epoch 6/50\n",
      "269/269 [==============================] - 153s 570ms/step - loss: 4.4463 - val_loss: 4.5135\n",
      "Epoch 7/50\n",
      "269/269 [==============================] - 151s 562ms/step - loss: 4.2904 - val_loss: 4.4163\n",
      "Epoch 8/50\n",
      "269/269 [==============================] - 150s 559ms/step - loss: 4.1543 - val_loss: 4.3388\n",
      "Epoch 9/50\n",
      "269/269 [==============================] - 149s 553ms/step - loss: 4.0311 - val_loss: 4.2811\n",
      "Epoch 10/50\n",
      "269/269 [==============================] - 151s 561ms/step - loss: 3.9255 - val_loss: 4.2151\n",
      "Epoch 11/50\n",
      "269/269 [==============================] - 149s 554ms/step - loss: 3.8271 - val_loss: 4.1771\n",
      "Epoch 12/50\n",
      "269/269 [==============================] - 150s 559ms/step - loss: 3.7395 - val_loss: 4.1353\n",
      "Epoch 13/50\n",
      "269/269 [==============================] - 151s 561ms/step - loss: 3.6570 - val_loss: 4.1050\n",
      "Epoch 14/50\n",
      "269/269 [==============================] - 151s 563ms/step - loss: 3.5811 - val_loss: 4.0755\n",
      "Epoch 15/50\n",
      "269/269 [==============================] - 150s 556ms/step - loss: 3.5088 - val_loss: 4.0506\n",
      "Epoch 16/50\n",
      "269/269 [==============================] - 149s 553ms/step - loss: 3.4470 - val_loss: 4.0453\n",
      "Epoch 17/50\n",
      "269/269 [==============================] - 149s 556ms/step - loss: 3.3894 - val_loss: 4.0234\n",
      "Epoch 18/50\n",
      "269/269 [==============================] - 149s 554ms/step - loss: 3.3326 - val_loss: 4.0093\n",
      "Epoch 19/50\n",
      "269/269 [==============================] - 150s 557ms/step - loss: 3.2793 - val_loss: 4.0084\n",
      "Epoch 20/50\n",
      "269/269 [==============================] - 152s 564ms/step - loss: 3.2282 - val_loss: 3.9851\n",
      "Epoch 21/50\n",
      "269/269 [==============================] - 153s 569ms/step - loss: 3.1829 - val_loss: 3.9812\n",
      "Epoch 22/50\n",
      "269/269 [==============================] - 150s 559ms/step - loss: 3.1390 - val_loss: 3.9815\n",
      "Epoch 23/50\n",
      "269/269 [==============================] - 151s 560ms/step - loss: 3.0957 - val_loss: 3.9550\n",
      "Epoch 24/50\n",
      "269/269 [==============================] - 149s 553ms/step - loss: 3.0564 - val_loss: 3.9592\n",
      "Epoch 25/50\n",
      "269/269 [==============================] - 153s 568ms/step - loss: 3.0148 - val_loss: 3.9573\n",
      "Epoch 00025: early stopping\n"
     ]
    }
   ],
   "source": [
    "model.compile(optimizer='rmsprop', loss='sparse_categorical_crossentropy')\n",
    "es = EarlyStopping(monitor='val_loss', patience=2, verbose=1)\n",
    "history = model.fit(x=[encoder_input_train, decoder_input_train], y=decoder_target_train, \\\n",
    "          validation_data=([encoder_input_test, decoder_input_test], decoder_target_test), \\\n",
    "          batch_size=256, callbacks=[es], epochs=50)"
   ]
  },
  {
   "cell_type": "markdown",
   "id": "de3dcf62",
   "metadata": {},
   "source": []
  },
  {
   "cell_type": "markdown",
   "id": "5ad37076",
   "metadata": {},
   "source": [
    "## 2-4.데이터 평가"
   ]
  },
  {
   "cell_type": "code",
   "execution_count": 48,
   "id": "152a4ffa",
   "metadata": {
    "scrolled": true
   },
   "outputs": [
    {
     "data": {
      "image/png": "[encoded data removed]",
      "text/plain": [
       "<Figure size 432x288 with 1 Axes>"
      ]
     },
     "metadata": {
      "needs_background": "light"
     },
     "output_type": "display_data"
    }
   ],
   "source": [
    "plt.plot(history.history['loss'], label='train')\n",
    "plt.plot(history.history['val_loss'], label='test')\n",
    "plt.legend()\n",
    "plt.show()"
   ]
  },
  {
   "cell_type": "markdown",
   "id": "f28928bd",
   "metadata": {},
   "source": [
    "학습한 모델을 사용하기 위해서는 숫자로 바꾼 데이터를  \n",
    "다시 텍스트화 시킬 필요가 있다."
   ]
  },
  {
   "cell_type": "code",
   "execution_count": 49,
   "id": "4e75372d",
   "metadata": {},
   "outputs": [],
   "source": [
    "src_index_to_word = src_tokenizer.index_word \n",
    "# 원문 단어 집합에서 정수 -> 단어를 얻음\n",
    "\n",
    "tar_word_to_index = tar_tokenizer.word_index \n",
    "# headline 단어 집합에서 단어 -> 정수를 얻음\n",
    "\n",
    "tar_index_to_word = tar_tokenizer.index_word \n",
    "# headline 단어 집합에서 정수 -> 단어를 얻음"
   ]
  },
  {
   "cell_type": "markdown",
   "id": "857ca4ba",
   "metadata": {},
   "source": [
    "#### 여기서 또 잠깐 ! 🖐\n",
    "\n",
    "seq2seq 모델을 이용했다면, 우리는 주의해야 한다.\n",
    "무엇을? 바로 결과물을 출력할 때 별도로 모델 설계를 또 해주어야 한다는 것을!\n",
    "\n",
    "왜냐면 seq2seq 에서는 \n",
    "\n",
    "디코더 (두번째 seq ) 에 `sos+문장전체` 를 넣고 `문장전체 + eos` 를 결과로 생각해  \n",
    "학습시켰다.  \n",
    "\n",
    "그러나 정답 문장이 없는 실제 구동 시에는 문장을 얼마나 길게 할지 정해져 있지 않아서  \n",
    "그 길이 추론을 위한 모델 설계를 별도로 해주어야 한다.\n",
    "\n"
   ]
  },
  {
   "cell_type": "code",
   "execution_count": 50,
   "id": "0459236d",
   "metadata": {},
   "outputs": [],
   "source": [
    "# 인코더 설계\n",
    "encoder_model = Model(inputs=encoder_inputs, \n",
    "                      outputs=[encoder_outputs, state_h, state_c])\n",
    "\n",
    "# 이전 시점의 상태들을 저장하는 텐서\n",
    "decoder_state_input_h = Input(shape=(hidden_size,))\n",
    "decoder_state_input_c = Input(shape=(hidden_size,))\n",
    "\n",
    "dec_emb2 = dec_emb_layer(decoder_inputs)\n",
    "\n",
    "# 문장의 다음 단어를 예측하기 위해서 \n",
    "#초기 상태(initial_state)를 이전 시점의 상태로 사용. \n",
    "#이는 뒤의 함수 decode_sequence()에 구현\n",
    "\n",
    "# 훈련 과정에서와 달리 \n",
    "#LSTM의 리턴하는 은닉 상태와 \n",
    "#셀 상태인 state_h와 state_c를 버리지 않음.\n",
    "\n",
    "decoder_outputs2, state_h2, state_c2 = decoder_lstm(dec_emb2, \n",
    "                                                    initial_state=[decoder_state_input_h, decoder_state_input_c])\n"
   ]
  },
  {
   "cell_type": "markdown",
   "id": "dca0d646",
   "metadata": {},
   "source": [
    "별도 모델 생성에도 `attention machanism` 을 사용한다."
   ]
  },
  {
   "cell_type": "code",
   "execution_count": 51,
   "id": "bfe5c67a",
   "metadata": {},
   "outputs": [],
   "source": [
    "# 어텐션 함수\n",
    "decoder_hidden_state_input = Input(shape=(text_max_len, hidden_size))\n",
    "attn_out_inf = attn_layer([decoder_outputs2, decoder_hidden_state_input])\n",
    "decoder_inf_concat = Concatenate(axis=-1, name='concat')([decoder_outputs2, attn_out_inf])\n",
    "\n",
    "# 디코더의 출력층\n",
    "decoder_outputs2 = decoder_softmax_layer(decoder_inf_concat) \n",
    "\n",
    "# 최종 디코더 모델\n",
    "decoder_model = Model(\n",
    "    [decoder_inputs] + [decoder_hidden_state_input,decoder_state_input_h, decoder_state_input_c],\n",
    "    [decoder_outputs2] + [state_h2, state_c2])\n"
   ]
  },
  {
   "cell_type": "markdown",
   "id": "dab98618",
   "metadata": {},
   "source": [
    "**그리고**\n",
    "\n",
    "이 모델에서 단어 길이를 예측하는 함수를 넣는다."
   ]
  },
  {
   "cell_type": "code",
   "execution_count": 52,
   "id": "766df40a",
   "metadata": {},
   "outputs": [],
   "source": [
    "def decode_sequence(input_seq):\n",
    "    # 입력으로부터 인코더의 상태를 얻음\n",
    "    e_out, e_h, e_c = encoder_model.predict(input_seq)\n",
    "\n",
    "     # <SOS>에 해당하는 토큰 생성\n",
    "    target_seq = np.zeros((1,1))\n",
    "    target_seq[0, 0] = tar_word_to_index['sostoken']\n",
    "\n",
    "    stop_condition = False\n",
    "    decoded_sentence = ''\n",
    "    while not stop_condition: # stop_condition이 True가 될 때까지 루프 반복\n",
    "\n",
    "        output_tokens, h, c = decoder_model.predict([target_seq] + [e_out, e_h, e_c])\n",
    "        sampled_token_index = np.argmax(output_tokens[0, -1, :])\n",
    "        sampled_token = tar_index_to_word[sampled_token_index]\n",
    "\n",
    "        if (sampled_token!='eostoken'):\n",
    "            decoded_sentence += ' '+sampled_token\n",
    "\n",
    "        #  <eos>에 도달하거나 최대 길이를 넘으면 중단.\n",
    "        if (sampled_token == 'eostoken'  or len(decoded_sentence.split()) >= (headlines_max_len-1)):\n",
    "            stop_condition = True\n",
    "\n",
    "        # 길이가 1인 타겟 시퀀스를 업데이트\n",
    "        target_seq = np.zeros((1,1))\n",
    "        target_seq[0, 0] = sampled_token_index\n",
    "\n",
    "        # 상태를 업데이트 합니다.\n",
    "        e_h, e_c = h, c\n",
    "\n",
    "    return decoded_sentence"
   ]
  },
  {
   "cell_type": "markdown",
   "id": "1f313768",
   "metadata": {},
   "source": [
    "나온 결과물을 정수 시퀀스에서 텍스트 시퀀스로 변환하는 함수도 넣는다."
   ]
  },
  {
   "cell_type": "code",
   "execution_count": 53,
   "id": "fd1c31ca",
   "metadata": {},
   "outputs": [],
   "source": [
    "# 원문의 정수 시퀀스를 텍스트 시퀀스로 변환\n",
    "def seq2text(input_seq):\n",
    "    temp=''\n",
    "    for i in input_seq:\n",
    "        if (i!=0):\n",
    "            temp = temp + src_index_to_word[i]+' '\n",
    "    return temp\n",
    "\n",
    "# 요약문의 정수 시퀀스를 텍스트 시퀀스로 변환\n",
    "def seq2summary(input_seq):\n",
    "    temp=''\n",
    "    for i in input_seq:\n",
    "        if ((i!=0 and i!=tar_word_to_index['sostoken']) and i!=tar_word_to_index['eostoken']):\n",
    "            temp = temp + tar_index_to_word[i] + ' '\n",
    "    return temp\n"
   ]
  },
  {
   "cell_type": "code",
   "execution_count": 55,
   "id": "e92a23bb",
   "metadata": {},
   "outputs": [
    {
     "name": "stdout",
     "output_type": "stream",
     "text": [
      "text : karnataka home minister ramalinga reddy saturday said journalist gauri lankesh would caught weeks stating sit probing murder updated reddy claimed knew committed murder could disclose yet lankesh known stand hindu extremism shot outside bengaluru residence september \n",
      "실제 headlines : gauri lankesh will be arrested soon minister \n",
      "예측 headlines :  taka cm son lankesh lankesh murder victim son\n",
      "\n",
      "\n",
      "text : dozen containing one million bees recently reported stolen local park austria police involved residents noticed covers wooden boxes containing removed calculated losses around lakh terms lost honey stolen bees \n",
      "실제 headlines : one million bees reported stolen in austrian town \n",
      "예측 headlines :  lakh worth crore seized in bengaluru\n",
      "\n",
      "\n",
      "text : ryanair denmark bound flight forced make emergency landing friday losing one two nose wheels take flight left london airport local time diverted east airport landed several flights delayed ryanair said aircraft landed safely \n",
      "실제 headlines : ryanair flight loses wheel mid air makes emergency landing \n",
      "예측 headlines :  flight makes emergency landing after bird makes emergency landing\n",
      "\n",
      "\n",
      "text : mukesh ambani led reliance industries signed agreement acquire us based telecom solutions provider corporation million cash acquisition jio global innovation technology leadership areas open source architecture adoption reliance jio director akash ambani said \n",
      "실제 headlines : ambani to acquire telecom solutions firm for cr \n",
      "예측 headlines :  reliance to buy stake in india for merger\n",
      "\n",
      "\n",
      "text : ride hailing startup uber added feature within app allows users share location real time drivers live location feature accessed via grey icon bottom right corner map display user taps icon turns blue indicates feature active \n",
      "실제 headlines : uber adds feature to share live location on the app \n",
      "예측 headlines :  uber to feature feature to let users location location\n",
      "\n",
      "\n"
     ]
    }
   ],
   "source": [
    "for i in range(5):\n",
    "    print(\"text :\", seq2text(encoder_input_test[i]))\n",
    "    print(\"실제 headlines :\", seq2summary(decoder_input_test[i]))\n",
    "    print(\"예측 headlines :\", decode_sequence(encoder_input_test[i].reshape(1, text_max_len)))\n",
    "    print(\"\\n\")"
   ]
  },
  {
   "cell_type": "markdown",
   "id": "0b19e624",
   "metadata": {},
   "source": [
    "간단하게 다섯 개만 번역해 보자.\n",
    "\n",
    "1. 가우시 란케시 기자는 살인사건의 진상을 알았음에도 밝히지 않아 곧 잡힐 것이다.  \n",
    "\n",
    "\n",
    "실제 제목: 가우시 란케시 기자, 곧 체포돼  \n",
    "**예측한 제목** : 란케시, 피해자의 아들? ❌  \n",
    "\n",
    "2. 오스트리아에서 100만 마리의 벌이 도난되었고, 주민들은 그 나무상자들을 도둑맞았다.  \n",
    "\n",
    "실제 제목 : 오스트리아 경찰, 100만마리의 벌 도난 사건  \n",
    "**예측한 제목** : 뱅갈루루에서 압류된 수천만의 크로어 ❌  \n",
    "\n",
    "3. 덴마크행 비행기가 바퀴를 잃어 문제가 생겼지만 다행히도 안전히 착륙했다.  \n",
    "\n",
    "실제 제목 : 라이언에어 항공, 비상 착륙 성공.    \n",
    "**예측한 제목** : 지나가던 새, 비상착륙 후 라이언에어 항공도 비상착륙 발발 🔺  \n",
    "\n",
    "4. ambani 가 주도한 산업 협정으로 솔루션 제공업체는 무지막지 돈을 벌었다.\n",
    "\n",
    "실제 제목 : 통신 솔루션 회사를 인수한 ambani  \n",
    "**예측한 제목** : 합병을 위해 인도의 지분을 샀던 의존성 ❌  \n",
    "\n",
    "5. uber 기능의 추가로 이용자들은 본인의 실시간 드라이브 위치를 공유할 수 있다.  \n",
    "\n",
    "실제 제목 : uber, 앱에서 라이브 공유 기능 추가.   \n",
    "**예측한 제목** : uber, 유저들의 장소장소를 설명설명해주다 🔺  \n",
    "\n",
    "---\n",
    "아... 결과가 그리 좋진 않다.  \n",
    "하지만 틀린 단어들도 어느정도의 연관성과 문맥을 가지고 있고,  \n",
    "두 기사는 비슷하게나마 정답에 근접했음은 확실하다.\n",
    "\n",
    "하지만 자극적인 제목을 추구하는 news 의 목적성을 생각한다면  \n",
    "AI가 만든 제목들도 충분히 의미가 있지 않나라는 의문을 가졌다.\n",
    "\n"
   ]
  },
  {
   "cell_type": "markdown",
   "id": "55905623",
   "metadata": {},
   "source": [
    "## 2-5. 번외 - 추출요약\n",
    "\n",
    "추출요약은 새로운 단어를 만들어내는 것이 아닌,\n",
    "기존 텍스트 내부 단어만을 가지고 줄여 요약하는 기법이다.\n",
    "\n",
    "우리는 이 기법을 이용하는데 적합하된 `summa` 라이브러리를 사용해본다."
   ]
  },
  {
   "cell_type": "code",
   "execution_count": 74,
   "id": "7b06f6f4",
   "metadata": {},
   "outputs": [],
   "source": [
    "urllib.request.urlretrieve(\"https://raw.githubusercontent.com/sunnysai12345/News_Summary/master/news_summary_more.csv\", filename=\"news_summary_more.csv\")\n",
    "data = pd.read_csv('news_summary_more.csv', encoding='iso-8859-1')"
   ]
  },
  {
   "cell_type": "code",
   "execution_count": 75,
   "id": "5e65418a",
   "metadata": {
    "scrolled": true
   },
   "outputs": [
    {
     "data": {
      "text/html": [
       "<div>\n",
       "<style scoped>\n",
       "    .dataframe tbody tr th:only-of-type {\n",
       "        vertical-align: middle;\n",
       "    }\n",
       "\n",
       "    .dataframe tbody tr th {\n",
       "        vertical-align: top;\n",
       "    }\n",
       "\n",
       "    .dataframe thead th {\n",
       "        text-align: right;\n",
       "    }\n",
       "</style>\n",
       "<table border=\"1\" class=\"dataframe\">\n",
       "  <thead>\n",
       "    <tr style=\"text-align: right;\">\n",
       "      <th></th>\n",
       "      <th>headlines</th>\n",
       "      <th>text</th>\n",
       "    </tr>\n",
       "  </thead>\n",
       "  <tbody>\n",
       "    <tr>\n",
       "      <th>0</th>\n",
       "      <td>upGrad learner switches to career in ML &amp; Al w...</td>\n",
       "      <td>Saurav Kant, an alumnus of upGrad and IIIT-B's...</td>\n",
       "    </tr>\n",
       "    <tr>\n",
       "      <th>1</th>\n",
       "      <td>Delhi techie wins free food from Swiggy for on...</td>\n",
       "      <td>Kunal Shah's credit card bill payment platform...</td>\n",
       "    </tr>\n",
       "    <tr>\n",
       "      <th>2</th>\n",
       "      <td>New Zealand end Rohit Sharma-led India's 12-ma...</td>\n",
       "      <td>New Zealand defeated India by 8 wickets in the...</td>\n",
       "    </tr>\n",
       "    <tr>\n",
       "      <th>3</th>\n",
       "      <td>Aegon life iTerm insurance plan helps customer...</td>\n",
       "      <td>With Aegon Life iTerm Insurance plan, customer...</td>\n",
       "    </tr>\n",
       "    <tr>\n",
       "      <th>4</th>\n",
       "      <td>Have known Hirani for yrs, what if MeToo claim...</td>\n",
       "      <td>Speaking about the sexual harassment allegatio...</td>\n",
       "    </tr>\n",
       "  </tbody>\n",
       "</table>\n",
       "</div>"
      ],
      "text/plain": [
       "                                           headlines  \\\n",
       "0  upGrad learner switches to career in ML & Al w...   \n",
       "1  Delhi techie wins free food from Swiggy for on...   \n",
       "2  New Zealand end Rohit Sharma-led India's 12-ma...   \n",
       "3  Aegon life iTerm insurance plan helps customer...   \n",
       "4  Have known Hirani for yrs, what if MeToo claim...   \n",
       "\n",
       "                                                text  \n",
       "0  Saurav Kant, an alumnus of upGrad and IIIT-B's...  \n",
       "1  Kunal Shah's credit card bill payment platform...  \n",
       "2  New Zealand defeated India by 8 wickets in the...  \n",
       "3  With Aegon Life iTerm Insurance plan, customer...  \n",
       "4  Speaking about the sexual harassment allegatio...  "
      ]
     },
     "execution_count": 75,
     "metadata": {},
     "output_type": "execute_result"
    }
   ],
   "source": [
    "data.head()"
   ]
  },
  {
   "cell_type": "markdown",
   "id": "56a8ba0e",
   "metadata": {},
   "source": [
    "text (str) : 요약할 테스트.  \n",
    "ratio (float, optional) – 요약문에서 원본에서 선택되는 문장 비율. 0~1 사이값  \n",
    "words (int or None, optional) – 출력에 포함할 단어 수.  \n",
    "만약, ratio와 함께 두 파라미터가 모두 제공되는 경우 ratio는 무시한다.  \n",
    "split (bool, optional) – True면 문장 list / False는 조인(join)된 문자열을 반환 "
   ]
  },
  {
   "cell_type": "markdown",
   "id": "f50965b8",
   "metadata": {},
   "source": [
    "---\n",
    "Summa의 summarize는 문장 토큰화를 별도로 하지 않더라도  \n",
    "내부적으로 문장 토큰화를 수행한다.  \n",
    "\n",
    "그렇기 때문에 문장 구분이 되어있지 않은 원문을 바로 입력으로 넣을 수 있다.  \n",
    "\n",
    "선택되는 문장의 개수를 줄이고,  \n",
    "원문의 50% 길이로 요약 설명하도록 설정한다."
   ]
  },
  {
   "cell_type": "code",
   "execution_count": 79,
   "id": "13e1a788",
   "metadata": {},
   "outputs": [],
   "source": [
    "data['summary'] = data['text'].apply(lambda x: summarize(x, ratio=0.4))"
   ]
  },
  {
   "cell_type": "code",
   "execution_count": 80,
   "id": "5943b569",
   "metadata": {},
   "outputs": [
    {
     "data": {
      "text/html": [
       "<div>\n",
       "<style scoped>\n",
       "    .dataframe tbody tr th:only-of-type {\n",
       "        vertical-align: middle;\n",
       "    }\n",
       "\n",
       "    .dataframe tbody tr th {\n",
       "        vertical-align: top;\n",
       "    }\n",
       "\n",
       "    .dataframe thead th {\n",
       "        text-align: right;\n",
       "    }\n",
       "</style>\n",
       "<table border=\"1\" class=\"dataframe\">\n",
       "  <thead>\n",
       "    <tr style=\"text-align: right;\">\n",
       "      <th></th>\n",
       "      <th>headlines</th>\n",
       "      <th>text</th>\n",
       "      <th>short_summary</th>\n",
       "      <th>summary</th>\n",
       "    </tr>\n",
       "  </thead>\n",
       "  <tbody>\n",
       "    <tr>\n",
       "      <th>0</th>\n",
       "      <td>upGrad learner switches to career in ML &amp; Al w...</td>\n",
       "      <td>Saurav Kant, an alumnus of upGrad and IIIT-B's...</td>\n",
       "      <td></td>\n",
       "      <td>upGrad's Online Power Learning has powered 3 l...</td>\n",
       "    </tr>\n",
       "    <tr>\n",
       "      <th>1</th>\n",
       "      <td>Delhi techie wins free food from Swiggy for on...</td>\n",
       "      <td>Kunal Shah's credit card bill payment platform...</td>\n",
       "      <td></td>\n",
       "      <td>Users get one CRED coin per rupee of bill paid...</td>\n",
       "    </tr>\n",
       "    <tr>\n",
       "      <th>2</th>\n",
       "      <td>New Zealand end Rohit Sharma-led India's 12-ma...</td>\n",
       "      <td>New Zealand defeated India by 8 wickets in the...</td>\n",
       "      <td></td>\n",
       "      <td>The match witnessed India getting all out for ...</td>\n",
       "    </tr>\n",
       "    <tr>\n",
       "      <th>3</th>\n",
       "      <td>Aegon life iTerm insurance plan helps customer...</td>\n",
       "      <td>With Aegon Life iTerm Insurance plan, customer...</td>\n",
       "      <td></td>\n",
       "      <td>Also, customers have options to insure against...</td>\n",
       "    </tr>\n",
       "    <tr>\n",
       "      <th>4</th>\n",
       "      <td>Have known Hirani for yrs, what if MeToo claim...</td>\n",
       "      <td>Speaking about the sexual harassment allegatio...</td>\n",
       "      <td></td>\n",
       "      <td>Speaking about the sexual harassment allegatio...</td>\n",
       "    </tr>\n",
       "  </tbody>\n",
       "</table>\n",
       "</div>"
      ],
      "text/plain": [
       "                                           headlines  \\\n",
       "0  upGrad learner switches to career in ML & Al w...   \n",
       "1  Delhi techie wins free food from Swiggy for on...   \n",
       "2  New Zealand end Rohit Sharma-led India's 12-ma...   \n",
       "3  Aegon life iTerm insurance plan helps customer...   \n",
       "4  Have known Hirani for yrs, what if MeToo claim...   \n",
       "\n",
       "                                                text short_summary  \\\n",
       "0  Saurav Kant, an alumnus of upGrad and IIIT-B's...                 \n",
       "1  Kunal Shah's credit card bill payment platform...                 \n",
       "2  New Zealand defeated India by 8 wickets in the...                 \n",
       "3  With Aegon Life iTerm Insurance plan, customer...                 \n",
       "4  Speaking about the sexual harassment allegatio...                 \n",
       "\n",
       "                                             summary  \n",
       "0  upGrad's Online Power Learning has powered 3 l...  \n",
       "1  Users get one CRED coin per rupee of bill paid...  \n",
       "2  The match witnessed India getting all out for ...  \n",
       "3  Also, customers have options to insure against...  \n",
       "4  Speaking about the sexual harassment allegatio...  "
      ]
     },
     "execution_count": 80,
     "metadata": {},
     "output_type": "execute_result"
    }
   ],
   "source": [
    "data.head()"
   ]
  },
  {
   "cell_type": "code",
   "execution_count": 81,
   "id": "b7b429a3",
   "metadata": {},
   "outputs": [
    {
     "name": "stdout",
     "output_type": "stream",
     "text": [
      "원문 : Saurav Kant, an alumnus of upGrad and IIIT-B's PG Program in Machine learning and Artificial Intelligence, was a Sr Systems Engineer at Infosys with almost 5 years of work experience. The program and upGrad's 360-degree career support helped him transition to a Data Scientist at Tech Mahindra with 90% salary hike. upGrad's Online Power Learning has powered 3 lakh+ careers.\n",
      "실제 요약 : upGrad learner switches to career in ML & Al with 90% salary hike\n",
      "추출 요약 : upGrad's Online Power Learning has powered 3 lakh+ careers.\n",
      "\n",
      "\n",
      "원문 : Kunal Shah's credit card bill payment platform, CRED, gave users a chance to win free food from Swiggy for one year. Pranav Kaushik, a Delhi techie, bagged this reward after spending 2000 CRED coins. Users get one CRED coin per rupee of bill paid, which can be used to avail rewards from brands like Ixigo, BookMyShow, UberEats, Cult.Fit and more.\n",
      "실제 요약 : Delhi techie wins free food from Swiggy for one year on CRED\n",
      "추출 요약 : Users get one CRED coin per rupee of bill paid, which can be used to avail rewards from brands like Ixigo, BookMyShow, UberEats, Cult.Fit and more.\n",
      "\n",
      "\n",
      "원문 : New Zealand defeated India by 8 wickets in the fourth ODI at Hamilton on Thursday to win their first match of the five-match ODI series. India lost an international match under Rohit Sharma's captaincy after 12 consecutive victories dating back to March 2018. The match witnessed India getting all out for 92, their seventh lowest total in ODI cricket history.\n",
      "실제 요약 : New Zealand end Rohit Sharma-led India's 12-match winning streak\n",
      "추출 요약 : The match witnessed India getting all out for 92, their seventh lowest total in ODI cricket history.\n",
      "\n",
      "\n",
      "원문 : With Aegon Life iTerm Insurance plan, customers can enjoy tax benefits on your premiums paid and save up to Ã¢ÂÂ¹46,800^ on taxes. The plan provides life cover up to the age of 100 years. Also, customers have options to insure against Critical Illnesses, Disability and Accidental Death Benefit Rider with a life cover up to the age of 80 years.\n",
      "실제 요약 : Aegon life iTerm insurance plan helps customers save tax\n",
      "추출 요약 : Also, customers have options to insure against Critical Illnesses, Disability and Accidental Death Benefit Rider with a life cover up to the age of 80 years.\n",
      "\n",
      "\n",
      "원문 : Speaking about the sexual harassment allegations against Rajkumar Hirani, Sonam Kapoor said, \"I've known Hirani for many years...What if it's not true, the [#MeToo] movement will get derailed.\" \"In the #MeToo movement, I always believe a woman. But in this case, we need to reserve our judgment,\" she added. Hirani has been accused by an assistant who worked in 'Sanju'.\n",
      "실제 요약 : Have known Hirani for yrs, what if MeToo claims are not true: Sonam\n",
      "추출 요약 : Speaking about the sexual harassment allegations against Rajkumar Hirani, Sonam Kapoor said, \"I've known Hirani for many years...What if it's not true, the [#MeToo] movement will get derailed.\" \"In the #MeToo movement, I always believe a woman.\n",
      "\n",
      "\n",
      "원문 : Pakistani singer Rahat Fateh Ali Khan has denied receiving any notice from the Enforcement Directorate over allegedly smuggling foreign currency out of India. \"It would have been better if the authorities would have served the notice first if any and then publicised this,\" reads a press release issued on behalf of Rahat. The statement further called the allegation \"bizarre\".\n",
      "실제 요약 : Rahat Fateh Ali Khan denies getting notice for smuggling currency\n",
      "추출 요약 : Pakistani singer Rahat Fateh Ali Khan has denied receiving any notice from the Enforcement Directorate over allegedly smuggling foreign currency out of India.\n",
      "\n",
      "\n",
      "원문 : India recorded their lowest ODI total in New Zealand after getting all out for 92 runs in 30.5 overs in the fourth ODI at Hamilton on Thursday. Seven of India's batsmen were dismissed for single-digit scores, while their number ten batsman Yuzvendra Chahal top-scored with 18*(37). India's previous lowest ODI total in New Zealand was 108.\n",
      "실제 요약 : India get all out for 92, their lowest ODI total in New Zealand\n",
      "추출 요약 : India's previous lowest ODI total in New Zealand was 108.\n",
      "\n",
      "\n",
      "원문 : Weeks after ex-CBI Director Alok Verma told the Department of Personnel and Training to consider him retired, the Home Ministry asked him to join work on the last day of his fixed tenure as Director on Thursday. The ministry directed him to immediately join as DG, Fire Services, the post he was transferred to after his removal as CBI chief.\n",
      "실제 요약 : Govt directs Alok Verma to join work 1 day before his retirement\n",
      "추출 요약 : \n",
      "\n",
      "\n"
     ]
    }
   ],
   "source": [
    "for i in range(8):\n",
    "    print(\"원문 :\", data['text'][i])\n",
    "    print(\"실제 요약 :\", data['headlines'][i])\n",
    "    print(\"추출 요약 :\", data['summary'][i])\n",
    "    print(\"\\n\")"
   ]
  },
  {
   "cell_type": "markdown",
   "id": "84d7b8e4",
   "metadata": {},
   "source": [
    "보면, 마지막의 원문에 대해서는 `summa` 라이브러리를 통해 요약되지 않음을 확인할 수 있다.  \n",
    "해당 라이브러리도 최소 반환할 수 있는 리미트가 있는 것 같다.  \n",
    "\n",
    "그래서 0.2 의 비율로 줄여 short summary 열을 제작해보았으나, 추측대로  \n",
    "아무 word 도 형성되지 않았다.\n",
    "\n",
    "결과 자체는 abstact 에 비해 훌륭하다. 문법도 문맥도 괜찮다.  \n",
    "아무래도 전처리 되지 않은 그대로의 데이터를 요약하다보니 더 많은 문장길이를 가지고 있어  \n",
    "요약이 더 편하지 않았을까 싶다.\n",
    "\n",
    "허나 다섯 번 째 요약문을 보면, 중심 내용을 서술했다기 보다는  \n",
    "가장 중요한 내용만 건져 올렸다. 이건 요약이라고 할 수 없다.   \n",
    "그냥 단축일 뿐이다.\n",
    "\n",
    "결과적으로 \n",
    "\n",
    "**uber, 유저들의 장소를 설명해주다**\n",
    "\n",
    "처럼 깔끔하고 압축적인 요약을 위해선 추출 요약의 힘이 더 클 것이라고 판단한다."
   ]
  },
  {
   "cell_type": "markdown",
   "id": "b51facfa",
   "metadata": {},
   "source": [
    "# 3. POTG\n",
    "## 3-1. 소감"
   ]
  },
  {
   "cell_type": "markdown",
   "id": "37e06894",
   "metadata": {},
   "source": [
    "#### \" 💔 아직은 너무 복잡한 seq2seq, 어떻게 한 번 수행하는데 모델을 3번 만드나요 ㅜㅜ \"\n",
    "\n",
    "평소에 진행하던 NLP 과제보다는 훨씬 복잡하고 깊은 모델이었습니다.  \n",
    "기본적인 맥락 (이전에 수행한 hidden, cell 값으로 맥락 요소를 파악, 디코딩에서 함께 돌려 다음에 올 단어를 파악한다 ) 까지는 이해가 가지만, 왜 저 모델이 이러한 역할을 수행하는지는 파악하지 못했습니다.\n",
    "\n",
    "제 생각에는 아직 여기까지는 무리고, 임베딩과 LSTM 에 대한 이해를 거친 후 seq2seq 로 넘어와야 한다고  \n",
    "느꼈습니다.\n",
    "\n"
   ]
  },
  {
   "cell_type": "markdown",
   "id": "b39f3a76",
   "metadata": {},
   "source": [
    "## 3-2. 어려웠던 점과 극복방안"
   ]
  },
  {
   "cell_type": "markdown",
   "id": "ae64ffa1",
   "metadata": {},
   "source": [
    "- 데이터 전처리\n",
    "\n",
    "내가 직접 데이터 전처리를 기획하고 잘라주는 과정에서 적정선을 얼마나 두어야 할지 많은 고민을 했습니다.\n",
    "특히 필요없는 데이터를 제거하는 부분, 긴 문장을 잘라주는 부분 에서  \n",
    "\n",
    "임의로 수를 지정할 때 적정선을 찾기 위해 많은 시행착오를 거쳤습니다.  \n",
    "결과적으로 빈도가 낮은 데이터 5%를 제거하는 것이 합당하다고 생각했습니다.\n",
    "\n",
    "또한 내가 보고 싶은 행을 찾기 위해\n",
    "\n",
    "`b = list(map(lambda x : len(x.split()), a ))  \n",
    "c = {leng:index for index, leng in enumerate(b)}`\n",
    "\n",
    "코드를 이용해 단어의 길이가 짧은 텍스트를 선별했습니다만,  \n",
    "pandas 에서 분명 지원하는 메서드가 있을 것입니다.  \n",
    "Pandas 라이브러리에 대한 깊은 이해의 필요성을 또 한 번 느꼈습니다.\n",
    "\n",
    "- 결과\n",
    "\n",
    "더욱 훌륭한 모델을 만들기 위해 데이터 전처리 과정을 반복하며 판단했습니다.\n",
    "최종 모델은 초기 모델보다 훌륭한 val_loss 를 보여주었지만,  \n",
    "괄목할 모델 성능이 나타나진 않았습니다.\n",
    "\n",
    "<img src='./img/try.PNG'></img>\n",
    "\n",
    "그렇다면 모델의 하이퍼 파라미터, 혹은 layer 에 변화를 주면 좋을텐데\n",
    "거기까지는 하지 못했습니다. 좀더 심도 있는 이해가 필요합니다.\n",
    "\n"
   ]
  },
  {
   "cell_type": "markdown",
   "id": "c5ee64bc",
   "metadata": {},
   "source": [
    "## 3-3. 추후"
   ]
  },
  {
   "cell_type": "markdown",
   "id": "744a5cab",
   "metadata": {},
   "source": [
    "전 아직 뱁새입니다. 딥러닝 모델도 모델이지만 pandas 라이브러리와 같은 도구 사용법에 치중을 두고 공부하겠습니다."
   ]
  },
  {
   "cell_type": "code",
   "execution_count": null,
   "id": "de7578d3",
   "metadata": {},
   "outputs": [],
   "source": []
  }
 ],
 "metadata": {
  "kernelspec": {
   "display_name": "Python 3 (ipykernel)",
   "language": "python",
   "name": "python3"
  },
  "language_info": {
   "codemirror_mode": {
    "name": "ipython",
    "version": 3
   },
   "file_extension": ".py",
   "mimetype": "text/x-python",
   "name": "python",
   "nbconvert_exporter": "python",
   "pygments_lexer": "ipython3",
   "version": "3.9.7"
  }
 },
 "nbformat": 4,
 "nbformat_minor": 5
}
